{
 "cells": [
  {
   "cell_type": "markdown",
   "metadata": {},
   "source": [
    "## setwd"
   ]
  },
  {
   "cell_type": "code",
   "execution_count": 7,
   "metadata": {},
   "outputs": [],
   "source": [
    "setwd('D:/Work/mgh/covid19')\n",
    "source('E:/iHuman/src/GPMM_local/subroutines.R')\n",
    "library(pheatmap)\n",
    "#library(DESeq2)\n",
    "#library(edgeR)\n",
    "library(ggsci)\n",
    "library(pracma)\n",
    "library(ggplot2)\n",
    "library(EnhancedVolcano)\n",
    "library(ggvenn)\n",
    "library(reshape2)\n",
    "library(ggsci)"
   ]
  },
  {
   "cell_type": "markdown",
   "metadata": {},
   "source": [
    "## read data"
   ]
  },
  {
   "cell_type": "code",
   "execution_count": 6,
   "metadata": {},
   "outputs": [],
   "source": [
    "flux3 = file2frame('D:/Work/mgh/covid19/modeling/v20200530_cellpaper/out/PQMM_fluxRxnsMean.txt',row.names = 1)\n",
    "flux3.annote = file2frame('D:/Work/mgh/covid19/modeling/v20200530_cellpaper/out/Recon3_covid19_rxns_geneSymbol_20200530v1.txt',row.names = 1)\n",
    "clin = file2frame('D:/Work/mgh/covid19/modeling/v20200530_cellpaper/out/sraRunTable_metadata_valid_human.txt',row.names = 1)\n",
    "covid_load = file2frame('D:/Work/mgh/covid19/data/COVID_Transcriptome_CELL_2020/virus_counts_perc.txt',row.names =1)\n",
    "id = !duplicated(clin$GEO_Accession..exp.)\n",
    "clin = clin[id,]\n",
    "rownames(clin)  = clin$GEO_Accession..exp.\n",
    "fluxnames = gsub('P|C','',colnames(flux3))\n",
    "list[IA,IB] = ismember(rownames(clin),fluxnames)\n",
    "clin = clin[IA,]\n",
    "flux3 = flux3[,IB]\n",
    "clin$is_infect = substr(colnames(flux3),1,1)\n",
    "colnames(flux3) = gsub('P|C','',colnames(flux3))\n",
    "# valid flux3 reaction\n",
    "idxx = rowMeans(abs(flux3))> 1e-6\n",
    "flux3 = flux3[idxx,]\n",
    "flux3.log2= as.matrix(log2(abs(flux3)+1e-6))\n",
    "list[IA,IB] = ismember(rownames(flux3.log2),rownames(flux3.annote))\n",
    "flux3.annote = flux3.annote[IB,]\n",
    "\n",
    "\n",
    "covid_load = file2frame('D:/Work/mgh/covid19/data/COVID_Transcriptome_CELL_2020/virus_counts_perc.txt',row.names =1)\n",
    "covid_load = covid_load[,colnames(flux3)]\n",
    "the_load = unlist(colSums(covid_load))\n",
    "the_load[is.na(the_load)] = 0\n",
    "clin$covid_load  = the_load\n",
    "bx = unique(clin$source_name)\n",
    "bx = factor(clin$source_name,levels = unique(clin$source_name),labels = c('NHBE','NHBE_infect(IAV)','NHBE_infect(IAVdNS1)','NHBE_IFNB',\n",
    "                                                           'A549','A549_infect(Covid19)','A549_ACE2',\n",
    "                                                           'Lung_biopsy','Lung_biopsy_infect(Covid19)','A549_ACE2_infect(Covid19)',\n",
    "                                                           'Calu3','Calu3_infect(Covid19)','A549_infect(RSV)','A549_infect(HPIV3)',\n",
    "                                                           'NHBE_infect(Covid19)','A549_infect(IAV)'))\n",
    "clin$source_name1 = as.vector(bx)\n"
   ]
  },
  {
   "cell_type": "code",
   "execution_count": 7,
   "metadata": {},
   "outputs": [],
   "source": [
    "clin$source_name1 = factor(clin$source_name1,levels = c('A549','A549_infect(Covid19)','A549_ACE2','A549_ACE2_infect(Covid19)',\n",
    "                                                        'Calu3','Calu3_infect(Covid19)','NHBE','NHBE_infect(Covid19)',\n",
    "                                                         'Lung_biopsy','Lung_biopsy_infect(Covid19)',\n",
    "                                                          'NHBE_infect(IAV)','NHBE_infect(IAVdNS1)','NHBE_IFNB',\n",
    "                                                           'A549_infect(RSV)','A549_infect(HPIV3)',\n",
    "                                                           'A549_infect(IAV)'))"
   ]
  },
  {
   "cell_type": "markdown",
   "metadata": {},
   "source": [
    "## Figure 2A viral load"
   ]
  },
  {
   "cell_type": "code",
   "execution_count": 348,
   "metadata": {},
   "outputs": [
    {
     "name": "stderr",
     "output_type": "stream",
     "text": [
      "Warning message in is.na(x):\n",
      "\"is.na()不适用于类别为'expression'的非串列或非矢量\""
     ]
    },
    {
     "data": {
      "text/html": [
       "<strong>png:</strong> 2"
      ],
      "text/latex": [
       "\\textbf{png:} 2"
      ],
      "text/markdown": [
       "**png:** 2"
      ],
      "text/plain": [
       "png \n",
       "  2 "
      ]
     },
     "metadata": {},
     "output_type": "display_data"
    },
    {
     "data": {
      "text/plain": [
       "\n",
       "\tPearson's product-moment correlation\n",
       "\n",
       "data:  log10(tmp$biomass_covid19[ida]) and log10(tmp$covid_load[ida])\n",
       "t = 3.7447, df = 11, p-value = 0.00324\n",
       "alternative hypothesis: true correlation is not equal to 0\n",
       "95 percent confidence interval:\n",
       " 0.3363480 0.9200817\n",
       "sample estimates:\n",
       "      cor \n",
       "0.7486005 \n"
      ]
     },
     "metadata": {},
     "output_type": "display_data"
    }
   ],
   "source": [
    "biomass_elife_addlipid = file2frame('D:/Work/mgh/covid19/modeling/v20200530_cellpaper/out_biomass_flux/covid10_biomass_clin_20200526_elife_biomass_add_lipid.txt')\n",
    "id = !is.na(biomass_elife_addlipid$class)\n",
    "tmp = biomass_elife_addlipid[id,]\n",
    "tmp$source_name1 = factor(tmp$source_name1,levels = c('A549', 'A549_infect(Covid19)', \n",
    "                      'A549_ACE2','A549_ACE2_infect(Covid19)', 'Lung_biopsy', 'Lung_biopsy_infect(Covid19)',\n",
    "                      'Calu3', 'Calu3_infect(Covid19)', 'NHBE', 'NHBE_infect(Covid19)'))\n",
    "ida = tmp$covid_load > 1e-5 & \n",
    "        tmp$source_name1 != 'NHBE' & tmp$source_name1 != 'NHBE_infect(Covid19)' &\n",
    "        tmp$source_name1 != 'Calu3' & tmp$source_name1 != 'Calu3_infect(Covid19)'\n",
    "pdf('D:/Work/mgh/covid19/modeling/v20200530_cellpaper/figures/Figure 2A_biomass_covid19_load_prediction_v20220521.pdf',width = 5,height = 4)         \n",
    "ggplot(tmp[ida,],aes(log10(biomass_covid19),log10(covid_load))) +\n",
    " geom_point(size = 6)+ theme_classic() + lghplot.addtheme(legend.position = 'right',size = 16)+\n",
    "geom_smooth(se = T, method = \"gam\", formula = y~x )+\n",
    "annotate(geom=\"text\", x=-4.5, y=1, parse = TRUE,\n",
    "               label = expression(atop(paste(italic(r),' = 0.75'),\n",
    "                                      paste(italic(P), '= 0.003'))),\n",
    "         color=\"darkblue\",size = 10)+xlab('Log10(biomass_SARS-CoV-2)')+ ylab('Log10(viral_load)')\n",
    "         \n",
    "dev.off()\n",
    "cor.test(log10(tmp$biomass_covid19[ida]),log10(tmp$covid_load[ida]))"
   ]
  },
  {
   "cell_type": "markdown",
   "metadata": {},
   "source": [
    "## Figure 2B pathway analysis"
   ]
  },
  {
   "cell_type": "markdown",
   "metadata": {},
   "source": [
    "### A549"
   ]
  },
  {
   "cell_type": "code",
   "execution_count": 11,
   "metadata": {},
   "outputs": [],
   "source": [
    "#'A549'\n",
    "id = clin$source_name == 'Mock treated A549 cells trasnduced with a vector expressing human ACE2' |\n",
    "      clin$source_name == 'SARS-CoV-2 infected A549 cells trasnduced with a vector expressing human ACE2'\n",
    "flux3.log2.A549 = flux3.log2[,id]\n",
    "flux3.A549 = flux3[,id]\n",
    "clin.A549 = clin[id,]"
   ]
  },
  {
   "cell_type": "code",
   "execution_count": 12,
   "metadata": {},
   "outputs": [
    {
     "name": "stdout",
     "output_type": "stream",
     "text": [
      "[1] \"Step 1: DEflux and bootstrap\"\n",
      "[1] \"N cases:    3\"\n",
      "[1] \"N control: 3\"\n",
      "[1] \"N up-regulated rxns:   117\"\n",
      "[1] \"N down-regulated rxns: 510\"\n",
      "[1] \"Step1 Done\"\n",
      "[1] \"Step2 pathway analysis\"\n"
     ]
    },
    {
     "name": "stderr",
     "output_type": "stream",
     "text": [
      "Warning message:\n",
      "\"Using size for a discrete variable is not advised.\"Warning message:\n",
      "\"Using size for a discrete variable is not advised.\""
     ]
    },
    {
     "name": "stdout",
     "output_type": "stream",
     "text": [
      "[1] \"Step2 down\"\n"
     ]
    }
   ],
   "source": [
    "theservePathway = c('SARS-Cov-2 proteins','SARS-Cov-2 sense RNA',\n",
    "                   'SARS-Cov-2 antisense RNA','SARS-Cov-2 lipid',\n",
    "                   'SARS-Cov-2 cleavage','SARS-Cov-2 biomass')\n",
    "WDA.covid.A549 = one_line_flux_analysis(flux3.A549,flux3.log2.A549[,clin.A549$is_infect == 'P'],flux3.log2.A549[,clin.A549$is_infect == 'C'],\n",
    "                                               flux3.annote,'./modeling/v20200530_cellpaper/results/oneline_flux_A549ACE2_v20230209',\n",
    "                                        reserve.pathway = theservePathway)"
   ]
  },
  {
   "cell_type": "code",
   "execution_count": 18,
   "metadata": {},
   "outputs": [],
   "source": [
    "DEflux3.A549 = file2frame('./modeling/v20200530_cellpaper/results/oneline_flux_A549ACE2_v20230209/DEflux.txt')\n",
    "rownames(DEflux3.A549) = DEflux3.A549$ID"
   ]
  },
  {
   "cell_type": "markdown",
   "metadata": {},
   "source": [
    "### Calu3"
   ]
  },
  {
   "cell_type": "code",
   "execution_count": 14,
   "metadata": {},
   "outputs": [
    {
     "name": "stdout",
     "output_type": "stream",
     "text": [
      "[1] \"Step 1: DEflux and bootstrap\"\n",
      "[1] \"N cases:    3\"\n",
      "[1] \"N control: 3\"\n",
      "[1] \"N up-regulated rxns:   218\"\n",
      "[1] \"N down-regulated rxns: 209\"\n",
      "[1] \"Step1 Done\"\n",
      "[1] \"Step2 pathway analysis\"\n"
     ]
    },
    {
     "name": "stderr",
     "output_type": "stream",
     "text": [
      "Warning message:\n",
      "\"Using size for a discrete variable is not advised.\"Warning message:\n",
      "\"Using size for a discrete variable is not advised.\""
     ]
    },
    {
     "name": "stdout",
     "output_type": "stream",
     "text": [
      "[1] \"Step2 down\"\n"
     ]
    }
   ],
   "source": [
    "id = clin$source_name == 'Mock treated Calu-3 cells' |\n",
    "      clin$source_name == 'SARS-CoV-2 infected Calu-3 cells'\n",
    "flux3.log2.Calu3 = flux3.log2[,id]\n",
    "flux3.Calu3 = flux3[,id]\n",
    "clin.Calu3 = clin[id,]\n",
    "theservePathway = c('SARS-Cov-2 proteins','SARS-Cov-2 sense RNA',\n",
    "                   'SARS-Cov-2 antisense RNA','SARS-Cov-2 lipid',\n",
    "                   'SARS-Cov-2 cleavage','SARS-Cov-2 biomass')\n",
    "WDA.covid.Calu3 = one_line_flux_analysis(flux3.Calu3,flux3.log2.Calu3[,clin.Calu3$is_infect == 'P'],flux3.log2.Calu3[,clin.Calu3$is_infect == 'C'],\n",
    "                                               flux3.annote,'./modeling/v20200530_cellpaper/results/oneline_flux_Calu3_v20230209',\n",
    "                                           reserve.pathway = theservePathway)"
   ]
  },
  {
   "cell_type": "code",
   "execution_count": 16,
   "metadata": {},
   "outputs": [],
   "source": [
    "DEflux3.Calu3 = file2frame('./modeling/v20200530_cellpaper/results/oneline_flux_Calu3_v20230209/DEflux.txt')\n",
    "rownames(DEflux3.Calu3) = DEflux3.Calu3$ID"
   ]
  },
  {
   "cell_type": "markdown",
   "metadata": {},
   "source": [
    "### NHBE"
   ]
  },
  {
   "cell_type": "code",
   "execution_count": 15,
   "metadata": {},
   "outputs": [
    {
     "name": "stdout",
     "output_type": "stream",
     "text": [
      "[1] \"Step 1: DEflux and bootstrap\"\n",
      "[1] \"N cases:    3\"\n",
      "[1] \"N control: 3\"\n",
      "[1] \"N up-regulated rxns:   127\"\n",
      "[1] \"N down-regulated rxns: 194\"\n",
      "[1] \"Step1 Done\"\n",
      "[1] \"Step2 pathway analysis\"\n"
     ]
    },
    {
     "name": "stderr",
     "output_type": "stream",
     "text": [
      "Warning message:\n",
      "\"Using size for a discrete variable is not advised.\"Warning message:\n",
      "\"Using size for a discrete variable is not advised.\""
     ]
    },
    {
     "name": "stdout",
     "output_type": "stream",
     "text": [
      "[1] \"Step2 down\"\n"
     ]
    }
   ],
   "source": [
    "id = (clin$source_name == 'Mock treated NHBE cells' |\n",
    "      clin$source_name == 'SARS-CoV-2 infected NHBE cells') & clin$time_point =='24hrs after treatment'\n",
    "flux3.log2.NHBE  = flux3.log2[,id]\n",
    "flux3.NHBE  = flux3[,id]\n",
    "clin.NHBE  = clin[id,]\n",
    "theservePathway = c('SARS-Cov-2 proteins','SARS-Cov-2 sense RNA',\n",
    "                   'SARS-Cov-2 antisense RNA','SARS-Cov-2 lipid',\n",
    "                   'SARS-Cov-2 cleavage','SARS-Cov-2 biomass')\n",
    "WDA.covid.NHBE = one_line_flux_analysis(flux3.NHBE,flux3.log2.NHBE[,clin.NHBE$is_infect == 'P'],flux3.log2.NHBE[,clin.NHBE$is_infect == 'C'],\n",
    "                                               flux3.annote,'./modeling/v20200530_cellpaper/results/oneline_flux_NHBE_v20230209',\n",
    "                                       reserve.pathway = theservePathway)\n"
   ]
  },
  {
   "cell_type": "code",
   "execution_count": 17,
   "metadata": {},
   "outputs": [],
   "source": [
    "DEflux3.NHBE = file2frame('./modeling/v20200530_cellpaper/results/oneline_flux_NHBE_v20230209/DEflux.txt')\n",
    "rownames(DEflux3.NHBE) = DEflux3.NHBE$ID"
   ]
  },
  {
   "cell_type": "markdown",
   "metadata": {},
   "source": [
    "### Figure 2B heatmap"
   ]
  },
  {
   "cell_type": "code",
   "execution_count": 83,
   "metadata": {},
   "outputs": [],
   "source": [
    "    DE1 = WDA.covid.A549[WDA.covid.A549$fdr < 0.1,]\n",
    "    DE2 = WDA.covid.Calu3[WDA.covid.Calu3$fdr < 0.1,]\n",
    "    DE3 = WDA.covid.NHBE[WDA.covid.NHBE$fdr < 0.1,]\n",
    "    rownames(DE1) = DE1$subsystem\n",
    "    rownames(DE2) = DE2$subsystem\n",
    "    rownames(DE3) = DE3$subsystem\n",
    "    #DE1$DAscore[DE1$fdr > 0.05 ] = NA\n",
    "    #DE2$DAscore[DE2$fdr > 0.05 ] = NA\n",
    "    #DE3$DAscore[DE3$fdr > 0.1 ] = NA\n",
    "    celltypes = c('A549ACE2','Calu3','NHBE')\n",
    "    tlist1 = list()\n",
    "    tlist1[[1]] = as.data.frame(t(DE1$DAscore))\n",
    "    colnames(tlist1[[1]]) = DE1$subsystem\n",
    "    tlist1[[2]] = as.data.frame(t(DE2$DAscore))\n",
    "    colnames(tlist1[[2]]) = DE2$subsystem\n",
    "    tlist1[[3]] = as.data.frame(t(DE3$DAscore))\n",
    "    colnames(tlist1[[3]]) = DE3$subsystem\n",
    "    names(tlist1) = celltypes\n",
    "    tmpmatrix = t(data.table::rbindlist(tlist1,fill = T))\n",
    "    colnames(tmpmatrix) = celltypes\n",
    "    tmpmatrix[is.na(tmpmatrix)] =0\n",
    "    \n",
    "    tlist2 = list()\n",
    "    tlist2[[1]] = as.data.frame(t(DE1$fdr))\n",
    "    colnames(tlist2[[1]]) = DE1$subsystem\n",
    "    tlist2[[2]] = as.data.frame(t(DE2$fdr))\n",
    "    colnames(tlist2[[2]]) = DE2$subsystem\n",
    "    tlist2[[3]] = as.data.frame(t(DE3$fdr))\n",
    "    colnames(tlist2[[3]]) = DE3$subsystem\n",
    "    names(tlist2) =celltypes\n",
    "    tmpmatrix2 = t(data.table::rbindlist(tlist2,fill = T))\n",
    "    colnames(tmpmatrix2) = celltypes\n",
    "    tmpmatrix2[is.na(tmpmatrix2)] =1\n",
    "    \n",
    "    display_matrix = matrix(' ',nrow(tmpmatrix),ncol(tmpmatrix))\n",
    "    display_matrix[tmpmatrix2 < 0.1] = '.'\n",
    "    #display_matrix[tmpmatrix2 >= 0.05 & tmpmatrix2 < 0.1] = '.'\n",
    "    display_matrix[tmpmatrix2 >= 0.01 & tmpmatrix2 < 0.05] = '*'\n",
    "    display_matrix[tmpmatrix2 >= 0.001 & tmpmatrix2 < 0.01] = '**'\n",
    "    display_matrix[tmpmatrix2 < 0.001] = '***'\n",
    "    \n",
    "    enbrks<-c(-1,-0.8,-0.4,-0.2,-0.05,-0.02,0.02,0.05,0.2,0.4,0.8,1)\n",
    "    consist_ids = abs(rowSums(sign(tmpmatrix))) > 1  \n",
    "    pheatmap::pheatmap(tmpmatrix[consist_ids,],scale = 'none',cluster_rows = T,fontsize_row = 9,fontsize_col = 9,\n",
    "                       breaks = enbrks,\n",
    "                       treeheight_row = 20,treeheight_col = 20,legend = T,\n",
    "                       display_numbers = display_matrix[consist_ids,],\n",
    "                  #color=colorRampPalette(c('#3B4992','gray95','#BB0021'))(9),\n",
    "                       #colorRampPalette(c('#008280','gray95','#BB0021'))(11),\n",
    "                       color=colorRampPalette(c('#4DBBD599','gray95','#E64B3599'))(11),#npg style\n",
    "                #color=colorRampPalette(c('#008280','gray95','#BB0021'))(11),\n",
    "                  #file ='./modeling/v20200530_cellpaper/figures/Figure 2B_pathwayheatmap.pdf',\n",
    "                  file ='./modeling/v20200530_cellpaper/figures/Figure 2B_pathwayheatmap_consist_v20230209AA.pdf',\n",
    "                  ,height = 5,width = 4.3)"
   ]
  },
  {
   "cell_type": "markdown",
   "metadata": {},
   "source": [
    "## Gene Knockout Table S1-S3"
   ]
  },
  {
   "cell_type": "code",
   "execution_count": 142,
   "metadata": {},
   "outputs": [],
   "source": [
    "# The result of Gene Knockout analysis are perferming in matlab using the following commond:\n",
    "#   Gene_KO_analysis_v20221010\n",
    "# This section just to refine the result"
   ]
  },
  {
   "cell_type": "markdown",
   "metadata": {},
   "source": [
    "### A549 Table S1"
   ]
  },
  {
   "cell_type": "code",
   "execution_count": 16,
   "metadata": {},
   "outputs": [
    {
     "data": {
      "text/html": [
       "<ol class=list-inline>\n",
       "\t<li>181</li>\n",
       "\t<li>214</li>\n",
       "</ol>\n"
      ],
      "text/latex": [
       "\\begin{enumerate*}\n",
       "\\item 181\n",
       "\\item 214\n",
       "\\end{enumerate*}\n"
      ],
      "text/markdown": [
       "1. 181\n",
       "2. 214\n",
       "\n",
       "\n"
      ],
      "text/plain": [
       "[1] 181 214"
      ]
     },
     "metadata": {},
     "output_type": "display_data"
    }
   ],
   "source": [
    "komatrix = file2frame(file = './modeling/v20200530_cellpaper/results/v20221207/KOgene_A549ACE2_effectMatrix.txt')\n",
    "#colnames(komatrix) = gsub('.e.','(e)',colnames(komatrix))\n",
    "komatrix.num = as.matrix(komatrix[,-1])\n",
    "id = rowSums(abs(komatrix.num)) > 0\n",
    "komatrix = komatrix[id,]\n",
    "dim(komatrix)\n",
    "writetxt(komatrix,'D:/Work/mgh/covid19/modeling/v20200530_cellpaper/Figures/Table S1_geneko_effect_A549ace2_add_direct.txt')\n"
   ]
  },
  {
   "cell_type": "markdown",
   "metadata": {},
   "source": [
    "### Calu3 Table S2"
   ]
  },
  {
   "cell_type": "code",
   "execution_count": 18,
   "metadata": {},
   "outputs": [
    {
     "data": {
      "text/html": [
       "<ol class=list-inline>\n",
       "\t<li>166</li>\n",
       "\t<li>229</li>\n",
       "</ol>\n"
      ],
      "text/latex": [
       "\\begin{enumerate*}\n",
       "\\item 166\n",
       "\\item 229\n",
       "\\end{enumerate*}\n"
      ],
      "text/markdown": [
       "1. 166\n",
       "2. 229\n",
       "\n",
       "\n"
      ],
      "text/plain": [
       "[1] 166 229"
      ]
     },
     "metadata": {},
     "output_type": "display_data"
    }
   ],
   "source": [
    "komatrix = file2frame(file = './modeling/v20200530_cellpaper/results/v20221207/KOgene_Calu3_effectMatrix.txt')\n",
    "#colnames(komatrix) = gsub('.e.','(e)',colnames(komatrix))\n",
    "komatrix.num = as.matrix(komatrix[,-1])\n",
    "id = rowSums(abs(komatrix.num)) > 0\n",
    "komatrix = komatrix[id,]\n",
    "dim(komatrix)\n",
    "writetxt(komatrix,'D:/Work/mgh/covid19/modeling/v20200530_cellpaper/Figures/Table S2_geneko_effect_Calu3_add_direct.txt')\n"
   ]
  },
  {
   "cell_type": "markdown",
   "metadata": {},
   "source": [
    "### NHBE Table S3"
   ]
  },
  {
   "cell_type": "code",
   "execution_count": 20,
   "metadata": {},
   "outputs": [
    {
     "data": {
      "text/html": [
       "<ol class=list-inline>\n",
       "\t<li>171</li>\n",
       "\t<li>155</li>\n",
       "</ol>\n"
      ],
      "text/latex": [
       "\\begin{enumerate*}\n",
       "\\item 171\n",
       "\\item 155\n",
       "\\end{enumerate*}\n"
      ],
      "text/markdown": [
       "1. 171\n",
       "2. 155\n",
       "\n",
       "\n"
      ],
      "text/plain": [
       "[1] 171 155"
      ]
     },
     "metadata": {},
     "output_type": "display_data"
    }
   ],
   "source": [
    "komatrix = file2frame(file = './modeling/v20200530_cellpaper/results/v20221207/KOgene_NHBE_effectMatrix.txt')\n",
    "#colnames(komatrix) = gsub('.e.','(e)',colnames(komatrix))\n",
    "komatrix.num = as.matrix(komatrix[,-1])\n",
    "id = rowSums(abs(komatrix.num)) > 0\n",
    "komatrix = komatrix[id,]\n",
    "dim(komatrix)\n",
    "writetxt(komatrix,'D:/Work/mgh/covid19/modeling/v20200530_cellpaper/Figures/Table S3_geneko_effect_NHBE_add_direct.txt')\n"
   ]
  },
  {
   "cell_type": "markdown",
   "metadata": {},
   "source": [
    "## Metabolite Knockout: Table S4-S6"
   ]
  },
  {
   "cell_type": "code",
   "execution_count": 159,
   "metadata": {},
   "outputs": [],
   "source": [
    "# The result of Gene Knockout analysis are perferming in matlab using the following commond:\n",
    "#   GeneMetabolite_KO_analysis_v20221010\n",
    "# This section just to refine the result"
   ]
  },
  {
   "cell_type": "markdown",
   "metadata": {},
   "source": [
    "### A549 Table S4"
   ]
  },
  {
   "cell_type": "code",
   "execution_count": 49,
   "metadata": {},
   "outputs": [
    {
     "data": {
      "text/html": [
       "<ol class=list-inline>\n",
       "\t<li>462</li>\n",
       "\t<li>214</li>\n",
       "</ol>\n"
      ],
      "text/latex": [
       "\\begin{enumerate*}\n",
       "\\item 462\n",
       "\\item 214\n",
       "\\end{enumerate*}\n"
      ],
      "text/markdown": [
       "1. 462\n",
       "2. 214\n",
       "\n",
       "\n"
      ],
      "text/plain": [
       "[1] 462 214"
      ]
     },
     "metadata": {},
     "output_type": "display_data"
    }
   ],
   "source": [
    "komatrix = file2frame(file = './modeling/v20200530_cellpaper/results/v20221207/KOmet_A549ACE2_effectMatrix.txt')\n",
    "#colnames(komatrix) = gsub('.e.','(e)',colnames(komatrix))\n",
    "komatrix.num = as.matrix(komatrix[,-1])\n",
    "id = rowSums(abs(komatrix.num)) > 0\n",
    "komatrix = komatrix[id,]\n",
    "dim(komatrix)\n",
    "writetxt(komatrix,'D:/Work/mgh/covid19/modeling/v20200530_cellpaper/Figures/Table S4_metko_effect_A549ace2_add_direct.txt')\n"
   ]
  },
  {
   "cell_type": "markdown",
   "metadata": {},
   "source": [
    "### Calu3  Table S5"
   ]
  },
  {
   "cell_type": "code",
   "execution_count": 50,
   "metadata": {},
   "outputs": [
    {
     "data": {
      "text/html": [
       "<ol class=list-inline>\n",
       "\t<li>455</li>\n",
       "\t<li>229</li>\n",
       "</ol>\n"
      ],
      "text/latex": [
       "\\begin{enumerate*}\n",
       "\\item 455\n",
       "\\item 229\n",
       "\\end{enumerate*}\n"
      ],
      "text/markdown": [
       "1. 455\n",
       "2. 229\n",
       "\n",
       "\n"
      ],
      "text/plain": [
       "[1] 455 229"
      ]
     },
     "metadata": {},
     "output_type": "display_data"
    }
   ],
   "source": [
    "komatrix = file2frame(file = './modeling/v20200530_cellpaper/results/v20221207/KOmet_Calu3_effectMatrix.txt')\n",
    "#colnames(komatrix) = gsub('.e.','(e)',colnames(komatrix))\n",
    "komatrix.num = as.matrix(komatrix[,-1])\n",
    "id = rowSums(abs(komatrix.num)) > 0\n",
    "komatrix = komatrix[id,]\n",
    "dim(komatrix)\n",
    "writetxt(komatrix,'D:/Work/mgh/covid19/modeling/v20200530_cellpaper/Figures/Table S5_metko_effect_Calu3_add_direct.txt')\n"
   ]
  },
  {
   "cell_type": "markdown",
   "metadata": {},
   "source": [
    "### NHBE  Table S6"
   ]
  },
  {
   "cell_type": "code",
   "execution_count": 51,
   "metadata": {},
   "outputs": [
    {
     "data": {
      "text/html": [
       "<ol class=list-inline>\n",
       "\t<li>400</li>\n",
       "\t<li>155</li>\n",
       "</ol>\n"
      ],
      "text/latex": [
       "\\begin{enumerate*}\n",
       "\\item 400\n",
       "\\item 155\n",
       "\\end{enumerate*}\n"
      ],
      "text/markdown": [
       "1. 400\n",
       "2. 155\n",
       "\n",
       "\n"
      ],
      "text/plain": [
       "[1] 400 155"
      ]
     },
     "metadata": {},
     "output_type": "display_data"
    }
   ],
   "source": [
    "komatrix = file2frame(file = './modeling/v20200530_cellpaper/results/v20221207/KOmet_NHBE_effectMatrix.txt')\n",
    "#colnames(komatrix) = gsub('.e.','(e)',colnames(komatrix))\n",
    "komatrix.num = as.matrix(komatrix[,-1])\n",
    "id = rowSums(abs(komatrix.num)) > 0\n",
    "komatrix = komatrix[id,]\n",
    "dim(komatrix)\n",
    "writetxt(komatrix,'D:/Work/mgh/covid19/modeling/v20200530_cellpaper/Figures/Table S6_metko_effect_CNHBE_add_direct.txt')"
   ]
  },
  {
   "cell_type": "markdown",
   "metadata": {},
   "source": [
    "## Overlaped targets and nutrition"
   ]
  },
  {
   "cell_type": "markdown",
   "metadata": {},
   "source": [
    "### Overlaped targets(genes)"
   ]
  },
  {
   "cell_type": "code",
   "execution_count": 41,
   "metadata": {},
   "outputs": [
    {
     "data": {
      "text/html": [
       "<style>\n",
       ".list-inline {list-style: none; margin:0; padding: 0}\n",
       ".list-inline>li {display: inline-block}\n",
       ".list-inline>li:not(:last-child)::after {content: \"\\00b7\"; padding: 0 .5ex}\n",
       "</style>\n",
       "<ol class=list-inline><li>'TYMS'</li><li>'DHFR'</li></ol>\n"
      ],
      "text/latex": [
       "\\begin{enumerate*}\n",
       "\\item 'TYMS'\n",
       "\\item 'DHFR'\n",
       "\\end{enumerate*}\n"
      ],
      "text/markdown": [
       "1. 'TYMS'\n",
       "2. 'DHFR'\n",
       "\n",
       "\n"
      ],
      "text/plain": [
       "[1] \"TYMS\" \"DHFR\""
      ]
     },
     "metadata": {},
     "output_type": "display_data"
    },
    {
     "data": {
      "text/html": [
       "<style>\n",
       ".list-inline {list-style: none; margin:0; padding: 0}\n",
       ".list-inline>li {display: inline-block}\n",
       ".list-inline>li:not(:last-child)::after {content: \"\\00b7\"; padding: 0 .5ex}\n",
       "</style>\n",
       "<ol class=list-inline><li>'PAICS'</li><li>'GART'</li><li>'ATIC'</li><li>'PPAT'</li><li>'PFAS'</li></ol>\n"
      ],
      "text/latex": [
       "\\begin{enumerate*}\n",
       "\\item 'PAICS'\n",
       "\\item 'GART'\n",
       "\\item 'ATIC'\n",
       "\\item 'PPAT'\n",
       "\\item 'PFAS'\n",
       "\\end{enumerate*}\n"
      ],
      "text/markdown": [
       "1. 'PAICS'\n",
       "2. 'GART'\n",
       "3. 'ATIC'\n",
       "4. 'PPAT'\n",
       "5. 'PFAS'\n",
       "\n",
       "\n"
      ],
      "text/plain": [
       "[1] \"PAICS\" \"GART\"  \"ATIC\"  \"PPAT\"  \"PFAS\" "
      ]
     },
     "metadata": {},
     "output_type": "display_data"
    },
    {
     "data": {
      "text/html": [
       "<table class=\"dataframe\">\n",
       "<caption>A data.frame: 7 × 5</caption>\n",
       "<thead>\n",
       "\t<tr><th scope=col>Target</th><th scope=col>Action</th><th scope=col>effect_GeneKO_A549ACE2</th><th scope=col>effect_GeneKO_Calu3</th><th scope=col>effect_GeneKO_NHBE</th></tr>\n",
       "\t<tr><th scope=col>&lt;chr&gt;</th><th scope=col>&lt;chr&gt;</th><th scope=col>&lt;dbl&gt;</th><th scope=col>&lt;dbl&gt;</th><th scope=col>&lt;dbl&gt;</th></tr>\n",
       "</thead>\n",
       "<tbody>\n",
       "\t<tr><td>TYMS </td><td>agonist   </td><td> 8.26588</td><td> 3.00000</td><td> 8.59583</td></tr>\n",
       "\t<tr><td>DHFR </td><td>agonist   </td><td> 9.26588</td><td> 4.00000</td><td> 8.59583</td></tr>\n",
       "\t<tr><td>PAICS</td><td>antagonist</td><td>-3.32763</td><td>-8.64075</td><td>-5.21016</td></tr>\n",
       "\t<tr><td>GART </td><td>antagonist</td><td>-3.32763</td><td>-8.64075</td><td>-5.21016</td></tr>\n",
       "\t<tr><td>ATIC </td><td>antagonist</td><td>-3.32763</td><td>-8.64075</td><td>-5.21016</td></tr>\n",
       "\t<tr><td>PPAT </td><td>antagonist</td><td>-3.32763</td><td>-8.64075</td><td>-5.21016</td></tr>\n",
       "\t<tr><td>PFAS </td><td>antagonist</td><td>-3.32763</td><td>-8.64075</td><td>-5.21016</td></tr>\n",
       "</tbody>\n",
       "</table>\n"
      ],
      "text/latex": [
       "A data.frame: 7 × 5\n",
       "\\begin{tabular}{lllll}\n",
       " Target & Action & effect\\_GeneKO\\_A549ACE2 & effect\\_GeneKO\\_Calu3 & effect\\_GeneKO\\_NHBE\\\\\n",
       " <chr> & <chr> & <dbl> & <dbl> & <dbl>\\\\\n",
       "\\hline\n",
       "\t TYMS  & agonist    &  8.26588 &  3.00000 &  8.59583\\\\\n",
       "\t DHFR  & agonist    &  9.26588 &  4.00000 &  8.59583\\\\\n",
       "\t PAICS & antagonist & -3.32763 & -8.64075 & -5.21016\\\\\n",
       "\t GART  & antagonist & -3.32763 & -8.64075 & -5.21016\\\\\n",
       "\t ATIC  & antagonist & -3.32763 & -8.64075 & -5.21016\\\\\n",
       "\t PPAT  & antagonist & -3.32763 & -8.64075 & -5.21016\\\\\n",
       "\t PFAS  & antagonist & -3.32763 & -8.64075 & -5.21016\\\\\n",
       "\\end{tabular}\n"
      ],
      "text/markdown": [
       "\n",
       "A data.frame: 7 × 5\n",
       "\n",
       "| Target &lt;chr&gt; | Action &lt;chr&gt; | effect_GeneKO_A549ACE2 &lt;dbl&gt; | effect_GeneKO_Calu3 &lt;dbl&gt; | effect_GeneKO_NHBE &lt;dbl&gt; |\n",
       "|---|---|---|---|---|\n",
       "| TYMS  | agonist    |  8.26588 |  3.00000 |  8.59583 |\n",
       "| DHFR  | agonist    |  9.26588 |  4.00000 |  8.59583 |\n",
       "| PAICS | antagonist | -3.32763 | -8.64075 | -5.21016 |\n",
       "| GART  | antagonist | -3.32763 | -8.64075 | -5.21016 |\n",
       "| ATIC  | antagonist | -3.32763 | -8.64075 | -5.21016 |\n",
       "| PPAT  | antagonist | -3.32763 | -8.64075 | -5.21016 |\n",
       "| PFAS  | antagonist | -3.32763 | -8.64075 | -5.21016 |\n",
       "\n"
      ],
      "text/plain": [
       "  Target Action     effect_GeneKO_A549ACE2 effect_GeneKO_Calu3\n",
       "1 TYMS   agonist     8.26588                3.00000           \n",
       "2 DHFR   agonist     9.26588                4.00000           \n",
       "3 PAICS  antagonist -3.32763               -8.64075           \n",
       "4 GART   antagonist -3.32763               -8.64075           \n",
       "5 ATIC   antagonist -3.32763               -8.64075           \n",
       "6 PPAT   antagonist -3.32763               -8.64075           \n",
       "7 PFAS   antagonist -3.32763               -8.64075           \n",
       "  effect_GeneKO_NHBE\n",
       "1  8.59583          \n",
       "2  8.59583          \n",
       "3 -5.21016          \n",
       "4 -5.21016          \n",
       "5 -5.21016          \n",
       "6 -5.21016          \n",
       "7 -5.21016          "
      ]
     },
     "metadata": {},
     "output_type": "display_data"
    }
   ],
   "source": [
    "cutoff = 3\n",
    "\n",
    "a549 = file2frame('./modeling/v20200530_cellpaper/results/v20221207/KOgene_A549ACE2_KO_effect_genes.txt')\n",
    "Calu3 = file2frame('./modeling/v20200530_cellpaper/results/v20221207/KOgene_Calu3_KO_effect_genes.txt')\n",
    "NHBE = file2frame('./modeling/v20200530_cellpaper/results/v20221207/KOgene_NHBE_KO_effect_genes.txt')\n",
    "\n",
    "overlap.up = intersect(a549$gene[a549$effect_GeneKO >= cutoff],Calu3$gene[Calu3$effect_GeneKO >= cutoff])\n",
    "overlap.up = intersect(overlap.up,NHBE$gene[NHBE$effect_GeneKO >= cutoff])\n",
    "overlap.up = unique(overlap.up)\n",
    "overlap.up\n",
    "\n",
    "\n",
    "\n",
    "overlap.down = intersect(a549$gene[a549$effect_GeneKO <= -cutoff],Calu3$gene[Calu3$effect_GeneKO <= -cutoff])\n",
    "overlap.down = intersect(overlap.down,NHBE$gene[NHBE$effect_GeneKO <= -cutoff])\n",
    "overlap.down = unique(overlap.down)\n",
    "overlap.down\n",
    "\n",
    "get_subterm_gene <- function(df, genes){\n",
    "    out = df[is.element(df$gene,genes),]\n",
    "    out = out[abs(out$effect_GeneKO) > 0,]\n",
    "    rownames(out) = out$gene\n",
    "    \n",
    "    return(out)\n",
    "}\n",
    "\n",
    "tmp = c(overlap.up,overlap.down)\n",
    "a549.overlap = get_subterm_gene(a549,tmp)\n",
    "Calu3.overlap = get_subterm_gene(Calu3,tmp)\n",
    "NHBE.overlap = get_subterm_gene(NHBE,tmp)\n",
    "Overlaped_target_3celllines = data.frame(Target = tmp, stringsAsFactors = F,\n",
    "                              Action = c(rep('agonist',length(overlap.up)),rep('antagonist',length(overlap.down))),\n",
    "                              effect_GeneKO_A549ACE2 = a549.overlap[tmp,]$effect_GeneKO,\n",
    "                              effect_GeneKO_Calu3 = Calu3.overlap[tmp,]$effect_GeneKO,\n",
    "                              effect_GeneKO_NHBE = NHBE.overlap[tmp,]$effect_GeneKO)\n",
    "Overlaped_target_3celllines\n",
    "#writetxt(Overlaped_target_3celllines,'./modeling/v20200530_cellpaper/Figures/Table S7_Overlaped_target_3celllines.txt')"
   ]
  },
  {
   "cell_type": "markdown",
   "metadata": {},
   "source": [
    "### overlaped targets(genes)-biomass_only"
   ]
  },
  {
   "cell_type": "code",
   "execution_count": 55,
   "metadata": {},
   "outputs": [],
   "source": [
    "komatrix.a549 = file2frame(file = './modeling/v20200530_cellpaper/results/v20221207/KOgene_A549ACE2_effectMatrix.txt')\n",
    "viral_component =c('YP_009724390', 'YP_009724392', 'YP_009724393', 'YP_009724397',\n",
    "                   'COVID_RNA_BS_pos', 'COVID_RNA_BS_neg', 'COVID_lipids', 'biomass_reaction')\n",
    "ids = is.element(komatrix.a549$gene,Overlaped_target_3celllines$Target)\n",
    "kogene_viral.a549 = komatrix.a549[ids,c('gene',viral_component)]\n",
    "\n",
    "#calu3\n",
    "komatrix.Calu3 = file2frame(file = './modeling/v20200530_cellpaper/results/v20221207/KOgene_Calu3_effectMatrix.txt')\n",
    "ids = is.element(komatrix.Calu3$gene,Overlaped_target_3celllines$Target)\n",
    "kogene_viral.Calu3 = komatrix.Calu3[ids,c('gene',viral_component)]\n",
    "\n",
    "#NHBE\n",
    "komatrix.NHBE = file2frame(file = './modeling/v20200530_cellpaper/results/v20221207/KOgene_NHBE_effectMatrix.txt')\n",
    "ids = is.element(komatrix.NHBE$gene,Overlaped_target_3celllines$Target)\n",
    "kogene_viral.NHBE = komatrix.NHBE[ids,c('gene',viral_component)]\n",
    "\n",
    "tmp = rbind(rbind(kogene_viral.a549,kogene_viral.Calu3),kogene_viral.NHBE)\n",
    "\n",
    "kogene_viral = cbind(data.frame(Celltype = c(rep('A549ACE2',nrow(kogene_viral.a549)),\n",
    "                                            rep('Calu3',nrow(kogene_viral.Calu3)),\n",
    "                                             rep('NHBE',nrow(kogene_viral.NHBE)))),tmp)\n",
    "writetxt(kogene_viral,'./modeling/v20200530_cellpaper/Figures/Table S_geneKO_viral_biomass_3celllines.txt')"
   ]
  },
  {
   "cell_type": "markdown",
   "metadata": {},
   "source": [
    "### Overlaped metabolites"
   ]
  },
  {
   "cell_type": "code",
   "execution_count": 42,
   "metadata": {},
   "outputs": [],
   "source": [
    "get_consist_mets <- function(ma,cutoff){\n",
    "    tmpout = ma\n",
    "    tmpout$direct = sign(tmpout$Effect_afterKO)* (abs(tmpout$Effect_afterKO) >= cutoff)\n",
    "    tmpout$met_name = substr(tmpout$metid,1,nchar(tmpout$metid)-3)\n",
    "    uname = unique(tmpout$met_name[tmpout$direct != 0])\n",
    "    tmpout$direct.v = tmpout$direct\n",
    "    for(i in 1:length(uname)){\n",
    "        tmpids = which(tmpout$met_name == uname[i])\n",
    "        if(any(tmpout$direct[tmpids] > 0) & any(tmpout$direct[tmpids] < 0)){\n",
    "            tmpout$direct.v[tmpids] = 0\n",
    "        }\n",
    "    }\n",
    "    return(tmpout)\n",
    "}"
   ]
  },
  {
   "cell_type": "code",
   "execution_count": 43,
   "metadata": {},
   "outputs": [
    {
     "data": {
      "text/html": [
       "<style>\n",
       ".list-inline {list-style: none; margin:0; padding: 0}\n",
       ".list-inline>li {display: inline-block}\n",
       ".list-inline>li:not(:last-child)::after {content: \"\\00b7\"; padding: 0 .5ex}\n",
       "</style>\n",
       "<ol class=list-inline><li>'mlthf[c]'</li><li>'akg[c]'</li></ol>\n"
      ],
      "text/latex": [
       "\\begin{enumerate*}\n",
       "\\item 'mlthf{[}c{]}'\n",
       "\\item 'akg{[}c{]}'\n",
       "\\end{enumerate*}\n"
      ],
      "text/markdown": [
       "1. 'mlthf[c]'\n",
       "2. 'akg[c]'\n",
       "\n",
       "\n"
      ],
      "text/plain": [
       "[1] \"mlthf[c]\" \"akg[c]\"  "
      ]
     },
     "metadata": {},
     "output_type": "display_data"
    },
    {
     "data": {
      "text/html": [
       "<style>\n",
       ".list-inline {list-style: none; margin:0; padding: 0}\n",
       ".list-inline>li {display: inline-block}\n",
       ".list-inline>li:not(:last-child)::after {content: \"\\00b7\"; padding: 0 .5ex}\n",
       "</style>\n",
       "<ol class=list-inline><li>'gly[c]'</li><li>'gtp[c]'</li><li>'dcamp[c]'</li><li>'cys_L[c]'</li><li>'imp[c]'</li><li>'YP_009724390[c]'</li><li>'YP_009724392[c]'</li><li>'YP_009724393[c]'</li><li>'YP_009724397[c]'</li><li>'COVID_RNA_BS_pos[c]'</li><li>'COVID_RNA_BS_neg[c]'</li><li>'phe_L[c]'</li><li>'asn_L[c]'</li><li>'lys_L[c]'</li><li>'arg_L[c]'</li><li>'met_L[c]'</li><li>'thr_L[c]'</li><li>'25aics[c]'</li><li>'air[c]'</li><li>'5aizc[c]'</li><li>'gar[c]'</li><li>'fgam[c]'</li><li>'pram[c]'</li><li>'fpram[c]'</li></ol>\n"
      ],
      "text/latex": [
       "\\begin{enumerate*}\n",
       "\\item 'gly{[}c{]}'\n",
       "\\item 'gtp{[}c{]}'\n",
       "\\item 'dcamp{[}c{]}'\n",
       "\\item 'cys\\_L{[}c{]}'\n",
       "\\item 'imp{[}c{]}'\n",
       "\\item 'YP\\_009724390{[}c{]}'\n",
       "\\item 'YP\\_009724392{[}c{]}'\n",
       "\\item 'YP\\_009724393{[}c{]}'\n",
       "\\item 'YP\\_009724397{[}c{]}'\n",
       "\\item 'COVID\\_RNA\\_BS\\_pos{[}c{]}'\n",
       "\\item 'COVID\\_RNA\\_BS\\_neg{[}c{]}'\n",
       "\\item 'phe\\_L{[}c{]}'\n",
       "\\item 'asn\\_L{[}c{]}'\n",
       "\\item 'lys\\_L{[}c{]}'\n",
       "\\item 'arg\\_L{[}c{]}'\n",
       "\\item 'met\\_L{[}c{]}'\n",
       "\\item 'thr\\_L{[}c{]}'\n",
       "\\item '25aics{[}c{]}'\n",
       "\\item 'air{[}c{]}'\n",
       "\\item '5aizc{[}c{]}'\n",
       "\\item 'gar{[}c{]}'\n",
       "\\item 'fgam{[}c{]}'\n",
       "\\item 'pram{[}c{]}'\n",
       "\\item 'fpram{[}c{]}'\n",
       "\\end{enumerate*}\n"
      ],
      "text/markdown": [
       "1. 'gly[c]'\n",
       "2. 'gtp[c]'\n",
       "3. 'dcamp[c]'\n",
       "4. 'cys_L[c]'\n",
       "5. 'imp[c]'\n",
       "6. 'YP_009724390[c]'\n",
       "7. 'YP_009724392[c]'\n",
       "8. 'YP_009724393[c]'\n",
       "9. 'YP_009724397[c]'\n",
       "10. 'COVID_RNA_BS_pos[c]'\n",
       "11. 'COVID_RNA_BS_neg[c]'\n",
       "12. 'phe_L[c]'\n",
       "13. 'asn_L[c]'\n",
       "14. 'lys_L[c]'\n",
       "15. 'arg_L[c]'\n",
       "16. 'met_L[c]'\n",
       "17. 'thr_L[c]'\n",
       "18. '25aics[c]'\n",
       "19. 'air[c]'\n",
       "20. '5aizc[c]'\n",
       "21. 'gar[c]'\n",
       "22. 'fgam[c]'\n",
       "23. 'pram[c]'\n",
       "24. 'fpram[c]'\n",
       "\n",
       "\n"
      ],
      "text/plain": [
       " [1] \"gly[c]\"              \"gtp[c]\"              \"dcamp[c]\"           \n",
       " [4] \"cys_L[c]\"            \"imp[c]\"              \"YP_009724390[c]\"    \n",
       " [7] \"YP_009724392[c]\"     \"YP_009724393[c]\"     \"YP_009724397[c]\"    \n",
       "[10] \"COVID_RNA_BS_pos[c]\" \"COVID_RNA_BS_neg[c]\" \"phe_L[c]\"           \n",
       "[13] \"asn_L[c]\"            \"lys_L[c]\"            \"arg_L[c]\"           \n",
       "[16] \"met_L[c]\"            \"thr_L[c]\"            \"25aics[c]\"          \n",
       "[19] \"air[c]\"              \"5aizc[c]\"            \"gar[c]\"             \n",
       "[22] \"fgam[c]\"             \"pram[c]\"             \"fpram[c]\"           "
      ]
     },
     "metadata": {},
     "output_type": "display_data"
    },
    {
     "data": {
      "text/html": [
       "<table class=\"dataframe\">\n",
       "<caption>A data.frame: 20 × 13</caption>\n",
       "<thead>\n",
       "\t<tr><th></th><th scope=col>Metabolites</th><th scope=col>Action</th><th scope=col>effect_MetKO_A549ACE2</th><th scope=col>effect_MetKO_Calu3</th><th scope=col>effect_MetKO_NHBE</th><th scope=col>metname</th><th scope=col>pubchemID</th><th scope=col>HMDBID</th><th scope=col>smiles</th><th scope=col>InchiString</th><th scope=col>direct</th><th scope=col>met_name</th><th scope=col>direct.v</th></tr>\n",
       "\t<tr><th></th><th scope=col>&lt;chr&gt;</th><th scope=col>&lt;chr&gt;</th><th scope=col>&lt;dbl&gt;</th><th scope=col>&lt;dbl&gt;</th><th scope=col>&lt;dbl&gt;</th><th scope=col>&lt;chr&gt;</th><th scope=col>&lt;int&gt;</th><th scope=col>&lt;chr&gt;</th><th scope=col>&lt;chr&gt;</th><th scope=col>&lt;chr&gt;</th><th scope=col>&lt;dbl&gt;</th><th scope=col>&lt;chr&gt;</th><th scope=col>&lt;dbl&gt;</th></tr>\n",
       "</thead>\n",
       "<tbody>\n",
       "\t<tr><th scope=row>mlthf[c]</th><td>mlthf[c] </td><td>agonist   </td><td> 8.26588</td><td>  3.00000</td><td> 8.59583</td><td>5,10-Methylenetetrahydrofolate                                         </td><td>439175</td><td>         </td><td>[H]OC1=NC(=NC2=C1N1C([H])([H])N(C3=C([H])C([H])=C(C([H])=C3[H])C(=O)N([H])C([H])(C([O-])=O)C([H])([H])C([H])([H])C([O-])=O)C([H])([H])[C@@]1([H])C([H])([H])N2[H])N([H])[H]</td><td>InChI=1/C20H23N7O6/c21-20-24-16-15(18(31)25-20)27-9-26(8-12(27)7-22-16)11-3-1-10(2-4-11)17(30)23-13(19(32)33)5-6-14(28)29/h1-4,12-13H,5-9H2,(H,23,30)(H,28,29)(H,32,33)(H4,21,22,24,25,31)/p-2/t12-,13?/s2          </td><td> 1</td><td>mlthf </td><td> 1</td></tr>\n",
       "\t<tr><th scope=row>akg[c]</th><td>akg[c]   </td><td>agonist   </td><td>11.13840</td><td>  3.00000</td><td> 5.71458</td><td>2-Oxoglutarate                                                         </td><td>    51</td><td>HMDB00208</td><td>[H]C([H])(C([O-])=O)C([H])([H])C(=O)C([O-])=O                                                                                                                              </td><td>InChI=1S/C5H6O5/c6-3(5(9)10)1-2-4(7)8/h1-2H2,(H,7,8)(H,9,10)/p-2                                                                                                                                                    </td><td> 1</td><td>akg   </td><td> 1</td></tr>\n",
       "\t<tr><th scope=row>gly[c]</th><td>gly[c]   </td><td>antagonist</td><td>-7.96687</td><td>-11.11160</td><td>-5.41603</td><td>Glycine                                                                </td><td>   750</td><td>HMDB00123</td><td>[H][N+]([H])([H])C([H])([H])C([O-])=O                                                                                                                                      </td><td>InChI=1S/C2H5NO2/c3-1-2(4)5/h1,3H2,(H,4,5)                                                                                                                                                                          </td><td>-1</td><td>gly   </td><td>-1</td></tr>\n",
       "\t<tr><th scope=row>gtp[c]</th><td>gtp[c]   </td><td>antagonist</td><td>-7.00000</td><td> -7.00000</td><td>-4.57172</td><td>Guanosine-5'-Triphosphate                                              </td><td>  6830</td><td>HMDB01273</td><td>[H]O[C@@]1([H])[C@@]([H])(O[C@]([H])(C([H])([H])OP([O-])(=O)OP([O-])(=O)OP([O-])([O-])=O)[C@@]1([H])O[H])N1C([H])=NC2=C1N=C(N([H])[H])N([H])C2=O                           </td><td>InChI=1S/C10H16N5O14P3/c11-10-13-7-4(8(18)14-10)12-2-15(7)9-6(17)5(16)3(27-9)1-26-31(22,23)29-32(24,25)28-30(19,20)21/h2-3,5-6,9,16-17H,1H2,(H,22,23)(H,24,25)(H2,19,20,21)(H3,11,13,14,18)/p-4/t3-,5-,6-,9-/m1/s1  </td><td>-1</td><td>gtp   </td><td>-1</td></tr>\n",
       "\t<tr><th scope=row>dcamp[c]</th><td>dcamp[c] </td><td>antagonist</td><td>-7.00000</td><td> -7.00000</td><td>-5.00793</td><td>N6-(1,2-Dicarboxyethyl)-Adenosine Monophosphate                        </td><td>447145</td><td>         </td><td>[H]O[C@@]1([H])[C@@]([H])(O[C@]([H])(C([H])([H])OP([O-])([O-])=O)[C@@]1([H])O[H])N1C([H])=NC2=C(N=C([H])N=C12)N([H])C([H])(C([O-])=O)C([H])([H])C([O-])=O                  </td><td>InChI=1S/C14H18N5O11P/c20-7(21)1-5(14(24)25)18-11-8-12(16-3-15-11)19(4-17-8)13-10(23)9(22)6(30-13)2-29-31(26,27)28/h3-6,9-10,13,22-23H,1-2H2,(H,20,21)(H,24,25)(H,15,16,18)(H2,26,27,28)/p-4/t5?,6-,9-,10-,13-/m1/s1</td><td>-1</td><td>dcamp </td><td>-1</td></tr>\n",
       "\t<tr><th scope=row>cys_L[c]</th><td>cys_L[c] </td><td>antagonist</td><td>-7.00000</td><td> -7.00000</td><td>-9.00000</td><td>L-Cysteine                                                             </td><td>  5862</td><td>HMDB00574</td><td>[H]SC([H])([H])[C@@]([H])(C([O-])=O)[N+]([H])([H])[H]                                                                                                                      </td><td>InChI=1S/C3H7NO2S/c4-2(1-7)3(5)6/h2,7H,1,4H2,(H,5,6)/t2-/m0/s1                                                                                                                                                      </td><td>-1</td><td>cys_L </td><td>-1</td></tr>\n",
       "\t<tr><th scope=row>imp[c]</th><td>imp[c]   </td><td>antagonist</td><td>-7.00000</td><td> -8.66547</td><td>-4.87392</td><td>Inosine-5'-Monophosphate                                               </td><td>  8582</td><td>HMDB00175</td><td>[H]O[C@@]1([H])[C@@]([H])(O[C@]([H])(C([H])([H])OP([O-])([O-])=O)[C@@]1([H])O[H])N1C([H])=NC2=C1N=C([H])N([H])C2=O                                                         </td><td>InChI=1S/C10H13N4O8P/c15-6-4(1-21-23(18,19)20)22-10(7(6)16)14-3-13-5-8(14)11-2-12-9(5)17/h2-4,6-7,10,15-16H,1H2,(H,11,12,17)(H2,18,19,20)/p-2/t4-,6-,7-,10-/m1/s1                                                   </td><td>-1</td><td>imp   </td><td>-1</td></tr>\n",
       "\t<tr><th scope=row>phe_L[c]</th><td>phe_L[c] </td><td>antagonist</td><td>-6.17601</td><td> -6.00000</td><td>-7.41200</td><td>L-Phenylalanine                                                        </td><td>  6140</td><td>HMDB00159</td><td>[H]C1=C([H])C([H])=C(C([H])=C1[H])C([H])([H])[C@@]([H])(C([O-])=O)[N+]([H])([H])[H]                                                                                        </td><td>InChI=1S/C9H11NO2/c10-8(9(11)12)6-7-4-2-1-3-5-7/h1-5,8H,6,10H2,(H,11,12)/t8-/m0/s1                                                                                                                                  </td><td>-1</td><td>phe_L </td><td>-1</td></tr>\n",
       "\t<tr><th scope=row>asn_L[c]</th><td>asn_L[c] </td><td>antagonist</td><td>-6.00000</td><td> -9.00000</td><td>-8.00000</td><td>L-Asparagine                                                           </td><td>  6267</td><td>HMDB00168</td><td>[H]N([H])C(=O)C([H])([H])[C@@]([H])(C([O-])=O)[N+]([H])([H])[H]                                                                                                            </td><td>InChI=1S/C4H8N2O3/c5-2(4(8)9)1-3(6)7/h2H,1,5H2,(H2,6,7)(H,8,9)/t2-/m0/s1                                                                                                                                            </td><td>-1</td><td>asn_L </td><td>-1</td></tr>\n",
       "\t<tr><th scope=row>lys_L[c]</th><td>lys_L[c] </td><td>antagonist</td><td>-6.00000</td><td> -7.00000</td><td>-7.00000</td><td>L-Lysine                                                               </td><td>  5962</td><td>HMDB00182</td><td>[H][N+]([H])([H])C([H])([H])C([H])([H])C([H])([H])C([H])([H])[C@@]([H])(C([O-])=O)[N+]([H])([H])[H]                                                                        </td><td>InChI=1/C6H14N2O2/c7-4-2-1-3-5(8)6(9)10/h5H,1-4,7-8H2,(H,9,10)/p+1/t5-/s2                                                                                                                                           </td><td>-1</td><td>lys_L </td><td>-1</td></tr>\n",
       "\t<tr><th scope=row>arg_L[c]</th><td>arg_L[c] </td><td>antagonist</td><td>-6.00000</td><td> -5.25816</td><td>-7.00000</td><td>L-Arginine                                                             </td><td>  6322</td><td>HMDB00517</td><td>[H]N([H])C(N([H])C([H])([H])C([H])([H])C([H])([H])[C@@]([H])(C([O-])=O)[N+]([H])([H])[H])=[N+]([H])[H]                                                                     </td><td>InChI=1S/C6H14N4O2/c7-4(5(11)12)2-1-3-10-6(8)9/h4H,1-3,7H2,(H,11,12)(H4,8,9,10)/p+1/t4-/m0/s1                                                                                                                       </td><td>-1</td><td>arg_L </td><td>-1</td></tr>\n",
       "\t<tr><th scope=row>met_L[c]</th><td>met_L[c] </td><td>antagonist</td><td>-6.00000</td><td> -6.00000</td><td>-7.14186</td><td>L-Methionine                                                           </td><td>  6137</td><td>HMDB00696</td><td>[H]C([H])([H])SC([H])([H])C([H])([H])[C@@]([H])(C([O-])=O)[N+]([H])([H])[H]                                                                                                </td><td>InChI=1S/C5H11NO2S/c1-9-3-2-4(6)5(7)8/h4H,2-3,6H2,1H3,(H,7,8)/t4-/m0/s1                                                                                                                                             </td><td>-1</td><td>met_L </td><td>-1</td></tr>\n",
       "\t<tr><th scope=row>thr_L[c]</th><td>thr_L[c] </td><td>antagonist</td><td>-4.51868</td><td> -7.38069</td><td>-6.69585</td><td>L-Threonine                                                            </td><td>  6288</td><td>HMDB00167</td><td>[H]O[C@]([H])(C([H])([H])[H])[C@@]([H])(C([O-])=O)[N+]([H])([H])[H]                                                                                                        </td><td>InChI=1S/C4H9NO3/c1-2(6)3(5)4(7)8/h2-3,6H,5H2,1H3,(H,7,8)/t2-,3+/m1/s1                                                                                                                                              </td><td>-1</td><td>thr_L </td><td>-1</td></tr>\n",
       "\t<tr><th scope=row>25aics[c]</th><td>25aics[c]</td><td>antagonist</td><td>-3.32763</td><td> -8.64075</td><td>-5.21016</td><td>(S)-2-[5-Amino-1-(5-Phospho-D-Ribosyl)Imidazole-4-Carboxamido]Succinate</td><td>160666</td><td>         </td><td>[H]O[C@@]1([H])[C@@]([H])(O[C@]([H])(C([H])([H])OP([O-])([O-])=O)[C@@]1([H])O[H])N1C([H])=NC(C(=O)N([H])C([H])(C([O-])=O)C([H])([H])C([O-])=O)=C1N([H])[H]                 </td><td>InChI=1/C13H19N4O12P/c14-10-7(11(22)16-4(13(23)24)1-6(18)19)15-3-17(10)12-9(21)8(20)5(29-12)2-28-30(25,26)27/h3-5,8-9,12,20-21H,1-2,14H2,(H,16,22)(H,18,19)(H,23,24)(H2,25,26,27)/p-4/t4?,5-,8-,9-,12-/s2           </td><td>-1</td><td>25aics</td><td>-1</td></tr>\n",
       "\t<tr><th scope=row>air[c]</th><td>air[c]   </td><td>antagonist</td><td>-3.32763</td><td> -8.64075</td><td>-5.21016</td><td>5-Amino-1-(5-Phospho-D-Ribosyl)Imidazole                               </td><td>161500</td><td>         </td><td>[H]O[C@@]1([H])C([H])(O[C@]([H])(C([H])([H])OP([O-])([O-])=O)[C@@]1([H])O[H])N1C([H])=NC([H])=C1N([H])[H]                                                                  </td><td>InChI=1/C8H14N3O7P/c9-5-1-10-3-11(5)8-7(13)6(12)4(18-8)2-17-19(14,15)16/h1,3-4,6-8,12-13H,2,9H2,(H2,14,15,16)/p-2/t4-,6-,7-,8?/s2                                                                                   </td><td>-1</td><td>air   </td><td>-1</td></tr>\n",
       "\t<tr><th scope=row>5aizc[c]</th><td>5aizc[c] </td><td>antagonist</td><td>-3.32763</td><td> -8.64075</td><td>-5.21016</td><td>5-Amino-1-(5-Phospho-D-Ribosyl)Imidazole-4-Carboxylate                 </td><td>165388</td><td>         </td><td>[H]O[C@@]1([H])[C@@]([H])(O[C@]([H])(C([H])([H])OP([O-])([O-])=O)[C@@]1([H])O[H])N1C([H])=NC(C([O-])=O)=C1N([H])[H]                                                        </td><td>InChI=1S/C9H14N3O9P/c10-7-4(9(15)16)11-2-12(7)8-6(14)5(13)3(21-8)1-20-22(17,18)19/h2-3,5-6,8,13-14H,1,10H2,(H,15,16)(H2,17,18,19)/p-3/t3-,5-,6-,8-/m1/s1                                                            </td><td>-1</td><td>5aizc </td><td>-1</td></tr>\n",
       "\t<tr><th scope=row>gar[c]</th><td>gar[c]   </td><td>antagonist</td><td>-3.32763</td><td> -8.64075</td><td>-5.21016</td><td>N1-(5-Phospho-D-Ribosyl)Glycinamide                                    </td><td>160913</td><td>         </td><td>[H]O[C@@]1([H])C([H])(O[C@]([H])(C([H])([H])OP([O-])([O-])=O)[C@@]1([H])O[H])N([H])C(=O)C([H])([H])[N+]([H])([H])[H]                                                       </td><td>InChI=1/C7H15N2O8P/c8-1-4(10)9-7-6(12)5(11)3(17-7)2-16-18(13,14)15/h3,5-7,11-12H,1-2,8H2,(H,9,10)(H2,13,14,15)/p-1/t3-,5-,6-,7?/s2                                                                                  </td><td>-1</td><td>gar   </td><td>-1</td></tr>\n",
       "\t<tr><th scope=row>fgam[c]</th><td>fgam[c]  </td><td>antagonist</td><td>-3.32763</td><td> -8.64075</td><td>-5.21016</td><td>N2-Formyl-N1-(5-Phospho-D-Ribosyl)Glycinamide                          </td><td>130805</td><td>         </td><td>[H]O[C@@]1([H])C([H])(O[C@]([H])(C([H])([H])OP([O-])([O-])=O)[C@@]1([H])O[H])N([H])C(=O)C([H])([H])N([H])C([H])=O                                                          </td><td>InChI=1/C8H15N2O9P/c11-3-9-1-5(12)10-8-7(14)6(13)4(19-8)2-18-20(15,16)17/h3-4,6-8,13-14H,1-2H2,(H,9,11)(H,10,12)(H2,15,16,17)/p-2/t4-,6-,7-,8?/s2                                                                   </td><td>-1</td><td>fgam  </td><td>-1</td></tr>\n",
       "\t<tr><th scope=row>pram[c]</th><td>pram[c]  </td><td>antagonist</td><td>-3.32763</td><td> -8.64075</td><td>-5.21016</td><td>5-Phospho-Beta-D-Ribosylamine                                          </td><td>439905</td><td>         </td><td>[H]O[C@@]1([H])[C@@]([H])(O[C@]([H])(C([H])([H])OP([O-])([O-])=O)[C@@]1([H])O[H])[N+]([H])([H])[H]                                                                         </td><td>InChI=1/C5H12NO7P/c6-5-4(8)3(7)2(13-5)1-12-14(9,10)11/h2-5,7-8H,1,6H2,(H2,9,10,11)/p-1/t2-,3-,4-,5-/s2                                                                                                              </td><td>-1</td><td>pram  </td><td>-1</td></tr>\n",
       "\t<tr><th scope=row>fpram[c]</th><td>fpram[c] </td><td>antagonist</td><td>-3.32763</td><td> -8.64075</td><td>-5.21016</td><td>2-(Formamido)-N1-(5-Phospho-D-Ribosyl)Acetamidine                      </td><td>    NA</td><td>         </td><td>[H]O[C@@]1([H])C([H])(O[C@]([H])(C([H])([H])OP([O-])([O-])=O)[C@@]1([H])O[H])N([H])C(=[N+]([H])[H])C([H])([H])N([H])C([H])=O                                               </td><td>InChI=1/C8H16N3O8P/c9-5(1-10-3-12)11-8-7(14)6(13)4(19-8)2-18-20(15,16)17/h3-4,6-8,13-14H,1-2H2,(H2,9,11)(H,10,12)(H2,15,16,17)/p-1/t4-,6-,7-,8?/s2                                                                  </td><td>-1</td><td>fpram </td><td>-1</td></tr>\n",
       "</tbody>\n",
       "</table>\n"
      ],
      "text/latex": [
       "A data.frame: 20 × 13\n",
       "\\begin{tabular}{r|lllllllllllll}\n",
       "  & Metabolites & Action & effect\\_MetKO\\_A549ACE2 & effect\\_MetKO\\_Calu3 & effect\\_MetKO\\_NHBE & metname & pubchemID & HMDBID & smiles & InchiString & direct & met\\_name & direct.v\\\\\n",
       "  & <chr> & <chr> & <dbl> & <dbl> & <dbl> & <chr> & <int> & <chr> & <chr> & <chr> & <dbl> & <chr> & <dbl>\\\\\n",
       "\\hline\n",
       "\tmlthf{[}c{]} & mlthf{[}c{]}  & agonist    &  8.26588 &   3.00000 &  8.59583 & 5,10-Methylenetetrahydrofolate                                          & 439175 &           & {[}H{]}OC1=NC(=NC2=C1N1C({[}H{]})({[}H{]})N(C3=C({[}H{]})C({[}H{]})=C(C({[}H{]})=C3{[}H{]})C(=O)N({[}H{]})C({[}H{]})(C({[}O-{]})=O)C({[}H{]})({[}H{]})C({[}H{]})({[}H{]})C({[}O-{]})=O)C({[}H{]})({[}H{]}){[}C@@{]}1({[}H{]})C({[}H{]})({[}H{]})N2{[}H{]})N({[}H{]}){[}H{]} & InChI=1/C20H23N7O6/c21-20-24-16-15(18(31)25-20)27-9-26(8-12(27)7-22-16)11-3-1-10(2-4-11)17(30)23-13(19(32)33)5-6-14(28)29/h1-4,12-13H,5-9H2,(H,23,30)(H,28,29)(H,32,33)(H4,21,22,24,25,31)/p-2/t12-,13?/s2           &  1 & mlthf  &  1\\\\\n",
       "\takg{[}c{]} & akg{[}c{]}    & agonist    & 11.13840 &   3.00000 &  5.71458 & 2-Oxoglutarate                                                          &     51 & HMDB00208 & {[}H{]}C({[}H{]})(C({[}O-{]})=O)C({[}H{]})({[}H{]})C(=O)C({[}O-{]})=O                                                                                                                               & InChI=1S/C5H6O5/c6-3(5(9)10)1-2-4(7)8/h1-2H2,(H,7,8)(H,9,10)/p-2                                                                                                                                                     &  1 & akg    &  1\\\\\n",
       "\tgly{[}c{]} & gly{[}c{]}    & antagonist & -7.96687 & -11.11160 & -5.41603 & Glycine                                                                 &    750 & HMDB00123 & {[}H{]}{[}N+{]}({[}H{]})({[}H{]})C({[}H{]})({[}H{]})C({[}O-{]})=O                                                                                                                                       & InChI=1S/C2H5NO2/c3-1-2(4)5/h1,3H2,(H,4,5)                                                                                                                                                                           & -1 & gly    & -1\\\\\n",
       "\tgtp{[}c{]} & gtp{[}c{]}    & antagonist & -7.00000 &  -7.00000 & -4.57172 & Guanosine-5'-Triphosphate                                               &   6830 & HMDB01273 & {[}H{]}O{[}C@@{]}1({[}H{]}){[}C@@{]}({[}H{]})(O{[}C@{]}({[}H{]})(C({[}H{]})({[}H{]})OP({[}O-{]})(=O)OP({[}O-{]})(=O)OP({[}O-{]})({[}O-{]})=O){[}C@@{]}1({[}H{]})O{[}H{]})N1C({[}H{]})=NC2=C1N=C(N({[}H{]}){[}H{]})N({[}H{]})C2=O                            & InChI=1S/C10H16N5O14P3/c11-10-13-7-4(8(18)14-10)12-2-15(7)9-6(17)5(16)3(27-9)1-26-31(22,23)29-32(24,25)28-30(19,20)21/h2-3,5-6,9,16-17H,1H2,(H,22,23)(H,24,25)(H2,19,20,21)(H3,11,13,14,18)/p-4/t3-,5-,6-,9-/m1/s1   & -1 & gtp    & -1\\\\\n",
       "\tdcamp{[}c{]} & dcamp{[}c{]}  & antagonist & -7.00000 &  -7.00000 & -5.00793 & N6-(1,2-Dicarboxyethyl)-Adenosine Monophosphate                         & 447145 &           & {[}H{]}O{[}C@@{]}1({[}H{]}){[}C@@{]}({[}H{]})(O{[}C@{]}({[}H{]})(C({[}H{]})({[}H{]})OP({[}O-{]})({[}O-{]})=O){[}C@@{]}1({[}H{]})O{[}H{]})N1C({[}H{]})=NC2=C(N=C({[}H{]})N=C12)N({[}H{]})C({[}H{]})(C({[}O-{]})=O)C({[}H{]})({[}H{]})C({[}O-{]})=O                   & InChI=1S/C14H18N5O11P/c20-7(21)1-5(14(24)25)18-11-8-12(16-3-15-11)19(4-17-8)13-10(23)9(22)6(30-13)2-29-31(26,27)28/h3-6,9-10,13,22-23H,1-2H2,(H,20,21)(H,24,25)(H,15,16,18)(H2,26,27,28)/p-4/t5?,6-,9-,10-,13-/m1/s1 & -1 & dcamp  & -1\\\\\n",
       "\tcys\\_L{[}c{]} & cys\\_L{[}c{]}  & antagonist & -7.00000 &  -7.00000 & -9.00000 & L-Cysteine                                                              &   5862 & HMDB00574 & {[}H{]}SC({[}H{]})({[}H{]}){[}C@@{]}({[}H{]})(C({[}O-{]})=O){[}N+{]}({[}H{]})({[}H{]}){[}H{]}                                                                                                                       & InChI=1S/C3H7NO2S/c4-2(1-7)3(5)6/h2,7H,1,4H2,(H,5,6)/t2-/m0/s1                                                                                                                                                       & -1 & cys\\_L  & -1\\\\\n",
       "\timp{[}c{]} & imp{[}c{]}    & antagonist & -7.00000 &  -8.66547 & -4.87392 & Inosine-5'-Monophosphate                                                &   8582 & HMDB00175 & {[}H{]}O{[}C@@{]}1({[}H{]}){[}C@@{]}({[}H{]})(O{[}C@{]}({[}H{]})(C({[}H{]})({[}H{]})OP({[}O-{]})({[}O-{]})=O){[}C@@{]}1({[}H{]})O{[}H{]})N1C({[}H{]})=NC2=C1N=C({[}H{]})N({[}H{]})C2=O                                                          & InChI=1S/C10H13N4O8P/c15-6-4(1-21-23(18,19)20)22-10(7(6)16)14-3-13-5-8(14)11-2-12-9(5)17/h2-4,6-7,10,15-16H,1H2,(H,11,12,17)(H2,18,19,20)/p-2/t4-,6-,7-,10-/m1/s1                                                    & -1 & imp    & -1\\\\\n",
       "\tphe\\_L{[}c{]} & phe\\_L{[}c{]}  & antagonist & -6.17601 &  -6.00000 & -7.41200 & L-Phenylalanine                                                         &   6140 & HMDB00159 & {[}H{]}C1=C({[}H{]})C({[}H{]})=C(C({[}H{]})=C1{[}H{]})C({[}H{]})({[}H{]}){[}C@@{]}({[}H{]})(C({[}O-{]})=O){[}N+{]}({[}H{]})({[}H{]}){[}H{]}                                                                                         & InChI=1S/C9H11NO2/c10-8(9(11)12)6-7-4-2-1-3-5-7/h1-5,8H,6,10H2,(H,11,12)/t8-/m0/s1                                                                                                                                   & -1 & phe\\_L  & -1\\\\\n",
       "\tasn\\_L{[}c{]} & asn\\_L{[}c{]}  & antagonist & -6.00000 &  -9.00000 & -8.00000 & L-Asparagine                                                            &   6267 & HMDB00168 & {[}H{]}N({[}H{]})C(=O)C({[}H{]})({[}H{]}){[}C@@{]}({[}H{]})(C({[}O-{]})=O){[}N+{]}({[}H{]})({[}H{]}){[}H{]}                                                                                                             & InChI=1S/C4H8N2O3/c5-2(4(8)9)1-3(6)7/h2H,1,5H2,(H2,6,7)(H,8,9)/t2-/m0/s1                                                                                                                                             & -1 & asn\\_L  & -1\\\\\n",
       "\tlys\\_L{[}c{]} & lys\\_L{[}c{]}  & antagonist & -6.00000 &  -7.00000 & -7.00000 & L-Lysine                                                                &   5962 & HMDB00182 & {[}H{]}{[}N+{]}({[}H{]})({[}H{]})C({[}H{]})({[}H{]})C({[}H{]})({[}H{]})C({[}H{]})({[}H{]})C({[}H{]})({[}H{]}){[}C@@{]}({[}H{]})(C({[}O-{]})=O){[}N+{]}({[}H{]})({[}H{]}){[}H{]}                                                                         & InChI=1/C6H14N2O2/c7-4-2-1-3-5(8)6(9)10/h5H,1-4,7-8H2,(H,9,10)/p+1/t5-/s2                                                                                                                                            & -1 & lys\\_L  & -1\\\\\n",
       "\targ\\_L{[}c{]} & arg\\_L{[}c{]}  & antagonist & -6.00000 &  -5.25816 & -7.00000 & L-Arginine                                                              &   6322 & HMDB00517 & {[}H{]}N({[}H{]})C(N({[}H{]})C({[}H{]})({[}H{]})C({[}H{]})({[}H{]})C({[}H{]})({[}H{]}){[}C@@{]}({[}H{]})(C({[}O-{]})=O){[}N+{]}({[}H{]})({[}H{]}){[}H{]})={[}N+{]}({[}H{]}){[}H{]}                                                                      & InChI=1S/C6H14N4O2/c7-4(5(11)12)2-1-3-10-6(8)9/h4H,1-3,7H2,(H,11,12)(H4,8,9,10)/p+1/t4-/m0/s1                                                                                                                        & -1 & arg\\_L  & -1\\\\\n",
       "\tmet\\_L{[}c{]} & met\\_L{[}c{]}  & antagonist & -6.00000 &  -6.00000 & -7.14186 & L-Methionine                                                            &   6137 & HMDB00696 & {[}H{]}C({[}H{]})({[}H{]})SC({[}H{]})({[}H{]})C({[}H{]})({[}H{]}){[}C@@{]}({[}H{]})(C({[}O-{]})=O){[}N+{]}({[}H{]})({[}H{]}){[}H{]}                                                                                                 & InChI=1S/C5H11NO2S/c1-9-3-2-4(6)5(7)8/h4H,2-3,6H2,1H3,(H,7,8)/t4-/m0/s1                                                                                                                                              & -1 & met\\_L  & -1\\\\\n",
       "\tthr\\_L{[}c{]} & thr\\_L{[}c{]}  & antagonist & -4.51868 &  -7.38069 & -6.69585 & L-Threonine                                                             &   6288 & HMDB00167 & {[}H{]}O{[}C@{]}({[}H{]})(C({[}H{]})({[}H{]}){[}H{]}){[}C@@{]}({[}H{]})(C({[}O-{]})=O){[}N+{]}({[}H{]})({[}H{]}){[}H{]}                                                                                                         & InChI=1S/C4H9NO3/c1-2(6)3(5)4(7)8/h2-3,6H,5H2,1H3,(H,7,8)/t2-,3+/m1/s1                                                                                                                                               & -1 & thr\\_L  & -1\\\\\n",
       "\t25aics{[}c{]} & 25aics{[}c{]} & antagonist & -3.32763 &  -8.64075 & -5.21016 & (S)-2-{[}5-Amino-1-(5-Phospho-D-Ribosyl)Imidazole-4-Carboxamido{]}Succinate & 160666 &           & {[}H{]}O{[}C@@{]}1({[}H{]}){[}C@@{]}({[}H{]})(O{[}C@{]}({[}H{]})(C({[}H{]})({[}H{]})OP({[}O-{]})({[}O-{]})=O){[}C@@{]}1({[}H{]})O{[}H{]})N1C({[}H{]})=NC(C(=O)N({[}H{]})C({[}H{]})(C({[}O-{]})=O)C({[}H{]})({[}H{]})C({[}O-{]})=O)=C1N({[}H{]}){[}H{]}                  & InChI=1/C13H19N4O12P/c14-10-7(11(22)16-4(13(23)24)1-6(18)19)15-3-17(10)12-9(21)8(20)5(29-12)2-28-30(25,26)27/h3-5,8-9,12,20-21H,1-2,14H2,(H,16,22)(H,18,19)(H,23,24)(H2,25,26,27)/p-4/t4?,5-,8-,9-,12-/s2            & -1 & 25aics & -1\\\\\n",
       "\tair{[}c{]} & air{[}c{]}    & antagonist & -3.32763 &  -8.64075 & -5.21016 & 5-Amino-1-(5-Phospho-D-Ribosyl)Imidazole                                & 161500 &           & {[}H{]}O{[}C@@{]}1({[}H{]})C({[}H{]})(O{[}C@{]}({[}H{]})(C({[}H{]})({[}H{]})OP({[}O-{]})({[}O-{]})=O){[}C@@{]}1({[}H{]})O{[}H{]})N1C({[}H{]})=NC({[}H{]})=C1N({[}H{]}){[}H{]}                                                                   & InChI=1/C8H14N3O7P/c9-5-1-10-3-11(5)8-7(13)6(12)4(18-8)2-17-19(14,15)16/h1,3-4,6-8,12-13H,2,9H2,(H2,14,15,16)/p-2/t4-,6-,7-,8?/s2                                                                                    & -1 & air    & -1\\\\\n",
       "\t5aizc{[}c{]} & 5aizc{[}c{]}  & antagonist & -3.32763 &  -8.64075 & -5.21016 & 5-Amino-1-(5-Phospho-D-Ribosyl)Imidazole-4-Carboxylate                  & 165388 &           & {[}H{]}O{[}C@@{]}1({[}H{]}){[}C@@{]}({[}H{]})(O{[}C@{]}({[}H{]})(C({[}H{]})({[}H{]})OP({[}O-{]})({[}O-{]})=O){[}C@@{]}1({[}H{]})O{[}H{]})N1C({[}H{]})=NC(C({[}O-{]})=O)=C1N({[}H{]}){[}H{]}                                                         & InChI=1S/C9H14N3O9P/c10-7-4(9(15)16)11-2-12(7)8-6(14)5(13)3(21-8)1-20-22(17,18)19/h2-3,5-6,8,13-14H,1,10H2,(H,15,16)(H2,17,18,19)/p-3/t3-,5-,6-,8-/m1/s1                                                             & -1 & 5aizc  & -1\\\\\n",
       "\tgar{[}c{]} & gar{[}c{]}    & antagonist & -3.32763 &  -8.64075 & -5.21016 & N1-(5-Phospho-D-Ribosyl)Glycinamide                                     & 160913 &           & {[}H{]}O{[}C@@{]}1({[}H{]})C({[}H{]})(O{[}C@{]}({[}H{]})(C({[}H{]})({[}H{]})OP({[}O-{]})({[}O-{]})=O){[}C@@{]}1({[}H{]})O{[}H{]})N({[}H{]})C(=O)C({[}H{]})({[}H{]}){[}N+{]}({[}H{]})({[}H{]}){[}H{]}                                                        & InChI=1/C7H15N2O8P/c8-1-4(10)9-7-6(12)5(11)3(17-7)2-16-18(13,14)15/h3,5-7,11-12H,1-2,8H2,(H,9,10)(H2,13,14,15)/p-1/t3-,5-,6-,7?/s2                                                                                   & -1 & gar    & -1\\\\\n",
       "\tfgam{[}c{]} & fgam{[}c{]}   & antagonist & -3.32763 &  -8.64075 & -5.21016 & N2-Formyl-N1-(5-Phospho-D-Ribosyl)Glycinamide                           & 130805 &           & {[}H{]}O{[}C@@{]}1({[}H{]})C({[}H{]})(O{[}C@{]}({[}H{]})(C({[}H{]})({[}H{]})OP({[}O-{]})({[}O-{]})=O){[}C@@{]}1({[}H{]})O{[}H{]})N({[}H{]})C(=O)C({[}H{]})({[}H{]})N({[}H{]})C({[}H{]})=O                                                           & InChI=1/C8H15N2O9P/c11-3-9-1-5(12)10-8-7(14)6(13)4(19-8)2-18-20(15,16)17/h3-4,6-8,13-14H,1-2H2,(H,9,11)(H,10,12)(H2,15,16,17)/p-2/t4-,6-,7-,8?/s2                                                                    & -1 & fgam   & -1\\\\\n",
       "\tpram{[}c{]} & pram{[}c{]}   & antagonist & -3.32763 &  -8.64075 & -5.21016 & 5-Phospho-Beta-D-Ribosylamine                                           & 439905 &           & {[}H{]}O{[}C@@{]}1({[}H{]}){[}C@@{]}({[}H{]})(O{[}C@{]}({[}H{]})(C({[}H{]})({[}H{]})OP({[}O-{]})({[}O-{]})=O){[}C@@{]}1({[}H{]})O{[}H{]}){[}N+{]}({[}H{]})({[}H{]}){[}H{]}                                                                          & InChI=1/C5H12NO7P/c6-5-4(8)3(7)2(13-5)1-12-14(9,10)11/h2-5,7-8H,1,6H2,(H2,9,10,11)/p-1/t2-,3-,4-,5-/s2                                                                                                               & -1 & pram   & -1\\\\\n",
       "\tfpram{[}c{]} & fpram{[}c{]}  & antagonist & -3.32763 &  -8.64075 & -5.21016 & 2-(Formamido)-N1-(5-Phospho-D-Ribosyl)Acetamidine                       &     NA &           & {[}H{]}O{[}C@@{]}1({[}H{]})C({[}H{]})(O{[}C@{]}({[}H{]})(C({[}H{]})({[}H{]})OP({[}O-{]})({[}O-{]})=O){[}C@@{]}1({[}H{]})O{[}H{]})N({[}H{]})C(={[}N+{]}({[}H{]}){[}H{]})C({[}H{]})({[}H{]})N({[}H{]})C({[}H{]})=O                                                & InChI=1/C8H16N3O8P/c9-5(1-10-3-12)11-8-7(14)6(13)4(19-8)2-18-20(15,16)17/h3-4,6-8,13-14H,1-2H2,(H2,9,11)(H,10,12)(H2,15,16,17)/p-1/t4-,6-,7-,8?/s2                                                                   & -1 & fpram  & -1\\\\\n",
       "\\end{tabular}\n"
      ],
      "text/markdown": [
       "\n",
       "A data.frame: 20 × 13\n",
       "\n",
       "| <!--/--> | Metabolites &lt;chr&gt; | Action &lt;chr&gt; | effect_MetKO_A549ACE2 &lt;dbl&gt; | effect_MetKO_Calu3 &lt;dbl&gt; | effect_MetKO_NHBE &lt;dbl&gt; | metname &lt;chr&gt; | pubchemID &lt;int&gt; | HMDBID &lt;chr&gt; | smiles &lt;chr&gt; | InchiString &lt;chr&gt; | direct &lt;dbl&gt; | met_name &lt;chr&gt; | direct.v &lt;dbl&gt; |\n",
       "|---|---|---|---|---|---|---|---|---|---|---|---|---|---|\n",
       "| mlthf[c] | mlthf[c]  | agonist    |  8.26588 |   3.00000 |  8.59583 | 5,10-Methylenetetrahydrofolate                                          | 439175 | <!----> | [H]OC1=NC(=NC2=C1N1C([H])([H])N(C3=C([H])C([H])=C(C([H])=C3[H])C(=O)N([H])C([H])(C([O-])=O)C([H])([H])C([H])([H])C([O-])=O)C([H])([H])[C@@]1([H])C([H])([H])N2[H])N([H])[H] | InChI=1/C20H23N7O6/c21-20-24-16-15(18(31)25-20)27-9-26(8-12(27)7-22-16)11-3-1-10(2-4-11)17(30)23-13(19(32)33)5-6-14(28)29/h1-4,12-13H,5-9H2,(H,23,30)(H,28,29)(H,32,33)(H4,21,22,24,25,31)/p-2/t12-,13?/s2           |  1 | mlthf  |  1 |\n",
       "| akg[c] | akg[c]    | agonist    | 11.13840 |   3.00000 |  5.71458 | 2-Oxoglutarate                                                          |     51 | HMDB00208 | [H]C([H])(C([O-])=O)C([H])([H])C(=O)C([O-])=O                                                                                                                               | InChI=1S/C5H6O5/c6-3(5(9)10)1-2-4(7)8/h1-2H2,(H,7,8)(H,9,10)/p-2                                                                                                                                                     |  1 | akg    |  1 |\n",
       "| gly[c] | gly[c]    | antagonist | -7.96687 | -11.11160 | -5.41603 | Glycine                                                                 |    750 | HMDB00123 | [H][N+]([H])([H])C([H])([H])C([O-])=O                                                                                                                                       | InChI=1S/C2H5NO2/c3-1-2(4)5/h1,3H2,(H,4,5)                                                                                                                                                                           | -1 | gly    | -1 |\n",
       "| gtp[c] | gtp[c]    | antagonist | -7.00000 |  -7.00000 | -4.57172 | Guanosine-5'-Triphosphate                                               |   6830 | HMDB01273 | [H]O[C@@]1([H])[C@@]([H])(O[C@]([H])(C([H])([H])OP([O-])(=O)OP([O-])(=O)OP([O-])([O-])=O)[C@@]1([H])O[H])N1C([H])=NC2=C1N=C(N([H])[H])N([H])C2=O                            | InChI=1S/C10H16N5O14P3/c11-10-13-7-4(8(18)14-10)12-2-15(7)9-6(17)5(16)3(27-9)1-26-31(22,23)29-32(24,25)28-30(19,20)21/h2-3,5-6,9,16-17H,1H2,(H,22,23)(H,24,25)(H2,19,20,21)(H3,11,13,14,18)/p-4/t3-,5-,6-,9-/m1/s1   | -1 | gtp    | -1 |\n",
       "| dcamp[c] | dcamp[c]  | antagonist | -7.00000 |  -7.00000 | -5.00793 | N6-(1,2-Dicarboxyethyl)-Adenosine Monophosphate                         | 447145 | <!----> | [H]O[C@@]1([H])[C@@]([H])(O[C@]([H])(C([H])([H])OP([O-])([O-])=O)[C@@]1([H])O[H])N1C([H])=NC2=C(N=C([H])N=C12)N([H])C([H])(C([O-])=O)C([H])([H])C([O-])=O                   | InChI=1S/C14H18N5O11P/c20-7(21)1-5(14(24)25)18-11-8-12(16-3-15-11)19(4-17-8)13-10(23)9(22)6(30-13)2-29-31(26,27)28/h3-6,9-10,13,22-23H,1-2H2,(H,20,21)(H,24,25)(H,15,16,18)(H2,26,27,28)/p-4/t5?,6-,9-,10-,13-/m1/s1 | -1 | dcamp  | -1 |\n",
       "| cys_L[c] | cys_L[c]  | antagonist | -7.00000 |  -7.00000 | -9.00000 | L-Cysteine                                                              |   5862 | HMDB00574 | [H]SC([H])([H])[C@@]([H])(C([O-])=O)[N+]([H])([H])[H]                                                                                                                       | InChI=1S/C3H7NO2S/c4-2(1-7)3(5)6/h2,7H,1,4H2,(H,5,6)/t2-/m0/s1                                                                                                                                                       | -1 | cys_L  | -1 |\n",
       "| imp[c] | imp[c]    | antagonist | -7.00000 |  -8.66547 | -4.87392 | Inosine-5'-Monophosphate                                                |   8582 | HMDB00175 | [H]O[C@@]1([H])[C@@]([H])(O[C@]([H])(C([H])([H])OP([O-])([O-])=O)[C@@]1([H])O[H])N1C([H])=NC2=C1N=C([H])N([H])C2=O                                                          | InChI=1S/C10H13N4O8P/c15-6-4(1-21-23(18,19)20)22-10(7(6)16)14-3-13-5-8(14)11-2-12-9(5)17/h2-4,6-7,10,15-16H,1H2,(H,11,12,17)(H2,18,19,20)/p-2/t4-,6-,7-,10-/m1/s1                                                    | -1 | imp    | -1 |\n",
       "| phe_L[c] | phe_L[c]  | antagonist | -6.17601 |  -6.00000 | -7.41200 | L-Phenylalanine                                                         |   6140 | HMDB00159 | [H]C1=C([H])C([H])=C(C([H])=C1[H])C([H])([H])[C@@]([H])(C([O-])=O)[N+]([H])([H])[H]                                                                                         | InChI=1S/C9H11NO2/c10-8(9(11)12)6-7-4-2-1-3-5-7/h1-5,8H,6,10H2,(H,11,12)/t8-/m0/s1                                                                                                                                   | -1 | phe_L  | -1 |\n",
       "| asn_L[c] | asn_L[c]  | antagonist | -6.00000 |  -9.00000 | -8.00000 | L-Asparagine                                                            |   6267 | HMDB00168 | [H]N([H])C(=O)C([H])([H])[C@@]([H])(C([O-])=O)[N+]([H])([H])[H]                                                                                                             | InChI=1S/C4H8N2O3/c5-2(4(8)9)1-3(6)7/h2H,1,5H2,(H2,6,7)(H,8,9)/t2-/m0/s1                                                                                                                                             | -1 | asn_L  | -1 |\n",
       "| lys_L[c] | lys_L[c]  | antagonist | -6.00000 |  -7.00000 | -7.00000 | L-Lysine                                                                |   5962 | HMDB00182 | [H][N+]([H])([H])C([H])([H])C([H])([H])C([H])([H])C([H])([H])[C@@]([H])(C([O-])=O)[N+]([H])([H])[H]                                                                         | InChI=1/C6H14N2O2/c7-4-2-1-3-5(8)6(9)10/h5H,1-4,7-8H2,(H,9,10)/p+1/t5-/s2                                                                                                                                            | -1 | lys_L  | -1 |\n",
       "| arg_L[c] | arg_L[c]  | antagonist | -6.00000 |  -5.25816 | -7.00000 | L-Arginine                                                              |   6322 | HMDB00517 | [H]N([H])C(N([H])C([H])([H])C([H])([H])C([H])([H])[C@@]([H])(C([O-])=O)[N+]([H])([H])[H])=[N+]([H])[H]                                                                      | InChI=1S/C6H14N4O2/c7-4(5(11)12)2-1-3-10-6(8)9/h4H,1-3,7H2,(H,11,12)(H4,8,9,10)/p+1/t4-/m0/s1                                                                                                                        | -1 | arg_L  | -1 |\n",
       "| met_L[c] | met_L[c]  | antagonist | -6.00000 |  -6.00000 | -7.14186 | L-Methionine                                                            |   6137 | HMDB00696 | [H]C([H])([H])SC([H])([H])C([H])([H])[C@@]([H])(C([O-])=O)[N+]([H])([H])[H]                                                                                                 | InChI=1S/C5H11NO2S/c1-9-3-2-4(6)5(7)8/h4H,2-3,6H2,1H3,(H,7,8)/t4-/m0/s1                                                                                                                                              | -1 | met_L  | -1 |\n",
       "| thr_L[c] | thr_L[c]  | antagonist | -4.51868 |  -7.38069 | -6.69585 | L-Threonine                                                             |   6288 | HMDB00167 | [H]O[C@]([H])(C([H])([H])[H])[C@@]([H])(C([O-])=O)[N+]([H])([H])[H]                                                                                                         | InChI=1S/C4H9NO3/c1-2(6)3(5)4(7)8/h2-3,6H,5H2,1H3,(H,7,8)/t2-,3+/m1/s1                                                                                                                                               | -1 | thr_L  | -1 |\n",
       "| 25aics[c] | 25aics[c] | antagonist | -3.32763 |  -8.64075 | -5.21016 | (S)-2-[5-Amino-1-(5-Phospho-D-Ribosyl)Imidazole-4-Carboxamido]Succinate | 160666 | <!----> | [H]O[C@@]1([H])[C@@]([H])(O[C@]([H])(C([H])([H])OP([O-])([O-])=O)[C@@]1([H])O[H])N1C([H])=NC(C(=O)N([H])C([H])(C([O-])=O)C([H])([H])C([O-])=O)=C1N([H])[H]                  | InChI=1/C13H19N4O12P/c14-10-7(11(22)16-4(13(23)24)1-6(18)19)15-3-17(10)12-9(21)8(20)5(29-12)2-28-30(25,26)27/h3-5,8-9,12,20-21H,1-2,14H2,(H,16,22)(H,18,19)(H,23,24)(H2,25,26,27)/p-4/t4?,5-,8-,9-,12-/s2            | -1 | 25aics | -1 |\n",
       "| air[c] | air[c]    | antagonist | -3.32763 |  -8.64075 | -5.21016 | 5-Amino-1-(5-Phospho-D-Ribosyl)Imidazole                                | 161500 | <!----> | [H]O[C@@]1([H])C([H])(O[C@]([H])(C([H])([H])OP([O-])([O-])=O)[C@@]1([H])O[H])N1C([H])=NC([H])=C1N([H])[H]                                                                   | InChI=1/C8H14N3O7P/c9-5-1-10-3-11(5)8-7(13)6(12)4(18-8)2-17-19(14,15)16/h1,3-4,6-8,12-13H,2,9H2,(H2,14,15,16)/p-2/t4-,6-,7-,8?/s2                                                                                    | -1 | air    | -1 |\n",
       "| 5aizc[c] | 5aizc[c]  | antagonist | -3.32763 |  -8.64075 | -5.21016 | 5-Amino-1-(5-Phospho-D-Ribosyl)Imidazole-4-Carboxylate                  | 165388 | <!----> | [H]O[C@@]1([H])[C@@]([H])(O[C@]([H])(C([H])([H])OP([O-])([O-])=O)[C@@]1([H])O[H])N1C([H])=NC(C([O-])=O)=C1N([H])[H]                                                         | InChI=1S/C9H14N3O9P/c10-7-4(9(15)16)11-2-12(7)8-6(14)5(13)3(21-8)1-20-22(17,18)19/h2-3,5-6,8,13-14H,1,10H2,(H,15,16)(H2,17,18,19)/p-3/t3-,5-,6-,8-/m1/s1                                                             | -1 | 5aizc  | -1 |\n",
       "| gar[c] | gar[c]    | antagonist | -3.32763 |  -8.64075 | -5.21016 | N1-(5-Phospho-D-Ribosyl)Glycinamide                                     | 160913 | <!----> | [H]O[C@@]1([H])C([H])(O[C@]([H])(C([H])([H])OP([O-])([O-])=O)[C@@]1([H])O[H])N([H])C(=O)C([H])([H])[N+]([H])([H])[H]                                                        | InChI=1/C7H15N2O8P/c8-1-4(10)9-7-6(12)5(11)3(17-7)2-16-18(13,14)15/h3,5-7,11-12H,1-2,8H2,(H,9,10)(H2,13,14,15)/p-1/t3-,5-,6-,7?/s2                                                                                   | -1 | gar    | -1 |\n",
       "| fgam[c] | fgam[c]   | antagonist | -3.32763 |  -8.64075 | -5.21016 | N2-Formyl-N1-(5-Phospho-D-Ribosyl)Glycinamide                           | 130805 | <!----> | [H]O[C@@]1([H])C([H])(O[C@]([H])(C([H])([H])OP([O-])([O-])=O)[C@@]1([H])O[H])N([H])C(=O)C([H])([H])N([H])C([H])=O                                                           | InChI=1/C8H15N2O9P/c11-3-9-1-5(12)10-8-7(14)6(13)4(19-8)2-18-20(15,16)17/h3-4,6-8,13-14H,1-2H2,(H,9,11)(H,10,12)(H2,15,16,17)/p-2/t4-,6-,7-,8?/s2                                                                    | -1 | fgam   | -1 |\n",
       "| pram[c] | pram[c]   | antagonist | -3.32763 |  -8.64075 | -5.21016 | 5-Phospho-Beta-D-Ribosylamine                                           | 439905 | <!----> | [H]O[C@@]1([H])[C@@]([H])(O[C@]([H])(C([H])([H])OP([O-])([O-])=O)[C@@]1([H])O[H])[N+]([H])([H])[H]                                                                          | InChI=1/C5H12NO7P/c6-5-4(8)3(7)2(13-5)1-12-14(9,10)11/h2-5,7-8H,1,6H2,(H2,9,10,11)/p-1/t2-,3-,4-,5-/s2                                                                                                               | -1 | pram   | -1 |\n",
       "| fpram[c] | fpram[c]  | antagonist | -3.32763 |  -8.64075 | -5.21016 | 2-(Formamido)-N1-(5-Phospho-D-Ribosyl)Acetamidine                       |     NA | <!----> | [H]O[C@@]1([H])C([H])(O[C@]([H])(C([H])([H])OP([O-])([O-])=O)[C@@]1([H])O[H])N([H])C(=[N+]([H])[H])C([H])([H])N([H])C([H])=O                                                | InChI=1/C8H16N3O8P/c9-5(1-10-3-12)11-8-7(14)6(13)4(19-8)2-18-20(15,16)17/h3-4,6-8,13-14H,1-2H2,(H2,9,11)(H,10,12)(H2,15,16,17)/p-1/t4-,6-,7-,8?/s2                                                                   | -1 | fpram  | -1 |\n",
       "\n"
      ],
      "text/plain": [
       "          Metabolites Action     effect_MetKO_A549ACE2 effect_MetKO_Calu3\n",
       "mlthf[c]  mlthf[c]    agonist     8.26588                3.00000         \n",
       "akg[c]    akg[c]      agonist    11.13840                3.00000         \n",
       "gly[c]    gly[c]      antagonist -7.96687              -11.11160         \n",
       "gtp[c]    gtp[c]      antagonist -7.00000               -7.00000         \n",
       "dcamp[c]  dcamp[c]    antagonist -7.00000               -7.00000         \n",
       "cys_L[c]  cys_L[c]    antagonist -7.00000               -7.00000         \n",
       "imp[c]    imp[c]      antagonist -7.00000               -8.66547         \n",
       "phe_L[c]  phe_L[c]    antagonist -6.17601               -6.00000         \n",
       "asn_L[c]  asn_L[c]    antagonist -6.00000               -9.00000         \n",
       "lys_L[c]  lys_L[c]    antagonist -6.00000               -7.00000         \n",
       "arg_L[c]  arg_L[c]    antagonist -6.00000               -5.25816         \n",
       "met_L[c]  met_L[c]    antagonist -6.00000               -6.00000         \n",
       "thr_L[c]  thr_L[c]    antagonist -4.51868               -7.38069         \n",
       "25aics[c] 25aics[c]   antagonist -3.32763               -8.64075         \n",
       "air[c]    air[c]      antagonist -3.32763               -8.64075         \n",
       "5aizc[c]  5aizc[c]    antagonist -3.32763               -8.64075         \n",
       "gar[c]    gar[c]      antagonist -3.32763               -8.64075         \n",
       "fgam[c]   fgam[c]     antagonist -3.32763               -8.64075         \n",
       "pram[c]   pram[c]     antagonist -3.32763               -8.64075         \n",
       "fpram[c]  fpram[c]    antagonist -3.32763               -8.64075         \n",
       "          effect_MetKO_NHBE\n",
       "mlthf[c]   8.59583         \n",
       "akg[c]     5.71458         \n",
       "gly[c]    -5.41603         \n",
       "gtp[c]    -4.57172         \n",
       "dcamp[c]  -5.00793         \n",
       "cys_L[c]  -9.00000         \n",
       "imp[c]    -4.87392         \n",
       "phe_L[c]  -7.41200         \n",
       "asn_L[c]  -8.00000         \n",
       "lys_L[c]  -7.00000         \n",
       "arg_L[c]  -7.00000         \n",
       "met_L[c]  -7.14186         \n",
       "thr_L[c]  -6.69585         \n",
       "25aics[c] -5.21016         \n",
       "air[c]    -5.21016         \n",
       "5aizc[c]  -5.21016         \n",
       "gar[c]    -5.21016         \n",
       "fgam[c]   -5.21016         \n",
       "pram[c]   -5.21016         \n",
       "fpram[c]  -5.21016         \n",
       "          metname                                                                \n",
       "mlthf[c]  5,10-Methylenetetrahydrofolate                                         \n",
       "akg[c]    2-Oxoglutarate                                                         \n",
       "gly[c]    Glycine                                                                \n",
       "gtp[c]    Guanosine-5'-Triphosphate                                              \n",
       "dcamp[c]  N6-(1,2-Dicarboxyethyl)-Adenosine Monophosphate                        \n",
       "cys_L[c]  L-Cysteine                                                             \n",
       "imp[c]    Inosine-5'-Monophosphate                                               \n",
       "phe_L[c]  L-Phenylalanine                                                        \n",
       "asn_L[c]  L-Asparagine                                                           \n",
       "lys_L[c]  L-Lysine                                                               \n",
       "arg_L[c]  L-Arginine                                                             \n",
       "met_L[c]  L-Methionine                                                           \n",
       "thr_L[c]  L-Threonine                                                            \n",
       "25aics[c] (S)-2-[5-Amino-1-(5-Phospho-D-Ribosyl)Imidazole-4-Carboxamido]Succinate\n",
       "air[c]    5-Amino-1-(5-Phospho-D-Ribosyl)Imidazole                               \n",
       "5aizc[c]  5-Amino-1-(5-Phospho-D-Ribosyl)Imidazole-4-Carboxylate                 \n",
       "gar[c]    N1-(5-Phospho-D-Ribosyl)Glycinamide                                    \n",
       "fgam[c]   N2-Formyl-N1-(5-Phospho-D-Ribosyl)Glycinamide                          \n",
       "pram[c]   5-Phospho-Beta-D-Ribosylamine                                          \n",
       "fpram[c]  2-(Formamido)-N1-(5-Phospho-D-Ribosyl)Acetamidine                      \n",
       "          pubchemID HMDBID   \n",
       "mlthf[c]  439175             \n",
       "akg[c]        51    HMDB00208\n",
       "gly[c]       750    HMDB00123\n",
       "gtp[c]      6830    HMDB01273\n",
       "dcamp[c]  447145             \n",
       "cys_L[c]    5862    HMDB00574\n",
       "imp[c]      8582    HMDB00175\n",
       "phe_L[c]    6140    HMDB00159\n",
       "asn_L[c]    6267    HMDB00168\n",
       "lys_L[c]    5962    HMDB00182\n",
       "arg_L[c]    6322    HMDB00517\n",
       "met_L[c]    6137    HMDB00696\n",
       "thr_L[c]    6288    HMDB00167\n",
       "25aics[c] 160666             \n",
       "air[c]    161500             \n",
       "5aizc[c]  165388             \n",
       "gar[c]    160913             \n",
       "fgam[c]   130805             \n",
       "pram[c]   439905             \n",
       "fpram[c]      NA             \n",
       "          smiles                                                                                                                                                                     \n",
       "mlthf[c]  [H]OC1=NC(=NC2=C1N1C([H])([H])N(C3=C([H])C([H])=C(C([H])=C3[H])C(=O)N([H])C([H])(C([O-])=O)C([H])([H])C([H])([H])C([O-])=O)C([H])([H])[C@@]1([H])C([H])([H])N2[H])N([H])[H]\n",
       "akg[c]    [H]C([H])(C([O-])=O)C([H])([H])C(=O)C([O-])=O                                                                                                                              \n",
       "gly[c]    [H][N+]([H])([H])C([H])([H])C([O-])=O                                                                                                                                      \n",
       "gtp[c]    [H]O[C@@]1([H])[C@@]([H])(O[C@]([H])(C([H])([H])OP([O-])(=O)OP([O-])(=O)OP([O-])([O-])=O)[C@@]1([H])O[H])N1C([H])=NC2=C1N=C(N([H])[H])N([H])C2=O                           \n",
       "dcamp[c]  [H]O[C@@]1([H])[C@@]([H])(O[C@]([H])(C([H])([H])OP([O-])([O-])=O)[C@@]1([H])O[H])N1C([H])=NC2=C(N=C([H])N=C12)N([H])C([H])(C([O-])=O)C([H])([H])C([O-])=O                  \n",
       "cys_L[c]  [H]SC([H])([H])[C@@]([H])(C([O-])=O)[N+]([H])([H])[H]                                                                                                                      \n",
       "imp[c]    [H]O[C@@]1([H])[C@@]([H])(O[C@]([H])(C([H])([H])OP([O-])([O-])=O)[C@@]1([H])O[H])N1C([H])=NC2=C1N=C([H])N([H])C2=O                                                         \n",
       "phe_L[c]  [H]C1=C([H])C([H])=C(C([H])=C1[H])C([H])([H])[C@@]([H])(C([O-])=O)[N+]([H])([H])[H]                                                                                        \n",
       "asn_L[c]  [H]N([H])C(=O)C([H])([H])[C@@]([H])(C([O-])=O)[N+]([H])([H])[H]                                                                                                            \n",
       "lys_L[c]  [H][N+]([H])([H])C([H])([H])C([H])([H])C([H])([H])C([H])([H])[C@@]([H])(C([O-])=O)[N+]([H])([H])[H]                                                                        \n",
       "arg_L[c]  [H]N([H])C(N([H])C([H])([H])C([H])([H])C([H])([H])[C@@]([H])(C([O-])=O)[N+]([H])([H])[H])=[N+]([H])[H]                                                                     \n",
       "met_L[c]  [H]C([H])([H])SC([H])([H])C([H])([H])[C@@]([H])(C([O-])=O)[N+]([H])([H])[H]                                                                                                \n",
       "thr_L[c]  [H]O[C@]([H])(C([H])([H])[H])[C@@]([H])(C([O-])=O)[N+]([H])([H])[H]                                                                                                        \n",
       "25aics[c] [H]O[C@@]1([H])[C@@]([H])(O[C@]([H])(C([H])([H])OP([O-])([O-])=O)[C@@]1([H])O[H])N1C([H])=NC(C(=O)N([H])C([H])(C([O-])=O)C([H])([H])C([O-])=O)=C1N([H])[H]                 \n",
       "air[c]    [H]O[C@@]1([H])C([H])(O[C@]([H])(C([H])([H])OP([O-])([O-])=O)[C@@]1([H])O[H])N1C([H])=NC([H])=C1N([H])[H]                                                                  \n",
       "5aizc[c]  [H]O[C@@]1([H])[C@@]([H])(O[C@]([H])(C([H])([H])OP([O-])([O-])=O)[C@@]1([H])O[H])N1C([H])=NC(C([O-])=O)=C1N([H])[H]                                                        \n",
       "gar[c]    [H]O[C@@]1([H])C([H])(O[C@]([H])(C([H])([H])OP([O-])([O-])=O)[C@@]1([H])O[H])N([H])C(=O)C([H])([H])[N+]([H])([H])[H]                                                       \n",
       "fgam[c]   [H]O[C@@]1([H])C([H])(O[C@]([H])(C([H])([H])OP([O-])([O-])=O)[C@@]1([H])O[H])N([H])C(=O)C([H])([H])N([H])C([H])=O                                                          \n",
       "pram[c]   [H]O[C@@]1([H])[C@@]([H])(O[C@]([H])(C([H])([H])OP([O-])([O-])=O)[C@@]1([H])O[H])[N+]([H])([H])[H]                                                                         \n",
       "fpram[c]  [H]O[C@@]1([H])C([H])(O[C@]([H])(C([H])([H])OP([O-])([O-])=O)[C@@]1([H])O[H])N([H])C(=[N+]([H])[H])C([H])([H])N([H])C([H])=O                                               \n",
       "          InchiString                                                                                                                                                                                                         \n",
       "mlthf[c]  InChI=1/C20H23N7O6/c21-20-24-16-15(18(31)25-20)27-9-26(8-12(27)7-22-16)11-3-1-10(2-4-11)17(30)23-13(19(32)33)5-6-14(28)29/h1-4,12-13H,5-9H2,(H,23,30)(H,28,29)(H,32,33)(H4,21,22,24,25,31)/p-2/t12-,13?/s2          \n",
       "akg[c]    InChI=1S/C5H6O5/c6-3(5(9)10)1-2-4(7)8/h1-2H2,(H,7,8)(H,9,10)/p-2                                                                                                                                                    \n",
       "gly[c]    InChI=1S/C2H5NO2/c3-1-2(4)5/h1,3H2,(H,4,5)                                                                                                                                                                          \n",
       "gtp[c]    InChI=1S/C10H16N5O14P3/c11-10-13-7-4(8(18)14-10)12-2-15(7)9-6(17)5(16)3(27-9)1-26-31(22,23)29-32(24,25)28-30(19,20)21/h2-3,5-6,9,16-17H,1H2,(H,22,23)(H,24,25)(H2,19,20,21)(H3,11,13,14,18)/p-4/t3-,5-,6-,9-/m1/s1  \n",
       "dcamp[c]  InChI=1S/C14H18N5O11P/c20-7(21)1-5(14(24)25)18-11-8-12(16-3-15-11)19(4-17-8)13-10(23)9(22)6(30-13)2-29-31(26,27)28/h3-6,9-10,13,22-23H,1-2H2,(H,20,21)(H,24,25)(H,15,16,18)(H2,26,27,28)/p-4/t5?,6-,9-,10-,13-/m1/s1\n",
       "cys_L[c]  InChI=1S/C3H7NO2S/c4-2(1-7)3(5)6/h2,7H,1,4H2,(H,5,6)/t2-/m0/s1                                                                                                                                                      \n",
       "imp[c]    InChI=1S/C10H13N4O8P/c15-6-4(1-21-23(18,19)20)22-10(7(6)16)14-3-13-5-8(14)11-2-12-9(5)17/h2-4,6-7,10,15-16H,1H2,(H,11,12,17)(H2,18,19,20)/p-2/t4-,6-,7-,10-/m1/s1                                                   \n",
       "phe_L[c]  InChI=1S/C9H11NO2/c10-8(9(11)12)6-7-4-2-1-3-5-7/h1-5,8H,6,10H2,(H,11,12)/t8-/m0/s1                                                                                                                                  \n",
       "asn_L[c]  InChI=1S/C4H8N2O3/c5-2(4(8)9)1-3(6)7/h2H,1,5H2,(H2,6,7)(H,8,9)/t2-/m0/s1                                                                                                                                            \n",
       "lys_L[c]  InChI=1/C6H14N2O2/c7-4-2-1-3-5(8)6(9)10/h5H,1-4,7-8H2,(H,9,10)/p+1/t5-/s2                                                                                                                                           \n",
       "arg_L[c]  InChI=1S/C6H14N4O2/c7-4(5(11)12)2-1-3-10-6(8)9/h4H,1-3,7H2,(H,11,12)(H4,8,9,10)/p+1/t4-/m0/s1                                                                                                                       \n",
       "met_L[c]  InChI=1S/C5H11NO2S/c1-9-3-2-4(6)5(7)8/h4H,2-3,6H2,1H3,(H,7,8)/t4-/m0/s1                                                                                                                                             \n",
       "thr_L[c]  InChI=1S/C4H9NO3/c1-2(6)3(5)4(7)8/h2-3,6H,5H2,1H3,(H,7,8)/t2-,3+/m1/s1                                                                                                                                              \n",
       "25aics[c] InChI=1/C13H19N4O12P/c14-10-7(11(22)16-4(13(23)24)1-6(18)19)15-3-17(10)12-9(21)8(20)5(29-12)2-28-30(25,26)27/h3-5,8-9,12,20-21H,1-2,14H2,(H,16,22)(H,18,19)(H,23,24)(H2,25,26,27)/p-4/t4?,5-,8-,9-,12-/s2           \n",
       "air[c]    InChI=1/C8H14N3O7P/c9-5-1-10-3-11(5)8-7(13)6(12)4(18-8)2-17-19(14,15)16/h1,3-4,6-8,12-13H,2,9H2,(H2,14,15,16)/p-2/t4-,6-,7-,8?/s2                                                                                   \n",
       "5aizc[c]  InChI=1S/C9H14N3O9P/c10-7-4(9(15)16)11-2-12(7)8-6(14)5(13)3(21-8)1-20-22(17,18)19/h2-3,5-6,8,13-14H,1,10H2,(H,15,16)(H2,17,18,19)/p-3/t3-,5-,6-,8-/m1/s1                                                            \n",
       "gar[c]    InChI=1/C7H15N2O8P/c8-1-4(10)9-7-6(12)5(11)3(17-7)2-16-18(13,14)15/h3,5-7,11-12H,1-2,8H2,(H,9,10)(H2,13,14,15)/p-1/t3-,5-,6-,7?/s2                                                                                  \n",
       "fgam[c]   InChI=1/C8H15N2O9P/c11-3-9-1-5(12)10-8-7(14)6(13)4(19-8)2-18-20(15,16)17/h3-4,6-8,13-14H,1-2H2,(H,9,11)(H,10,12)(H2,15,16,17)/p-2/t4-,6-,7-,8?/s2                                                                   \n",
       "pram[c]   InChI=1/C5H12NO7P/c6-5-4(8)3(7)2(13-5)1-12-14(9,10)11/h2-5,7-8H,1,6H2,(H2,9,10,11)/p-1/t2-,3-,4-,5-/s2                                                                                                              \n",
       "fpram[c]  InChI=1/C8H16N3O8P/c9-5(1-10-3-12)11-8-7(14)6(13)4(19-8)2-18-20(15,16)17/h3-4,6-8,13-14H,1-2H2,(H2,9,11)(H,10,12)(H2,15,16,17)/p-1/t4-,6-,7-,8?/s2                                                                  \n",
       "          direct met_name direct.v\n",
       "mlthf[c]   1     mlthf     1      \n",
       "akg[c]     1     akg       1      \n",
       "gly[c]    -1     gly      -1      \n",
       "gtp[c]    -1     gtp      -1      \n",
       "dcamp[c]  -1     dcamp    -1      \n",
       "cys_L[c]  -1     cys_L    -1      \n",
       "imp[c]    -1     imp      -1      \n",
       "phe_L[c]  -1     phe_L    -1      \n",
       "asn_L[c]  -1     asn_L    -1      \n",
       "lys_L[c]  -1     lys_L    -1      \n",
       "arg_L[c]  -1     arg_L    -1      \n",
       "met_L[c]  -1     met_L    -1      \n",
       "thr_L[c]  -1     thr_L    -1      \n",
       "25aics[c] -1     25aics   -1      \n",
       "air[c]    -1     air      -1      \n",
       "5aizc[c]  -1     5aizc    -1      \n",
       "gar[c]    -1     gar      -1      \n",
       "fgam[c]   -1     fgam     -1      \n",
       "pram[c]   -1     pram     -1      \n",
       "fpram[c]  -1     fpram    -1      "
      ]
     },
     "metadata": {},
     "output_type": "display_data"
    }
   ],
   "source": [
    "cutoff = 3\n",
    "a549 = file2frame('./modeling/v20200530_cellpaper/results/v20221207/KOmet_A549ACE2_KO_effect_mets.txt')\n",
    "Calu3 = file2frame('./modeling/v20200530_cellpaper/results/v20221207/KOmet_Calu3_KO_effect_mets.txt')\n",
    "NHBE = file2frame('./modeling/v20200530_cellpaper/results/v20221207/KOmet_NHBE_KO_effect_mets.txt')\n",
    "\n",
    "#get consense \n",
    "a549 = get_consist_mets(a549,cutoff)\n",
    "Calu3 = get_consist_mets(Calu3,cutoff)\n",
    "NHBE = get_consist_mets(NHBE,cutoff)\n",
    "\n",
    "overlap.up = intersect(a549$metid[a549$direct.v >= 1],Calu3$metid[Calu3$direct.v >= 1])\n",
    "overlap.up = intersect(overlap.up,NHBE$metid[NHBE$direct.v >= 1])\n",
    "overlap.up = unique(overlap.up)\n",
    "overlap.up\n",
    "\n",
    "\n",
    "\n",
    "overlap.down = intersect(a549$metid[a549$direct.v <= -1],Calu3$metid[Calu3$direct.v <= -1])\n",
    "overlap.down = intersect(overlap.down,NHBE$metid[NHBE$direct.v <= -1])\n",
    "overlap.down = unique(overlap.down)\n",
    "overlap.down\n",
    "# remove covid component\n",
    "set_covid_component = c('YP_009724390[c]', 'YP_009724392[c]', 'YP_009724393[c]', 'YP_009724397[c]',\n",
    "                        'COVID_RNA_BS_pos[c]', 'COVID_RNA_BS_neg[c]')\n",
    "overlap.down = setdiff(overlap.down,set_covid_component)\n",
    "\n",
    "get_subterm_met <- function(df, mets){\n",
    "    out = df[is.element(df$metid,mets),]\n",
    "    out = out[abs(out$Effect_afterKO) > 0,]\n",
    "    rownames(out) = out$metid\n",
    "    \n",
    "    return(out)\n",
    "}\n",
    "\n",
    "tmp = c(overlap.up,overlap.down)\n",
    "a549.overlap = get_subterm_met(a549,tmp)\n",
    "Calu3.overlap = get_subterm_met(Calu3,tmp)\n",
    "NHBE.overlap = get_subterm_met(NHBE,tmp)\n",
    "Overlaped_metabolites_3celllines = data.frame(Metabolites = tmp, stringsAsFactors = F,\n",
    "                              Action = c(rep('agonist',length(overlap.up)),rep('antagonist',length(overlap.down))),\n",
    "                              effect_MetKO_A549ACE2 = a549.overlap[tmp,]$Effect_afterKO,\n",
    "                              effect_MetKO_Calu3 = Calu3.overlap[tmp,]$Effect_afterKO,\n",
    "                              effect_MetKO_NHBE = NHBE.overlap[tmp,]$Effect_afterKO)\n",
    "Overlaped_metabolites_3celllines = cbind(Overlaped_metabolites_3celllines,a549.overlap[tmp,-c(1,2)])\n",
    "Overlaped_metabolites_3celllines\n",
    "#writetxt(Overlaped_metabolites_3celllines,'./modeling/v20200530_cellpaper/Figures/Table S8_Overlaped_metabolites_3celllines.txt')"
   ]
  },
  {
   "cell_type": "markdown",
   "metadata": {},
   "source": [
    "### Overlaped metabolites-biomass_only"
   ]
  },
  {
   "cell_type": "code",
   "execution_count": 58,
   "metadata": {},
   "outputs": [],
   "source": [
    "komatrix.a549 = file2frame(file = './modeling/v20200530_cellpaper/results/v20221207/KOmet_A549ACE2_effectMatrix.txt')\n",
    "viral_component =c('YP_009724390', 'YP_009724392', 'YP_009724393', 'YP_009724397',\n",
    "                   'COVID_RNA_BS_pos', 'COVID_RNA_BS_neg', 'COVID_lipids', 'biomass_reaction')\n",
    "ids = is.element(komatrix.a549$met,Overlaped_metabolites_3celllines$Metabolites)\n",
    "komet_viral.a549 = komatrix.a549[ids,c('met',viral_component)]\n",
    "\n",
    "#calu3\n",
    "komatrix.Calu3 = file2frame(file = './modeling/v20200530_cellpaper/results/v20221207/KOmet_Calu3_effectMatrix.txt')\n",
    "ids = is.element(komatrix.Calu3$met,Overlaped_metabolites_3celllines$Metabolites)\n",
    "komet_viral.Calu3 = komatrix.Calu3[ids,c('met',viral_component)]\n",
    "\n",
    "#NHBE\n",
    "komatrix.NHBE = file2frame(file = './modeling/v20200530_cellpaper/results/v20221207/KOmet_NHBE_effectMatrix.txt')\n",
    "ids = is.element(komatrix.NHBE$met,Overlaped_metabolites_3celllines$Metabolites)\n",
    "komet_viral.NHBE = komatrix.NHBE[ids,c('met',viral_component)]\n",
    "\n",
    "tmp = rbind(rbind(komet_viral.a549,komet_viral.Calu3),komet_viral.NHBE)\n",
    "\n",
    "komet_viral = cbind(data.frame(Celltype = c(rep('A549ACE2',nrow(komet_viral.a549)),\n",
    "                                            rep('Calu3',nrow(komet_viral.Calu3)),\n",
    "                                             rep('NHBE',nrow(komet_viral.NHBE)))),tmp)\n",
    "writetxt(komet_viral,'./modeling/v20200530_cellpaper/Figures/Table S_metabolites_KO_viral_biomass_3celllines.txt')"
   ]
  },
  {
   "cell_type": "markdown",
   "metadata": {},
   "source": [
    "## Figure 2C and 2D overlaped genes and mets"
   ]
  },
  {
   "cell_type": "markdown",
   "metadata": {},
   "source": [
    "### Figure 2C overlaped genes"
   ]
  },
  {
   "cell_type": "code",
   "execution_count": 63,
   "metadata": {},
   "outputs": [
    {
     "data": {
      "text/html": [
       "<strong>png:</strong> 2"
      ],
      "text/latex": [
       "\\textbf{png:} 2"
      ],
      "text/markdown": [
       "**png:** 2"
      ],
      "text/plain": [
       "png \n",
       "  2 "
      ]
     },
     "metadata": {},
     "output_type": "display_data"
    }
   ],
   "source": [
    "genedata = data.frame(genes = factor(rep(Overlaped_target_3celllines$Target,times = 3),\n",
    "                                     levels = Overlaped_target_3celllines$Target),\n",
    "                      GES = c(Overlaped_target_3celllines$effect_GeneKO_A549ACE2,\n",
    "                             Overlaped_target_3celllines$effect_GeneKO_Calu3,\n",
    "                             Overlaped_target_3celllines$effect_GeneKO_NHBE),\n",
    "                     Celltype = factor(rep(c('A549ACE2','Calu3','NHBE'), each = nrow(Overlaped_target_3celllines)),\n",
    "                                       levels = c('A549ACE2','NHBE','Calu3')),\n",
    "                     ActionType = c(rep(Overlaped_target_3celllines$Action,times = 3))\n",
    "                      )\n",
    "pdf('./modeling/v20200530_cellpaper/figures/Figure 2C_target_genes_v20230207.pdf',width = 5, height = 3)\n",
    "ggplot(genedata,aes(x = genes,weight = GES, fill = Celltype))+ geom_bar(position = 'dodge')+ \n",
    "          lghplot.addtheme(hjust = 1,size = 14,legend.position = 'top')+ scale_fill_npg(alpha = 0.6)+\n",
    "           theme(legend.text = element_text(size=10,face = 'bold'))+\n",
    "#scale_fill_aaas()+ \n",
    "           xlab('')+ ylab('Gene Effective Score(GES)')#+ggtitle('Overlapped targets from 3 cell lines')\n",
    "dev.off()"
   ]
  },
  {
   "cell_type": "code",
   "execution_count": 7,
   "metadata": {},
   "outputs": [
    {
     "data": {
      "image/png": "[encoded data removed]",
      "text/plain": [
       "plot without title"
      ]
     },
     "metadata": {},
     "output_type": "display_data"
    }
   ],
   "source": [
    "library(\"scales\")\n",
    "show_col(pal_npg(\"nrc\", alpha = 1)(10))"
   ]
  },
  {
   "cell_type": "markdown",
   "metadata": {},
   "source": [
    "### Figure 3D overlaped metabolites"
   ]
  },
  {
   "cell_type": "code",
   "execution_count": 61,
   "metadata": {},
   "outputs": [
    {
     "data": {
      "text/html": [
       "<strong>png:</strong> 2"
      ],
      "text/latex": [
       "\\textbf{png:} 2"
      ],
      "text/markdown": [
       "**png:** 2"
      ],
      "text/plain": [
       "png \n",
       "  2 "
      ]
     },
     "metadata": {},
     "output_type": "display_data"
    }
   ],
   "source": [
    "nutrition = Overlaped_metabolites_3celllines\n",
    "nutrition$Metabolites = gsub('\\\\[\\\\w\\\\]','',nutrition$Metabolites)\n",
    "rownames(nutrition) = nutrition$Metabolites\n",
    "nutrition.v = nutrition[nutrition$Metabolites != 'o2' & nutrition$Metabolites != 'co2',]\n",
    "\n",
    "metdata = data.frame(genes = factor(rep(nutrition.v$Metabolites,times = 3),\n",
    "                                     levels = nutrition.v$Metabolites),\n",
    "                      MES = c(nutrition.v$effect_MetKO_A549ACE2,\n",
    "                             nutrition.v$effect_MetKO_Calu3,\n",
    "                             nutrition.v$effect_MetKO_NHBE),\n",
    "                     Celltype = factor(rep(c('A549ACE2','Calu3','NHBE'), each = nrow(nutrition.v)),\n",
    "                                       levels = c('A549ACE2','NHBE','Calu3')),\n",
    "                     ActionType = c(rep(nutrition.v$Action,times = 3))\n",
    "                      )\n",
    "pdf('./modeling/v20200530_cellpaper/figures/Figure 2D_overlapped_metabolites_v20230207.pdf',width = 9, height = 3.2)\n",
    "ggplot(metdata,aes(x = genes,weight = MES, fill = Celltype))+ geom_bar(position = 'dodge')+ \n",
    "          lghplot.addtheme(hjust = 1,size = 14,legend.position = 'top')+scale_fill_npg(alpha = 0.6)+\n",
    "          theme(legend.text = element_text(size=10,face = 'bold'))+\n",
    "         #scale_fill_aaas()+ \n",
    "       xlab('')+ylab('Metabolite Effective Score(MES)')#+ggtitle('Overlapped metabolites from 3 cell lines')\n",
    "dev.off()"
   ]
  },
  {
   "cell_type": "markdown",
   "metadata": {},
   "source": [
    "## nature paper_alpha_mutation"
   ]
  },
  {
   "cell_type": "markdown",
   "metadata": {},
   "source": [
    "### read data"
   ]
  },
  {
   "cell_type": "code",
   "execution_count": 44,
   "metadata": {},
   "outputs": [],
   "source": [
    "flux3alpha = file2frame('D:/Work/mgh/covid19/modeling/v20220420_naturepaper/out/PQMM_fluxRxnsMean.txt',row.names = 1)\n",
    "colnames(flux3alpha) = gsub('nERR','ERR',x = colnames(flux3alpha))\n",
    "clin.alpha = file2frame('D:/Work/mgh/covid19/modeling/v20220420_naturepaper/E-MTAB-11275.txt')\n",
    "clin.alpha = clin.alpha[!duplicated(clin.alpha$Comment.ENA_RUN.),]\n",
    "rownames(clin.alpha) = clin.alpha$Comment.ENA_RUN.\n",
    "idx = intersect(colnames(flux3alpha),rownames(clin.alpha))\n",
    "flux3alpha = flux3alpha[,idx]\n",
    "clin.alpha = clin.alpha[idx,]\n",
    "\n",
    "flux3.annote.alpha = file2frame('D:/Work/mgh/covid19/modeling/v20200530_cellpaper/out/Recon3_covid19_rxns_geneSymbol_20200530v1.txt',row.names = 1)\n",
    "\n",
    "idxx = rowMeans(abs(flux3alpha))> 1e-6\n",
    "flux3alpha = flux3alpha[idxx,]\n",
    "flux3alpha.log2= as.matrix(log2(abs(flux3alpha)+1e-6))\n",
    "list[IA,IB] = ismember(rownames(flux3alpha.log2),rownames(flux3.annote.alpha))\n",
    "flux3.annote.alpha = flux3.annote.alpha[IB,]\n"
   ]
  },
  {
   "cell_type": "markdown",
   "metadata": {},
   "source": [
    "### VIC"
   ]
  },
  {
   "cell_type": "code",
   "execution_count": 25,
   "metadata": {},
   "outputs": [],
   "source": [
    "id = (clin.alpha$Factor.Value.infect. == 'SARS-CoV-2 isolate VIC' |  clin.alpha$Factor.Value.infect. == 'mock') &\n",
    "      clin.alpha$Factor.Value.time. == 24\n",
    "flux3alpha.VIC = flux3alpha[,id]\n",
    "flux3alpha.log2.VIC = flux3alpha.log2[,id]\n",
    "clin.alpha.VIC = clin.alpha[id,]"
   ]
  },
  {
   "cell_type": "code",
   "execution_count": 26,
   "metadata": {},
   "outputs": [
    {
     "name": "stdout",
     "output_type": "stream",
     "text": [
      "[1] \"Step 1: DEflux and bootstrap\"\n",
      "[1] \"N cases:    3\"\n",
      "[1] \"N control: 3\"\n",
      "[1] \"N up-regulated rxns:   124\"\n",
      "[1] \"N down-regulated rxns: 397\"\n",
      "[1] \"Step1 Done\"\n",
      "[1] \"Step2 pathway analysis\"\n"
     ]
    },
    {
     "name": "stderr",
     "output_type": "stream",
     "text": [
      "Warning message:\n",
      "\"Using size for a discrete variable is not advised.\"Warning message:\n",
      "\"Using size for a discrete variable is not advised.\""
     ]
    },
    {
     "name": "stdout",
     "output_type": "stream",
     "text": [
      "[1] \"Step2 down\"\n"
     ]
    }
   ],
   "source": [
    "theservePathway = c('SARS-Cov-2 proteins','SARS-Cov-2 sense RNA',\n",
    "                   'SARS-Cov-2 antisense RNA','SARS-Cov-2 lipid',\n",
    "                   'SARS-Cov-2 cleavage','SARS-Cov-2 biomass')\n",
    "WDA.covid.VIC = one_line_flux_analysis(flux3alpha.VIC,flux3alpha.log2.VIC[,clin.alpha.VIC$Characteristics.infect. != 'mock'],\n",
    "                                        flux3alpha.log2.VIC[,clin.alpha.VIC$Characteristics.infect. == 'mock'],\n",
    "                                        flux3.annote.alpha,'./modeling/v20220420_naturepaper/results/oneline_flux_VIC_v20230209',\n",
    "                                       reserve.pathway = theservePathway)"
   ]
  },
  {
   "cell_type": "code",
   "execution_count": 27,
   "metadata": {},
   "outputs": [],
   "source": [
    "DEflux3.VIC = file2frame('./modeling/v20220420_naturepaper/results/oneline_flux_VIC_v20230209/DEflux.txt')\n",
    "rownames(DEflux3.VIC) = DEflux3.VIC$ID"
   ]
  },
  {
   "cell_type": "markdown",
   "metadata": {},
   "source": [
    "### Figure 3A heatmap All"
   ]
  },
  {
   "cell_type": "code",
   "execution_count": 30,
   "metadata": {},
   "outputs": [],
   "source": [
    "WDA.covid.A549 = file2frame('./modeling/v20200530_cellpaper/results/oneline_flux_A549ACE2/WDA.cen.bootstrap.txt')\n",
    "WDA.covid.Calu3 = file2frame('./modeling/v20200530_cellpaper/results/oneline_flux_Calu3/WDA.cen.bootstrap.txt')\n",
    "WDA.covid.NHBE = file2frame('./modeling/v20200530_cellpaper/results/oneline_flux_NHBE/WDA.cen.bootstrap.txt')\n"
   ]
  },
  {
   "cell_type": "code",
   "execution_count": 31,
   "metadata": {},
   "outputs": [],
   "source": [
    "   WDA.covid.VIC = file2frame('./modeling/v20220420_naturepaper/results/oneline_flux_VIC/WDA.cen.bootstrap.txt')\n",
    "    DE1 = WDA.covid.A549[WDA.covid.A549$fdr < 0.1,]\n",
    "    DE2 = WDA.covid.Calu3[WDA.covid.Calu3$fdr < 0.1,]\n",
    "    DE3 = WDA.covid.NHBE[WDA.covid.NHBE$fdr < 0.1,]\n",
    "    DE4 = WDA.covid.VIC[WDA.covid.VIC$fdr < 0.1,]\n",
    "\n",
    "    rownames(DE1) = DE1$subsystem\n",
    "    rownames(DE2) = DE2$subsystem\n",
    "    rownames(DE3) = DE3$subsystem\n",
    "    rownames(DE4) = DE4$subsystem\n",
    "\n",
    "    celltypes = c('A549ACE2','Calu3','NHBE','Alpha_isolate')\n",
    "    tlist1 = list()\n",
    "    tlist1[[1]] = as.data.frame(t(DE1$DAscore))\n",
    "    colnames(tlist1[[1]]) = DE1$subsystem\n",
    "    tlist1[[2]] = as.data.frame(t(DE2$DAscore))\n",
    "    colnames(tlist1[[2]]) = DE2$subsystem\n",
    "    tlist1[[3]] = as.data.frame(t(DE3$DAscore))\n",
    "    colnames(tlist1[[3]]) = DE3$subsystem\n",
    "    tlist1[[4]] = as.data.frame(t(DE4$DAscore))\n",
    "    colnames(tlist1[[4]]) = DE4$subsystem\n",
    "\n",
    "    names(tlist1) = celltypes\n",
    "    tmpmatrix = t(data.table::rbindlist(tlist1,fill = T))\n",
    "    colnames(tmpmatrix) = celltypes\n",
    "    tmpmatrix[is.na(tmpmatrix)] =0\n",
    "    \n",
    "    tlist2 = list()\n",
    "    tlist2[[1]] = as.data.frame(t(DE1$fdr))\n",
    "    colnames(tlist2[[1]]) = DE1$subsystem\n",
    "    tlist2[[2]] = as.data.frame(t(DE2$fdr))\n",
    "    colnames(tlist2[[2]]) = DE2$subsystem\n",
    "    tlist2[[3]] = as.data.frame(t(DE3$fdr))\n",
    "    colnames(tlist2[[3]]) = DE3$subsystem\n",
    "    tlist2[[4]] = as.data.frame(t(DE4$fdr))\n",
    "    colnames(tlist2[[4]]) = DE4$subsystem\n",
    "\n",
    "    names(tlist2) =celltypes\n",
    "    tmpmatrix2 = t(data.table::rbindlist(tlist2,fill = T))\n",
    "    colnames(tmpmatrix2) = celltypes\n",
    "    tmpmatrix2[is.na(tmpmatrix2)] =1\n",
    "    \n",
    "    display_matrix = matrix(' ',nrow(tmpmatrix),ncol(tmpmatrix))\n",
    "    display_matrix[tmpmatrix2 < 0.1] = '.'\n",
    "    #display_matrix[tmpmatrix2 >= 0.05 & tmpmatrix2 < 0.1] = '.'\n",
    "    display_matrix[tmpmatrix2 >= 0.01 & tmpmatrix2 < 0.05] = '*'\n",
    "    display_matrix[tmpmatrix2 >= 0.001 & tmpmatrix2 < 0.01] = '**'\n",
    "    display_matrix[tmpmatrix2 < 0.001] = '***'\n",
    "    \n",
    "    enbrks<-c(-1,-0.8,-0.4,-0.2,-0.05,-0.02,0.02,0.05,0.2,0.4,0.8,1)\n",
    "    consist_ids = abs(rowSums(sign(tmpmatrix[,1:3]))) > 1  \n",
    "    pheatmap::pheatmap(tmpmatrix[consist_ids,],scale = 'none',cluster_rows = T,fontsize_row = 9,fontsize_col = 9,\n",
    "                       breaks = enbrks,\n",
    "                       treeheight_row = 20,treeheight_col = 20,legend = T,\n",
    "                       display_numbers = display_matrix[consist_ids,],\n",
    "                  #color=colorRampPalette(c('#3B4992','gray95','#BB0021'))(9),\n",
    "                       #colorRampPalette(c('#008280','gray95','#BB0021'))(11),\n",
    "                color=colorRampPalette(c('#008280','gray95','#BB0021'))(11),\n",
    "                  #file ='./modeling/v20200530_cellpaper/figures/Figure 3A_pathwayheatmap_ALL.pdf',\n",
    "                   file ='./modeling/v20200530_cellpaper/figures/Figure 3A_pathwayheatmap_ALL_consist_3celltypes_mutationv1.pdf',\n",
    "                  ,height = 5,width = 4.5)"
   ]
  },
  {
   "cell_type": "code",
   "execution_count": null,
   "metadata": {},
   "outputs": [],
   "source": [
    "#mean\n",
    "WDA.covid.VIC = file2frame('./modeling/v20220420_naturepaper/results/oneline_flux_VIC/WDA.cen.bootstrap.txt')\n",
    "    DE1 = WDA.covid.A549[WDA.covid.A549$fdr < 0.1,]\n",
    "    DE2 = WDA.covid.Calu3[WDA.covid.Calu3$fdr < 0.1,]\n",
    "    DE3 = WDA.covid.NHBE[WDA.covid.NHBE$fdr < 0.1,]\n",
    "    DE4 = WDA.covid.VIC[WDA.covid.VIC$fdr < 0.1,]\n",
    "\n",
    "    rownames(DE1) = DE1$subsystem\n",
    "    rownames(DE2) = DE2$subsystem\n",
    "    rownames(DE3) = DE3$subsystem\n",
    "    rownames(DE4) = DE4$subsystem\n",
    "\n",
    "    celltypes = c('A549ACE2','Calu3','NHBE','Alpha_isolate')\n",
    "    tlist1 = list()\n",
    "    tlist1[[1]] = as.data.frame(t(DE1$DAscore))\n",
    "    colnames(tlist1[[1]]) = DE1$subsystem\n",
    "    tlist1[[2]] = as.data.frame(t(DE2$DAscore))\n",
    "    colnames(tlist1[[2]]) = DE2$subsystem\n",
    "    tlist1[[3]] = as.data.frame(t(DE3$DAscore))\n",
    "    colnames(tlist1[[3]]) = DE3$subsystem\n",
    "    tlist1[[4]] = as.data.frame(t(DE4$DAscore))\n",
    "    colnames(tlist1[[4]]) = DE4$subsystem\n",
    "\n",
    "    names(tlist1) = celltypes\n",
    "    tmpmatrix = t(data.table::rbindlist(tlist1,fill = T))\n",
    "    colnames(tmpmatrix) = celltypes\n",
    "    tmpmatrix[is.na(tmpmatrix)] =0\n",
    "    \n",
    "    tlist2 = list()\n",
    "    tlist2[[1]] = as.data.frame(t(DE1$fdr))\n",
    "    colnames(tlist2[[1]]) = DE1$subsystem\n",
    "    tlist2[[2]] = as.data.frame(t(DE2$fdr))\n",
    "    colnames(tlist2[[2]]) = DE2$subsystem\n",
    "    tlist2[[3]] = as.data.frame(t(DE3$fdr))\n",
    "    colnames(tlist2[[3]]) = DE3$subsystem\n",
    "    tlist2[[4]] = as.data.frame(t(DE4$fdr))\n",
    "    colnames(tlist2[[4]]) = DE4$subsystem\n",
    "\n",
    "    names(tlist2) =celltypes\n",
    "    tmpmatrix2 = t(data.table::rbindlist(tlist2,fill = T))\n",
    "    colnames(tmpmatrix2) = celltypes\n",
    "    tmpmatrix2[is.na(tmpmatrix2)] =1\n",
    "    \n",
    "    display_matrix = matrix(' ',nrow(tmpmatrix),ncol(tmpmatrix))\n",
    "    display_matrix[tmpmatrix2 < 0.1] = '.'\n",
    "    #display_matrix[tmpmatrix2 >= 0.05 & tmpmatrix2 < 0.1] = '.'\n",
    "    display_matrix[tmpmatrix2 >= 0.01 & tmpmatrix2 < 0.05] = '*'\n",
    "    display_matrix[tmpmatrix2 >= 0.001 & tmpmatrix2 < 0.01] = '**'\n",
    "    display_matrix[tmpmatrix2 < 0.001] = '***'\n",
    "    \n",
    "    enbrks<-c(-1,-0.8,-0.4,-0.2,-0.05,-0.02,0.02,0.05,0.2,0.4,0.8,1)\n",
    "    consist_ids = abs(rowSums(sign(tmpmatrix[,1:3]))) > 1  \n",
    "    x1 = tmpmatrix[consist_ids,]\n",
    "    xa = cbind(rowMeans(x1[,1:3]),x1[,4]\n",
    "    pheatmap::pheatmap(tmpmatrix[consist_ids,],scale = 'none',cluster_rows = T,fontsize_row = 9,fontsize_col = 9,\n",
    "                       breaks = enbrks,\n",
    "                       treeheight_row = 20,treeheight_col = 20,legend = T,\n",
    "                       display_numbers = display_matrix[consist_ids,],\n",
    "                  #color=colorRampPalette(c('#3B4992','gray95','#BB0021'))(9),\n",
    "                       #colorRampPalette(c('#008280','gray95','#BB0021'))(11),\n",
    "                color=colorRampPalette(c('#008280','gray95','#BB0021'))(11),\n",
    "                  #file ='./modeling/v20200530_cellpaper/figures/Figure 3A_pathwayheatmap_ALL.pdf',\n",
    "                   file ='./modeling/v20200530_cellpaper/figures/Figure 3A_pathwayheatmap_ALL_consist_3celltypes_mutationv1.pdf',\n",
    "                  ,height = 5,width = 4.5)"
   ]
  },
  {
   "cell_type": "code",
   "execution_count": 48,
   "metadata": {},
   "outputs": [],
   "source": [
    "    x1 = tmpmatrix[consist_ids,]\n",
    "    xa = cbind(rowMeans(x1[,1:3]),x1[,4])\n",
    "    colnames(xa) = c('IC19', 'Alpha_isolate')\n",
    "    x2 = tmpmatrix2[consist_ids,]\n",
    "    xb = cbind(rowMedians(x2[,1:3]),x2[,4])\n",
    "    colnames(xb) = c('IC19', 'Alpha_isolate')\n",
    "    display_matrix1 = matrix(' ',nrow(xa),ncol(xa))\n",
    "    display_matrix1[xb < 0.1] = '.'\n",
    "    #display_matrix[tmpmatrix2 >= 0.05 & tmpmatrix2 < 0.1] = '.'\n",
    "    display_matrix1[xb >= 0.01 & xb < 0.05] = '*'\n",
    "    display_matrix1[xb >= 0.001 & xb < 0.01] = '**'\n",
    "    display_matrix1[xb < 0.001] = '***'\n",
    " enbrks<-c(-1,-0.8,-0.4,-0.2,-0.05,-0.02,0.02,0.05,0.2,0.4,0.8,1)\n",
    "   id = xa[,1]*xa[,2] >= 0\n",
    "    pheatmap::pheatmap(xa[id,],scale = 'none',cluster_rows = T,fontsize_row = 9,fontsize_col = 9,\n",
    "                       breaks = enbrks,\n",
    "                       treeheight_row = 20,treeheight_col = 20,legend = T,\n",
    "                       display_numbers = display_matrix1[id,],\n",
    "                  #color=colorRampPalette(c('#3B4992','gray95','#BB0021'))(9),\n",
    "                       #colorRampPalette(c('#008280','gray95','#BB0021'))(11),\n",
    "                color=colorRampPalette(c('#008280','gray95','#BB0021'))(11),\n",
    "                  #file ='./modeling/v20200530_cellpaper/figures/Figure 3A_pathwayheatmap_ALL.pdf',\n",
    "                   file ='./modeling/v20200530_cellpaper/figures/Figure 3A_pathwayheatmap_ALL_consist_3celltypes_mutationv3.pdf',\n",
    "                  ,height = 5,width = 4.1)"
   ]
  },
  {
   "cell_type": "markdown",
   "metadata": {},
   "source": [
    "### Overlaped Target in alpha mutation"
   ]
  },
  {
   "cell_type": "code",
   "execution_count": 124,
   "metadata": {},
   "outputs": [
    {
     "data": {
      "text/html": [
       "<ol class=list-inline>\n",
       "\t<li>'TYMS'</li>\n",
       "\t<li>'DHFR'</li>\n",
       "\t<li>'PAICS'</li>\n",
       "\t<li>'GART'</li>\n",
       "\t<li>'ATIC'</li>\n",
       "\t<li>'PPAT'</li>\n",
       "\t<li>'PFAS'</li>\n",
       "</ol>\n"
      ],
      "text/latex": [
       "\\begin{enumerate*}\n",
       "\\item 'TYMS'\n",
       "\\item 'DHFR'\n",
       "\\item 'PAICS'\n",
       "\\item 'GART'\n",
       "\\item 'ATIC'\n",
       "\\item 'PPAT'\n",
       "\\item 'PFAS'\n",
       "\\end{enumerate*}\n"
      ],
      "text/markdown": [
       "1. 'TYMS'\n",
       "2. 'DHFR'\n",
       "3. 'PAICS'\n",
       "4. 'GART'\n",
       "5. 'ATIC'\n",
       "6. 'PPAT'\n",
       "7. 'PFAS'\n",
       "\n",
       "\n"
      ],
      "text/plain": [
       "[1] \"TYMS\"  \"DHFR\"  \"PAICS\" \"GART\"  \"ATIC\"  \"PPAT\"  \"PFAS\" "
      ]
     },
     "metadata": {},
     "output_type": "display_data"
    }
   ],
   "source": [
    "Targets"
   ]
  },
  {
   "cell_type": "code",
   "execution_count": 45,
   "metadata": {},
   "outputs": [
    {
     "data": {
      "text/html": [
       "<table class=\"dataframe\">\n",
       "<caption>A data.frame: 7 × 2</caption>\n",
       "<thead>\n",
       "\t<tr><th></th><th scope=col>gene</th><th scope=col>effect_GeneKO</th></tr>\n",
       "\t<tr><th></th><th scope=col>&lt;chr&gt;</th><th scope=col>&lt;dbl&gt;</th></tr>\n",
       "</thead>\n",
       "<tbody>\n",
       "\t<tr><th scope=row>PAICS</th><td>PAICS</td><td>-3.73907</td></tr>\n",
       "\t<tr><th scope=row>GART</th><td>GART </td><td>-3.73907</td></tr>\n",
       "\t<tr><th scope=row>ATIC</th><td>ATIC </td><td>-3.73907</td></tr>\n",
       "\t<tr><th scope=row>PPAT</th><td>PPAT </td><td>-3.73907</td></tr>\n",
       "\t<tr><th scope=row>PFAS</th><td>PFAS </td><td>-3.73907</td></tr>\n",
       "\t<tr><th scope=row>TYMS</th><td>TYMS </td><td> 4.75276</td></tr>\n",
       "\t<tr><th scope=row>DHFR</th><td>DHFR </td><td> 4.94331</td></tr>\n",
       "</tbody>\n",
       "</table>\n"
      ],
      "text/latex": [
       "A data.frame: 7 × 2\n",
       "\\begin{tabular}{r|ll}\n",
       "  & gene & effect\\_GeneKO\\\\\n",
       "  & <chr> & <dbl>\\\\\n",
       "\\hline\n",
       "\tPAICS & PAICS & -3.73907\\\\\n",
       "\tGART & GART  & -3.73907\\\\\n",
       "\tATIC & ATIC  & -3.73907\\\\\n",
       "\tPPAT & PPAT  & -3.73907\\\\\n",
       "\tPFAS & PFAS  & -3.73907\\\\\n",
       "\tTYMS & TYMS  &  4.75276\\\\\n",
       "\tDHFR & DHFR  &  4.94331\\\\\n",
       "\\end{tabular}\n"
      ],
      "text/markdown": [
       "\n",
       "A data.frame: 7 × 2\n",
       "\n",
       "| <!--/--> | gene &lt;chr&gt; | effect_GeneKO &lt;dbl&gt; |\n",
       "|---|---|---|\n",
       "| PAICS | PAICS | -3.73907 |\n",
       "| GART | GART  | -3.73907 |\n",
       "| ATIC | ATIC  | -3.73907 |\n",
       "| PPAT | PPAT  | -3.73907 |\n",
       "| PFAS | PFAS  | -3.73907 |\n",
       "| TYMS | TYMS  |  4.75276 |\n",
       "| DHFR | DHFR  |  4.94331 |\n",
       "\n"
      ],
      "text/plain": [
       "      gene  effect_GeneKO\n",
       "PAICS PAICS -3.73907     \n",
       "GART  GART  -3.73907     \n",
       "ATIC  ATIC  -3.73907     \n",
       "PPAT  PPAT  -3.73907     \n",
       "PFAS  PFAS  -3.73907     \n",
       "TYMS  TYMS   4.75276     \n",
       "DHFR  DHFR   4.94331     "
      ]
     },
     "metadata": {},
     "output_type": "display_data"
    }
   ],
   "source": [
    "Targets  = Overlaped_target_3celllines$Target\n",
    "Target_VIC = file2frame('./modeling/v20220420_naturepaper/results/v20221010/KOgene_covid19_alpha_KO_effect_genes_overlapDEflux.txt')\n",
    "Target_VIC = get_subterm_gene(Target_VIC,Targets)\n",
    "Target_VIC"
   ]
  },
  {
   "cell_type": "markdown",
   "metadata": {},
   "source": [
    "### Overlaped Metabolites in alpha mutation"
   ]
  },
  {
   "cell_type": "code",
   "execution_count": 46,
   "metadata": {},
   "outputs": [
    {
     "data": {
      "text/html": [
       "<table class=\"dataframe\">\n",
       "<caption>A data.frame: 20 × 7</caption>\n",
       "<thead>\n",
       "\t<tr><th></th><th scope=col>metid</th><th scope=col>Effect_afterKO</th><th scope=col>metname</th><th scope=col>pubchemID</th><th scope=col>HMDBID</th><th scope=col>smiles</th><th scope=col>InchiString</th></tr>\n",
       "\t<tr><th></th><th scope=col>&lt;chr&gt;</th><th scope=col>&lt;dbl&gt;</th><th scope=col>&lt;chr&gt;</th><th scope=col>&lt;int&gt;</th><th scope=col>&lt;chr&gt;</th><th scope=col>&lt;chr&gt;</th><th scope=col>&lt;chr&gt;</th></tr>\n",
       "</thead>\n",
       "<tbody>\n",
       "\t<tr><th scope=row>5,10-Methylenetetrahydrofolate</th><td>mlthf[c] </td><td> 4.75276</td><td>5,10-Methylenetetrahydrofolate                                         </td><td>439175</td><td>         </td><td>[H]OC1=NC(=NC2=C1N1C([H])([H])N(C3=C([H])C([H])=C(C([H])=C3[H])C(=O)N([H])C([H])(C([O-])=O)C([H])([H])C([H])([H])C([O-])=O)C([H])([H])[C@@]1([H])C([H])([H])N2[H])N([H])[H]</td><td>InChI=1/C20H23N7O6/c21-20-24-16-15(18(31)25-20)27-9-26(8-12(27)7-22-16)11-3-1-10(2-4-11)17(30)23-13(19(32)33)5-6-14(28)29/h1-4,12-13H,5-9H2,(H,23,30)(H,28,29)(H,32,33)(H4,21,22,24,25,31)/p-2/t12-,13?/s2          </td></tr>\n",
       "\t<tr><th scope=row>2-Oxoglutarate</th><td>akg[m]   </td><td> 3.67189</td><td>2-Oxoglutarate                                                         </td><td>    51</td><td>HMDB00208</td><td>[H]C([H])(C([O-])=O)C([H])([H])C(=O)C([O-])=O                                                                                                                              </td><td>InChI=1S/C5H6O5/c6-3(5(9)10)1-2-4(7)8/h1-2H2,(H,7,8)(H,9,10)/p-2                                                                                                                                                    </td></tr>\n",
       "\t<tr><th scope=row>(S)-2-[5-Amino-1-(5-Phospho-D-Ribosyl)Imidazole-4-Carboxamido]Succinate</th><td>25aics[c]</td><td>-3.73907</td><td>(S)-2-[5-Amino-1-(5-Phospho-D-Ribosyl)Imidazole-4-Carboxamido]Succinate</td><td>160666</td><td>         </td><td>[H]O[C@@]1([H])[C@@]([H])(O[C@]([H])(C([H])([H])OP([O-])([O-])=O)[C@@]1([H])O[H])N1C([H])=NC(C(=O)N([H])C([H])(C([O-])=O)C([H])([H])C([O-])=O)=C1N([H])[H]                 </td><td>InChI=1/C13H19N4O12P/c14-10-7(11(22)16-4(13(23)24)1-6(18)19)15-3-17(10)12-9(21)8(20)5(29-12)2-28-30(25,26)27/h3-5,8-9,12,20-21H,1-2,14H2,(H,16,22)(H,18,19)(H,23,24)(H2,25,26,27)/p-4/t4?,5-,8-,9-,12-/s2           </td></tr>\n",
       "\t<tr><th scope=row>5-Amino-1-(5-Phospho-D-Ribosyl)Imidazole</th><td>air[c]   </td><td>-3.73907</td><td>5-Amino-1-(5-Phospho-D-Ribosyl)Imidazole                               </td><td>161500</td><td>         </td><td>[H]O[C@@]1([H])C([H])(O[C@]([H])(C([H])([H])OP([O-])([O-])=O)[C@@]1([H])O[H])N1C([H])=NC([H])=C1N([H])[H]                                                                  </td><td>InChI=1/C8H14N3O7P/c9-5-1-10-3-11(5)8-7(13)6(12)4(18-8)2-17-19(14,15)16/h1,3-4,6-8,12-13H,2,9H2,(H2,14,15,16)/p-2/t4-,6-,7-,8?/s2                                                                                   </td></tr>\n",
       "\t<tr><th scope=row>5-Amino-1-(5-Phospho-D-Ribosyl)Imidazole-4-Carboxylate</th><td>5aizc[c] </td><td>-3.73907</td><td>5-Amino-1-(5-Phospho-D-Ribosyl)Imidazole-4-Carboxylate                 </td><td>165388</td><td>         </td><td>[H]O[C@@]1([H])[C@@]([H])(O[C@]([H])(C([H])([H])OP([O-])([O-])=O)[C@@]1([H])O[H])N1C([H])=NC(C([O-])=O)=C1N([H])[H]                                                        </td><td>InChI=1S/C9H14N3O9P/c10-7-4(9(15)16)11-2-12(7)8-6(14)5(13)3(21-8)1-20-22(17,18)19/h2-3,5-6,8,13-14H,1,10H2,(H,15,16)(H2,17,18,19)/p-3/t3-,5-,6-,8-/m1/s1                                                            </td></tr>\n",
       "\t<tr><th scope=row>N1-(5-Phospho-D-Ribosyl)Glycinamide</th><td>gar[c]   </td><td>-3.73907</td><td>N1-(5-Phospho-D-Ribosyl)Glycinamide                                    </td><td>160913</td><td>         </td><td>[H]O[C@@]1([H])C([H])(O[C@]([H])(C([H])([H])OP([O-])([O-])=O)[C@@]1([H])O[H])N([H])C(=O)C([H])([H])[N+]([H])([H])[H]                                                       </td><td>InChI=1/C7H15N2O8P/c8-1-4(10)9-7-6(12)5(11)3(17-7)2-16-18(13,14)15/h3,5-7,11-12H,1-2,8H2,(H,9,10)(H2,13,14,15)/p-1/t3-,5-,6-,7?/s2                                                                                  </td></tr>\n",
       "\t<tr><th scope=row>N2-Formyl-N1-(5-Phospho-D-Ribosyl)Glycinamide</th><td>fgam[c]  </td><td>-3.73907</td><td>N2-Formyl-N1-(5-Phospho-D-Ribosyl)Glycinamide                          </td><td>130805</td><td>         </td><td>[H]O[C@@]1([H])C([H])(O[C@]([H])(C([H])([H])OP([O-])([O-])=O)[C@@]1([H])O[H])N([H])C(=O)C([H])([H])N([H])C([H])=O                                                          </td><td>InChI=1/C8H15N2O9P/c11-3-9-1-5(12)10-8-7(14)6(13)4(19-8)2-18-20(15,16)17/h3-4,6-8,13-14H,1-2H2,(H,9,11)(H,10,12)(H2,15,16,17)/p-2/t4-,6-,7-,8?/s2                                                                   </td></tr>\n",
       "\t<tr><th scope=row>5-Phospho-Beta-D-Ribosylamine</th><td>pram[c]  </td><td>-3.73907</td><td>5-Phospho-Beta-D-Ribosylamine                                          </td><td>439905</td><td>         </td><td>[H]O[C@@]1([H])[C@@]([H])(O[C@]([H])(C([H])([H])OP([O-])([O-])=O)[C@@]1([H])O[H])[N+]([H])([H])[H]                                                                         </td><td>InChI=1/C5H12NO7P/c6-5-4(8)3(7)2(13-5)1-12-14(9,10)11/h2-5,7-8H,1,6H2,(H2,9,10,11)/p-1/t2-,3-,4-,5-/s2                                                                                                              </td></tr>\n",
       "\t<tr><th scope=row>2-(Formamido)-N1-(5-Phospho-D-Ribosyl)Acetamidine</th><td>fpram[c] </td><td>-3.73907</td><td>2-(Formamido)-N1-(5-Phospho-D-Ribosyl)Acetamidine                      </td><td>    NA</td><td>         </td><td>[H]O[C@@]1([H])C([H])(O[C@]([H])(C([H])([H])OP([O-])([O-])=O)[C@@]1([H])O[H])N([H])C(=[N+]([H])[H])C([H])([H])N([H])C([H])=O                                               </td><td>InChI=1/C8H16N3O8P/c9-5(1-10-3-12)11-8-7(14)6(13)4(19-8)2-18-20(15,16)17/h3-4,6-8,13-14H,1-2H2,(H2,9,11)(H,10,12)(H2,15,16,17)/p-1/t4-,6-,7-,8?/s2                                                                  </td></tr>\n",
       "\t<tr><th scope=row>Glycine</th><td>gly[c]   </td><td>-4.27764</td><td>Glycine                                                                </td><td>   750</td><td>HMDB00123</td><td>[H][N+]([H])([H])C([H])([H])C([O-])=O                                                                                                                                      </td><td>InChI=1S/C2H5NO2/c3-1-2(4)5/h1,3H2,(H,4,5)                                                                                                                                                                          </td></tr>\n",
       "\t<tr><th scope=row>L-Phenylalanine</th><td>phe_L[c] </td><td>-4.84409</td><td>L-Phenylalanine                                                        </td><td>  6140</td><td>HMDB00159</td><td>[H]C1=C([H])C([H])=C(C([H])=C1[H])C([H])([H])[C@@]([H])(C([O-])=O)[N+]([H])([H])[H]                                                                                        </td><td>InChI=1S/C9H11NO2/c10-8(9(11)12)6-7-4-2-1-3-5-7/h1-5,8H,6,10H2,(H,11,12)/t8-/m0/s1                                                                                                                                  </td></tr>\n",
       "\t<tr><th scope=row>N6-(1,2-Dicarboxyethyl)-Adenosine Monophosphate</th><td>dcamp[c] </td><td>-5.35714</td><td>N6-(1,2-Dicarboxyethyl)-Adenosine Monophosphate                        </td><td>447145</td><td>         </td><td>[H]O[C@@]1([H])[C@@]([H])(O[C@]([H])(C([H])([H])OP([O-])([O-])=O)[C@@]1([H])O[H])N1C([H])=NC2=C(N=C([H])N=C12)N([H])C([H])(C([O-])=O)C([H])([H])C([O-])=O                  </td><td>InChI=1S/C14H18N5O11P/c20-7(21)1-5(14(24)25)18-11-8-12(16-3-15-11)19(4-17-8)13-10(23)9(22)6(30-13)2-29-31(26,27)28/h3-6,9-10,13,22-23H,1-2H2,(H,20,21)(H,24,25)(H,15,16,18)(H2,26,27,28)/p-4/t5?,6-,9-,10-,13-/m1/s1</td></tr>\n",
       "\t<tr><th scope=row>Inosine-5'-Monophosphate</th><td>imp[c]   </td><td>-5.35714</td><td>Inosine-5'-Monophosphate                                               </td><td>  8582</td><td>HMDB00175</td><td>[H]O[C@@]1([H])[C@@]([H])(O[C@]([H])(C([H])([H])OP([O-])([O-])=O)[C@@]1([H])O[H])N1C([H])=NC2=C1N=C([H])N([H])C2=O                                                         </td><td>InChI=1S/C10H13N4O8P/c15-6-4(1-21-23(18,19)20)22-10(7(6)16)14-3-13-5-8(14)11-2-12-9(5)17/h2-4,6-7,10,15-16H,1H2,(H,11,12,17)(H2,18,19,20)/p-2/t4-,6-,7-,10-/m1/s1                                                   </td></tr>\n",
       "\t<tr><th scope=row>Guanosine-5'-Triphosphate</th><td>gtp[c]   </td><td>-6.35714</td><td>Guanosine-5'-Triphosphate                                              </td><td>  6830</td><td>HMDB01273</td><td>[H]O[C@@]1([H])[C@@]([H])(O[C@]([H])(C([H])([H])OP([O-])(=O)OP([O-])(=O)OP([O-])([O-])=O)[C@@]1([H])O[H])N1C([H])=NC2=C1N=C(N([H])[H])N([H])C2=O                           </td><td>InChI=1S/C10H16N5O14P3/c11-10-13-7-4(8(18)14-10)12-2-15(7)9-6(17)5(16)3(27-9)1-26-31(22,23)29-32(24,25)28-30(19,20)21/h2-3,5-6,9,16-17H,1H2,(H,22,23)(H,24,25)(H2,19,20,21)(H3,11,13,14,18)/p-4/t3-,5-,6-,9-/m1/s1  </td></tr>\n",
       "\t<tr><th scope=row>L-Asparagine</th><td>asn_L[c] </td><td>-7.00000</td><td>L-Asparagine                                                           </td><td>  6267</td><td>HMDB00168</td><td>[H]N([H])C(=O)C([H])([H])[C@@]([H])(C([O-])=O)[N+]([H])([H])[H]                                                                                                            </td><td>InChI=1S/C4H8N2O3/c5-2(4(8)9)1-3(6)7/h2H,1,5H2,(H2,6,7)(H,8,9)/t2-/m0/s1                                                                                                                                            </td></tr>\n",
       "\t<tr><th scope=row>L-Cysteine</th><td>cys_L[c] </td><td>-7.00000</td><td>L-Cysteine                                                             </td><td>  5862</td><td>HMDB00574</td><td>[H]SC([H])([H])[C@@]([H])(C([O-])=O)[N+]([H])([H])[H]                                                                                                                      </td><td>InChI=1S/C3H7NO2S/c4-2(1-7)3(5)6/h2,7H,1,4H2,(H,5,6)/t2-/m0/s1                                                                                                                                                      </td></tr>\n",
       "\t<tr><th scope=row>L-Threonine</th><td>thr_L[c] </td><td>-7.00000</td><td>L-Threonine                                                            </td><td>  6288</td><td>HMDB00167</td><td>[H]O[C@]([H])(C([H])([H])[H])[C@@]([H])(C([O-])=O)[N+]([H])([H])[H]                                                                                                        </td><td>InChI=1S/C4H9NO3/c1-2(6)3(5)4(7)8/h2-3,6H,5H2,1H3,(H,7,8)/t2-,3+/m1/s1                                                                                                                                              </td></tr>\n",
       "\t<tr><th scope=row>L-Lysine</th><td>lys_L[c] </td><td>-7.00000</td><td>L-Lysine                                                               </td><td>  5962</td><td>HMDB00182</td><td>[H][N+]([H])([H])C([H])([H])C([H])([H])C([H])([H])C([H])([H])[C@@]([H])(C([O-])=O)[N+]([H])([H])[H]                                                                        </td><td>InChI=1/C6H14N2O2/c7-4-2-1-3-5(8)6(9)10/h5H,1-4,7-8H2,(H,9,10)/p+1/t5-/s2                                                                                                                                           </td></tr>\n",
       "\t<tr><th scope=row>L-Arginine</th><td>arg_L[c] </td><td>-7.00000</td><td>L-Arginine                                                             </td><td>  6322</td><td>HMDB00517</td><td>[H]N([H])C(N([H])C([H])([H])C([H])([H])C([H])([H])[C@@]([H])(C([O-])=O)[N+]([H])([H])[H])=[N+]([H])[H]                                                                     </td><td>InChI=1S/C6H14N4O2/c7-4(5(11)12)2-1-3-10-6(8)9/h4H,1-3,7H2,(H,11,12)(H4,8,9,10)/p+1/t4-/m0/s1                                                                                                                       </td></tr>\n",
       "\t<tr><th scope=row>L-Methionine</th><td>met_L[c] </td><td>-7.00000</td><td>L-Methionine                                                           </td><td>  6137</td><td>HMDB00696</td><td>[H]C([H])([H])SC([H])([H])C([H])([H])[C@@]([H])(C([O-])=O)[N+]([H])([H])[H]                                                                                                </td><td>InChI=1S/C5H11NO2S/c1-9-3-2-4(6)5(7)8/h4H,2-3,6H2,1H3,(H,7,8)/t4-/m0/s1                                                                                                                                             </td></tr>\n",
       "</tbody>\n",
       "</table>\n"
      ],
      "text/latex": [
       "A data.frame: 20 × 7\n",
       "\\begin{tabular}{r|lllllll}\n",
       "  & metid & Effect\\_afterKO & metname & pubchemID & HMDBID & smiles & InchiString\\\\\n",
       "  & <chr> & <dbl> & <chr> & <int> & <chr> & <chr> & <chr>\\\\\n",
       "\\hline\n",
       "\t5,10-Methylenetetrahydrofolate & mlthf{[}c{]}  &  4.75276 & 5,10-Methylenetetrahydrofolate                                          & 439175 &           & {[}H{]}OC1=NC(=NC2=C1N1C({[}H{]})({[}H{]})N(C3=C({[}H{]})C({[}H{]})=C(C({[}H{]})=C3{[}H{]})C(=O)N({[}H{]})C({[}H{]})(C({[}O-{]})=O)C({[}H{]})({[}H{]})C({[}H{]})({[}H{]})C({[}O-{]})=O)C({[}H{]})({[}H{]}){[}C@@{]}1({[}H{]})C({[}H{]})({[}H{]})N2{[}H{]})N({[}H{]}){[}H{]} & InChI=1/C20H23N7O6/c21-20-24-16-15(18(31)25-20)27-9-26(8-12(27)7-22-16)11-3-1-10(2-4-11)17(30)23-13(19(32)33)5-6-14(28)29/h1-4,12-13H,5-9H2,(H,23,30)(H,28,29)(H,32,33)(H4,21,22,24,25,31)/p-2/t12-,13?/s2          \\\\\n",
       "\t2-Oxoglutarate & akg{[}m{]}    &  3.67189 & 2-Oxoglutarate                                                          &     51 & HMDB00208 & {[}H{]}C({[}H{]})(C({[}O-{]})=O)C({[}H{]})({[}H{]})C(=O)C({[}O-{]})=O                                                                                                                               & InChI=1S/C5H6O5/c6-3(5(9)10)1-2-4(7)8/h1-2H2,(H,7,8)(H,9,10)/p-2                                                                                                                                                    \\\\\n",
       "\t(S)-2-{[}5-Amino-1-(5-Phospho-D-Ribosyl)Imidazole-4-Carboxamido{]}Succinate & 25aics{[}c{]} & -3.73907 & (S)-2-{[}5-Amino-1-(5-Phospho-D-Ribosyl)Imidazole-4-Carboxamido{]}Succinate & 160666 &           & {[}H{]}O{[}C@@{]}1({[}H{]}){[}C@@{]}({[}H{]})(O{[}C@{]}({[}H{]})(C({[}H{]})({[}H{]})OP({[}O-{]})({[}O-{]})=O){[}C@@{]}1({[}H{]})O{[}H{]})N1C({[}H{]})=NC(C(=O)N({[}H{]})C({[}H{]})(C({[}O-{]})=O)C({[}H{]})({[}H{]})C({[}O-{]})=O)=C1N({[}H{]}){[}H{]}                  & InChI=1/C13H19N4O12P/c14-10-7(11(22)16-4(13(23)24)1-6(18)19)15-3-17(10)12-9(21)8(20)5(29-12)2-28-30(25,26)27/h3-5,8-9,12,20-21H,1-2,14H2,(H,16,22)(H,18,19)(H,23,24)(H2,25,26,27)/p-4/t4?,5-,8-,9-,12-/s2           \\\\\n",
       "\t5-Amino-1-(5-Phospho-D-Ribosyl)Imidazole & air{[}c{]}    & -3.73907 & 5-Amino-1-(5-Phospho-D-Ribosyl)Imidazole                                & 161500 &           & {[}H{]}O{[}C@@{]}1({[}H{]})C({[}H{]})(O{[}C@{]}({[}H{]})(C({[}H{]})({[}H{]})OP({[}O-{]})({[}O-{]})=O){[}C@@{]}1({[}H{]})O{[}H{]})N1C({[}H{]})=NC({[}H{]})=C1N({[}H{]}){[}H{]}                                                                   & InChI=1/C8H14N3O7P/c9-5-1-10-3-11(5)8-7(13)6(12)4(18-8)2-17-19(14,15)16/h1,3-4,6-8,12-13H,2,9H2,(H2,14,15,16)/p-2/t4-,6-,7-,8?/s2                                                                                   \\\\\n",
       "\t5-Amino-1-(5-Phospho-D-Ribosyl)Imidazole-4-Carboxylate & 5aizc{[}c{]}  & -3.73907 & 5-Amino-1-(5-Phospho-D-Ribosyl)Imidazole-4-Carboxylate                  & 165388 &           & {[}H{]}O{[}C@@{]}1({[}H{]}){[}C@@{]}({[}H{]})(O{[}C@{]}({[}H{]})(C({[}H{]})({[}H{]})OP({[}O-{]})({[}O-{]})=O){[}C@@{]}1({[}H{]})O{[}H{]})N1C({[}H{]})=NC(C({[}O-{]})=O)=C1N({[}H{]}){[}H{]}                                                         & InChI=1S/C9H14N3O9P/c10-7-4(9(15)16)11-2-12(7)8-6(14)5(13)3(21-8)1-20-22(17,18)19/h2-3,5-6,8,13-14H,1,10H2,(H,15,16)(H2,17,18,19)/p-3/t3-,5-,6-,8-/m1/s1                                                            \\\\\n",
       "\tN1-(5-Phospho-D-Ribosyl)Glycinamide & gar{[}c{]}    & -3.73907 & N1-(5-Phospho-D-Ribosyl)Glycinamide                                     & 160913 &           & {[}H{]}O{[}C@@{]}1({[}H{]})C({[}H{]})(O{[}C@{]}({[}H{]})(C({[}H{]})({[}H{]})OP({[}O-{]})({[}O-{]})=O){[}C@@{]}1({[}H{]})O{[}H{]})N({[}H{]})C(=O)C({[}H{]})({[}H{]}){[}N+{]}({[}H{]})({[}H{]}){[}H{]}                                                        & InChI=1/C7H15N2O8P/c8-1-4(10)9-7-6(12)5(11)3(17-7)2-16-18(13,14)15/h3,5-7,11-12H,1-2,8H2,(H,9,10)(H2,13,14,15)/p-1/t3-,5-,6-,7?/s2                                                                                  \\\\\n",
       "\tN2-Formyl-N1-(5-Phospho-D-Ribosyl)Glycinamide & fgam{[}c{]}   & -3.73907 & N2-Formyl-N1-(5-Phospho-D-Ribosyl)Glycinamide                           & 130805 &           & {[}H{]}O{[}C@@{]}1({[}H{]})C({[}H{]})(O{[}C@{]}({[}H{]})(C({[}H{]})({[}H{]})OP({[}O-{]})({[}O-{]})=O){[}C@@{]}1({[}H{]})O{[}H{]})N({[}H{]})C(=O)C({[}H{]})({[}H{]})N({[}H{]})C({[}H{]})=O                                                           & InChI=1/C8H15N2O9P/c11-3-9-1-5(12)10-8-7(14)6(13)4(19-8)2-18-20(15,16)17/h3-4,6-8,13-14H,1-2H2,(H,9,11)(H,10,12)(H2,15,16,17)/p-2/t4-,6-,7-,8?/s2                                                                   \\\\\n",
       "\t5-Phospho-Beta-D-Ribosylamine & pram{[}c{]}   & -3.73907 & 5-Phospho-Beta-D-Ribosylamine                                           & 439905 &           & {[}H{]}O{[}C@@{]}1({[}H{]}){[}C@@{]}({[}H{]})(O{[}C@{]}({[}H{]})(C({[}H{]})({[}H{]})OP({[}O-{]})({[}O-{]})=O){[}C@@{]}1({[}H{]})O{[}H{]}){[}N+{]}({[}H{]})({[}H{]}){[}H{]}                                                                          & InChI=1/C5H12NO7P/c6-5-4(8)3(7)2(13-5)1-12-14(9,10)11/h2-5,7-8H,1,6H2,(H2,9,10,11)/p-1/t2-,3-,4-,5-/s2                                                                                                              \\\\\n",
       "\t2-(Formamido)-N1-(5-Phospho-D-Ribosyl)Acetamidine & fpram{[}c{]}  & -3.73907 & 2-(Formamido)-N1-(5-Phospho-D-Ribosyl)Acetamidine                       &     NA &           & {[}H{]}O{[}C@@{]}1({[}H{]})C({[}H{]})(O{[}C@{]}({[}H{]})(C({[}H{]})({[}H{]})OP({[}O-{]})({[}O-{]})=O){[}C@@{]}1({[}H{]})O{[}H{]})N({[}H{]})C(={[}N+{]}({[}H{]}){[}H{]})C({[}H{]})({[}H{]})N({[}H{]})C({[}H{]})=O                                                & InChI=1/C8H16N3O8P/c9-5(1-10-3-12)11-8-7(14)6(13)4(19-8)2-18-20(15,16)17/h3-4,6-8,13-14H,1-2H2,(H2,9,11)(H,10,12)(H2,15,16,17)/p-1/t4-,6-,7-,8?/s2                                                                  \\\\\n",
       "\tGlycine & gly{[}c{]}    & -4.27764 & Glycine                                                                 &    750 & HMDB00123 & {[}H{]}{[}N+{]}({[}H{]})({[}H{]})C({[}H{]})({[}H{]})C({[}O-{]})=O                                                                                                                                       & InChI=1S/C2H5NO2/c3-1-2(4)5/h1,3H2,(H,4,5)                                                                                                                                                                          \\\\\n",
       "\tL-Phenylalanine & phe\\_L{[}c{]}  & -4.84409 & L-Phenylalanine                                                         &   6140 & HMDB00159 & {[}H{]}C1=C({[}H{]})C({[}H{]})=C(C({[}H{]})=C1{[}H{]})C({[}H{]})({[}H{]}){[}C@@{]}({[}H{]})(C({[}O-{]})=O){[}N+{]}({[}H{]})({[}H{]}){[}H{]}                                                                                         & InChI=1S/C9H11NO2/c10-8(9(11)12)6-7-4-2-1-3-5-7/h1-5,8H,6,10H2,(H,11,12)/t8-/m0/s1                                                                                                                                  \\\\\n",
       "\tN6-(1,2-Dicarboxyethyl)-Adenosine Monophosphate & dcamp{[}c{]}  & -5.35714 & N6-(1,2-Dicarboxyethyl)-Adenosine Monophosphate                         & 447145 &           & {[}H{]}O{[}C@@{]}1({[}H{]}){[}C@@{]}({[}H{]})(O{[}C@{]}({[}H{]})(C({[}H{]})({[}H{]})OP({[}O-{]})({[}O-{]})=O){[}C@@{]}1({[}H{]})O{[}H{]})N1C({[}H{]})=NC2=C(N=C({[}H{]})N=C12)N({[}H{]})C({[}H{]})(C({[}O-{]})=O)C({[}H{]})({[}H{]})C({[}O-{]})=O                   & InChI=1S/C14H18N5O11P/c20-7(21)1-5(14(24)25)18-11-8-12(16-3-15-11)19(4-17-8)13-10(23)9(22)6(30-13)2-29-31(26,27)28/h3-6,9-10,13,22-23H,1-2H2,(H,20,21)(H,24,25)(H,15,16,18)(H2,26,27,28)/p-4/t5?,6-,9-,10-,13-/m1/s1\\\\\n",
       "\tInosine-5'-Monophosphate & imp{[}c{]}    & -5.35714 & Inosine-5'-Monophosphate                                                &   8582 & HMDB00175 & {[}H{]}O{[}C@@{]}1({[}H{]}){[}C@@{]}({[}H{]})(O{[}C@{]}({[}H{]})(C({[}H{]})({[}H{]})OP({[}O-{]})({[}O-{]})=O){[}C@@{]}1({[}H{]})O{[}H{]})N1C({[}H{]})=NC2=C1N=C({[}H{]})N({[}H{]})C2=O                                                          & InChI=1S/C10H13N4O8P/c15-6-4(1-21-23(18,19)20)22-10(7(6)16)14-3-13-5-8(14)11-2-12-9(5)17/h2-4,6-7,10,15-16H,1H2,(H,11,12,17)(H2,18,19,20)/p-2/t4-,6-,7-,10-/m1/s1                                                   \\\\\n",
       "\tGuanosine-5'-Triphosphate & gtp{[}c{]}    & -6.35714 & Guanosine-5'-Triphosphate                                               &   6830 & HMDB01273 & {[}H{]}O{[}C@@{]}1({[}H{]}){[}C@@{]}({[}H{]})(O{[}C@{]}({[}H{]})(C({[}H{]})({[}H{]})OP({[}O-{]})(=O)OP({[}O-{]})(=O)OP({[}O-{]})({[}O-{]})=O){[}C@@{]}1({[}H{]})O{[}H{]})N1C({[}H{]})=NC2=C1N=C(N({[}H{]}){[}H{]})N({[}H{]})C2=O                            & InChI=1S/C10H16N5O14P3/c11-10-13-7-4(8(18)14-10)12-2-15(7)9-6(17)5(16)3(27-9)1-26-31(22,23)29-32(24,25)28-30(19,20)21/h2-3,5-6,9,16-17H,1H2,(H,22,23)(H,24,25)(H2,19,20,21)(H3,11,13,14,18)/p-4/t3-,5-,6-,9-/m1/s1  \\\\\n",
       "\tL-Asparagine & asn\\_L{[}c{]}  & -7.00000 & L-Asparagine                                                            &   6267 & HMDB00168 & {[}H{]}N({[}H{]})C(=O)C({[}H{]})({[}H{]}){[}C@@{]}({[}H{]})(C({[}O-{]})=O){[}N+{]}({[}H{]})({[}H{]}){[}H{]}                                                                                                             & InChI=1S/C4H8N2O3/c5-2(4(8)9)1-3(6)7/h2H,1,5H2,(H2,6,7)(H,8,9)/t2-/m0/s1                                                                                                                                            \\\\\n",
       "\tL-Cysteine & cys\\_L{[}c{]}  & -7.00000 & L-Cysteine                                                              &   5862 & HMDB00574 & {[}H{]}SC({[}H{]})({[}H{]}){[}C@@{]}({[}H{]})(C({[}O-{]})=O){[}N+{]}({[}H{]})({[}H{]}){[}H{]}                                                                                                                       & InChI=1S/C3H7NO2S/c4-2(1-7)3(5)6/h2,7H,1,4H2,(H,5,6)/t2-/m0/s1                                                                                                                                                      \\\\\n",
       "\tL-Threonine & thr\\_L{[}c{]}  & -7.00000 & L-Threonine                                                             &   6288 & HMDB00167 & {[}H{]}O{[}C@{]}({[}H{]})(C({[}H{]})({[}H{]}){[}H{]}){[}C@@{]}({[}H{]})(C({[}O-{]})=O){[}N+{]}({[}H{]})({[}H{]}){[}H{]}                                                                                                         & InChI=1S/C4H9NO3/c1-2(6)3(5)4(7)8/h2-3,6H,5H2,1H3,(H,7,8)/t2-,3+/m1/s1                                                                                                                                              \\\\\n",
       "\tL-Lysine & lys\\_L{[}c{]}  & -7.00000 & L-Lysine                                                                &   5962 & HMDB00182 & {[}H{]}{[}N+{]}({[}H{]})({[}H{]})C({[}H{]})({[}H{]})C({[}H{]})({[}H{]})C({[}H{]})({[}H{]})C({[}H{]})({[}H{]}){[}C@@{]}({[}H{]})(C({[}O-{]})=O){[}N+{]}({[}H{]})({[}H{]}){[}H{]}                                                                         & InChI=1/C6H14N2O2/c7-4-2-1-3-5(8)6(9)10/h5H,1-4,7-8H2,(H,9,10)/p+1/t5-/s2                                                                                                                                           \\\\\n",
       "\tL-Arginine & arg\\_L{[}c{]}  & -7.00000 & L-Arginine                                                              &   6322 & HMDB00517 & {[}H{]}N({[}H{]})C(N({[}H{]})C({[}H{]})({[}H{]})C({[}H{]})({[}H{]})C({[}H{]})({[}H{]}){[}C@@{]}({[}H{]})(C({[}O-{]})=O){[}N+{]}({[}H{]})({[}H{]}){[}H{]})={[}N+{]}({[}H{]}){[}H{]}                                                                      & InChI=1S/C6H14N4O2/c7-4(5(11)12)2-1-3-10-6(8)9/h4H,1-3,7H2,(H,11,12)(H4,8,9,10)/p+1/t4-/m0/s1                                                                                                                       \\\\\n",
       "\tL-Methionine & met\\_L{[}c{]}  & -7.00000 & L-Methionine                                                            &   6137 & HMDB00696 & {[}H{]}C({[}H{]})({[}H{]})SC({[}H{]})({[}H{]})C({[}H{]})({[}H{]}){[}C@@{]}({[}H{]})(C({[}O-{]})=O){[}N+{]}({[}H{]})({[}H{]}){[}H{]}                                                                                                 & InChI=1S/C5H11NO2S/c1-9-3-2-4(6)5(7)8/h4H,2-3,6H2,1H3,(H,7,8)/t4-/m0/s1                                                                                                                                             \\\\\n",
       "\\end{tabular}\n"
      ],
      "text/markdown": [
       "\n",
       "A data.frame: 20 × 7\n",
       "\n",
       "| <!--/--> | metid &lt;chr&gt; | Effect_afterKO &lt;dbl&gt; | metname &lt;chr&gt; | pubchemID &lt;int&gt; | HMDBID &lt;chr&gt; | smiles &lt;chr&gt; | InchiString &lt;chr&gt; |\n",
       "|---|---|---|---|---|---|---|---|\n",
       "| 5,10-Methylenetetrahydrofolate | mlthf[c]  |  4.75276 | 5,10-Methylenetetrahydrofolate                                          | 439175 | <!----> | [H]OC1=NC(=NC2=C1N1C([H])([H])N(C3=C([H])C([H])=C(C([H])=C3[H])C(=O)N([H])C([H])(C([O-])=O)C([H])([H])C([H])([H])C([O-])=O)C([H])([H])[C@@]1([H])C([H])([H])N2[H])N([H])[H] | InChI=1/C20H23N7O6/c21-20-24-16-15(18(31)25-20)27-9-26(8-12(27)7-22-16)11-3-1-10(2-4-11)17(30)23-13(19(32)33)5-6-14(28)29/h1-4,12-13H,5-9H2,(H,23,30)(H,28,29)(H,32,33)(H4,21,22,24,25,31)/p-2/t12-,13?/s2           |\n",
       "| 2-Oxoglutarate | akg[m]    |  3.67189 | 2-Oxoglutarate                                                          |     51 | HMDB00208 | [H]C([H])(C([O-])=O)C([H])([H])C(=O)C([O-])=O                                                                                                                               | InChI=1S/C5H6O5/c6-3(5(9)10)1-2-4(7)8/h1-2H2,(H,7,8)(H,9,10)/p-2                                                                                                                                                     |\n",
       "| (S)-2-[5-Amino-1-(5-Phospho-D-Ribosyl)Imidazole-4-Carboxamido]Succinate | 25aics[c] | -3.73907 | (S)-2-[5-Amino-1-(5-Phospho-D-Ribosyl)Imidazole-4-Carboxamido]Succinate | 160666 | <!----> | [H]O[C@@]1([H])[C@@]([H])(O[C@]([H])(C([H])([H])OP([O-])([O-])=O)[C@@]1([H])O[H])N1C([H])=NC(C(=O)N([H])C([H])(C([O-])=O)C([H])([H])C([O-])=O)=C1N([H])[H]                  | InChI=1/C13H19N4O12P/c14-10-7(11(22)16-4(13(23)24)1-6(18)19)15-3-17(10)12-9(21)8(20)5(29-12)2-28-30(25,26)27/h3-5,8-9,12,20-21H,1-2,14H2,(H,16,22)(H,18,19)(H,23,24)(H2,25,26,27)/p-4/t4?,5-,8-,9-,12-/s2            |\n",
       "| 5-Amino-1-(5-Phospho-D-Ribosyl)Imidazole | air[c]    | -3.73907 | 5-Amino-1-(5-Phospho-D-Ribosyl)Imidazole                                | 161500 | <!----> | [H]O[C@@]1([H])C([H])(O[C@]([H])(C([H])([H])OP([O-])([O-])=O)[C@@]1([H])O[H])N1C([H])=NC([H])=C1N([H])[H]                                                                   | InChI=1/C8H14N3O7P/c9-5-1-10-3-11(5)8-7(13)6(12)4(18-8)2-17-19(14,15)16/h1,3-4,6-8,12-13H,2,9H2,(H2,14,15,16)/p-2/t4-,6-,7-,8?/s2                                                                                    |\n",
       "| 5-Amino-1-(5-Phospho-D-Ribosyl)Imidazole-4-Carboxylate | 5aizc[c]  | -3.73907 | 5-Amino-1-(5-Phospho-D-Ribosyl)Imidazole-4-Carboxylate                  | 165388 | <!----> | [H]O[C@@]1([H])[C@@]([H])(O[C@]([H])(C([H])([H])OP([O-])([O-])=O)[C@@]1([H])O[H])N1C([H])=NC(C([O-])=O)=C1N([H])[H]                                                         | InChI=1S/C9H14N3O9P/c10-7-4(9(15)16)11-2-12(7)8-6(14)5(13)3(21-8)1-20-22(17,18)19/h2-3,5-6,8,13-14H,1,10H2,(H,15,16)(H2,17,18,19)/p-3/t3-,5-,6-,8-/m1/s1                                                             |\n",
       "| N1-(5-Phospho-D-Ribosyl)Glycinamide | gar[c]    | -3.73907 | N1-(5-Phospho-D-Ribosyl)Glycinamide                                     | 160913 | <!----> | [H]O[C@@]1([H])C([H])(O[C@]([H])(C([H])([H])OP([O-])([O-])=O)[C@@]1([H])O[H])N([H])C(=O)C([H])([H])[N+]([H])([H])[H]                                                        | InChI=1/C7H15N2O8P/c8-1-4(10)9-7-6(12)5(11)3(17-7)2-16-18(13,14)15/h3,5-7,11-12H,1-2,8H2,(H,9,10)(H2,13,14,15)/p-1/t3-,5-,6-,7?/s2                                                                                   |\n",
       "| N2-Formyl-N1-(5-Phospho-D-Ribosyl)Glycinamide | fgam[c]   | -3.73907 | N2-Formyl-N1-(5-Phospho-D-Ribosyl)Glycinamide                           | 130805 | <!----> | [H]O[C@@]1([H])C([H])(O[C@]([H])(C([H])([H])OP([O-])([O-])=O)[C@@]1([H])O[H])N([H])C(=O)C([H])([H])N([H])C([H])=O                                                           | InChI=1/C8H15N2O9P/c11-3-9-1-5(12)10-8-7(14)6(13)4(19-8)2-18-20(15,16)17/h3-4,6-8,13-14H,1-2H2,(H,9,11)(H,10,12)(H2,15,16,17)/p-2/t4-,6-,7-,8?/s2                                                                    |\n",
       "| 5-Phospho-Beta-D-Ribosylamine | pram[c]   | -3.73907 | 5-Phospho-Beta-D-Ribosylamine                                           | 439905 | <!----> | [H]O[C@@]1([H])[C@@]([H])(O[C@]([H])(C([H])([H])OP([O-])([O-])=O)[C@@]1([H])O[H])[N+]([H])([H])[H]                                                                          | InChI=1/C5H12NO7P/c6-5-4(8)3(7)2(13-5)1-12-14(9,10)11/h2-5,7-8H,1,6H2,(H2,9,10,11)/p-1/t2-,3-,4-,5-/s2                                                                                                               |\n",
       "| 2-(Formamido)-N1-(5-Phospho-D-Ribosyl)Acetamidine | fpram[c]  | -3.73907 | 2-(Formamido)-N1-(5-Phospho-D-Ribosyl)Acetamidine                       |     NA | <!----> | [H]O[C@@]1([H])C([H])(O[C@]([H])(C([H])([H])OP([O-])([O-])=O)[C@@]1([H])O[H])N([H])C(=[N+]([H])[H])C([H])([H])N([H])C([H])=O                                                | InChI=1/C8H16N3O8P/c9-5(1-10-3-12)11-8-7(14)6(13)4(19-8)2-18-20(15,16)17/h3-4,6-8,13-14H,1-2H2,(H2,9,11)(H,10,12)(H2,15,16,17)/p-1/t4-,6-,7-,8?/s2                                                                   |\n",
       "| Glycine | gly[c]    | -4.27764 | Glycine                                                                 |    750 | HMDB00123 | [H][N+]([H])([H])C([H])([H])C([O-])=O                                                                                                                                       | InChI=1S/C2H5NO2/c3-1-2(4)5/h1,3H2,(H,4,5)                                                                                                                                                                           |\n",
       "| L-Phenylalanine | phe_L[c]  | -4.84409 | L-Phenylalanine                                                         |   6140 | HMDB00159 | [H]C1=C([H])C([H])=C(C([H])=C1[H])C([H])([H])[C@@]([H])(C([O-])=O)[N+]([H])([H])[H]                                                                                         | InChI=1S/C9H11NO2/c10-8(9(11)12)6-7-4-2-1-3-5-7/h1-5,8H,6,10H2,(H,11,12)/t8-/m0/s1                                                                                                                                   |\n",
       "| N6-(1,2-Dicarboxyethyl)-Adenosine Monophosphate | dcamp[c]  | -5.35714 | N6-(1,2-Dicarboxyethyl)-Adenosine Monophosphate                         | 447145 | <!----> | [H]O[C@@]1([H])[C@@]([H])(O[C@]([H])(C([H])([H])OP([O-])([O-])=O)[C@@]1([H])O[H])N1C([H])=NC2=C(N=C([H])N=C12)N([H])C([H])(C([O-])=O)C([H])([H])C([O-])=O                   | InChI=1S/C14H18N5O11P/c20-7(21)1-5(14(24)25)18-11-8-12(16-3-15-11)19(4-17-8)13-10(23)9(22)6(30-13)2-29-31(26,27)28/h3-6,9-10,13,22-23H,1-2H2,(H,20,21)(H,24,25)(H,15,16,18)(H2,26,27,28)/p-4/t5?,6-,9-,10-,13-/m1/s1 |\n",
       "| Inosine-5'-Monophosphate | imp[c]    | -5.35714 | Inosine-5'-Monophosphate                                                |   8582 | HMDB00175 | [H]O[C@@]1([H])[C@@]([H])(O[C@]([H])(C([H])([H])OP([O-])([O-])=O)[C@@]1([H])O[H])N1C([H])=NC2=C1N=C([H])N([H])C2=O                                                          | InChI=1S/C10H13N4O8P/c15-6-4(1-21-23(18,19)20)22-10(7(6)16)14-3-13-5-8(14)11-2-12-9(5)17/h2-4,6-7,10,15-16H,1H2,(H,11,12,17)(H2,18,19,20)/p-2/t4-,6-,7-,10-/m1/s1                                                    |\n",
       "| Guanosine-5'-Triphosphate | gtp[c]    | -6.35714 | Guanosine-5'-Triphosphate                                               |   6830 | HMDB01273 | [H]O[C@@]1([H])[C@@]([H])(O[C@]([H])(C([H])([H])OP([O-])(=O)OP([O-])(=O)OP([O-])([O-])=O)[C@@]1([H])O[H])N1C([H])=NC2=C1N=C(N([H])[H])N([H])C2=O                            | InChI=1S/C10H16N5O14P3/c11-10-13-7-4(8(18)14-10)12-2-15(7)9-6(17)5(16)3(27-9)1-26-31(22,23)29-32(24,25)28-30(19,20)21/h2-3,5-6,9,16-17H,1H2,(H,22,23)(H,24,25)(H2,19,20,21)(H3,11,13,14,18)/p-4/t3-,5-,6-,9-/m1/s1   |\n",
       "| L-Asparagine | asn_L[c]  | -7.00000 | L-Asparagine                                                            |   6267 | HMDB00168 | [H]N([H])C(=O)C([H])([H])[C@@]([H])(C([O-])=O)[N+]([H])([H])[H]                                                                                                             | InChI=1S/C4H8N2O3/c5-2(4(8)9)1-3(6)7/h2H,1,5H2,(H2,6,7)(H,8,9)/t2-/m0/s1                                                                                                                                             |\n",
       "| L-Cysteine | cys_L[c]  | -7.00000 | L-Cysteine                                                              |   5862 | HMDB00574 | [H]SC([H])([H])[C@@]([H])(C([O-])=O)[N+]([H])([H])[H]                                                                                                                       | InChI=1S/C3H7NO2S/c4-2(1-7)3(5)6/h2,7H,1,4H2,(H,5,6)/t2-/m0/s1                                                                                                                                                       |\n",
       "| L-Threonine | thr_L[c]  | -7.00000 | L-Threonine                                                             |   6288 | HMDB00167 | [H]O[C@]([H])(C([H])([H])[H])[C@@]([H])(C([O-])=O)[N+]([H])([H])[H]                                                                                                         | InChI=1S/C4H9NO3/c1-2(6)3(5)4(7)8/h2-3,6H,5H2,1H3,(H,7,8)/t2-,3+/m1/s1                                                                                                                                               |\n",
       "| L-Lysine | lys_L[c]  | -7.00000 | L-Lysine                                                                |   5962 | HMDB00182 | [H][N+]([H])([H])C([H])([H])C([H])([H])C([H])([H])C([H])([H])[C@@]([H])(C([O-])=O)[N+]([H])([H])[H]                                                                         | InChI=1/C6H14N2O2/c7-4-2-1-3-5(8)6(9)10/h5H,1-4,7-8H2,(H,9,10)/p+1/t5-/s2                                                                                                                                            |\n",
       "| L-Arginine | arg_L[c]  | -7.00000 | L-Arginine                                                              |   6322 | HMDB00517 | [H]N([H])C(N([H])C([H])([H])C([H])([H])C([H])([H])[C@@]([H])(C([O-])=O)[N+]([H])([H])[H])=[N+]([H])[H]                                                                      | InChI=1S/C6H14N4O2/c7-4(5(11)12)2-1-3-10-6(8)9/h4H,1-3,7H2,(H,11,12)(H4,8,9,10)/p+1/t4-/m0/s1                                                                                                                        |\n",
       "| L-Methionine | met_L[c]  | -7.00000 | L-Methionine                                                            |   6137 | HMDB00696 | [H]C([H])([H])SC([H])([H])C([H])([H])[C@@]([H])(C([O-])=O)[N+]([H])([H])[H]                                                                                                 | InChI=1S/C5H11NO2S/c1-9-3-2-4(6)5(7)8/h4H,2-3,6H2,1H3,(H,7,8)/t4-/m0/s1                                                                                                                                              |\n",
       "\n"
      ],
      "text/plain": [
       "                                                                        metid    \n",
       "5,10-Methylenetetrahydrofolate                                          mlthf[c] \n",
       "2-Oxoglutarate                                                          akg[m]   \n",
       "(S)-2-[5-Amino-1-(5-Phospho-D-Ribosyl)Imidazole-4-Carboxamido]Succinate 25aics[c]\n",
       "5-Amino-1-(5-Phospho-D-Ribosyl)Imidazole                                air[c]   \n",
       "5-Amino-1-(5-Phospho-D-Ribosyl)Imidazole-4-Carboxylate                  5aizc[c] \n",
       "N1-(5-Phospho-D-Ribosyl)Glycinamide                                     gar[c]   \n",
       "N2-Formyl-N1-(5-Phospho-D-Ribosyl)Glycinamide                           fgam[c]  \n",
       "5-Phospho-Beta-D-Ribosylamine                                           pram[c]  \n",
       "2-(Formamido)-N1-(5-Phospho-D-Ribosyl)Acetamidine                       fpram[c] \n",
       "Glycine                                                                 gly[c]   \n",
       "L-Phenylalanine                                                         phe_L[c] \n",
       "N6-(1,2-Dicarboxyethyl)-Adenosine Monophosphate                         dcamp[c] \n",
       "Inosine-5'-Monophosphate                                                imp[c]   \n",
       "Guanosine-5'-Triphosphate                                               gtp[c]   \n",
       "L-Asparagine                                                            asn_L[c] \n",
       "L-Cysteine                                                              cys_L[c] \n",
       "L-Threonine                                                             thr_L[c] \n",
       "L-Lysine                                                                lys_L[c] \n",
       "L-Arginine                                                              arg_L[c] \n",
       "L-Methionine                                                            met_L[c] \n",
       "                                                                        Effect_afterKO\n",
       "5,10-Methylenetetrahydrofolate                                           4.75276      \n",
       "2-Oxoglutarate                                                           3.67189      \n",
       "(S)-2-[5-Amino-1-(5-Phospho-D-Ribosyl)Imidazole-4-Carboxamido]Succinate -3.73907      \n",
       "5-Amino-1-(5-Phospho-D-Ribosyl)Imidazole                                -3.73907      \n",
       "5-Amino-1-(5-Phospho-D-Ribosyl)Imidazole-4-Carboxylate                  -3.73907      \n",
       "N1-(5-Phospho-D-Ribosyl)Glycinamide                                     -3.73907      \n",
       "N2-Formyl-N1-(5-Phospho-D-Ribosyl)Glycinamide                           -3.73907      \n",
       "5-Phospho-Beta-D-Ribosylamine                                           -3.73907      \n",
       "2-(Formamido)-N1-(5-Phospho-D-Ribosyl)Acetamidine                       -3.73907      \n",
       "Glycine                                                                 -4.27764      \n",
       "L-Phenylalanine                                                         -4.84409      \n",
       "N6-(1,2-Dicarboxyethyl)-Adenosine Monophosphate                         -5.35714      \n",
       "Inosine-5'-Monophosphate                                                -5.35714      \n",
       "Guanosine-5'-Triphosphate                                               -6.35714      \n",
       "L-Asparagine                                                            -7.00000      \n",
       "L-Cysteine                                                              -7.00000      \n",
       "L-Threonine                                                             -7.00000      \n",
       "L-Lysine                                                                -7.00000      \n",
       "L-Arginine                                                              -7.00000      \n",
       "L-Methionine                                                            -7.00000      \n",
       "                                                                        metname                                                                \n",
       "5,10-Methylenetetrahydrofolate                                          5,10-Methylenetetrahydrofolate                                         \n",
       "2-Oxoglutarate                                                          2-Oxoglutarate                                                         \n",
       "(S)-2-[5-Amino-1-(5-Phospho-D-Ribosyl)Imidazole-4-Carboxamido]Succinate (S)-2-[5-Amino-1-(5-Phospho-D-Ribosyl)Imidazole-4-Carboxamido]Succinate\n",
       "5-Amino-1-(5-Phospho-D-Ribosyl)Imidazole                                5-Amino-1-(5-Phospho-D-Ribosyl)Imidazole                               \n",
       "5-Amino-1-(5-Phospho-D-Ribosyl)Imidazole-4-Carboxylate                  5-Amino-1-(5-Phospho-D-Ribosyl)Imidazole-4-Carboxylate                 \n",
       "N1-(5-Phospho-D-Ribosyl)Glycinamide                                     N1-(5-Phospho-D-Ribosyl)Glycinamide                                    \n",
       "N2-Formyl-N1-(5-Phospho-D-Ribosyl)Glycinamide                           N2-Formyl-N1-(5-Phospho-D-Ribosyl)Glycinamide                          \n",
       "5-Phospho-Beta-D-Ribosylamine                                           5-Phospho-Beta-D-Ribosylamine                                          \n",
       "2-(Formamido)-N1-(5-Phospho-D-Ribosyl)Acetamidine                       2-(Formamido)-N1-(5-Phospho-D-Ribosyl)Acetamidine                      \n",
       "Glycine                                                                 Glycine                                                                \n",
       "L-Phenylalanine                                                         L-Phenylalanine                                                        \n",
       "N6-(1,2-Dicarboxyethyl)-Adenosine Monophosphate                         N6-(1,2-Dicarboxyethyl)-Adenosine Monophosphate                        \n",
       "Inosine-5'-Monophosphate                                                Inosine-5'-Monophosphate                                               \n",
       "Guanosine-5'-Triphosphate                                               Guanosine-5'-Triphosphate                                              \n",
       "L-Asparagine                                                            L-Asparagine                                                           \n",
       "L-Cysteine                                                              L-Cysteine                                                             \n",
       "L-Threonine                                                             L-Threonine                                                            \n",
       "L-Lysine                                                                L-Lysine                                                               \n",
       "L-Arginine                                                              L-Arginine                                                             \n",
       "L-Methionine                                                            L-Methionine                                                           \n",
       "                                                                        pubchemID\n",
       "5,10-Methylenetetrahydrofolate                                          439175   \n",
       "2-Oxoglutarate                                                              51   \n",
       "(S)-2-[5-Amino-1-(5-Phospho-D-Ribosyl)Imidazole-4-Carboxamido]Succinate 160666   \n",
       "5-Amino-1-(5-Phospho-D-Ribosyl)Imidazole                                161500   \n",
       "5-Amino-1-(5-Phospho-D-Ribosyl)Imidazole-4-Carboxylate                  165388   \n",
       "N1-(5-Phospho-D-Ribosyl)Glycinamide                                     160913   \n",
       "N2-Formyl-N1-(5-Phospho-D-Ribosyl)Glycinamide                           130805   \n",
       "5-Phospho-Beta-D-Ribosylamine                                           439905   \n",
       "2-(Formamido)-N1-(5-Phospho-D-Ribosyl)Acetamidine                           NA   \n",
       "Glycine                                                                    750   \n",
       "L-Phenylalanine                                                           6140   \n",
       "N6-(1,2-Dicarboxyethyl)-Adenosine Monophosphate                         447145   \n",
       "Inosine-5'-Monophosphate                                                  8582   \n",
       "Guanosine-5'-Triphosphate                                                 6830   \n",
       "L-Asparagine                                                              6267   \n",
       "L-Cysteine                                                                5862   \n",
       "L-Threonine                                                               6288   \n",
       "L-Lysine                                                                  5962   \n",
       "L-Arginine                                                                6322   \n",
       "L-Methionine                                                              6137   \n",
       "                                                                        HMDBID   \n",
       "5,10-Methylenetetrahydrofolate                                                   \n",
       "2-Oxoglutarate                                                          HMDB00208\n",
       "(S)-2-[5-Amino-1-(5-Phospho-D-Ribosyl)Imidazole-4-Carboxamido]Succinate          \n",
       "5-Amino-1-(5-Phospho-D-Ribosyl)Imidazole                                         \n",
       "5-Amino-1-(5-Phospho-D-Ribosyl)Imidazole-4-Carboxylate                           \n",
       "N1-(5-Phospho-D-Ribosyl)Glycinamide                                              \n",
       "N2-Formyl-N1-(5-Phospho-D-Ribosyl)Glycinamide                                    \n",
       "5-Phospho-Beta-D-Ribosylamine                                                    \n",
       "2-(Formamido)-N1-(5-Phospho-D-Ribosyl)Acetamidine                                \n",
       "Glycine                                                                 HMDB00123\n",
       "L-Phenylalanine                                                         HMDB00159\n",
       "N6-(1,2-Dicarboxyethyl)-Adenosine Monophosphate                                  \n",
       "Inosine-5'-Monophosphate                                                HMDB00175\n",
       "Guanosine-5'-Triphosphate                                               HMDB01273\n",
       "L-Asparagine                                                            HMDB00168\n",
       "L-Cysteine                                                              HMDB00574\n",
       "L-Threonine                                                             HMDB00167\n",
       "L-Lysine                                                                HMDB00182\n",
       "L-Arginine                                                              HMDB00517\n",
       "L-Methionine                                                            HMDB00696\n",
       "                                                                        smiles                                                                                                                                                                     \n",
       "5,10-Methylenetetrahydrofolate                                          [H]OC1=NC(=NC2=C1N1C([H])([H])N(C3=C([H])C([H])=C(C([H])=C3[H])C(=O)N([H])C([H])(C([O-])=O)C([H])([H])C([H])([H])C([O-])=O)C([H])([H])[C@@]1([H])C([H])([H])N2[H])N([H])[H]\n",
       "2-Oxoglutarate                                                          [H]C([H])(C([O-])=O)C([H])([H])C(=O)C([O-])=O                                                                                                                              \n",
       "(S)-2-[5-Amino-1-(5-Phospho-D-Ribosyl)Imidazole-4-Carboxamido]Succinate [H]O[C@@]1([H])[C@@]([H])(O[C@]([H])(C([H])([H])OP([O-])([O-])=O)[C@@]1([H])O[H])N1C([H])=NC(C(=O)N([H])C([H])(C([O-])=O)C([H])([H])C([O-])=O)=C1N([H])[H]                 \n",
       "5-Amino-1-(5-Phospho-D-Ribosyl)Imidazole                                [H]O[C@@]1([H])C([H])(O[C@]([H])(C([H])([H])OP([O-])([O-])=O)[C@@]1([H])O[H])N1C([H])=NC([H])=C1N([H])[H]                                                                  \n",
       "5-Amino-1-(5-Phospho-D-Ribosyl)Imidazole-4-Carboxylate                  [H]O[C@@]1([H])[C@@]([H])(O[C@]([H])(C([H])([H])OP([O-])([O-])=O)[C@@]1([H])O[H])N1C([H])=NC(C([O-])=O)=C1N([H])[H]                                                        \n",
       "N1-(5-Phospho-D-Ribosyl)Glycinamide                                     [H]O[C@@]1([H])C([H])(O[C@]([H])(C([H])([H])OP([O-])([O-])=O)[C@@]1([H])O[H])N([H])C(=O)C([H])([H])[N+]([H])([H])[H]                                                       \n",
       "N2-Formyl-N1-(5-Phospho-D-Ribosyl)Glycinamide                           [H]O[C@@]1([H])C([H])(O[C@]([H])(C([H])([H])OP([O-])([O-])=O)[C@@]1([H])O[H])N([H])C(=O)C([H])([H])N([H])C([H])=O                                                          \n",
       "5-Phospho-Beta-D-Ribosylamine                                           [H]O[C@@]1([H])[C@@]([H])(O[C@]([H])(C([H])([H])OP([O-])([O-])=O)[C@@]1([H])O[H])[N+]([H])([H])[H]                                                                         \n",
       "2-(Formamido)-N1-(5-Phospho-D-Ribosyl)Acetamidine                       [H]O[C@@]1([H])C([H])(O[C@]([H])(C([H])([H])OP([O-])([O-])=O)[C@@]1([H])O[H])N([H])C(=[N+]([H])[H])C([H])([H])N([H])C([H])=O                                               \n",
       "Glycine                                                                 [H][N+]([H])([H])C([H])([H])C([O-])=O                                                                                                                                      \n",
       "L-Phenylalanine                                                         [H]C1=C([H])C([H])=C(C([H])=C1[H])C([H])([H])[C@@]([H])(C([O-])=O)[N+]([H])([H])[H]                                                                                        \n",
       "N6-(1,2-Dicarboxyethyl)-Adenosine Monophosphate                         [H]O[C@@]1([H])[C@@]([H])(O[C@]([H])(C([H])([H])OP([O-])([O-])=O)[C@@]1([H])O[H])N1C([H])=NC2=C(N=C([H])N=C12)N([H])C([H])(C([O-])=O)C([H])([H])C([O-])=O                  \n",
       "Inosine-5'-Monophosphate                                                [H]O[C@@]1([H])[C@@]([H])(O[C@]([H])(C([H])([H])OP([O-])([O-])=O)[C@@]1([H])O[H])N1C([H])=NC2=C1N=C([H])N([H])C2=O                                                         \n",
       "Guanosine-5'-Triphosphate                                               [H]O[C@@]1([H])[C@@]([H])(O[C@]([H])(C([H])([H])OP([O-])(=O)OP([O-])(=O)OP([O-])([O-])=O)[C@@]1([H])O[H])N1C([H])=NC2=C1N=C(N([H])[H])N([H])C2=O                           \n",
       "L-Asparagine                                                            [H]N([H])C(=O)C([H])([H])[C@@]([H])(C([O-])=O)[N+]([H])([H])[H]                                                                                                            \n",
       "L-Cysteine                                                              [H]SC([H])([H])[C@@]([H])(C([O-])=O)[N+]([H])([H])[H]                                                                                                                      \n",
       "L-Threonine                                                             [H]O[C@]([H])(C([H])([H])[H])[C@@]([H])(C([O-])=O)[N+]([H])([H])[H]                                                                                                        \n",
       "L-Lysine                                                                [H][N+]([H])([H])C([H])([H])C([H])([H])C([H])([H])C([H])([H])[C@@]([H])(C([O-])=O)[N+]([H])([H])[H]                                                                        \n",
       "L-Arginine                                                              [H]N([H])C(N([H])C([H])([H])C([H])([H])C([H])([H])[C@@]([H])(C([O-])=O)[N+]([H])([H])[H])=[N+]([H])[H]                                                                     \n",
       "L-Methionine                                                            [H]C([H])([H])SC([H])([H])C([H])([H])[C@@]([H])(C([O-])=O)[N+]([H])([H])[H]                                                                                                \n",
       "                                                                        InchiString                                                                                                                                                                                                         \n",
       "5,10-Methylenetetrahydrofolate                                          InChI=1/C20H23N7O6/c21-20-24-16-15(18(31)25-20)27-9-26(8-12(27)7-22-16)11-3-1-10(2-4-11)17(30)23-13(19(32)33)5-6-14(28)29/h1-4,12-13H,5-9H2,(H,23,30)(H,28,29)(H,32,33)(H4,21,22,24,25,31)/p-2/t12-,13?/s2          \n",
       "2-Oxoglutarate                                                          InChI=1S/C5H6O5/c6-3(5(9)10)1-2-4(7)8/h1-2H2,(H,7,8)(H,9,10)/p-2                                                                                                                                                    \n",
       "(S)-2-[5-Amino-1-(5-Phospho-D-Ribosyl)Imidazole-4-Carboxamido]Succinate InChI=1/C13H19N4O12P/c14-10-7(11(22)16-4(13(23)24)1-6(18)19)15-3-17(10)12-9(21)8(20)5(29-12)2-28-30(25,26)27/h3-5,8-9,12,20-21H,1-2,14H2,(H,16,22)(H,18,19)(H,23,24)(H2,25,26,27)/p-4/t4?,5-,8-,9-,12-/s2           \n",
       "5-Amino-1-(5-Phospho-D-Ribosyl)Imidazole                                InChI=1/C8H14N3O7P/c9-5-1-10-3-11(5)8-7(13)6(12)4(18-8)2-17-19(14,15)16/h1,3-4,6-8,12-13H,2,9H2,(H2,14,15,16)/p-2/t4-,6-,7-,8?/s2                                                                                   \n",
       "5-Amino-1-(5-Phospho-D-Ribosyl)Imidazole-4-Carboxylate                  InChI=1S/C9H14N3O9P/c10-7-4(9(15)16)11-2-12(7)8-6(14)5(13)3(21-8)1-20-22(17,18)19/h2-3,5-6,8,13-14H,1,10H2,(H,15,16)(H2,17,18,19)/p-3/t3-,5-,6-,8-/m1/s1                                                            \n",
       "N1-(5-Phospho-D-Ribosyl)Glycinamide                                     InChI=1/C7H15N2O8P/c8-1-4(10)9-7-6(12)5(11)3(17-7)2-16-18(13,14)15/h3,5-7,11-12H,1-2,8H2,(H,9,10)(H2,13,14,15)/p-1/t3-,5-,6-,7?/s2                                                                                  \n",
       "N2-Formyl-N1-(5-Phospho-D-Ribosyl)Glycinamide                           InChI=1/C8H15N2O9P/c11-3-9-1-5(12)10-8-7(14)6(13)4(19-8)2-18-20(15,16)17/h3-4,6-8,13-14H,1-2H2,(H,9,11)(H,10,12)(H2,15,16,17)/p-2/t4-,6-,7-,8?/s2                                                                   \n",
       "5-Phospho-Beta-D-Ribosylamine                                           InChI=1/C5H12NO7P/c6-5-4(8)3(7)2(13-5)1-12-14(9,10)11/h2-5,7-8H,1,6H2,(H2,9,10,11)/p-1/t2-,3-,4-,5-/s2                                                                                                              \n",
       "2-(Formamido)-N1-(5-Phospho-D-Ribosyl)Acetamidine                       InChI=1/C8H16N3O8P/c9-5(1-10-3-12)11-8-7(14)6(13)4(19-8)2-18-20(15,16)17/h3-4,6-8,13-14H,1-2H2,(H2,9,11)(H,10,12)(H2,15,16,17)/p-1/t4-,6-,7-,8?/s2                                                                  \n",
       "Glycine                                                                 InChI=1S/C2H5NO2/c3-1-2(4)5/h1,3H2,(H,4,5)                                                                                                                                                                          \n",
       "L-Phenylalanine                                                         InChI=1S/C9H11NO2/c10-8(9(11)12)6-7-4-2-1-3-5-7/h1-5,8H,6,10H2,(H,11,12)/t8-/m0/s1                                                                                                                                  \n",
       "N6-(1,2-Dicarboxyethyl)-Adenosine Monophosphate                         InChI=1S/C14H18N5O11P/c20-7(21)1-5(14(24)25)18-11-8-12(16-3-15-11)19(4-17-8)13-10(23)9(22)6(30-13)2-29-31(26,27)28/h3-6,9-10,13,22-23H,1-2H2,(H,20,21)(H,24,25)(H,15,16,18)(H2,26,27,28)/p-4/t5?,6-,9-,10-,13-/m1/s1\n",
       "Inosine-5'-Monophosphate                                                InChI=1S/C10H13N4O8P/c15-6-4(1-21-23(18,19)20)22-10(7(6)16)14-3-13-5-8(14)11-2-12-9(5)17/h2-4,6-7,10,15-16H,1H2,(H,11,12,17)(H2,18,19,20)/p-2/t4-,6-,7-,10-/m1/s1                                                   \n",
       "Guanosine-5'-Triphosphate                                               InChI=1S/C10H16N5O14P3/c11-10-13-7-4(8(18)14-10)12-2-15(7)9-6(17)5(16)3(27-9)1-26-31(22,23)29-32(24,25)28-30(19,20)21/h2-3,5-6,9,16-17H,1H2,(H,22,23)(H,24,25)(H2,19,20,21)(H3,11,13,14,18)/p-4/t3-,5-,6-,9-/m1/s1  \n",
       "L-Asparagine                                                            InChI=1S/C4H8N2O3/c5-2(4(8)9)1-3(6)7/h2H,1,5H2,(H2,6,7)(H,8,9)/t2-/m0/s1                                                                                                                                            \n",
       "L-Cysteine                                                              InChI=1S/C3H7NO2S/c4-2(1-7)3(5)6/h2,7H,1,4H2,(H,5,6)/t2-/m0/s1                                                                                                                                                      \n",
       "L-Threonine                                                             InChI=1S/C4H9NO3/c1-2(6)3(5)4(7)8/h2-3,6H,5H2,1H3,(H,7,8)/t2-,3+/m1/s1                                                                                                                                              \n",
       "L-Lysine                                                                InChI=1/C6H14N2O2/c7-4-2-1-3-5(8)6(9)10/h5H,1-4,7-8H2,(H,9,10)/p+1/t5-/s2                                                                                                                                           \n",
       "L-Arginine                                                              InChI=1S/C6H14N4O2/c7-4(5(11)12)2-1-3-10-6(8)9/h4H,1-3,7H2,(H,11,12)(H4,8,9,10)/p+1/t4-/m0/s1                                                                                                                       \n",
       "L-Methionine                                                            InChI=1S/C5H11NO2S/c1-9-3-2-4(6)5(7)8/h4H,2-3,6H2,1H3,(H,7,8)/t4-/m0/s1                                                                                                                                             "
      ]
     },
     "metadata": {},
     "output_type": "display_data"
    }
   ],
   "source": [
    "get_subterm_met1 <- function(df, mets){\n",
    "    out = df[is.element(df$metname,mets),]\n",
    "    cc = sort.int(abs(out$Effect_afterKO),decreasing = T,index.return = T)$ix\n",
    "    out = out[cc,]\n",
    "    idx = !duplicated(out$metname)\n",
    "    out = out[idx,]\n",
    "    #out = out[abs(out$Effect_afterKO) >= 3,]\n",
    "    rownames(out) = out$metname\n",
    "    cc = sort.int(out$Effect_afterKO,decreasing = T,index.return = T)$ix\n",
    "    out = out[cc,]\n",
    "    return(out)\n",
    "}\n",
    "Metabolites  = Overlaped_metabolites_3celllines$metname\n",
    "Metabolites_VIC = file2frame('./modeling/v20220420_naturepaper/results/v20221010/KOmet_covid19_alpha_KO_effect_mets_overlapDEflux.txt')\n",
    "Metabolites_VIC = get_subterm_met1(Metabolites_VIC,Metabolites)\n",
    "Metabolites_VIC"
   ]
  },
  {
   "cell_type": "markdown",
   "metadata": {},
   "source": [
    "## v20230118 omicron"
   ]
  },
  {
   "cell_type": "markdown",
   "metadata": {},
   "source": [
    "### DEflux omicron"
   ]
  },
  {
   "cell_type": "code",
   "execution_count": 10,
   "metadata": {},
   "outputs": [],
   "source": [
    "flux3omicron = file2frame('D:/Work/mgh/covid19/modeling/v20230118_omicron/out/PQMM_fluxRxnsMean.txt',row.names = 1)\n",
    "\n",
    "flux3.annote.omicron = file2frame('D:/Work/mgh/covid19/modeling/v20200530_cellpaper/out/Recon3_covid19_rxns_geneSymbol_20200530v1.txt',row.names = 1)\n",
    "\n",
    "idxx = rowMeans(abs(flux3omicron))> 1e-6\n",
    "flux3omicron = flux3omicron[idxx,]\n",
    "flux3omicron.log2= as.matrix(log2(abs(flux3omicron)+1e-6))\n",
    "list[IA,IB] = ismember(rownames(flux3omicron.log2),rownames(flux3.annote.omicron))\n",
    "flux3.annote.omicron = flux3.annote.omicron[IB,]\n"
   ]
  },
  {
   "cell_type": "code",
   "execution_count": 11,
   "metadata": {},
   "outputs": [],
   "source": [
    "get_element <- function(xx1,n){\n",
    "    tlen = length(xx1)\n",
    "    out  = rep('',tlen)\n",
    "    for(i in 1:tlen){\n",
    "        out[i] = xx1[[i]][n]\n",
    "    }\n",
    "    return(out)\n",
    "}"
   ]
  },
  {
   "cell_type": "code",
   "execution_count": 12,
   "metadata": {},
   "outputs": [],
   "source": [
    "tmpnames = colnames(flux3omicron)\n",
    "tmpnames = gsub('D3.3L','D33L',tmpnames)\n",
    "xx1 = strsplit(tmpnames,'[._]')\n",
    "#clin.omicron = colnames\n",
    "clin.omicron = data.frame(id = tmpnames,stringsAsFactors = F,\n",
    "                         sampleType = get_element(xx1,1),\n",
    "                         region = get_element(xx1,2),\n",
    "                         cellType = get_element(xx1,3),\n",
    "                         viralType = get_element(xx1,4),\n",
    "                         timeAfterInfection = get_element(xx1,5),\n",
    "                         replicate = get_element(xx1,6))"
   ]
  },
  {
   "cell_type": "code",
   "execution_count": 13,
   "metadata": {},
   "outputs": [
    {
     "data": {
      "text/html": [
       "<table class=\"dataframe\">\n",
       "<caption>A data.frame: 6 × 2</caption>\n",
       "<thead>\n",
       "\t<tr><th></th><th scope=col>Numbers</th><th scope=col>percentage</th></tr>\n",
       "\t<tr><th></th><th scope=col>&lt;dbl&gt;</th><th scope=col>&lt;dbl&gt;</th></tr>\n",
       "</thead>\n",
       "<tbody>\n",
       "\t<tr><th scope=row>UK4</th><td>67</td><td>19.71</td></tr>\n",
       "\t<tr><th scope=row>UK5</th><td>90</td><td>26.47</td></tr>\n",
       "\t<tr><th scope=row>UK6</th><td>54</td><td>15.88</td></tr>\n",
       "\t<tr><th scope=row>UK7</th><td>15</td><td> 4.41</td></tr>\n",
       "\t<tr><th scope=row>UK8</th><td>96</td><td>28.24</td></tr>\n",
       "\t<tr><th scope=row>NY3</th><td>18</td><td> 5.29</td></tr>\n",
       "</tbody>\n",
       "</table>\n"
      ],
      "text/latex": [
       "A data.frame: 6 × 2\n",
       "\\begin{tabular}{r|ll}\n",
       "  & Numbers & percentage\\\\\n",
       "  & <dbl> & <dbl>\\\\\n",
       "\\hline\n",
       "\tUK4 & 67 & 19.71\\\\\n",
       "\tUK5 & 90 & 26.47\\\\\n",
       "\tUK6 & 54 & 15.88\\\\\n",
       "\tUK7 & 15 &  4.41\\\\\n",
       "\tUK8 & 96 & 28.24\\\\\n",
       "\tNY3 & 18 &  5.29\\\\\n",
       "\\end{tabular}\n"
      ],
      "text/markdown": [
       "\n",
       "A data.frame: 6 × 2\n",
       "\n",
       "| <!--/--> | Numbers &lt;dbl&gt; | percentage &lt;dbl&gt; |\n",
       "|---|---|---|\n",
       "| UK4 | 67 | 19.71 |\n",
       "| UK5 | 90 | 26.47 |\n",
       "| UK6 | 54 | 15.88 |\n",
       "| UK7 | 15 |  4.41 |\n",
       "| UK8 | 96 | 28.24 |\n",
       "| NY3 | 18 |  5.29 |\n",
       "\n"
      ],
      "text/plain": [
       "    Numbers percentage\n",
       "UK4 67      19.71     \n",
       "UK5 90      26.47     \n",
       "UK6 54      15.88     \n",
       "UK7 15       4.41     \n",
       "UK8 96      28.24     \n",
       "NY3 18       5.29     "
      ]
     },
     "metadata": {},
     "output_type": "display_data"
    }
   ],
   "source": [
    "summary_vector(clin.omicron$region)"
   ]
  },
  {
   "cell_type": "markdown",
   "metadata": {},
   "source": [
    "#### UK4"
   ]
  },
  {
   "cell_type": "code",
   "execution_count": 53,
   "metadata": {},
   "outputs": [],
   "source": [
    "tid = clin.omicron$cellType == 'Calu3' & clin.omicron$region == 'UK4' & clin.omicron$timeAfterInfection == '24h'\n",
    "viralType = unique(clin.omicron$viralType[tid])\n"
   ]
  },
  {
   "cell_type": "code",
   "execution_count": 64,
   "metadata": {},
   "outputs": [
    {
     "name": "stdout",
     "output_type": "stream",
     "text": [
      "[1] \"Step 1: DEflux and bootstrap\"\n",
      "[1] \"N cases:    3\"\n",
      "[1] \"N control: 3\"\n",
      "[1] \"N up-regulated rxns:   232\"\n",
      "[1] \"N down-regulated rxns: 279\"\n",
      "[1] \"Step1 Done\"\n",
      "[1] \"Step2 pathway analysis\"\n"
     ]
    },
    {
     "name": "stderr",
     "output_type": "stream",
     "text": [
      "Warning message:\n",
      "\"Using size for a discrete variable is not advised.\"Warning message:\n",
      "\"Using size for a discrete variable is not advised.\""
     ]
    },
    {
     "name": "stdout",
     "output_type": "stream",
     "text": [
      "[1] \"Step2 down\"\n",
      "[1] \"Step 1: DEflux and bootstrap\"\n",
      "[1] \"N cases:    3\"\n",
      "[1] \"N control: 3\"\n",
      "[1] \"N up-regulated rxns:   82\"\n",
      "[1] \"N down-regulated rxns: 286\"\n",
      "[1] \"Step1 Done\"\n",
      "[1] \"Step2 pathway analysis\"\n"
     ]
    },
    {
     "name": "stderr",
     "output_type": "stream",
     "text": [
      "Warning message:\n",
      "\"Using size for a discrete variable is not advised.\"Warning message:\n",
      "\"Using size for a discrete variable is not advised.\""
     ]
    },
    {
     "name": "stdout",
     "output_type": "stream",
     "text": [
      "[1] \"Step2 down\"\n",
      "[1] \"Step 1: DEflux and bootstrap\"\n",
      "[1] \"N cases:    3\"\n",
      "[1] \"N control: 3\"\n",
      "[1] \"N up-regulated rxns:   290\"\n",
      "[1] \"N down-regulated rxns: 356\"\n",
      "[1] \"Step1 Done\"\n",
      "[1] \"Step2 pathway analysis\"\n"
     ]
    },
    {
     "name": "stderr",
     "output_type": "stream",
     "text": [
      "Warning message:\n",
      "\"Using size for a discrete variable is not advised.\"Warning message:\n",
      "\"Using size for a discrete variable is not advised.\""
     ]
    },
    {
     "name": "stdout",
     "output_type": "stream",
     "text": [
      "[1] \"Step2 down\"\n",
      "[1] \"Step 1: DEflux and bootstrap\"\n",
      "[1] \"N cases:    3\"\n",
      "[1] \"N control: 3\"\n",
      "[1] \"N up-regulated rxns:   496\"\n",
      "[1] \"N down-regulated rxns: 361\"\n",
      "[1] \"Step1 Done\"\n",
      "[1] \"Step2 pathway analysis\"\n"
     ]
    },
    {
     "name": "stderr",
     "output_type": "stream",
     "text": [
      "Warning message:\n",
      "\"Using size for a discrete variable is not advised.\"Warning message:\n",
      "\"Using size for a discrete variable is not advised.\""
     ]
    },
    {
     "name": "stdout",
     "output_type": "stream",
     "text": [
      "[1] \"Step2 down\"\n",
      "[1] \"Step 1: DEflux and bootstrap\"\n",
      "[1] \"N cases:    2\"\n",
      "[1] \"N control: 3\"\n",
      "[1] \"N up-regulated rxns:   126\"\n",
      "[1] \"N down-regulated rxns: 292\"\n",
      "[1] \"Step1 Done\"\n",
      "[1] \"Step2 pathway analysis\"\n"
     ]
    },
    {
     "name": "stderr",
     "output_type": "stream",
     "text": [
      "Warning message:\n",
      "\"Using size for a discrete variable is not advised.\"Warning message:\n",
      "\"Using size for a discrete variable is not advised.\""
     ]
    },
    {
     "name": "stdout",
     "output_type": "stream",
     "text": [
      "[1] \"Step2 down\"\n",
      "[1] \"Step 1: DEflux and bootstrap\"\n",
      "[1] \"N cases:    2\"\n",
      "[1] \"N control: 3\"\n",
      "[1] \"N up-regulated rxns:   183\"\n",
      "[1] \"N down-regulated rxns: 298\"\n",
      "[1] \"Step1 Done\"\n",
      "[1] \"Step2 pathway analysis\"\n"
     ]
    },
    {
     "name": "stderr",
     "output_type": "stream",
     "text": [
      "Warning message:\n",
      "\"Using size for a discrete variable is not advised.\"Warning message:\n",
      "\"Using size for a discrete variable is not advised.\""
     ]
    },
    {
     "name": "stdout",
     "output_type": "stream",
     "text": [
      "[1] \"Step2 down\"\n",
      "[1] \"Step 1: DEflux and bootstrap\"\n",
      "[1] \"N cases:    3\"\n",
      "[1] \"N control: 3\"\n",
      "[1] \"N up-regulated rxns:   173\"\n",
      "[1] \"N down-regulated rxns: 247\"\n",
      "[1] \"Step1 Done\"\n",
      "[1] \"Step2 pathway analysis\"\n"
     ]
    },
    {
     "name": "stderr",
     "output_type": "stream",
     "text": [
      "Warning message:\n",
      "\"Using size for a discrete variable is not advised.\"Warning message:\n",
      "\"Using size for a discrete variable is not advised.\""
     ]
    },
    {
     "name": "stdout",
     "output_type": "stream",
     "text": [
      "[1] \"Step2 down\"\n"
     ]
    }
   ],
   "source": [
    "DA.UK4= list()\n",
    "for(i in 1:length(viralType)){\n",
    "    if (viralType[i] == 'Mock'){next;}\n",
    "    pflux = flux3omicron.log2[,clin.omicron$cellType == 'Calu3' & clin.omicron$region == 'UK4' \n",
    "                         & clin.omicron$timeAfterInfection == '24h' & clin.omicron$viralType == viralType[i]]\n",
    "    cflux = flux3omicron.log2[,clin.omicron$cellType == 'Calu3' & clin.omicron$region == 'UK4' \n",
    "                         & clin.omicron$timeAfterInfection == '24h' & clin.omicron$viralType == 'Mock']\n",
    "    outdir = paste0('./modeling/v20230118_omicron/results/oneline_flux_',viralType[i])\n",
    "    if(!dir.exists(outdir)){\n",
    "        dir.create(outdir)\n",
    "    }  \n",
    "    DA.UK4[[i]] = one_line_flux_analysis(flux3omicron,pflux,cflux,flux3.annote.omicron,\n",
    "                                          outdir)\n",
    "    \n",
    "}"
   ]
  },
  {
   "cell_type": "markdown",
   "metadata": {},
   "source": [
    "#### UK5"
   ]
  },
  {
   "cell_type": "code",
   "execution_count": 65,
   "metadata": {},
   "outputs": [
    {
     "data": {
      "text/html": [
       "<ol class=list-inline>\n",
       "\t<li>'AlphaA'</li>\n",
       "\t<li>'AlphaAplusRux'</li>\n",
       "\t<li>'AlphaOrf6KO'</li>\n",
       "\t<li>'AlphaOrf9bKO'</li>\n",
       "\t<li>'AlphaWT'</li>\n",
       "\t<li>'Beta1'</li>\n",
       "\t<li>'Delta2A'</li>\n",
       "\t<li>'Delta2AplusRux'</li>\n",
       "\t<li>'Delta2AplusTPCA'</li>\n",
       "\t<li>'GammaP1A'</li>\n",
       "\t<li>'GammaP1B'</li>\n",
       "\t<li>'IC19'</li>\n",
       "\t<li>'Mock'</li>\n",
       "\t<li>'PolyIC'</li>\n",
       "\t<li>'VIC'</li>\n",
       "</ol>\n"
      ],
      "text/latex": [
       "\\begin{enumerate*}\n",
       "\\item 'AlphaA'\n",
       "\\item 'AlphaAplusRux'\n",
       "\\item 'AlphaOrf6KO'\n",
       "\\item 'AlphaOrf9bKO'\n",
       "\\item 'AlphaWT'\n",
       "\\item 'Beta1'\n",
       "\\item 'Delta2A'\n",
       "\\item 'Delta2AplusRux'\n",
       "\\item 'Delta2AplusTPCA'\n",
       "\\item 'GammaP1A'\n",
       "\\item 'GammaP1B'\n",
       "\\item 'IC19'\n",
       "\\item 'Mock'\n",
       "\\item 'PolyIC'\n",
       "\\item 'VIC'\n",
       "\\end{enumerate*}\n"
      ],
      "text/markdown": [
       "1. 'AlphaA'\n",
       "2. 'AlphaAplusRux'\n",
       "3. 'AlphaOrf6KO'\n",
       "4. 'AlphaOrf9bKO'\n",
       "5. 'AlphaWT'\n",
       "6. 'Beta1'\n",
       "7. 'Delta2A'\n",
       "8. 'Delta2AplusRux'\n",
       "9. 'Delta2AplusTPCA'\n",
       "10. 'GammaP1A'\n",
       "11. 'GammaP1B'\n",
       "12. 'IC19'\n",
       "13. 'Mock'\n",
       "14. 'PolyIC'\n",
       "15. 'VIC'\n",
       "\n",
       "\n"
      ],
      "text/plain": [
       " [1] \"AlphaA\"          \"AlphaAplusRux\"   \"AlphaOrf6KO\"     \"AlphaOrf9bKO\"   \n",
       " [5] \"AlphaWT\"         \"Beta1\"           \"Delta2A\"         \"Delta2AplusRux\" \n",
       " [9] \"Delta2AplusTPCA\" \"GammaP1A\"        \"GammaP1B\"        \"IC19\"           \n",
       "[13] \"Mock\"            \"PolyIC\"          \"VIC\"            "
      ]
     },
     "metadata": {},
     "output_type": "display_data"
    }
   ],
   "source": [
    "tid = clin.omicron$cellType == 'Calu3' & clin.omicron$region == 'UK5' & clin.omicron$timeAfterInfection == '24h'\n",
    "viralType = unique(clin.omicron$viralType[tid])\n",
    "viralType"
   ]
  },
  {
   "cell_type": "markdown",
   "metadata": {},
   "source": [
    "#### UK6"
   ]
  },
  {
   "cell_type": "code",
   "execution_count": 66,
   "metadata": {},
   "outputs": [
    {
     "data": {
      "text/html": [
       "<ol class=list-inline>\n",
       "\t<li>'AlphaA'</li>\n",
       "\t<li>'DeltaA'</li>\n",
       "\t<li>'IC19'</li>\n",
       "\t<li>'Mock'</li>\n",
       "\t<li>'Omicron1'</li>\n",
       "\t<li>'VIC'</li>\n",
       "</ol>\n"
      ],
      "text/latex": [
       "\\begin{enumerate*}\n",
       "\\item 'AlphaA'\n",
       "\\item 'DeltaA'\n",
       "\\item 'IC19'\n",
       "\\item 'Mock'\n",
       "\\item 'Omicron1'\n",
       "\\item 'VIC'\n",
       "\\end{enumerate*}\n"
      ],
      "text/markdown": [
       "1. 'AlphaA'\n",
       "2. 'DeltaA'\n",
       "3. 'IC19'\n",
       "4. 'Mock'\n",
       "5. 'Omicron1'\n",
       "6. 'VIC'\n",
       "\n",
       "\n"
      ],
      "text/plain": [
       "[1] \"AlphaA\"   \"DeltaA\"   \"IC19\"     \"Mock\"     \"Omicron1\" \"VIC\"     "
      ]
     },
     "metadata": {},
     "output_type": "display_data"
    }
   ],
   "source": [
    "tid = clin.omicron$cellType == 'Calu3' & clin.omicron$region == 'UK6' & clin.omicron$timeAfterInfection == '24h'\n",
    "viralType = unique(clin.omicron$viralType[tid])\n",
    "viralType"
   ]
  },
  {
   "cell_type": "markdown",
   "metadata": {},
   "source": [
    "#### UK8"
   ]
  },
  {
   "cell_type": "code",
   "execution_count": 69,
   "metadata": {},
   "outputs": [
    {
     "data": {
      "text/html": [
       "<ol class=list-inline>\n",
       "\t<li>3756</li>\n",
       "\t<li>0</li>\n",
       "</ol>\n"
      ],
      "text/latex": [
       "\\begin{enumerate*}\n",
       "\\item 3756\n",
       "\\item 0\n",
       "\\end{enumerate*}\n"
      ],
      "text/markdown": [
       "1. 3756\n",
       "2. 0\n",
       "\n",
       "\n"
      ],
      "text/plain": [
       "[1] 3756    0"
      ]
     },
     "metadata": {},
     "output_type": "display_data"
    }
   ],
   "source": [
    "dim(pflux)"
   ]
  },
  {
   "cell_type": "code",
   "execution_count": 32,
   "metadata": {},
   "outputs": [
    {
     "data": {
      "text/html": [
       "<ol class=list-inline>\n",
       "\t<li>'Alpha'</li>\n",
       "\t<li>'BA1'</li>\n",
       "\t<li>'BA2'</li>\n",
       "\t<li>'BA4'</li>\n",
       "\t<li>'BA5'</li>\n",
       "\t<li>'Delta'</li>\n",
       "\t<li>'IC19'</li>\n",
       "\t<li>'Mock'</li>\n",
       "</ol>\n"
      ],
      "text/latex": [
       "\\begin{enumerate*}\n",
       "\\item 'Alpha'\n",
       "\\item 'BA1'\n",
       "\\item 'BA2'\n",
       "\\item 'BA4'\n",
       "\\item 'BA5'\n",
       "\\item 'Delta'\n",
       "\\item 'IC19'\n",
       "\\item 'Mock'\n",
       "\\end{enumerate*}\n"
      ],
      "text/markdown": [
       "1. 'Alpha'\n",
       "2. 'BA1'\n",
       "3. 'BA2'\n",
       "4. 'BA4'\n",
       "5. 'BA5'\n",
       "6. 'Delta'\n",
       "7. 'IC19'\n",
       "8. 'Mock'\n",
       "\n",
       "\n"
      ],
      "text/plain": [
       "[1] \"Alpha\" \"BA1\"   \"BA2\"   \"BA4\"   \"BA5\"   \"Delta\" \"IC19\"  \"Mock\" "
      ]
     },
     "metadata": {},
     "output_type": "display_data"
    },
    {
     "name": "stdout",
     "output_type": "stream",
     "text": [
      "[1] \"Step 1: DEflux and bootstrap\"\n",
      "[1] \"N cases:    3\"\n",
      "[1] \"N control: 3\"\n",
      "[1] \"N up-regulated rxns:   62\"\n",
      "[1] \"N down-regulated rxns: 422\"\n",
      "[1] \"Step1 Done\"\n",
      "[1] \"Step2 pathway analysis\"\n"
     ]
    },
    {
     "name": "stderr",
     "output_type": "stream",
     "text": [
      "Warning message:\n",
      "\"Using size for a discrete variable is not advised.\"Warning message:\n",
      "\"Using size for a discrete variable is not advised.\""
     ]
    },
    {
     "name": "stdout",
     "output_type": "stream",
     "text": [
      "[1] \"Step2 down\"\n",
      "[1] \"Step 1: DEflux and bootstrap\"\n",
      "[1] \"N cases:    3\"\n",
      "[1] \"N control: 3\"\n",
      "[1] \"N up-regulated rxns:   122\"\n",
      "[1] \"N down-regulated rxns: 163\"\n",
      "[1] \"Step1 Done\"\n",
      "[1] \"Step2 pathway analysis\"\n"
     ]
    },
    {
     "name": "stderr",
     "output_type": "stream",
     "text": [
      "Warning message:\n",
      "\"Using size for a discrete variable is not advised.\"Warning message:\n",
      "\"Using size for a discrete variable is not advised.\""
     ]
    },
    {
     "name": "stdout",
     "output_type": "stream",
     "text": [
      "[1] \"Step2 down\"\n",
      "[1] \"Step 1: DEflux and bootstrap\"\n",
      "[1] \"N cases:    3\"\n",
      "[1] \"N control: 3\"\n",
      "[1] \"N up-regulated rxns:   128\"\n",
      "[1] \"N down-regulated rxns: 185\"\n",
      "[1] \"Step1 Done\"\n",
      "[1] \"Step2 pathway analysis\"\n"
     ]
    },
    {
     "name": "stderr",
     "output_type": "stream",
     "text": [
      "Warning message:\n",
      "\"Using size for a discrete variable is not advised.\"Warning message:\n",
      "\"Using size for a discrete variable is not advised.\""
     ]
    },
    {
     "name": "stdout",
     "output_type": "stream",
     "text": [
      "[1] \"Step2 down\"\n",
      "[1] \"Step 1: DEflux and bootstrap\"\n",
      "[1] \"N cases:    3\"\n",
      "[1] \"N control: 3\"\n",
      "[1] \"N up-regulated rxns:   111\"\n",
      "[1] \"N down-regulated rxns: 134\"\n",
      "[1] \"Step1 Done\"\n",
      "[1] \"Step2 pathway analysis\"\n"
     ]
    },
    {
     "name": "stderr",
     "output_type": "stream",
     "text": [
      "Warning message:\n",
      "\"Using size for a discrete variable is not advised.\"Warning message:\n",
      "\"Using size for a discrete variable is not advised.\""
     ]
    },
    {
     "name": "stdout",
     "output_type": "stream",
     "text": [
      "[1] \"Step2 down\"\n",
      "[1] \"Step 1: DEflux and bootstrap\"\n",
      "[1] \"N cases:    3\"\n",
      "[1] \"N control: 3\"\n",
      "[1] \"N up-regulated rxns:   113\"\n",
      "[1] \"N down-regulated rxns: 171\"\n",
      "[1] \"Step1 Done\"\n",
      "[1] \"Step2 pathway analysis\"\n"
     ]
    },
    {
     "name": "stderr",
     "output_type": "stream",
     "text": [
      "Warning message:\n",
      "\"Using size for a discrete variable is not advised.\"Warning message:\n",
      "\"Using size for a discrete variable is not advised.\""
     ]
    },
    {
     "name": "stdout",
     "output_type": "stream",
     "text": [
      "[1] \"Step2 down\"\n",
      "[1] \"Step 1: DEflux and bootstrap\"\n",
      "[1] \"N cases:    3\"\n",
      "[1] \"N control: 3\"\n",
      "[1] \"N up-regulated rxns:   170\"\n",
      "[1] \"N down-regulated rxns: 299\"\n",
      "[1] \"Step1 Done\"\n",
      "[1] \"Step2 pathway analysis\"\n"
     ]
    },
    {
     "name": "stderr",
     "output_type": "stream",
     "text": [
      "Warning message:\n",
      "\"Using size for a discrete variable is not advised.\"Warning message:\n",
      "\"Using size for a discrete variable is not advised.\""
     ]
    },
    {
     "name": "stdout",
     "output_type": "stream",
     "text": [
      "[1] \"Step2 down\"\n",
      "[1] \"Step 1: DEflux and bootstrap\"\n",
      "[1] \"N cases:    3\"\n",
      "[1] \"N control: 3\"\n",
      "[1] \"N up-regulated rxns:   136\"\n",
      "[1] \"N down-regulated rxns: 280\"\n",
      "[1] \"Step1 Done\"\n",
      "[1] \"Step2 pathway analysis\"\n"
     ]
    },
    {
     "name": "stderr",
     "output_type": "stream",
     "text": [
      "Warning message:\n",
      "\"Using size for a discrete variable is not advised.\"Warning message:\n",
      "\"Using size for a discrete variable is not advised.\""
     ]
    },
    {
     "name": "stdout",
     "output_type": "stream",
     "text": [
      "[1] \"Step2 down\"\n"
     ]
    }
   ],
   "source": [
    "tid = clin.omicron$cellType == 'Calu3' & clin.omicron$region == 'UK8' & clin.omicron$timeAfterInfection == '24h'\n",
    "viralType = unique(clin.omicron$viralType[tid])\n",
    "viralType\n",
    "theservePathway = c('SARS-Cov-2 proteins','SARS-Cov-2 sense RNA',\n",
    "                   'SARS-Cov-2 antisense RNA','SARS-Cov-2 lipid',\n",
    "                   'SARS-Cov-2 cleavage','SARS-Cov-2 biomass')\n",
    "\n",
    "DA.UK8= list()\n",
    "for(i in 1:length(viralType)){\n",
    "    if (viralType[i] == 'Mock'){next;}\n",
    "    pflux = flux3omicron.log2[,clin.omicron$cellType == 'Calu3' & clin.omicron$region == 'UK8' \n",
    "                         & clin.omicron$timeAfterInfection == '24h' & clin.omicron$viralType == viralType[i]]\n",
    "    cflux = flux3omicron.log2[,clin.omicron$cellType == 'Calu3' & clin.omicron$region == 'UK8' \n",
    "                         & clin.omicron$timeAfterInfection == '24h' & clin.omicron$viralType == 'Mock']\n",
    "    outdir = paste0('./modeling/v20230118_omicron/results/UK8/oneline_flux_',viralType[i],'_v20230209')\n",
    "    if(!dir.exists(outdir)){\n",
    "        dir.create(outdir)\n",
    "    }  \n",
    "    DA.UK8[[i]] = one_line_flux_analysis(flux3omicron,pflux,cflux,flux3.annote.omicron,\n",
    "                                          outdir,reserve.pathway = theservePathway)\n",
    "    \n",
    "}"
   ]
  },
  {
   "cell_type": "code",
   "execution_count": 33,
   "metadata": {},
   "outputs": [],
   "source": [
    "names(DA.UK8) = viralType[1:7]"
   ]
  },
  {
   "cell_type": "markdown",
   "metadata": {},
   "source": [
    "### Figure heatmap All"
   ]
  },
  {
   "cell_type": "code",
   "execution_count": 8,
   "metadata": {},
   "outputs": [],
   "source": [
    "WDA.covid.A549 = file2frame('./modeling/v20200530_cellpaper/results/oneline_flux_A549ACE2_v20230209/WDA.cen.bootstrap.txt')\n",
    "WDA.covid.Calu3 = file2frame('./modeling/v20200530_cellpaper/results/oneline_flux_Calu3_v20230209/WDA.cen.bootstrap.txt')\n",
    "WDA.covid.NHBE = file2frame('./modeling/v20200530_cellpaper/results/oneline_flux_NHBE_v20230209/WDA.cen.bootstrap.txt')\n"
   ]
  },
  {
   "cell_type": "code",
   "execution_count": 14,
   "metadata": {},
   "outputs": [
    {
     "data": {
      "text/html": [
       "<style>\n",
       ".list-inline {list-style: none; margin:0; padding: 0}\n",
       ".list-inline>li {display: inline-block}\n",
       ".list-inline>li:not(:last-child)::after {content: \"\\00b7\"; padding: 0 .5ex}\n",
       "</style>\n",
       "<ol class=list-inline><li>'Alpha'</li><li>'BA1'</li><li>'BA2'</li><li>'BA4'</li><li>'BA5'</li><li>'Delta'</li><li>'IC19'</li><li>'Mock'</li></ol>\n"
      ],
      "text/latex": [
       "\\begin{enumerate*}\n",
       "\\item 'Alpha'\n",
       "\\item 'BA1'\n",
       "\\item 'BA2'\n",
       "\\item 'BA4'\n",
       "\\item 'BA5'\n",
       "\\item 'Delta'\n",
       "\\item 'IC19'\n",
       "\\item 'Mock'\n",
       "\\end{enumerate*}\n"
      ],
      "text/markdown": [
       "1. 'Alpha'\n",
       "2. 'BA1'\n",
       "3. 'BA2'\n",
       "4. 'BA4'\n",
       "5. 'BA5'\n",
       "6. 'Delta'\n",
       "7. 'IC19'\n",
       "8. 'Mock'\n",
       "\n",
       "\n"
      ],
      "text/plain": [
       "[1] \"Alpha\" \"BA1\"   \"BA2\"   \"BA4\"   \"BA5\"   \"Delta\" \"IC19\"  \"Mock\" "
      ]
     },
     "metadata": {},
     "output_type": "display_data"
    }
   ],
   "source": [
    "tid = clin.omicron$cellType == 'Calu3' & clin.omicron$region == 'UK8' & clin.omicron$timeAfterInfection == '24h'\n",
    "viralType = unique(clin.omicron$viralType[tid])\n",
    "viralType"
   ]
  },
  {
   "cell_type": "code",
   "execution_count": 15,
   "metadata": {},
   "outputs": [],
   "source": [
    "DA.UK8= list()\n",
    "for(i in 1:length(viralType)){\n",
    "    if (viralType[i] == 'Mock'){next;}\n",
    "    outdir = paste0('./modeling/v20230118_omicron/results/UK8/oneline_flux_',viralType[i],'_v20230209')\n",
    "    if(!dir.exists(outdir)){\n",
    "        dir.create(outdir)\n",
    "    }  \n",
    "    DA.UK8[[i]] = file2frame(paste0(outdir,'/','WDA.cen.bootstrap.txt'))\n",
    "    \n",
    "}\n",
    "names(DA.UK8) = viralType[1:7]"
   ]
  },
  {
   "cell_type": "code",
   "execution_count": 79,
   "metadata": {},
   "outputs": [],
   "source": [
    "WDA.covid.VIC = file2frame('./modeling/v20220420_naturepaper/results/oneline_flux_VIC_v20230209/WDA.cen.bootstrap.txt')\n",
    "    DE = list()\n",
    "    DE[[1]] = WDA.covid.A549[WDA.covid.A549$fdr < 1,]\n",
    "    DE[[2]] = WDA.covid.Calu3[WDA.covid.Calu3$fdr < 1,]\n",
    "    DE[[3]] = WDA.covid.NHBE[WDA.covid.NHBE$fdr < 1,]\n",
    "    #DE[[4]] = DA.UK8[['Alpha']][DA.UK8[['Alpha']]$fdr < 1,]\n",
    "    DE[[4]] = WDA.covid.VIC[WDA.covid.VIC$fdr < 1,]\n",
    "    DE[[5]] = DA.UK8[['Delta']][DA.UK8[['Delta']]$fdr < 1,]\n",
    "    DE[[6]] = DA.UK8[['BA1']][DA.UK8[['BA1']]$fdr < 1,]\n",
    "    DE[[7]] = DA.UK8[['BA2']][DA.UK8[['BA2']]$fdr < 1,]\n",
    "    DE[[8]] = DA.UK8[['BA4']][DA.UK8[['BA4']]$fdr < 1,]\n",
    "    DE[[9]] = DA.UK8[['BA5']][DA.UK8[['BA5']]$fdr < 1,]\n",
    "   for(i in 1:9){\n",
    "       rownames(DE[[i]]) = DE[[i]]$subsystem\n",
    "   }\n",
    "\n",
    "\n",
    "    celltypes = c('A549ACE2','Calu3','NHBE','Alpha','Delta','BA1','BA2','BA4','BA5')\n",
    "   \n",
    "    tlist1 = list()\n",
    "    for(i in 1:9){\n",
    "        tlist1[[i]] = as.data.frame(t(DE[[i]]$DAscore))\n",
    "        colnames(tlist1[[i]]) = DE[[i]]$subsystem\n",
    "        \n",
    "    }\n",
    "    names(tlist1) = celltypes\n",
    "    tmpmatrix = t(data.table::rbindlist(tlist1,fill = T))\n",
    "    colnames(tmpmatrix) = celltypes\n",
    "    tmpmatrix[is.na(tmpmatrix)] =0\n",
    "    \n",
    "    tlist2 = list()\n",
    "    for(i in 1:9){\n",
    "        tlist2[[i]] = as.data.frame(t(DE[[i]]$fdr))\n",
    "        colnames(tlist2[[i]]) = DE[[i]]$subsystem  \n",
    "    }\n",
    "    names(tlist2) =celltypes\n",
    "    tmpmatrix2 = t(data.table::rbindlist(tlist2,fill = T))\n",
    "    colnames(tmpmatrix2) = celltypes\n",
    "    tmpmatrix2[is.na(tmpmatrix2)] =1\n",
    "    \n",
    "    display_matrix = matrix(' ',nrow(tmpmatrix),ncol(tmpmatrix))\n",
    "    display_matrix[tmpmatrix2 < 0.1] = '.'\n",
    "    #display_matrix[tmpmatrix2 >= 0.05 & tmpmatrix2 < 0.1] = '.'\n",
    "    display_matrix[tmpmatrix2 >= 0.01 & tmpmatrix2 < 0.05] = '*'\n",
    "    display_matrix[tmpmatrix2 >= 0.001 & tmpmatrix2 < 0.01] = '**'\n",
    "    display_matrix[tmpmatrix2 < 0.001] = '***'\n",
    "    \n",
    "    enbrks<-c(-1,-0.8,-0.4,-0.2,-0.05,-0.02,0.02,0.05,0.2,0.4,0.8,1)\n",
    "    consist_ids = abs(rowSums(sign(tmpmatrix[,1:3]))) > 1 "
   ]
  },
  {
   "cell_type": "code",
   "execution_count": 77,
   "metadata": {},
   "outputs": [],
   "source": [
    "rowMedians <- function(x){\n",
    "    return(apply(x,1,median))\n",
    "}"
   ]
  },
  {
   "cell_type": "code",
   "execution_count": 78,
   "metadata": {},
   "outputs": [],
   "source": [
    "x1 = tmpmatrix[consist_ids,]\n",
    "    xa = cbind(rowMeans(x1[,1:3]),x1[,4:9])\n",
    "    colnames(xa) = c('IC19', 'Alpha','Delta','BA1','BA2','BA4','BA5')\n",
    "    x2 = tmpmatrix2[consist_ids,]\n",
    "    xb = cbind(rowMedians(x2[,1:3]),x2[,4:9])\n",
    "    colnames(xb) = c('IC19', 'Alpha','Delta','BA1','BA2','BA4','BA5')\n",
    "    display_matrix1 = matrix(' ',nrow(xa),ncol(xa))\n",
    "    display_matrix1[xb < 0.1] = '.'\n",
    "    #display_matrix[tmpmatrix2 >= 0.05 & tmpmatrix2 < 0.1] = '.'\n",
    "    display_matrix1[xb >= 0.01 & xb < 0.05] = '*'\n",
    "    display_matrix1[xb >= 0.001 & xb < 0.01] = '**'\n",
    "    display_matrix1[xb < 0.001] = '***'\n",
    " enbrks<-c(-1,-0.8,-0.4,-0.2,-0.05,-0.02,0.02,0.05,0.2,0.4,0.8,1)\n",
    "   id = xa[,1]*xa[,6] >= 0\n",
    "pheatmap::pheatmap(xa[id,],scale = 'none',cluster_rows = T,cluster_cols = F,fontsize_row = 9,fontsize_col = 9,\n",
    "                       breaks = enbrks,\n",
    "                       treeheight_row = 20,treeheight_col = 20,legend = T,\n",
    "                       display_numbers = display_matrix1[id,],\n",
    "                  #color=colorRampPalette(c('#3B4992','gray95','#BB0021'))(9),\n",
    "                       #colorRampPalette(c('#008280','gray95','#BB0021'))(11),\n",
    "                color=colorRampPalette(c('#008280','gray95','#BB0021'))(11),\n",
    "                  #file ='./modeling/v20200530_cellpaper/figures/Figure 3A_pathwayheatmap_ALL.pdf',\n",
    "                   file ='./modeling/v20230118_omicron/figures/Figure 3A_pathwayheatmap_ALL_consist_3celltypes_mutationv1_allpathwaysAA.pdf',\n",
    "                  ,height = 5,width = 7)"
   ]
  },
  {
   "cell_type": "code",
   "execution_count": 82,
   "metadata": {},
   "outputs": [],
   "source": [
    "x1 = tmpmatrix[consist_ids,]\n",
    "    xa = cbind(rowMeans(x1[,1:3]),x1[,4:5],rowMeans(x1[,6:9]))\n",
    "    colnames(xa) = c('IC19', 'Alpha','Delta','Omicron')\n",
    "    x2 = tmpmatrix2[consist_ids,]\n",
    "    xb = cbind(rowMins(x2[,1:3]),x2[,4:5],rowMeans(x2[,6:9]))\n",
    "    colnames(xb) = c('IC19', 'Alpha','Delta','Omicron')\n",
    "    display_matrix1 = matrix(' ',nrow(xa),ncol(xa))\n",
    "    display_matrix1[xb < 0.1] = '.'\n",
    "    #display_matrix[tmpmatrix2 >= 0.05 & tmpmatrix2 < 0.1] = '.'\n",
    "    display_matrix1[xb >= 0.01 & xb < 0.05] = '*'\n",
    "    display_matrix1[xb >= 0.001 & xb < 0.01] = '**'\n",
    "    display_matrix1[xb < 0.001] = '***'\n",
    " enbrks<-c(-1,-0.8,-0.4,-0.2,-0.05,-0.02,0.02,0.05,0.2,0.4,0.8,1)\n",
    "   id = xa[,1]*xa[,4] >= 0 & xa[,1]*xa[,3] >= 0 & xa[,1]*xa[,2] >=0\n",
    "pheatmap::pheatmap(xa[id,],scale = 'none',cluster_rows = T,cluster_cols = F,fontsize_row = 9,fontsize_col = 9,\n",
    "                       breaks = enbrks,\n",
    "                       treeheight_row = 20,treeheight_col = 20,legend = T,\n",
    "                       display_numbers = display_matrix1[id,],\n",
    "                  #color=colorRampPalette(c('#3B4992','gray95','#BB0021'))(9),\n",
    "                       #colorRampPalette(c('#008280','gray95','#BB0021'))(11),\n",
    "                #color=colorRampPalette(c('#008280','gray95','#BB0021'))(11),\n",
    "                   color=colorRampPalette(c('#4DBBD599','gray95','#E64B3599'))(11),#npg style\n",
    "                  #file ='./modeling/v20200530_cellpaper/figures/Figure 3A_pathwayheatmap_ALL.pdf',\n",
    "                   file ='./modeling/v20230118_omicron/figures/Figure 3A_pathwayheatmap_ALL_consist_3celltypes_mutationv1_mean_natureAlpha__v20230209_allpathwaysAA.pdf',\n",
    "                  ,height = 4,width = 3.5)"
   ]
  },
  {
   "cell_type": "code",
   "execution_count": 31,
   "metadata": {},
   "outputs": [],
   "source": [
    "rowMins <- function(x){\n",
    "    return(apply(x,1,min))\n",
    "}"
   ]
  },
  {
   "cell_type": "code",
   "execution_count": 33,
   "metadata": {},
   "outputs": [],
   "source": [
    "# + bedrest result\n",
    "bedrest = file2frame('E:/iHuman/projects/bedrest/results/v20230306/long_Post_vs_Pre/WDA.cen.bootstrap.txt')\n",
    "rownames(bedrest) = bedrest$subsystem\n",
    "x1 = tmpmatrix[consist_ids,]\n",
    "    xa = cbind(rowMeans(x1[,1:3]),x1[,4:5],rowMeans(x1[,6:9]))\n",
    "    #colnames(xa) = c('IC19', 'Alpha','Delta','Omicron')\n",
    "    bedrest.common = bedrest[rownames(xa),]\n",
    "    rownames(bedrest.common) = rownames(xa)\n",
    "    bedrest.common$DAscore[is.na(bedrest.common$DAscore)] = 0\n",
    "    bedrest.common[is.na(bedrest.common)] = 1\n",
    "    xa = cbind(xa,bedrest.common$DAscore)\n",
    "    colnames(xa) = c('IC19', 'Alpha','Delta','Omicron','Bedrest')\n",
    "\n",
    "\n",
    "    x2 = tmpmatrix2[consist_ids,]\n",
    "    xb = cbind(rowMins(x2[,1:3]),x2[,4:5],rowMeans(x2[,6:9]))\n",
    "    #colnames(xb) = c('IC19', 'Alpha','Delta','Omicron')\n",
    "    xb = cbind(xb,bedrest.common$fdr)\n",
    "    colnames(xb) = c('IC19', 'Alpha','Delta','Omicron','Bedrest')\n",
    "\n",
    "\n",
    "    display_matrix1 = matrix(' ',nrow(xa),ncol(xa))\n",
    "    display_matrix1[xb < 0.1] = '.'\n",
    "    #display_matrix[tmpmatrix2 >= 0.05 & tmpmatrix2 < 0.1] = '.'\n",
    "    display_matrix1[xb >= 0.01 & xb < 0.05] = '*'\n",
    "    display_matrix1[xb >= 0.001 & xb < 0.01] = '**'\n",
    "    display_matrix1[xb < 0.001] = '***'\n",
    " enbrks<-c(-1,-0.8,-0.4,-0.2,-0.05,-0.02,0.02,0.05,0.2,0.4,0.8,1)\n",
    "   id = xa[,1]*xa[,4] >= 0 & xa[,1]*xa[,3] >= 0 & xa[,1]*xa[,2] >=0\n",
    "pheatmap::pheatmap(xa[id,],scale = 'none',cluster_rows = T,cluster_cols = F,fontsize_row = 9,fontsize_col = 9,\n",
    "                       breaks = enbrks,\n",
    "                       treeheight_row = 20,treeheight_col = 20,legend = T,\n",
    "                       display_numbers = display_matrix1[id,],\n",
    "                  #color=colorRampPalette(c('#3B4992','gray95','#BB0021'))(9),\n",
    "                       #colorRampPalette(c('#008280','gray95','#BB0021'))(11),\n",
    "                #color=colorRampPalette(c('#008280','gray95','#BB0021'))(11),\n",
    "                   color=colorRampPalette(c('#4DBBD599','gray95','#E64B3599'))(11),#npg style\n",
    "                  #file ='./modeling/v20200530_cellpaper/figures/Figure 3A_pathwayheatmap_ALL.pdf',\n",
    "                   file ='./modeling/v20230118_omicron/figures/Figure 3A_pathwayheatmap_ALL_consist_3celltypes_mutationv1_mean_natureAlpha__v20230209_bedrest_allpathways.pdf',\n",
    "                  ,height = 4,width = 3.8)"
   ]
  },
  {
   "cell_type": "markdown",
   "metadata": {},
   "source": [
    "### overlaped genes and mets"
   ]
  },
  {
   "cell_type": "markdown",
   "metadata": {},
   "source": [
    "#### deta"
   ]
  },
  {
   "cell_type": "code",
   "execution_count": 47,
   "metadata": {},
   "outputs": [
    {
     "data": {
      "text/html": [
       "<style>\n",
       ".list-inline {list-style: none; margin:0; padding: 0}\n",
       ".list-inline>li {display: inline-block}\n",
       ".list-inline>li:not(:last-child)::after {content: \"\\00b7\"; padding: 0 .5ex}\n",
       "</style>\n",
       "<ol class=list-inline><li>'TYMS'</li><li>'DHFR'</li><li>'PAICS'</li><li>'GART'</li><li>'ATIC'</li><li>'PPAT'</li><li>'PFAS'</li></ol>\n"
      ],
      "text/latex": [
       "\\begin{enumerate*}\n",
       "\\item 'TYMS'\n",
       "\\item 'DHFR'\n",
       "\\item 'PAICS'\n",
       "\\item 'GART'\n",
       "\\item 'ATIC'\n",
       "\\item 'PPAT'\n",
       "\\item 'PFAS'\n",
       "\\end{enumerate*}\n"
      ],
      "text/markdown": [
       "1. 'TYMS'\n",
       "2. 'DHFR'\n",
       "3. 'PAICS'\n",
       "4. 'GART'\n",
       "5. 'ATIC'\n",
       "6. 'PPAT'\n",
       "7. 'PFAS'\n",
       "\n",
       "\n"
      ],
      "text/plain": [
       "[1] \"TYMS\"  \"DHFR\"  \"PAICS\" \"GART\"  \"ATIC\"  \"PPAT\"  \"PFAS\" "
      ]
     },
     "metadata": {},
     "output_type": "display_data"
    }
   ],
   "source": [
    "Overlaped_target_3celllines$Target"
   ]
  },
  {
   "cell_type": "code",
   "execution_count": 48,
   "metadata": {},
   "outputs": [
    {
     "data": {
      "text/html": [
       "<table class=\"dataframe\">\n",
       "<caption>A data.frame: 7 × 2</caption>\n",
       "<thead>\n",
       "\t<tr><th></th><th scope=col>gene</th><th scope=col>effect_GeneKO</th></tr>\n",
       "\t<tr><th></th><th scope=col>&lt;chr&gt;</th><th scope=col>&lt;dbl&gt;</th></tr>\n",
       "</thead>\n",
       "<tbody>\n",
       "\t<tr><th scope=row>PAICS</th><td>PAICS</td><td>-5.09039</td></tr>\n",
       "\t<tr><th scope=row>GART</th><td>GART </td><td>-5.09039</td></tr>\n",
       "\t<tr><th scope=row>ATIC</th><td>ATIC </td><td>-5.09039</td></tr>\n",
       "\t<tr><th scope=row>PPAT</th><td>PPAT </td><td>-5.09039</td></tr>\n",
       "\t<tr><th scope=row>PFAS</th><td>PFAS </td><td>-5.09039</td></tr>\n",
       "\t<tr><th scope=row>TYMS</th><td>TYMS </td><td> 4.57283</td></tr>\n",
       "\t<tr><th scope=row>DHFR</th><td>DHFR </td><td> 8.90712</td></tr>\n",
       "</tbody>\n",
       "</table>\n"
      ],
      "text/latex": [
       "A data.frame: 7 × 2\n",
       "\\begin{tabular}{r|ll}\n",
       "  & gene & effect\\_GeneKO\\\\\n",
       "  & <chr> & <dbl>\\\\\n",
       "\\hline\n",
       "\tPAICS & PAICS & -5.09039\\\\\n",
       "\tGART & GART  & -5.09039\\\\\n",
       "\tATIC & ATIC  & -5.09039\\\\\n",
       "\tPPAT & PPAT  & -5.09039\\\\\n",
       "\tPFAS & PFAS  & -5.09039\\\\\n",
       "\tTYMS & TYMS  &  4.57283\\\\\n",
       "\tDHFR & DHFR  &  8.90712\\\\\n",
       "\\end{tabular}\n"
      ],
      "text/markdown": [
       "\n",
       "A data.frame: 7 × 2\n",
       "\n",
       "| <!--/--> | gene &lt;chr&gt; | effect_GeneKO &lt;dbl&gt; |\n",
       "|---|---|---|\n",
       "| PAICS | PAICS | -5.09039 |\n",
       "| GART | GART  | -5.09039 |\n",
       "| ATIC | ATIC  | -5.09039 |\n",
       "| PPAT | PPAT  | -5.09039 |\n",
       "| PFAS | PFAS  | -5.09039 |\n",
       "| TYMS | TYMS  |  4.57283 |\n",
       "| DHFR | DHFR  |  8.90712 |\n",
       "\n"
      ],
      "text/plain": [
       "      gene  effect_GeneKO\n",
       "PAICS PAICS -5.09039     \n",
       "GART  GART  -5.09039     \n",
       "ATIC  ATIC  -5.09039     \n",
       "PPAT  PPAT  -5.09039     \n",
       "PFAS  PFAS  -5.09039     \n",
       "TYMS  TYMS   4.57283     \n",
       "DHFR  DHFR   8.90712     "
      ]
     },
     "metadata": {},
     "output_type": "display_data"
    }
   ],
   "source": [
    "#genes\n",
    "Targets  = Overlaped_target_3celllines$Target\n",
    "Target_Deta = file2frame('./modeling/v20230118_omicron/results/UK8/KOgene_covid19_Delta_KO_effect_genes.txt')\n",
    "Target_Deta = get_subterm_gene(Target_Deta,Targets)\n",
    "Target_Deta"
   ]
  },
  {
   "cell_type": "code",
   "execution_count": 49,
   "metadata": {},
   "outputs": [
    {
     "data": {
      "text/html": [
       "<table class=\"dataframe\">\n",
       "<caption>A data.frame: 20 × 7</caption>\n",
       "<thead>\n",
       "\t<tr><th></th><th scope=col>metid</th><th scope=col>Effect_afterKO</th><th scope=col>metname</th><th scope=col>pubchemID</th><th scope=col>HMDBID</th><th scope=col>smiles</th><th scope=col>InchiString</th></tr>\n",
       "\t<tr><th></th><th scope=col>&lt;chr&gt;</th><th scope=col>&lt;dbl&gt;</th><th scope=col>&lt;chr&gt;</th><th scope=col>&lt;int&gt;</th><th scope=col>&lt;chr&gt;</th><th scope=col>&lt;chr&gt;</th><th scope=col>&lt;chr&gt;</th></tr>\n",
       "</thead>\n",
       "<tbody>\n",
       "\t<tr><th scope=row>5,10-Methylenetetrahydrofolate</th><td>mlthf[c] </td><td> 4.57283</td><td>5,10-Methylenetetrahydrofolate                                         </td><td>439175</td><td>         </td><td>[H]OC1=NC(=NC2=C1N1C([H])([H])N(C3=C([H])C([H])=C(C([H])=C3[H])C(=O)N([H])C([H])(C([O-])=O)C([H])([H])C([H])([H])C([O-])=O)C([H])([H])[C@@]1([H])C([H])([H])N2[H])N([H])[H]</td><td>InChI=1/C20H23N7O6/c21-20-24-16-15(18(31)25-20)27-9-26(8-12(27)7-22-16)11-3-1-10(2-4-11)17(30)23-13(19(32)33)5-6-14(28)29/h1-4,12-13H,5-9H2,(H,23,30)(H,28,29)(H,32,33)(H4,21,22,24,25,31)/p-2/t12-,13?/s2          </td></tr>\n",
       "\t<tr><th scope=row>2-Oxoglutarate</th><td>akg[m]   </td><td> 4.27547</td><td>2-Oxoglutarate                                                         </td><td>    51</td><td>HMDB00208</td><td>[H]C([H])(C([O-])=O)C([H])([H])C(=O)C([O-])=O                                                                                                                              </td><td>InChI=1S/C5H6O5/c6-3(5(9)10)1-2-4(7)8/h1-2H2,(H,7,8)(H,9,10)/p-2                                                                                                                                                    </td></tr>\n",
       "\t<tr><th scope=row>L-Phenylalanine</th><td>phe_L[c] </td><td>-5.00000</td><td>L-Phenylalanine                                                        </td><td>  6140</td><td>HMDB00159</td><td>[H]C1=C([H])C([H])=C(C([H])=C1[H])C([H])([H])[C@@]([H])(C([O-])=O)[N+]([H])([H])[H]                                                                                        </td><td>InChI=1S/C9H11NO2/c10-8(9(11)12)6-7-4-2-1-3-5-7/h1-5,8H,6,10H2,(H,11,12)/t8-/m0/s1                                                                                                                                  </td></tr>\n",
       "\t<tr><th scope=row>(S)-2-[5-Amino-1-(5-Phospho-D-Ribosyl)Imidazole-4-Carboxamido]Succinate</th><td>25aics[c]</td><td>-5.09039</td><td>(S)-2-[5-Amino-1-(5-Phospho-D-Ribosyl)Imidazole-4-Carboxamido]Succinate</td><td>160666</td><td>         </td><td>[H]O[C@@]1([H])[C@@]([H])(O[C@]([H])(C([H])([H])OP([O-])([O-])=O)[C@@]1([H])O[H])N1C([H])=NC(C(=O)N([H])C([H])(C([O-])=O)C([H])([H])C([O-])=O)=C1N([H])[H]                 </td><td>InChI=1/C13H19N4O12P/c14-10-7(11(22)16-4(13(23)24)1-6(18)19)15-3-17(10)12-9(21)8(20)5(29-12)2-28-30(25,26)27/h3-5,8-9,12,20-21H,1-2,14H2,(H,16,22)(H,18,19)(H,23,24)(H2,25,26,27)/p-4/t4?,5-,8-,9-,12-/s2           </td></tr>\n",
       "\t<tr><th scope=row>5-Amino-1-(5-Phospho-D-Ribosyl)Imidazole</th><td>air[c]   </td><td>-5.09039</td><td>5-Amino-1-(5-Phospho-D-Ribosyl)Imidazole                               </td><td>161500</td><td>         </td><td>[H]O[C@@]1([H])C([H])(O[C@]([H])(C([H])([H])OP([O-])([O-])=O)[C@@]1([H])O[H])N1C([H])=NC([H])=C1N([H])[H]                                                                  </td><td>InChI=1/C8H14N3O7P/c9-5-1-10-3-11(5)8-7(13)6(12)4(18-8)2-17-19(14,15)16/h1,3-4,6-8,12-13H,2,9H2,(H2,14,15,16)/p-2/t4-,6-,7-,8?/s2                                                                                   </td></tr>\n",
       "\t<tr><th scope=row>5-Amino-1-(5-Phospho-D-Ribosyl)Imidazole-4-Carboxylate</th><td>5aizc[c] </td><td>-5.09039</td><td>5-Amino-1-(5-Phospho-D-Ribosyl)Imidazole-4-Carboxylate                 </td><td>165388</td><td>         </td><td>[H]O[C@@]1([H])[C@@]([H])(O[C@]([H])(C([H])([H])OP([O-])([O-])=O)[C@@]1([H])O[H])N1C([H])=NC(C([O-])=O)=C1N([H])[H]                                                        </td><td>InChI=1S/C9H14N3O9P/c10-7-4(9(15)16)11-2-12(7)8-6(14)5(13)3(21-8)1-20-22(17,18)19/h2-3,5-6,8,13-14H,1,10H2,(H,15,16)(H2,17,18,19)/p-3/t3-,5-,6-,8-/m1/s1                                                            </td></tr>\n",
       "\t<tr><th scope=row>N1-(5-Phospho-D-Ribosyl)Glycinamide</th><td>gar[c]   </td><td>-5.09039</td><td>N1-(5-Phospho-D-Ribosyl)Glycinamide                                    </td><td>160913</td><td>         </td><td>[H]O[C@@]1([H])C([H])(O[C@]([H])(C([H])([H])OP([O-])([O-])=O)[C@@]1([H])O[H])N([H])C(=O)C([H])([H])[N+]([H])([H])[H]                                                       </td><td>InChI=1/C7H15N2O8P/c8-1-4(10)9-7-6(12)5(11)3(17-7)2-16-18(13,14)15/h3,5-7,11-12H,1-2,8H2,(H,9,10)(H2,13,14,15)/p-1/t3-,5-,6-,7?/s2                                                                                  </td></tr>\n",
       "\t<tr><th scope=row>N2-Formyl-N1-(5-Phospho-D-Ribosyl)Glycinamide</th><td>fgam[c]  </td><td>-5.09039</td><td>N2-Formyl-N1-(5-Phospho-D-Ribosyl)Glycinamide                          </td><td>130805</td><td>         </td><td>[H]O[C@@]1([H])C([H])(O[C@]([H])(C([H])([H])OP([O-])([O-])=O)[C@@]1([H])O[H])N([H])C(=O)C([H])([H])N([H])C([H])=O                                                          </td><td>InChI=1/C8H15N2O9P/c11-3-9-1-5(12)10-8-7(14)6(13)4(19-8)2-18-20(15,16)17/h3-4,6-8,13-14H,1-2H2,(H,9,11)(H,10,12)(H2,15,16,17)/p-2/t4-,6-,7-,8?/s2                                                                   </td></tr>\n",
       "\t<tr><th scope=row>5-Phospho-Beta-D-Ribosylamine</th><td>pram[c]  </td><td>-5.09039</td><td>5-Phospho-Beta-D-Ribosylamine                                          </td><td>439905</td><td>         </td><td>[H]O[C@@]1([H])[C@@]([H])(O[C@]([H])(C([H])([H])OP([O-])([O-])=O)[C@@]1([H])O[H])[N+]([H])([H])[H]                                                                         </td><td>InChI=1/C5H12NO7P/c6-5-4(8)3(7)2(13-5)1-12-14(9,10)11/h2-5,7-8H,1,6H2,(H2,9,10,11)/p-1/t2-,3-,4-,5-/s2                                                                                                              </td></tr>\n",
       "\t<tr><th scope=row>2-(Formamido)-N1-(5-Phospho-D-Ribosyl)Acetamidine</th><td>fpram[c] </td><td>-5.09039</td><td>2-(Formamido)-N1-(5-Phospho-D-Ribosyl)Acetamidine                      </td><td>    NA</td><td>         </td><td>[H]O[C@@]1([H])C([H])(O[C@]([H])(C([H])([H])OP([O-])([O-])=O)[C@@]1([H])O[H])N([H])C(=[N+]([H])[H])C([H])([H])N([H])C([H])=O                                               </td><td>InChI=1/C8H16N3O8P/c9-5(1-10-3-12)11-8-7(14)6(13)4(19-8)2-18-20(15,16)17/h3-4,6-8,13-14H,1-2H2,(H2,9,11)(H,10,12)(H2,15,16,17)/p-1/t4-,6-,7-,8?/s2                                                                  </td></tr>\n",
       "\t<tr><th scope=row>L-Arginine</th><td>arg_L[c] </td><td>-5.19393</td><td>L-Arginine                                                             </td><td>  6322</td><td>HMDB00517</td><td>[H]N([H])C(N([H])C([H])([H])C([H])([H])C([H])([H])[C@@]([H])(C([O-])=O)[N+]([H])([H])[H])=[N+]([H])[H]                                                                     </td><td>InChI=1S/C6H14N4O2/c7-4(5(11)12)2-1-3-10-6(8)9/h4H,1-3,7H2,(H,11,12)(H4,8,9,10)/p+1/t4-/m0/s1                                                                                                                       </td></tr>\n",
       "\t<tr><th scope=row>Glycine</th><td>gly[c]   </td><td>-5.74651</td><td>Glycine                                                                </td><td>   750</td><td>HMDB00123</td><td>[H][N+]([H])([H])C([H])([H])C([O-])=O                                                                                                                                      </td><td>InChI=1S/C2H5NO2/c3-1-2(4)5/h1,3H2,(H,4,5)                                                                                                                                                                          </td></tr>\n",
       "\t<tr><th scope=row>L-Asparagine</th><td>asn_L[c] </td><td>-6.00000</td><td>L-Asparagine                                                           </td><td>  6267</td><td>HMDB00168</td><td>[H]N([H])C(=O)C([H])([H])[C@@]([H])(C([O-])=O)[N+]([H])([H])[H]                                                                                                            </td><td>InChI=1S/C4H8N2O3/c5-2(4(8)9)1-3(6)7/h2H,1,5H2,(H2,6,7)(H,8,9)/t2-/m0/s1                                                                                                                                            </td></tr>\n",
       "\t<tr><th scope=row>L-Cysteine</th><td>cys_L[c] </td><td>-7.00000</td><td>L-Cysteine                                                             </td><td>  5862</td><td>HMDB00574</td><td>[H]SC([H])([H])[C@@]([H])(C([O-])=O)[N+]([H])([H])[H]                                                                                                                      </td><td>InChI=1S/C3H7NO2S/c4-2(1-7)3(5)6/h2,7H,1,4H2,(H,5,6)/t2-/m0/s1                                                                                                                                                      </td></tr>\n",
       "\t<tr><th scope=row>L-Threonine</th><td>thr_L[c] </td><td>-7.00000</td><td>L-Threonine                                                            </td><td>  6288</td><td>HMDB00167</td><td>[H]O[C@]([H])(C([H])([H])[H])[C@@]([H])(C([O-])=O)[N+]([H])([H])[H]                                                                                                        </td><td>InChI=1S/C4H9NO3/c1-2(6)3(5)4(7)8/h2-3,6H,5H2,1H3,(H,7,8)/t2-,3+/m1/s1                                                                                                                                              </td></tr>\n",
       "\t<tr><th scope=row>L-Methionine</th><td>met_L[c] </td><td>-7.00000</td><td>L-Methionine                                                           </td><td>  6137</td><td>HMDB00696</td><td>[H]C([H])([H])SC([H])([H])C([H])([H])[C@@]([H])(C([O-])=O)[N+]([H])([H])[H]                                                                                                </td><td>InChI=1S/C5H11NO2S/c1-9-3-2-4(6)5(7)8/h4H,2-3,6H2,1H3,(H,7,8)/t4-/m0/s1                                                                                                                                             </td></tr>\n",
       "\t<tr><th scope=row>Guanosine-5'-Triphosphate</th><td>gtp[c]   </td><td>-7.42717</td><td>Guanosine-5'-Triphosphate                                              </td><td>  6830</td><td>HMDB01273</td><td>[H]O[C@@]1([H])[C@@]([H])(O[C@]([H])(C([H])([H])OP([O-])(=O)OP([O-])(=O)OP([O-])([O-])=O)[C@@]1([H])O[H])N1C([H])=NC2=C1N=C(N([H])[H])N([H])C2=O                           </td><td>InChI=1S/C10H16N5O14P3/c11-10-13-7-4(8(18)14-10)12-2-15(7)9-6(17)5(16)3(27-9)1-26-31(22,23)29-32(24,25)28-30(19,20)21/h2-3,5-6,9,16-17H,1H2,(H,22,23)(H,24,25)(H2,19,20,21)(H3,11,13,14,18)/p-4/t3-,5-,6-,9-/m1/s1  </td></tr>\n",
       "\t<tr><th scope=row>N6-(1,2-Dicarboxyethyl)-Adenosine Monophosphate</th><td>dcamp[c] </td><td>-7.42717</td><td>N6-(1,2-Dicarboxyethyl)-Adenosine Monophosphate                        </td><td>447145</td><td>         </td><td>[H]O[C@@]1([H])[C@@]([H])(O[C@]([H])(C([H])([H])OP([O-])([O-])=O)[C@@]1([H])O[H])N1C([H])=NC2=C(N=C([H])N=C12)N([H])C([H])(C([O-])=O)C([H])([H])C([O-])=O                  </td><td>InChI=1S/C14H18N5O11P/c20-7(21)1-5(14(24)25)18-11-8-12(16-3-15-11)19(4-17-8)13-10(23)9(22)6(30-13)2-29-31(26,27)28/h3-6,9-10,13,22-23H,1-2H2,(H,20,21)(H,24,25)(H,15,16,18)(H2,26,27,28)/p-4/t5?,6-,9-,10-,13-/m1/s1</td></tr>\n",
       "\t<tr><th scope=row>L-Lysine</th><td>lys_L[c] </td><td>-8.00000</td><td>L-Lysine                                                               </td><td>  5962</td><td>HMDB00182</td><td>[H][N+]([H])([H])C([H])([H])C([H])([H])C([H])([H])C([H])([H])[C@@]([H])(C([O-])=O)[N+]([H])([H])[H]                                                                        </td><td>InChI=1/C6H14N2O2/c7-4-2-1-3-5(8)6(9)10/h5H,1-4,7-8H2,(H,9,10)/p+1/t5-/s2                                                                                                                                           </td></tr>\n",
       "\t<tr><th scope=row>Inosine-5'-Monophosphate</th><td>imp[c]   </td><td>-8.09179</td><td>Inosine-5'-Monophosphate                                               </td><td>  8582</td><td>HMDB00175</td><td>[H]O[C@@]1([H])[C@@]([H])(O[C@]([H])(C([H])([H])OP([O-])([O-])=O)[C@@]1([H])O[H])N1C([H])=NC2=C1N=C([H])N([H])C2=O                                                         </td><td>InChI=1S/C10H13N4O8P/c15-6-4(1-21-23(18,19)20)22-10(7(6)16)14-3-13-5-8(14)11-2-12-9(5)17/h2-4,6-7,10,15-16H,1H2,(H,11,12,17)(H2,18,19,20)/p-2/t4-,6-,7-,10-/m1/s1                                                   </td></tr>\n",
       "</tbody>\n",
       "</table>\n"
      ],
      "text/latex": [
       "A data.frame: 20 × 7\n",
       "\\begin{tabular}{r|lllllll}\n",
       "  & metid & Effect\\_afterKO & metname & pubchemID & HMDBID & smiles & InchiString\\\\\n",
       "  & <chr> & <dbl> & <chr> & <int> & <chr> & <chr> & <chr>\\\\\n",
       "\\hline\n",
       "\t5,10-Methylenetetrahydrofolate & mlthf{[}c{]}  &  4.57283 & 5,10-Methylenetetrahydrofolate                                          & 439175 &           & {[}H{]}OC1=NC(=NC2=C1N1C({[}H{]})({[}H{]})N(C3=C({[}H{]})C({[}H{]})=C(C({[}H{]})=C3{[}H{]})C(=O)N({[}H{]})C({[}H{]})(C({[}O-{]})=O)C({[}H{]})({[}H{]})C({[}H{]})({[}H{]})C({[}O-{]})=O)C({[}H{]})({[}H{]}){[}C@@{]}1({[}H{]})C({[}H{]})({[}H{]})N2{[}H{]})N({[}H{]}){[}H{]} & InChI=1/C20H23N7O6/c21-20-24-16-15(18(31)25-20)27-9-26(8-12(27)7-22-16)11-3-1-10(2-4-11)17(30)23-13(19(32)33)5-6-14(28)29/h1-4,12-13H,5-9H2,(H,23,30)(H,28,29)(H,32,33)(H4,21,22,24,25,31)/p-2/t12-,13?/s2          \\\\\n",
       "\t2-Oxoglutarate & akg{[}m{]}    &  4.27547 & 2-Oxoglutarate                                                          &     51 & HMDB00208 & {[}H{]}C({[}H{]})(C({[}O-{]})=O)C({[}H{]})({[}H{]})C(=O)C({[}O-{]})=O                                                                                                                               & InChI=1S/C5H6O5/c6-3(5(9)10)1-2-4(7)8/h1-2H2,(H,7,8)(H,9,10)/p-2                                                                                                                                                    \\\\\n",
       "\tL-Phenylalanine & phe\\_L{[}c{]}  & -5.00000 & L-Phenylalanine                                                         &   6140 & HMDB00159 & {[}H{]}C1=C({[}H{]})C({[}H{]})=C(C({[}H{]})=C1{[}H{]})C({[}H{]})({[}H{]}){[}C@@{]}({[}H{]})(C({[}O-{]})=O){[}N+{]}({[}H{]})({[}H{]}){[}H{]}                                                                                         & InChI=1S/C9H11NO2/c10-8(9(11)12)6-7-4-2-1-3-5-7/h1-5,8H,6,10H2,(H,11,12)/t8-/m0/s1                                                                                                                                  \\\\\n",
       "\t(S)-2-{[}5-Amino-1-(5-Phospho-D-Ribosyl)Imidazole-4-Carboxamido{]}Succinate & 25aics{[}c{]} & -5.09039 & (S)-2-{[}5-Amino-1-(5-Phospho-D-Ribosyl)Imidazole-4-Carboxamido{]}Succinate & 160666 &           & {[}H{]}O{[}C@@{]}1({[}H{]}){[}C@@{]}({[}H{]})(O{[}C@{]}({[}H{]})(C({[}H{]})({[}H{]})OP({[}O-{]})({[}O-{]})=O){[}C@@{]}1({[}H{]})O{[}H{]})N1C({[}H{]})=NC(C(=O)N({[}H{]})C({[}H{]})(C({[}O-{]})=O)C({[}H{]})({[}H{]})C({[}O-{]})=O)=C1N({[}H{]}){[}H{]}                  & InChI=1/C13H19N4O12P/c14-10-7(11(22)16-4(13(23)24)1-6(18)19)15-3-17(10)12-9(21)8(20)5(29-12)2-28-30(25,26)27/h3-5,8-9,12,20-21H,1-2,14H2,(H,16,22)(H,18,19)(H,23,24)(H2,25,26,27)/p-4/t4?,5-,8-,9-,12-/s2           \\\\\n",
       "\t5-Amino-1-(5-Phospho-D-Ribosyl)Imidazole & air{[}c{]}    & -5.09039 & 5-Amino-1-(5-Phospho-D-Ribosyl)Imidazole                                & 161500 &           & {[}H{]}O{[}C@@{]}1({[}H{]})C({[}H{]})(O{[}C@{]}({[}H{]})(C({[}H{]})({[}H{]})OP({[}O-{]})({[}O-{]})=O){[}C@@{]}1({[}H{]})O{[}H{]})N1C({[}H{]})=NC({[}H{]})=C1N({[}H{]}){[}H{]}                                                                   & InChI=1/C8H14N3O7P/c9-5-1-10-3-11(5)8-7(13)6(12)4(18-8)2-17-19(14,15)16/h1,3-4,6-8,12-13H,2,9H2,(H2,14,15,16)/p-2/t4-,6-,7-,8?/s2                                                                                   \\\\\n",
       "\t5-Amino-1-(5-Phospho-D-Ribosyl)Imidazole-4-Carboxylate & 5aizc{[}c{]}  & -5.09039 & 5-Amino-1-(5-Phospho-D-Ribosyl)Imidazole-4-Carboxylate                  & 165388 &           & {[}H{]}O{[}C@@{]}1({[}H{]}){[}C@@{]}({[}H{]})(O{[}C@{]}({[}H{]})(C({[}H{]})({[}H{]})OP({[}O-{]})({[}O-{]})=O){[}C@@{]}1({[}H{]})O{[}H{]})N1C({[}H{]})=NC(C({[}O-{]})=O)=C1N({[}H{]}){[}H{]}                                                         & InChI=1S/C9H14N3O9P/c10-7-4(9(15)16)11-2-12(7)8-6(14)5(13)3(21-8)1-20-22(17,18)19/h2-3,5-6,8,13-14H,1,10H2,(H,15,16)(H2,17,18,19)/p-3/t3-,5-,6-,8-/m1/s1                                                            \\\\\n",
       "\tN1-(5-Phospho-D-Ribosyl)Glycinamide & gar{[}c{]}    & -5.09039 & N1-(5-Phospho-D-Ribosyl)Glycinamide                                     & 160913 &           & {[}H{]}O{[}C@@{]}1({[}H{]})C({[}H{]})(O{[}C@{]}({[}H{]})(C({[}H{]})({[}H{]})OP({[}O-{]})({[}O-{]})=O){[}C@@{]}1({[}H{]})O{[}H{]})N({[}H{]})C(=O)C({[}H{]})({[}H{]}){[}N+{]}({[}H{]})({[}H{]}){[}H{]}                                                        & InChI=1/C7H15N2O8P/c8-1-4(10)9-7-6(12)5(11)3(17-7)2-16-18(13,14)15/h3,5-7,11-12H,1-2,8H2,(H,9,10)(H2,13,14,15)/p-1/t3-,5-,6-,7?/s2                                                                                  \\\\\n",
       "\tN2-Formyl-N1-(5-Phospho-D-Ribosyl)Glycinamide & fgam{[}c{]}   & -5.09039 & N2-Formyl-N1-(5-Phospho-D-Ribosyl)Glycinamide                           & 130805 &           & {[}H{]}O{[}C@@{]}1({[}H{]})C({[}H{]})(O{[}C@{]}({[}H{]})(C({[}H{]})({[}H{]})OP({[}O-{]})({[}O-{]})=O){[}C@@{]}1({[}H{]})O{[}H{]})N({[}H{]})C(=O)C({[}H{]})({[}H{]})N({[}H{]})C({[}H{]})=O                                                           & InChI=1/C8H15N2O9P/c11-3-9-1-5(12)10-8-7(14)6(13)4(19-8)2-18-20(15,16)17/h3-4,6-8,13-14H,1-2H2,(H,9,11)(H,10,12)(H2,15,16,17)/p-2/t4-,6-,7-,8?/s2                                                                   \\\\\n",
       "\t5-Phospho-Beta-D-Ribosylamine & pram{[}c{]}   & -5.09039 & 5-Phospho-Beta-D-Ribosylamine                                           & 439905 &           & {[}H{]}O{[}C@@{]}1({[}H{]}){[}C@@{]}({[}H{]})(O{[}C@{]}({[}H{]})(C({[}H{]})({[}H{]})OP({[}O-{]})({[}O-{]})=O){[}C@@{]}1({[}H{]})O{[}H{]}){[}N+{]}({[}H{]})({[}H{]}){[}H{]}                                                                          & InChI=1/C5H12NO7P/c6-5-4(8)3(7)2(13-5)1-12-14(9,10)11/h2-5,7-8H,1,6H2,(H2,9,10,11)/p-1/t2-,3-,4-,5-/s2                                                                                                              \\\\\n",
       "\t2-(Formamido)-N1-(5-Phospho-D-Ribosyl)Acetamidine & fpram{[}c{]}  & -5.09039 & 2-(Formamido)-N1-(5-Phospho-D-Ribosyl)Acetamidine                       &     NA &           & {[}H{]}O{[}C@@{]}1({[}H{]})C({[}H{]})(O{[}C@{]}({[}H{]})(C({[}H{]})({[}H{]})OP({[}O-{]})({[}O-{]})=O){[}C@@{]}1({[}H{]})O{[}H{]})N({[}H{]})C(={[}N+{]}({[}H{]}){[}H{]})C({[}H{]})({[}H{]})N({[}H{]})C({[}H{]})=O                                                & InChI=1/C8H16N3O8P/c9-5(1-10-3-12)11-8-7(14)6(13)4(19-8)2-18-20(15,16)17/h3-4,6-8,13-14H,1-2H2,(H2,9,11)(H,10,12)(H2,15,16,17)/p-1/t4-,6-,7-,8?/s2                                                                  \\\\\n",
       "\tL-Arginine & arg\\_L{[}c{]}  & -5.19393 & L-Arginine                                                              &   6322 & HMDB00517 & {[}H{]}N({[}H{]})C(N({[}H{]})C({[}H{]})({[}H{]})C({[}H{]})({[}H{]})C({[}H{]})({[}H{]}){[}C@@{]}({[}H{]})(C({[}O-{]})=O){[}N+{]}({[}H{]})({[}H{]}){[}H{]})={[}N+{]}({[}H{]}){[}H{]}                                                                      & InChI=1S/C6H14N4O2/c7-4(5(11)12)2-1-3-10-6(8)9/h4H,1-3,7H2,(H,11,12)(H4,8,9,10)/p+1/t4-/m0/s1                                                                                                                       \\\\\n",
       "\tGlycine & gly{[}c{]}    & -5.74651 & Glycine                                                                 &    750 & HMDB00123 & {[}H{]}{[}N+{]}({[}H{]})({[}H{]})C({[}H{]})({[}H{]})C({[}O-{]})=O                                                                                                                                       & InChI=1S/C2H5NO2/c3-1-2(4)5/h1,3H2,(H,4,5)                                                                                                                                                                          \\\\\n",
       "\tL-Asparagine & asn\\_L{[}c{]}  & -6.00000 & L-Asparagine                                                            &   6267 & HMDB00168 & {[}H{]}N({[}H{]})C(=O)C({[}H{]})({[}H{]}){[}C@@{]}({[}H{]})(C({[}O-{]})=O){[}N+{]}({[}H{]})({[}H{]}){[}H{]}                                                                                                             & InChI=1S/C4H8N2O3/c5-2(4(8)9)1-3(6)7/h2H,1,5H2,(H2,6,7)(H,8,9)/t2-/m0/s1                                                                                                                                            \\\\\n",
       "\tL-Cysteine & cys\\_L{[}c{]}  & -7.00000 & L-Cysteine                                                              &   5862 & HMDB00574 & {[}H{]}SC({[}H{]})({[}H{]}){[}C@@{]}({[}H{]})(C({[}O-{]})=O){[}N+{]}({[}H{]})({[}H{]}){[}H{]}                                                                                                                       & InChI=1S/C3H7NO2S/c4-2(1-7)3(5)6/h2,7H,1,4H2,(H,5,6)/t2-/m0/s1                                                                                                                                                      \\\\\n",
       "\tL-Threonine & thr\\_L{[}c{]}  & -7.00000 & L-Threonine                                                             &   6288 & HMDB00167 & {[}H{]}O{[}C@{]}({[}H{]})(C({[}H{]})({[}H{]}){[}H{]}){[}C@@{]}({[}H{]})(C({[}O-{]})=O){[}N+{]}({[}H{]})({[}H{]}){[}H{]}                                                                                                         & InChI=1S/C4H9NO3/c1-2(6)3(5)4(7)8/h2-3,6H,5H2,1H3,(H,7,8)/t2-,3+/m1/s1                                                                                                                                              \\\\\n",
       "\tL-Methionine & met\\_L{[}c{]}  & -7.00000 & L-Methionine                                                            &   6137 & HMDB00696 & {[}H{]}C({[}H{]})({[}H{]})SC({[}H{]})({[}H{]})C({[}H{]})({[}H{]}){[}C@@{]}({[}H{]})(C({[}O-{]})=O){[}N+{]}({[}H{]})({[}H{]}){[}H{]}                                                                                                 & InChI=1S/C5H11NO2S/c1-9-3-2-4(6)5(7)8/h4H,2-3,6H2,1H3,(H,7,8)/t4-/m0/s1                                                                                                                                             \\\\\n",
       "\tGuanosine-5'-Triphosphate & gtp{[}c{]}    & -7.42717 & Guanosine-5'-Triphosphate                                               &   6830 & HMDB01273 & {[}H{]}O{[}C@@{]}1({[}H{]}){[}C@@{]}({[}H{]})(O{[}C@{]}({[}H{]})(C({[}H{]})({[}H{]})OP({[}O-{]})(=O)OP({[}O-{]})(=O)OP({[}O-{]})({[}O-{]})=O){[}C@@{]}1({[}H{]})O{[}H{]})N1C({[}H{]})=NC2=C1N=C(N({[}H{]}){[}H{]})N({[}H{]})C2=O                            & InChI=1S/C10H16N5O14P3/c11-10-13-7-4(8(18)14-10)12-2-15(7)9-6(17)5(16)3(27-9)1-26-31(22,23)29-32(24,25)28-30(19,20)21/h2-3,5-6,9,16-17H,1H2,(H,22,23)(H,24,25)(H2,19,20,21)(H3,11,13,14,18)/p-4/t3-,5-,6-,9-/m1/s1  \\\\\n",
       "\tN6-(1,2-Dicarboxyethyl)-Adenosine Monophosphate & dcamp{[}c{]}  & -7.42717 & N6-(1,2-Dicarboxyethyl)-Adenosine Monophosphate                         & 447145 &           & {[}H{]}O{[}C@@{]}1({[}H{]}){[}C@@{]}({[}H{]})(O{[}C@{]}({[}H{]})(C({[}H{]})({[}H{]})OP({[}O-{]})({[}O-{]})=O){[}C@@{]}1({[}H{]})O{[}H{]})N1C({[}H{]})=NC2=C(N=C({[}H{]})N=C12)N({[}H{]})C({[}H{]})(C({[}O-{]})=O)C({[}H{]})({[}H{]})C({[}O-{]})=O                   & InChI=1S/C14H18N5O11P/c20-7(21)1-5(14(24)25)18-11-8-12(16-3-15-11)19(4-17-8)13-10(23)9(22)6(30-13)2-29-31(26,27)28/h3-6,9-10,13,22-23H,1-2H2,(H,20,21)(H,24,25)(H,15,16,18)(H2,26,27,28)/p-4/t5?,6-,9-,10-,13-/m1/s1\\\\\n",
       "\tL-Lysine & lys\\_L{[}c{]}  & -8.00000 & L-Lysine                                                                &   5962 & HMDB00182 & {[}H{]}{[}N+{]}({[}H{]})({[}H{]})C({[}H{]})({[}H{]})C({[}H{]})({[}H{]})C({[}H{]})({[}H{]})C({[}H{]})({[}H{]}){[}C@@{]}({[}H{]})(C({[}O-{]})=O){[}N+{]}({[}H{]})({[}H{]}){[}H{]}                                                                         & InChI=1/C6H14N2O2/c7-4-2-1-3-5(8)6(9)10/h5H,1-4,7-8H2,(H,9,10)/p+1/t5-/s2                                                                                                                                           \\\\\n",
       "\tInosine-5'-Monophosphate & imp{[}c{]}    & -8.09179 & Inosine-5'-Monophosphate                                                &   8582 & HMDB00175 & {[}H{]}O{[}C@@{]}1({[}H{]}){[}C@@{]}({[}H{]})(O{[}C@{]}({[}H{]})(C({[}H{]})({[}H{]})OP({[}O-{]})({[}O-{]})=O){[}C@@{]}1({[}H{]})O{[}H{]})N1C({[}H{]})=NC2=C1N=C({[}H{]})N({[}H{]})C2=O                                                          & InChI=1S/C10H13N4O8P/c15-6-4(1-21-23(18,19)20)22-10(7(6)16)14-3-13-5-8(14)11-2-12-9(5)17/h2-4,6-7,10,15-16H,1H2,(H,11,12,17)(H2,18,19,20)/p-2/t4-,6-,7-,10-/m1/s1                                                   \\\\\n",
       "\\end{tabular}\n"
      ],
      "text/markdown": [
       "\n",
       "A data.frame: 20 × 7\n",
       "\n",
       "| <!--/--> | metid &lt;chr&gt; | Effect_afterKO &lt;dbl&gt; | metname &lt;chr&gt; | pubchemID &lt;int&gt; | HMDBID &lt;chr&gt; | smiles &lt;chr&gt; | InchiString &lt;chr&gt; |\n",
       "|---|---|---|---|---|---|---|---|\n",
       "| 5,10-Methylenetetrahydrofolate | mlthf[c]  |  4.57283 | 5,10-Methylenetetrahydrofolate                                          | 439175 | <!----> | [H]OC1=NC(=NC2=C1N1C([H])([H])N(C3=C([H])C([H])=C(C([H])=C3[H])C(=O)N([H])C([H])(C([O-])=O)C([H])([H])C([H])([H])C([O-])=O)C([H])([H])[C@@]1([H])C([H])([H])N2[H])N([H])[H] | InChI=1/C20H23N7O6/c21-20-24-16-15(18(31)25-20)27-9-26(8-12(27)7-22-16)11-3-1-10(2-4-11)17(30)23-13(19(32)33)5-6-14(28)29/h1-4,12-13H,5-9H2,(H,23,30)(H,28,29)(H,32,33)(H4,21,22,24,25,31)/p-2/t12-,13?/s2           |\n",
       "| 2-Oxoglutarate | akg[m]    |  4.27547 | 2-Oxoglutarate                                                          |     51 | HMDB00208 | [H]C([H])(C([O-])=O)C([H])([H])C(=O)C([O-])=O                                                                                                                               | InChI=1S/C5H6O5/c6-3(5(9)10)1-2-4(7)8/h1-2H2,(H,7,8)(H,9,10)/p-2                                                                                                                                                     |\n",
       "| L-Phenylalanine | phe_L[c]  | -5.00000 | L-Phenylalanine                                                         |   6140 | HMDB00159 | [H]C1=C([H])C([H])=C(C([H])=C1[H])C([H])([H])[C@@]([H])(C([O-])=O)[N+]([H])([H])[H]                                                                                         | InChI=1S/C9H11NO2/c10-8(9(11)12)6-7-4-2-1-3-5-7/h1-5,8H,6,10H2,(H,11,12)/t8-/m0/s1                                                                                                                                   |\n",
       "| (S)-2-[5-Amino-1-(5-Phospho-D-Ribosyl)Imidazole-4-Carboxamido]Succinate | 25aics[c] | -5.09039 | (S)-2-[5-Amino-1-(5-Phospho-D-Ribosyl)Imidazole-4-Carboxamido]Succinate | 160666 | <!----> | [H]O[C@@]1([H])[C@@]([H])(O[C@]([H])(C([H])([H])OP([O-])([O-])=O)[C@@]1([H])O[H])N1C([H])=NC(C(=O)N([H])C([H])(C([O-])=O)C([H])([H])C([O-])=O)=C1N([H])[H]                  | InChI=1/C13H19N4O12P/c14-10-7(11(22)16-4(13(23)24)1-6(18)19)15-3-17(10)12-9(21)8(20)5(29-12)2-28-30(25,26)27/h3-5,8-9,12,20-21H,1-2,14H2,(H,16,22)(H,18,19)(H,23,24)(H2,25,26,27)/p-4/t4?,5-,8-,9-,12-/s2            |\n",
       "| 5-Amino-1-(5-Phospho-D-Ribosyl)Imidazole | air[c]    | -5.09039 | 5-Amino-1-(5-Phospho-D-Ribosyl)Imidazole                                | 161500 | <!----> | [H]O[C@@]1([H])C([H])(O[C@]([H])(C([H])([H])OP([O-])([O-])=O)[C@@]1([H])O[H])N1C([H])=NC([H])=C1N([H])[H]                                                                   | InChI=1/C8H14N3O7P/c9-5-1-10-3-11(5)8-7(13)6(12)4(18-8)2-17-19(14,15)16/h1,3-4,6-8,12-13H,2,9H2,(H2,14,15,16)/p-2/t4-,6-,7-,8?/s2                                                                                    |\n",
       "| 5-Amino-1-(5-Phospho-D-Ribosyl)Imidazole-4-Carboxylate | 5aizc[c]  | -5.09039 | 5-Amino-1-(5-Phospho-D-Ribosyl)Imidazole-4-Carboxylate                  | 165388 | <!----> | [H]O[C@@]1([H])[C@@]([H])(O[C@]([H])(C([H])([H])OP([O-])([O-])=O)[C@@]1([H])O[H])N1C([H])=NC(C([O-])=O)=C1N([H])[H]                                                         | InChI=1S/C9H14N3O9P/c10-7-4(9(15)16)11-2-12(7)8-6(14)5(13)3(21-8)1-20-22(17,18)19/h2-3,5-6,8,13-14H,1,10H2,(H,15,16)(H2,17,18,19)/p-3/t3-,5-,6-,8-/m1/s1                                                             |\n",
       "| N1-(5-Phospho-D-Ribosyl)Glycinamide | gar[c]    | -5.09039 | N1-(5-Phospho-D-Ribosyl)Glycinamide                                     | 160913 | <!----> | [H]O[C@@]1([H])C([H])(O[C@]([H])(C([H])([H])OP([O-])([O-])=O)[C@@]1([H])O[H])N([H])C(=O)C([H])([H])[N+]([H])([H])[H]                                                        | InChI=1/C7H15N2O8P/c8-1-4(10)9-7-6(12)5(11)3(17-7)2-16-18(13,14)15/h3,5-7,11-12H,1-2,8H2,(H,9,10)(H2,13,14,15)/p-1/t3-,5-,6-,7?/s2                                                                                   |\n",
       "| N2-Formyl-N1-(5-Phospho-D-Ribosyl)Glycinamide | fgam[c]   | -5.09039 | N2-Formyl-N1-(5-Phospho-D-Ribosyl)Glycinamide                           | 130805 | <!----> | [H]O[C@@]1([H])C([H])(O[C@]([H])(C([H])([H])OP([O-])([O-])=O)[C@@]1([H])O[H])N([H])C(=O)C([H])([H])N([H])C([H])=O                                                           | InChI=1/C8H15N2O9P/c11-3-9-1-5(12)10-8-7(14)6(13)4(19-8)2-18-20(15,16)17/h3-4,6-8,13-14H,1-2H2,(H,9,11)(H,10,12)(H2,15,16,17)/p-2/t4-,6-,7-,8?/s2                                                                    |\n",
       "| 5-Phospho-Beta-D-Ribosylamine | pram[c]   | -5.09039 | 5-Phospho-Beta-D-Ribosylamine                                           | 439905 | <!----> | [H]O[C@@]1([H])[C@@]([H])(O[C@]([H])(C([H])([H])OP([O-])([O-])=O)[C@@]1([H])O[H])[N+]([H])([H])[H]                                                                          | InChI=1/C5H12NO7P/c6-5-4(8)3(7)2(13-5)1-12-14(9,10)11/h2-5,7-8H,1,6H2,(H2,9,10,11)/p-1/t2-,3-,4-,5-/s2                                                                                                               |\n",
       "| 2-(Formamido)-N1-(5-Phospho-D-Ribosyl)Acetamidine | fpram[c]  | -5.09039 | 2-(Formamido)-N1-(5-Phospho-D-Ribosyl)Acetamidine                       |     NA | <!----> | [H]O[C@@]1([H])C([H])(O[C@]([H])(C([H])([H])OP([O-])([O-])=O)[C@@]1([H])O[H])N([H])C(=[N+]([H])[H])C([H])([H])N([H])C([H])=O                                                | InChI=1/C8H16N3O8P/c9-5(1-10-3-12)11-8-7(14)6(13)4(19-8)2-18-20(15,16)17/h3-4,6-8,13-14H,1-2H2,(H2,9,11)(H,10,12)(H2,15,16,17)/p-1/t4-,6-,7-,8?/s2                                                                   |\n",
       "| L-Arginine | arg_L[c]  | -5.19393 | L-Arginine                                                              |   6322 | HMDB00517 | [H]N([H])C(N([H])C([H])([H])C([H])([H])C([H])([H])[C@@]([H])(C([O-])=O)[N+]([H])([H])[H])=[N+]([H])[H]                                                                      | InChI=1S/C6H14N4O2/c7-4(5(11)12)2-1-3-10-6(8)9/h4H,1-3,7H2,(H,11,12)(H4,8,9,10)/p+1/t4-/m0/s1                                                                                                                        |\n",
       "| Glycine | gly[c]    | -5.74651 | Glycine                                                                 |    750 | HMDB00123 | [H][N+]([H])([H])C([H])([H])C([O-])=O                                                                                                                                       | InChI=1S/C2H5NO2/c3-1-2(4)5/h1,3H2,(H,4,5)                                                                                                                                                                           |\n",
       "| L-Asparagine | asn_L[c]  | -6.00000 | L-Asparagine                                                            |   6267 | HMDB00168 | [H]N([H])C(=O)C([H])([H])[C@@]([H])(C([O-])=O)[N+]([H])([H])[H]                                                                                                             | InChI=1S/C4H8N2O3/c5-2(4(8)9)1-3(6)7/h2H,1,5H2,(H2,6,7)(H,8,9)/t2-/m0/s1                                                                                                                                             |\n",
       "| L-Cysteine | cys_L[c]  | -7.00000 | L-Cysteine                                                              |   5862 | HMDB00574 | [H]SC([H])([H])[C@@]([H])(C([O-])=O)[N+]([H])([H])[H]                                                                                                                       | InChI=1S/C3H7NO2S/c4-2(1-7)3(5)6/h2,7H,1,4H2,(H,5,6)/t2-/m0/s1                                                                                                                                                       |\n",
       "| L-Threonine | thr_L[c]  | -7.00000 | L-Threonine                                                             |   6288 | HMDB00167 | [H]O[C@]([H])(C([H])([H])[H])[C@@]([H])(C([O-])=O)[N+]([H])([H])[H]                                                                                                         | InChI=1S/C4H9NO3/c1-2(6)3(5)4(7)8/h2-3,6H,5H2,1H3,(H,7,8)/t2-,3+/m1/s1                                                                                                                                               |\n",
       "| L-Methionine | met_L[c]  | -7.00000 | L-Methionine                                                            |   6137 | HMDB00696 | [H]C([H])([H])SC([H])([H])C([H])([H])[C@@]([H])(C([O-])=O)[N+]([H])([H])[H]                                                                                                 | InChI=1S/C5H11NO2S/c1-9-3-2-4(6)5(7)8/h4H,2-3,6H2,1H3,(H,7,8)/t4-/m0/s1                                                                                                                                              |\n",
       "| Guanosine-5'-Triphosphate | gtp[c]    | -7.42717 | Guanosine-5'-Triphosphate                                               |   6830 | HMDB01273 | [H]O[C@@]1([H])[C@@]([H])(O[C@]([H])(C([H])([H])OP([O-])(=O)OP([O-])(=O)OP([O-])([O-])=O)[C@@]1([H])O[H])N1C([H])=NC2=C1N=C(N([H])[H])N([H])C2=O                            | InChI=1S/C10H16N5O14P3/c11-10-13-7-4(8(18)14-10)12-2-15(7)9-6(17)5(16)3(27-9)1-26-31(22,23)29-32(24,25)28-30(19,20)21/h2-3,5-6,9,16-17H,1H2,(H,22,23)(H,24,25)(H2,19,20,21)(H3,11,13,14,18)/p-4/t3-,5-,6-,9-/m1/s1   |\n",
       "| N6-(1,2-Dicarboxyethyl)-Adenosine Monophosphate | dcamp[c]  | -7.42717 | N6-(1,2-Dicarboxyethyl)-Adenosine Monophosphate                         | 447145 | <!----> | [H]O[C@@]1([H])[C@@]([H])(O[C@]([H])(C([H])([H])OP([O-])([O-])=O)[C@@]1([H])O[H])N1C([H])=NC2=C(N=C([H])N=C12)N([H])C([H])(C([O-])=O)C([H])([H])C([O-])=O                   | InChI=1S/C14H18N5O11P/c20-7(21)1-5(14(24)25)18-11-8-12(16-3-15-11)19(4-17-8)13-10(23)9(22)6(30-13)2-29-31(26,27)28/h3-6,9-10,13,22-23H,1-2H2,(H,20,21)(H,24,25)(H,15,16,18)(H2,26,27,28)/p-4/t5?,6-,9-,10-,13-/m1/s1 |\n",
       "| L-Lysine | lys_L[c]  | -8.00000 | L-Lysine                                                                |   5962 | HMDB00182 | [H][N+]([H])([H])C([H])([H])C([H])([H])C([H])([H])C([H])([H])[C@@]([H])(C([O-])=O)[N+]([H])([H])[H]                                                                         | InChI=1/C6H14N2O2/c7-4-2-1-3-5(8)6(9)10/h5H,1-4,7-8H2,(H,9,10)/p+1/t5-/s2                                                                                                                                            |\n",
       "| Inosine-5'-Monophosphate | imp[c]    | -8.09179 | Inosine-5'-Monophosphate                                                |   8582 | HMDB00175 | [H]O[C@@]1([H])[C@@]([H])(O[C@]([H])(C([H])([H])OP([O-])([O-])=O)[C@@]1([H])O[H])N1C([H])=NC2=C1N=C([H])N([H])C2=O                                                          | InChI=1S/C10H13N4O8P/c15-6-4(1-21-23(18,19)20)22-10(7(6)16)14-3-13-5-8(14)11-2-12-9(5)17/h2-4,6-7,10,15-16H,1H2,(H,11,12,17)(H2,18,19,20)/p-2/t4-,6-,7-,10-/m1/s1                                                    |\n",
       "\n"
      ],
      "text/plain": [
       "                                                                        metid    \n",
       "5,10-Methylenetetrahydrofolate                                          mlthf[c] \n",
       "2-Oxoglutarate                                                          akg[m]   \n",
       "L-Phenylalanine                                                         phe_L[c] \n",
       "(S)-2-[5-Amino-1-(5-Phospho-D-Ribosyl)Imidazole-4-Carboxamido]Succinate 25aics[c]\n",
       "5-Amino-1-(5-Phospho-D-Ribosyl)Imidazole                                air[c]   \n",
       "5-Amino-1-(5-Phospho-D-Ribosyl)Imidazole-4-Carboxylate                  5aizc[c] \n",
       "N1-(5-Phospho-D-Ribosyl)Glycinamide                                     gar[c]   \n",
       "N2-Formyl-N1-(5-Phospho-D-Ribosyl)Glycinamide                           fgam[c]  \n",
       "5-Phospho-Beta-D-Ribosylamine                                           pram[c]  \n",
       "2-(Formamido)-N1-(5-Phospho-D-Ribosyl)Acetamidine                       fpram[c] \n",
       "L-Arginine                                                              arg_L[c] \n",
       "Glycine                                                                 gly[c]   \n",
       "L-Asparagine                                                            asn_L[c] \n",
       "L-Cysteine                                                              cys_L[c] \n",
       "L-Threonine                                                             thr_L[c] \n",
       "L-Methionine                                                            met_L[c] \n",
       "Guanosine-5'-Triphosphate                                               gtp[c]   \n",
       "N6-(1,2-Dicarboxyethyl)-Adenosine Monophosphate                         dcamp[c] \n",
       "L-Lysine                                                                lys_L[c] \n",
       "Inosine-5'-Monophosphate                                                imp[c]   \n",
       "                                                                        Effect_afterKO\n",
       "5,10-Methylenetetrahydrofolate                                           4.57283      \n",
       "2-Oxoglutarate                                                           4.27547      \n",
       "L-Phenylalanine                                                         -5.00000      \n",
       "(S)-2-[5-Amino-1-(5-Phospho-D-Ribosyl)Imidazole-4-Carboxamido]Succinate -5.09039      \n",
       "5-Amino-1-(5-Phospho-D-Ribosyl)Imidazole                                -5.09039      \n",
       "5-Amino-1-(5-Phospho-D-Ribosyl)Imidazole-4-Carboxylate                  -5.09039      \n",
       "N1-(5-Phospho-D-Ribosyl)Glycinamide                                     -5.09039      \n",
       "N2-Formyl-N1-(5-Phospho-D-Ribosyl)Glycinamide                           -5.09039      \n",
       "5-Phospho-Beta-D-Ribosylamine                                           -5.09039      \n",
       "2-(Formamido)-N1-(5-Phospho-D-Ribosyl)Acetamidine                       -5.09039      \n",
       "L-Arginine                                                              -5.19393      \n",
       "Glycine                                                                 -5.74651      \n",
       "L-Asparagine                                                            -6.00000      \n",
       "L-Cysteine                                                              -7.00000      \n",
       "L-Threonine                                                             -7.00000      \n",
       "L-Methionine                                                            -7.00000      \n",
       "Guanosine-5'-Triphosphate                                               -7.42717      \n",
       "N6-(1,2-Dicarboxyethyl)-Adenosine Monophosphate                         -7.42717      \n",
       "L-Lysine                                                                -8.00000      \n",
       "Inosine-5'-Monophosphate                                                -8.09179      \n",
       "                                                                        metname                                                                \n",
       "5,10-Methylenetetrahydrofolate                                          5,10-Methylenetetrahydrofolate                                         \n",
       "2-Oxoglutarate                                                          2-Oxoglutarate                                                         \n",
       "L-Phenylalanine                                                         L-Phenylalanine                                                        \n",
       "(S)-2-[5-Amino-1-(5-Phospho-D-Ribosyl)Imidazole-4-Carboxamido]Succinate (S)-2-[5-Amino-1-(5-Phospho-D-Ribosyl)Imidazole-4-Carboxamido]Succinate\n",
       "5-Amino-1-(5-Phospho-D-Ribosyl)Imidazole                                5-Amino-1-(5-Phospho-D-Ribosyl)Imidazole                               \n",
       "5-Amino-1-(5-Phospho-D-Ribosyl)Imidazole-4-Carboxylate                  5-Amino-1-(5-Phospho-D-Ribosyl)Imidazole-4-Carboxylate                 \n",
       "N1-(5-Phospho-D-Ribosyl)Glycinamide                                     N1-(5-Phospho-D-Ribosyl)Glycinamide                                    \n",
       "N2-Formyl-N1-(5-Phospho-D-Ribosyl)Glycinamide                           N2-Formyl-N1-(5-Phospho-D-Ribosyl)Glycinamide                          \n",
       "5-Phospho-Beta-D-Ribosylamine                                           5-Phospho-Beta-D-Ribosylamine                                          \n",
       "2-(Formamido)-N1-(5-Phospho-D-Ribosyl)Acetamidine                       2-(Formamido)-N1-(5-Phospho-D-Ribosyl)Acetamidine                      \n",
       "L-Arginine                                                              L-Arginine                                                             \n",
       "Glycine                                                                 Glycine                                                                \n",
       "L-Asparagine                                                            L-Asparagine                                                           \n",
       "L-Cysteine                                                              L-Cysteine                                                             \n",
       "L-Threonine                                                             L-Threonine                                                            \n",
       "L-Methionine                                                            L-Methionine                                                           \n",
       "Guanosine-5'-Triphosphate                                               Guanosine-5'-Triphosphate                                              \n",
       "N6-(1,2-Dicarboxyethyl)-Adenosine Monophosphate                         N6-(1,2-Dicarboxyethyl)-Adenosine Monophosphate                        \n",
       "L-Lysine                                                                L-Lysine                                                               \n",
       "Inosine-5'-Monophosphate                                                Inosine-5'-Monophosphate                                               \n",
       "                                                                        pubchemID\n",
       "5,10-Methylenetetrahydrofolate                                          439175   \n",
       "2-Oxoglutarate                                                              51   \n",
       "L-Phenylalanine                                                           6140   \n",
       "(S)-2-[5-Amino-1-(5-Phospho-D-Ribosyl)Imidazole-4-Carboxamido]Succinate 160666   \n",
       "5-Amino-1-(5-Phospho-D-Ribosyl)Imidazole                                161500   \n",
       "5-Amino-1-(5-Phospho-D-Ribosyl)Imidazole-4-Carboxylate                  165388   \n",
       "N1-(5-Phospho-D-Ribosyl)Glycinamide                                     160913   \n",
       "N2-Formyl-N1-(5-Phospho-D-Ribosyl)Glycinamide                           130805   \n",
       "5-Phospho-Beta-D-Ribosylamine                                           439905   \n",
       "2-(Formamido)-N1-(5-Phospho-D-Ribosyl)Acetamidine                           NA   \n",
       "L-Arginine                                                                6322   \n",
       "Glycine                                                                    750   \n",
       "L-Asparagine                                                              6267   \n",
       "L-Cysteine                                                                5862   \n",
       "L-Threonine                                                               6288   \n",
       "L-Methionine                                                              6137   \n",
       "Guanosine-5'-Triphosphate                                                 6830   \n",
       "N6-(1,2-Dicarboxyethyl)-Adenosine Monophosphate                         447145   \n",
       "L-Lysine                                                                  5962   \n",
       "Inosine-5'-Monophosphate                                                  8582   \n",
       "                                                                        HMDBID   \n",
       "5,10-Methylenetetrahydrofolate                                                   \n",
       "2-Oxoglutarate                                                          HMDB00208\n",
       "L-Phenylalanine                                                         HMDB00159\n",
       "(S)-2-[5-Amino-1-(5-Phospho-D-Ribosyl)Imidazole-4-Carboxamido]Succinate          \n",
       "5-Amino-1-(5-Phospho-D-Ribosyl)Imidazole                                         \n",
       "5-Amino-1-(5-Phospho-D-Ribosyl)Imidazole-4-Carboxylate                           \n",
       "N1-(5-Phospho-D-Ribosyl)Glycinamide                                              \n",
       "N2-Formyl-N1-(5-Phospho-D-Ribosyl)Glycinamide                                    \n",
       "5-Phospho-Beta-D-Ribosylamine                                                    \n",
       "2-(Formamido)-N1-(5-Phospho-D-Ribosyl)Acetamidine                                \n",
       "L-Arginine                                                              HMDB00517\n",
       "Glycine                                                                 HMDB00123\n",
       "L-Asparagine                                                            HMDB00168\n",
       "L-Cysteine                                                              HMDB00574\n",
       "L-Threonine                                                             HMDB00167\n",
       "L-Methionine                                                            HMDB00696\n",
       "Guanosine-5'-Triphosphate                                               HMDB01273\n",
       "N6-(1,2-Dicarboxyethyl)-Adenosine Monophosphate                                  \n",
       "L-Lysine                                                                HMDB00182\n",
       "Inosine-5'-Monophosphate                                                HMDB00175\n",
       "                                                                        smiles                                                                                                                                                                     \n",
       "5,10-Methylenetetrahydrofolate                                          [H]OC1=NC(=NC2=C1N1C([H])([H])N(C3=C([H])C([H])=C(C([H])=C3[H])C(=O)N([H])C([H])(C([O-])=O)C([H])([H])C([H])([H])C([O-])=O)C([H])([H])[C@@]1([H])C([H])([H])N2[H])N([H])[H]\n",
       "2-Oxoglutarate                                                          [H]C([H])(C([O-])=O)C([H])([H])C(=O)C([O-])=O                                                                                                                              \n",
       "L-Phenylalanine                                                         [H]C1=C([H])C([H])=C(C([H])=C1[H])C([H])([H])[C@@]([H])(C([O-])=O)[N+]([H])([H])[H]                                                                                        \n",
       "(S)-2-[5-Amino-1-(5-Phospho-D-Ribosyl)Imidazole-4-Carboxamido]Succinate [H]O[C@@]1([H])[C@@]([H])(O[C@]([H])(C([H])([H])OP([O-])([O-])=O)[C@@]1([H])O[H])N1C([H])=NC(C(=O)N([H])C([H])(C([O-])=O)C([H])([H])C([O-])=O)=C1N([H])[H]                 \n",
       "5-Amino-1-(5-Phospho-D-Ribosyl)Imidazole                                [H]O[C@@]1([H])C([H])(O[C@]([H])(C([H])([H])OP([O-])([O-])=O)[C@@]1([H])O[H])N1C([H])=NC([H])=C1N([H])[H]                                                                  \n",
       "5-Amino-1-(5-Phospho-D-Ribosyl)Imidazole-4-Carboxylate                  [H]O[C@@]1([H])[C@@]([H])(O[C@]([H])(C([H])([H])OP([O-])([O-])=O)[C@@]1([H])O[H])N1C([H])=NC(C([O-])=O)=C1N([H])[H]                                                        \n",
       "N1-(5-Phospho-D-Ribosyl)Glycinamide                                     [H]O[C@@]1([H])C([H])(O[C@]([H])(C([H])([H])OP([O-])([O-])=O)[C@@]1([H])O[H])N([H])C(=O)C([H])([H])[N+]([H])([H])[H]                                                       \n",
       "N2-Formyl-N1-(5-Phospho-D-Ribosyl)Glycinamide                           [H]O[C@@]1([H])C([H])(O[C@]([H])(C([H])([H])OP([O-])([O-])=O)[C@@]1([H])O[H])N([H])C(=O)C([H])([H])N([H])C([H])=O                                                          \n",
       "5-Phospho-Beta-D-Ribosylamine                                           [H]O[C@@]1([H])[C@@]([H])(O[C@]([H])(C([H])([H])OP([O-])([O-])=O)[C@@]1([H])O[H])[N+]([H])([H])[H]                                                                         \n",
       "2-(Formamido)-N1-(5-Phospho-D-Ribosyl)Acetamidine                       [H]O[C@@]1([H])C([H])(O[C@]([H])(C([H])([H])OP([O-])([O-])=O)[C@@]1([H])O[H])N([H])C(=[N+]([H])[H])C([H])([H])N([H])C([H])=O                                               \n",
       "L-Arginine                                                              [H]N([H])C(N([H])C([H])([H])C([H])([H])C([H])([H])[C@@]([H])(C([O-])=O)[N+]([H])([H])[H])=[N+]([H])[H]                                                                     \n",
       "Glycine                                                                 [H][N+]([H])([H])C([H])([H])C([O-])=O                                                                                                                                      \n",
       "L-Asparagine                                                            [H]N([H])C(=O)C([H])([H])[C@@]([H])(C([O-])=O)[N+]([H])([H])[H]                                                                                                            \n",
       "L-Cysteine                                                              [H]SC([H])([H])[C@@]([H])(C([O-])=O)[N+]([H])([H])[H]                                                                                                                      \n",
       "L-Threonine                                                             [H]O[C@]([H])(C([H])([H])[H])[C@@]([H])(C([O-])=O)[N+]([H])([H])[H]                                                                                                        \n",
       "L-Methionine                                                            [H]C([H])([H])SC([H])([H])C([H])([H])[C@@]([H])(C([O-])=O)[N+]([H])([H])[H]                                                                                                \n",
       "Guanosine-5'-Triphosphate                                               [H]O[C@@]1([H])[C@@]([H])(O[C@]([H])(C([H])([H])OP([O-])(=O)OP([O-])(=O)OP([O-])([O-])=O)[C@@]1([H])O[H])N1C([H])=NC2=C1N=C(N([H])[H])N([H])C2=O                           \n",
       "N6-(1,2-Dicarboxyethyl)-Adenosine Monophosphate                         [H]O[C@@]1([H])[C@@]([H])(O[C@]([H])(C([H])([H])OP([O-])([O-])=O)[C@@]1([H])O[H])N1C([H])=NC2=C(N=C([H])N=C12)N([H])C([H])(C([O-])=O)C([H])([H])C([O-])=O                  \n",
       "L-Lysine                                                                [H][N+]([H])([H])C([H])([H])C([H])([H])C([H])([H])C([H])([H])[C@@]([H])(C([O-])=O)[N+]([H])([H])[H]                                                                        \n",
       "Inosine-5'-Monophosphate                                                [H]O[C@@]1([H])[C@@]([H])(O[C@]([H])(C([H])([H])OP([O-])([O-])=O)[C@@]1([H])O[H])N1C([H])=NC2=C1N=C([H])N([H])C2=O                                                         \n",
       "                                                                        InchiString                                                                                                                                                                                                         \n",
       "5,10-Methylenetetrahydrofolate                                          InChI=1/C20H23N7O6/c21-20-24-16-15(18(31)25-20)27-9-26(8-12(27)7-22-16)11-3-1-10(2-4-11)17(30)23-13(19(32)33)5-6-14(28)29/h1-4,12-13H,5-9H2,(H,23,30)(H,28,29)(H,32,33)(H4,21,22,24,25,31)/p-2/t12-,13?/s2          \n",
       "2-Oxoglutarate                                                          InChI=1S/C5H6O5/c6-3(5(9)10)1-2-4(7)8/h1-2H2,(H,7,8)(H,9,10)/p-2                                                                                                                                                    \n",
       "L-Phenylalanine                                                         InChI=1S/C9H11NO2/c10-8(9(11)12)6-7-4-2-1-3-5-7/h1-5,8H,6,10H2,(H,11,12)/t8-/m0/s1                                                                                                                                  \n",
       "(S)-2-[5-Amino-1-(5-Phospho-D-Ribosyl)Imidazole-4-Carboxamido]Succinate InChI=1/C13H19N4O12P/c14-10-7(11(22)16-4(13(23)24)1-6(18)19)15-3-17(10)12-9(21)8(20)5(29-12)2-28-30(25,26)27/h3-5,8-9,12,20-21H,1-2,14H2,(H,16,22)(H,18,19)(H,23,24)(H2,25,26,27)/p-4/t4?,5-,8-,9-,12-/s2           \n",
       "5-Amino-1-(5-Phospho-D-Ribosyl)Imidazole                                InChI=1/C8H14N3O7P/c9-5-1-10-3-11(5)8-7(13)6(12)4(18-8)2-17-19(14,15)16/h1,3-4,6-8,12-13H,2,9H2,(H2,14,15,16)/p-2/t4-,6-,7-,8?/s2                                                                                   \n",
       "5-Amino-1-(5-Phospho-D-Ribosyl)Imidazole-4-Carboxylate                  InChI=1S/C9H14N3O9P/c10-7-4(9(15)16)11-2-12(7)8-6(14)5(13)3(21-8)1-20-22(17,18)19/h2-3,5-6,8,13-14H,1,10H2,(H,15,16)(H2,17,18,19)/p-3/t3-,5-,6-,8-/m1/s1                                                            \n",
       "N1-(5-Phospho-D-Ribosyl)Glycinamide                                     InChI=1/C7H15N2O8P/c8-1-4(10)9-7-6(12)5(11)3(17-7)2-16-18(13,14)15/h3,5-7,11-12H,1-2,8H2,(H,9,10)(H2,13,14,15)/p-1/t3-,5-,6-,7?/s2                                                                                  \n",
       "N2-Formyl-N1-(5-Phospho-D-Ribosyl)Glycinamide                           InChI=1/C8H15N2O9P/c11-3-9-1-5(12)10-8-7(14)6(13)4(19-8)2-18-20(15,16)17/h3-4,6-8,13-14H,1-2H2,(H,9,11)(H,10,12)(H2,15,16,17)/p-2/t4-,6-,7-,8?/s2                                                                   \n",
       "5-Phospho-Beta-D-Ribosylamine                                           InChI=1/C5H12NO7P/c6-5-4(8)3(7)2(13-5)1-12-14(9,10)11/h2-5,7-8H,1,6H2,(H2,9,10,11)/p-1/t2-,3-,4-,5-/s2                                                                                                              \n",
       "2-(Formamido)-N1-(5-Phospho-D-Ribosyl)Acetamidine                       InChI=1/C8H16N3O8P/c9-5(1-10-3-12)11-8-7(14)6(13)4(19-8)2-18-20(15,16)17/h3-4,6-8,13-14H,1-2H2,(H2,9,11)(H,10,12)(H2,15,16,17)/p-1/t4-,6-,7-,8?/s2                                                                  \n",
       "L-Arginine                                                              InChI=1S/C6H14N4O2/c7-4(5(11)12)2-1-3-10-6(8)9/h4H,1-3,7H2,(H,11,12)(H4,8,9,10)/p+1/t4-/m0/s1                                                                                                                       \n",
       "Glycine                                                                 InChI=1S/C2H5NO2/c3-1-2(4)5/h1,3H2,(H,4,5)                                                                                                                                                                          \n",
       "L-Asparagine                                                            InChI=1S/C4H8N2O3/c5-2(4(8)9)1-3(6)7/h2H,1,5H2,(H2,6,7)(H,8,9)/t2-/m0/s1                                                                                                                                            \n",
       "L-Cysteine                                                              InChI=1S/C3H7NO2S/c4-2(1-7)3(5)6/h2,7H,1,4H2,(H,5,6)/t2-/m0/s1                                                                                                                                                      \n",
       "L-Threonine                                                             InChI=1S/C4H9NO3/c1-2(6)3(5)4(7)8/h2-3,6H,5H2,1H3,(H,7,8)/t2-,3+/m1/s1                                                                                                                                              \n",
       "L-Methionine                                                            InChI=1S/C5H11NO2S/c1-9-3-2-4(6)5(7)8/h4H,2-3,6H2,1H3,(H,7,8)/t4-/m0/s1                                                                                                                                             \n",
       "Guanosine-5'-Triphosphate                                               InChI=1S/C10H16N5O14P3/c11-10-13-7-4(8(18)14-10)12-2-15(7)9-6(17)5(16)3(27-9)1-26-31(22,23)29-32(24,25)28-30(19,20)21/h2-3,5-6,9,16-17H,1H2,(H,22,23)(H,24,25)(H2,19,20,21)(H3,11,13,14,18)/p-4/t3-,5-,6-,9-/m1/s1  \n",
       "N6-(1,2-Dicarboxyethyl)-Adenosine Monophosphate                         InChI=1S/C14H18N5O11P/c20-7(21)1-5(14(24)25)18-11-8-12(16-3-15-11)19(4-17-8)13-10(23)9(22)6(30-13)2-29-31(26,27)28/h3-6,9-10,13,22-23H,1-2H2,(H,20,21)(H,24,25)(H,15,16,18)(H2,26,27,28)/p-4/t5?,6-,9-,10-,13-/m1/s1\n",
       "L-Lysine                                                                InChI=1/C6H14N2O2/c7-4-2-1-3-5(8)6(9)10/h5H,1-4,7-8H2,(H,9,10)/p+1/t5-/s2                                                                                                                                           \n",
       "Inosine-5'-Monophosphate                                                InChI=1S/C10H13N4O8P/c15-6-4(1-21-23(18,19)20)22-10(7(6)16)14-3-13-5-8(14)11-2-12-9(5)17/h2-4,6-7,10,15-16H,1H2,(H,11,12,17)(H2,18,19,20)/p-2/t4-,6-,7-,10-/m1/s1                                                   "
      ]
     },
     "metadata": {},
     "output_type": "display_data"
    }
   ],
   "source": [
    "# metabolites\n",
    "get_subterm_met1 <- function(df, mets){\n",
    "    out = df[is.element(df$metname,mets),]\n",
    "    cc = sort.int(abs(out$Effect_afterKO),decreasing = T,index.return = T)$ix\n",
    "    out = out[cc,]\n",
    "    idx = !duplicated(out$metname)\n",
    "    out = out[idx,]\n",
    "    #out = out[abs(out$Effect_afterKO) >= 3,]\n",
    "    rownames(out) = out$metname\n",
    "    cc = sort.int(out$Effect_afterKO,decreasing = T,index.return = T)$ix\n",
    "    out = out[cc,]\n",
    "    return(out)\n",
    "}\n",
    "Metabolites  = Overlaped_metabolites_3celllines$metname\n",
    "Metabolites_Deta = file2frame('./modeling/v20230118_omicron/results/UK8/KOmet_covid19_Delta_KO_effect_mets.txt')\n",
    "Metabolites_Deta = get_subterm_met1(Metabolites_Deta,Metabolites)\n",
    "Metabolites_Deta"
   ]
  },
  {
   "cell_type": "markdown",
   "metadata": {},
   "source": [
    "#### omicron"
   ]
  },
  {
   "cell_type": "code",
   "execution_count": 50,
   "metadata": {},
   "outputs": [
    {
     "data": {
      "text/html": [
       "<table class=\"dataframe\">\n",
       "<caption>A data.frame: 5 × 2</caption>\n",
       "<thead>\n",
       "\t<tr><th></th><th scope=col>gene</th><th scope=col>effect_GeneKO</th></tr>\n",
       "\t<tr><th></th><th scope=col>&lt;chr&gt;</th><th scope=col>&lt;dbl&gt;</th></tr>\n",
       "</thead>\n",
       "<tbody>\n",
       "\t<tr><th scope=row>PAICS</th><td>PAICS</td><td>-4.9911</td></tr>\n",
       "\t<tr><th scope=row>GART</th><td>GART </td><td>-4.9911</td></tr>\n",
       "\t<tr><th scope=row>ATIC</th><td>ATIC </td><td>-4.9911</td></tr>\n",
       "\t<tr><th scope=row>PPAT</th><td>PPAT </td><td>-4.9911</td></tr>\n",
       "\t<tr><th scope=row>PFAS</th><td>PFAS </td><td>-4.9911</td></tr>\n",
       "</tbody>\n",
       "</table>\n"
      ],
      "text/latex": [
       "A data.frame: 5 × 2\n",
       "\\begin{tabular}{r|ll}\n",
       "  & gene & effect\\_GeneKO\\\\\n",
       "  & <chr> & <dbl>\\\\\n",
       "\\hline\n",
       "\tPAICS & PAICS & -4.9911\\\\\n",
       "\tGART & GART  & -4.9911\\\\\n",
       "\tATIC & ATIC  & -4.9911\\\\\n",
       "\tPPAT & PPAT  & -4.9911\\\\\n",
       "\tPFAS & PFAS  & -4.9911\\\\\n",
       "\\end{tabular}\n"
      ],
      "text/markdown": [
       "\n",
       "A data.frame: 5 × 2\n",
       "\n",
       "| <!--/--> | gene &lt;chr&gt; | effect_GeneKO &lt;dbl&gt; |\n",
       "|---|---|---|\n",
       "| PAICS | PAICS | -4.9911 |\n",
       "| GART | GART  | -4.9911 |\n",
       "| ATIC | ATIC  | -4.9911 |\n",
       "| PPAT | PPAT  | -4.9911 |\n",
       "| PFAS | PFAS  | -4.9911 |\n",
       "\n"
      ],
      "text/plain": [
       "      gene  effect_GeneKO\n",
       "PAICS PAICS -4.9911      \n",
       "GART  GART  -4.9911      \n",
       "ATIC  ATIC  -4.9911      \n",
       "PPAT  PPAT  -4.9911      \n",
       "PFAS  PFAS  -4.9911      "
      ]
     },
     "metadata": {},
     "output_type": "display_data"
    }
   ],
   "source": [
    "#genes\n",
    "Targets  = Overlaped_target_3celllines$Target\n",
    "Target_Omicron = file2frame('./modeling/v20230118_omicron/results/UK8/KOgene_covid19_omicron_KO_effect_genes.txt')\n",
    "Target_Omicron = get_subterm_gene(Target_Omicron,Targets)\n",
    "Target_Omicron"
   ]
  },
  {
   "cell_type": "code",
   "execution_count": 39,
   "metadata": {},
   "outputs": [
    {
     "data": {
      "text/html": [
       "<table class=\"dataframe\">\n",
       "<caption>A data.frame: 20 × 7</caption>\n",
       "<thead>\n",
       "\t<tr><th></th><th scope=col>metid</th><th scope=col>Effect_afterKO</th><th scope=col>metname</th><th scope=col>pubchemID</th><th scope=col>HMDBID</th><th scope=col>smiles</th><th scope=col>InchiString</th></tr>\n",
       "\t<tr><th></th><th scope=col>&lt;chr&gt;</th><th scope=col>&lt;dbl&gt;</th><th scope=col>&lt;chr&gt;</th><th scope=col>&lt;int&gt;</th><th scope=col>&lt;chr&gt;</th><th scope=col>&lt;chr&gt;</th><th scope=col>&lt;chr&gt;</th></tr>\n",
       "</thead>\n",
       "<tbody>\n",
       "\t<tr><th scope=row>2-Oxoglutarate</th><td>akg[c]   </td><td> 2.18592</td><td>2-Oxoglutarate                                                         </td><td>    51</td><td>HMDB00208</td><td>[H]C([H])(C([O-])=O)C([H])([H])C(=O)C([O-])=O                                                                                                                              </td><td>InChI=1S/C5H6O5/c6-3(5(9)10)1-2-4(7)8/h1-2H2,(H,7,8)(H,9,10)/p-2                                                                                                                                                    </td></tr>\n",
       "\t<tr><th scope=row>5,10-Methylenetetrahydrofolate</th><td>mlthf[c] </td><td> 0.00000</td><td>5,10-Methylenetetrahydrofolate                                         </td><td>439175</td><td>         </td><td>[H]OC1=NC(=NC2=C1N1C([H])([H])N(C3=C([H])C([H])=C(C([H])=C3[H])C(=O)N([H])C([H])(C([O-])=O)C([H])([H])C([H])([H])C([O-])=O)C([H])([H])[C@@]1([H])C([H])([H])N2[H])N([H])[H]</td><td>InChI=1/C20H23N7O6/c21-20-24-16-15(18(31)25-20)27-9-26(8-12(27)7-22-16)11-3-1-10(2-4-11)17(30)23-13(19(32)33)5-6-14(28)29/h1-4,12-13H,5-9H2,(H,23,30)(H,28,29)(H,32,33)(H4,21,22,24,25,31)/p-2/t12-,13?/s2          </td></tr>\n",
       "\t<tr><th scope=row>L-Phenylalanine</th><td>phe_L[c] </td><td>-3.85863</td><td>L-Phenylalanine                                                        </td><td>  6140</td><td>HMDB00159</td><td>[H]C1=C([H])C([H])=C(C([H])=C1[H])C([H])([H])[C@@]([H])(C([O-])=O)[N+]([H])([H])[H]                                                                                        </td><td>InChI=1S/C9H11NO2/c10-8(9(11)12)6-7-4-2-1-3-5-7/h1-5,8H,6,10H2,(H,11,12)/t8-/m0/s1                                                                                                                                  </td></tr>\n",
       "\t<tr><th scope=row>(S)-2-[5-Amino-1-(5-Phospho-D-Ribosyl)Imidazole-4-Carboxamido]Succinate</th><td>25aics[c]</td><td>-4.99108</td><td>(S)-2-[5-Amino-1-(5-Phospho-D-Ribosyl)Imidazole-4-Carboxamido]Succinate</td><td>160666</td><td>         </td><td>[H]O[C@@]1([H])[C@@]([H])(O[C@]([H])(C([H])([H])OP([O-])([O-])=O)[C@@]1([H])O[H])N1C([H])=NC(C(=O)N([H])C([H])(C([O-])=O)C([H])([H])C([O-])=O)=C1N([H])[H]                 </td><td>InChI=1/C13H19N4O12P/c14-10-7(11(22)16-4(13(23)24)1-6(18)19)15-3-17(10)12-9(21)8(20)5(29-12)2-28-30(25,26)27/h3-5,8-9,12,20-21H,1-2,14H2,(H,16,22)(H,18,19)(H,23,24)(H2,25,26,27)/p-4/t4?,5-,8-,9-,12-/s2           </td></tr>\n",
       "\t<tr><th scope=row>5-Amino-1-(5-Phospho-D-Ribosyl)Imidazole</th><td>air[c]   </td><td>-4.99108</td><td>5-Amino-1-(5-Phospho-D-Ribosyl)Imidazole                               </td><td>161500</td><td>         </td><td>[H]O[C@@]1([H])C([H])(O[C@]([H])(C([H])([H])OP([O-])([O-])=O)[C@@]1([H])O[H])N1C([H])=NC([H])=C1N([H])[H]                                                                  </td><td>InChI=1/C8H14N3O7P/c9-5-1-10-3-11(5)8-7(13)6(12)4(18-8)2-17-19(14,15)16/h1,3-4,6-8,12-13H,2,9H2,(H2,14,15,16)/p-2/t4-,6-,7-,8?/s2                                                                                   </td></tr>\n",
       "\t<tr><th scope=row>5-Amino-1-(5-Phospho-D-Ribosyl)Imidazole-4-Carboxylate</th><td>5aizc[c] </td><td>-4.99108</td><td>5-Amino-1-(5-Phospho-D-Ribosyl)Imidazole-4-Carboxylate                 </td><td>165388</td><td>         </td><td>[H]O[C@@]1([H])[C@@]([H])(O[C@]([H])(C([H])([H])OP([O-])([O-])=O)[C@@]1([H])O[H])N1C([H])=NC(C([O-])=O)=C1N([H])[H]                                                        </td><td>InChI=1S/C9H14N3O9P/c10-7-4(9(15)16)11-2-12(7)8-6(14)5(13)3(21-8)1-20-22(17,18)19/h2-3,5-6,8,13-14H,1,10H2,(H,15,16)(H2,17,18,19)/p-3/t3-,5-,6-,8-/m1/s1                                                            </td></tr>\n",
       "\t<tr><th scope=row>N1-(5-Phospho-D-Ribosyl)Glycinamide</th><td>gar[c]   </td><td>-4.99108</td><td>N1-(5-Phospho-D-Ribosyl)Glycinamide                                    </td><td>160913</td><td>         </td><td>[H]O[C@@]1([H])C([H])(O[C@]([H])(C([H])([H])OP([O-])([O-])=O)[C@@]1([H])O[H])N([H])C(=O)C([H])([H])[N+]([H])([H])[H]                                                       </td><td>InChI=1/C7H15N2O8P/c8-1-4(10)9-7-6(12)5(11)3(17-7)2-16-18(13,14)15/h3,5-7,11-12H,1-2,8H2,(H,9,10)(H2,13,14,15)/p-1/t3-,5-,6-,7?/s2                                                                                  </td></tr>\n",
       "\t<tr><th scope=row>N2-Formyl-N1-(5-Phospho-D-Ribosyl)Glycinamide</th><td>fgam[c]  </td><td>-4.99108</td><td>N2-Formyl-N1-(5-Phospho-D-Ribosyl)Glycinamide                          </td><td>130805</td><td>         </td><td>[H]O[C@@]1([H])C([H])(O[C@]([H])(C([H])([H])OP([O-])([O-])=O)[C@@]1([H])O[H])N([H])C(=O)C([H])([H])N([H])C([H])=O                                                          </td><td>InChI=1/C8H15N2O9P/c11-3-9-1-5(12)10-8-7(14)6(13)4(19-8)2-18-20(15,16)17/h3-4,6-8,13-14H,1-2H2,(H,9,11)(H,10,12)(H2,15,16,17)/p-2/t4-,6-,7-,8?/s2                                                                   </td></tr>\n",
       "\t<tr><th scope=row>5-Phospho-Beta-D-Ribosylamine</th><td>pram[c]  </td><td>-4.99108</td><td>5-Phospho-Beta-D-Ribosylamine                                          </td><td>439905</td><td>         </td><td>[H]O[C@@]1([H])[C@@]([H])(O[C@]([H])(C([H])([H])OP([O-])([O-])=O)[C@@]1([H])O[H])[N+]([H])([H])[H]                                                                         </td><td>InChI=1/C5H12NO7P/c6-5-4(8)3(7)2(13-5)1-12-14(9,10)11/h2-5,7-8H,1,6H2,(H2,9,10,11)/p-1/t2-,3-,4-,5-/s2                                                                                                              </td></tr>\n",
       "\t<tr><th scope=row>2-(Formamido)-N1-(5-Phospho-D-Ribosyl)Acetamidine</th><td>fpram[c] </td><td>-4.99108</td><td>2-(Formamido)-N1-(5-Phospho-D-Ribosyl)Acetamidine                      </td><td>    NA</td><td>         </td><td>[H]O[C@@]1([H])C([H])(O[C@]([H])(C([H])([H])OP([O-])([O-])=O)[C@@]1([H])O[H])N([H])C(=[N+]([H])[H])C([H])([H])N([H])C([H])=O                                               </td><td>InChI=1/C8H16N3O8P/c9-5(1-10-3-12)11-8-7(14)6(13)4(19-8)2-18-20(15,16)17/h3-4,6-8,13-14H,1-2H2,(H2,9,11)(H,10,12)(H2,15,16,17)/p-1/t4-,6-,7-,8?/s2                                                                  </td></tr>\n",
       "\t<tr><th scope=row>L-Arginine</th><td>arg_L[c] </td><td>-5.07227</td><td>L-Arginine                                                             </td><td>  6322</td><td>HMDB00517</td><td>[H]N([H])C(N([H])C([H])([H])C([H])([H])C([H])([H])[C@@]([H])(C([O-])=O)[N+]([H])([H])[H])=[N+]([H])[H]                                                                     </td><td>InChI=1S/C6H14N4O2/c7-4(5(11)12)2-1-3-10-6(8)9/h4H,1-3,7H2,(H,11,12)(H4,8,9,10)/p+1/t4-/m0/s1                                                                                                                       </td></tr>\n",
       "\t<tr><th scope=row>Guanosine-5'-Triphosphate</th><td>gtp[c]   </td><td>-5.81617</td><td>Guanosine-5'-Triphosphate                                              </td><td>  6830</td><td>HMDB01273</td><td>[H]O[C@@]1([H])[C@@]([H])(O[C@]([H])(C([H])([H])OP([O-])(=O)OP([O-])(=O)OP([O-])([O-])=O)[C@@]1([H])O[H])N1C([H])=NC2=C1N=C(N([H])[H])N([H])C2=O                           </td><td>InChI=1S/C10H16N5O14P3/c11-10-13-7-4(8(18)14-10)12-2-15(7)9-6(17)5(16)3(27-9)1-26-31(22,23)29-32(24,25)28-30(19,20)21/h2-3,5-6,9,16-17H,1H2,(H,22,23)(H,24,25)(H2,19,20,21)(H3,11,13,14,18)/p-4/t3-,5-,6-,9-/m1/s1  </td></tr>\n",
       "\t<tr><th scope=row>N6-(1,2-Dicarboxyethyl)-Adenosine Monophosphate</th><td>dcamp[c] </td><td>-6.81617</td><td>N6-(1,2-Dicarboxyethyl)-Adenosine Monophosphate                        </td><td>447145</td><td>         </td><td>[H]O[C@@]1([H])[C@@]([H])(O[C@]([H])(C([H])([H])OP([O-])([O-])=O)[C@@]1([H])O[H])N1C([H])=NC2=C(N=C([H])N=C12)N([H])C([H])(C([O-])=O)C([H])([H])C([O-])=O                  </td><td>InChI=1S/C14H18N5O11P/c20-7(21)1-5(14(24)25)18-11-8-12(16-3-15-11)19(4-17-8)13-10(23)9(22)6(30-13)2-29-31(26,27)28/h3-6,9-10,13,22-23H,1-2H2,(H,20,21)(H,24,25)(H,15,16,18)(H2,26,27,28)/p-4/t5?,6-,9-,10-,13-/m1/s1</td></tr>\n",
       "\t<tr><th scope=row>Inosine-5'-Monophosphate</th><td>imp[c]   </td><td>-6.81617</td><td>Inosine-5'-Monophosphate                                               </td><td>  8582</td><td>HMDB00175</td><td>[H]O[C@@]1([H])[C@@]([H])(O[C@]([H])(C([H])([H])OP([O-])([O-])=O)[C@@]1([H])O[H])N1C([H])=NC2=C1N=C([H])N([H])C2=O                                                         </td><td>InChI=1S/C10H13N4O8P/c15-6-4(1-21-23(18,19)20)22-10(7(6)16)14-3-13-5-8(14)11-2-12-9(5)17/h2-4,6-7,10,15-16H,1H2,(H,11,12,17)(H2,18,19,20)/p-2/t4-,6-,7-,10-/m1/s1                                                   </td></tr>\n",
       "\t<tr><th scope=row>Glycine</th><td>gly[c]   </td><td>-6.93982</td><td>Glycine                                                                </td><td>   750</td><td>HMDB00123</td><td>[H][N+]([H])([H])C([H])([H])C([O-])=O                                                                                                                                      </td><td>InChI=1S/C2H5NO2/c3-1-2(4)5/h1,3H2,(H,4,5)                                                                                                                                                                          </td></tr>\n",
       "\t<tr><th scope=row>L-Asparagine</th><td>asn_L[c] </td><td>-7.00000</td><td>L-Asparagine                                                           </td><td>  6267</td><td>HMDB00168</td><td>[H]N([H])C(=O)C([H])([H])[C@@]([H])(C([O-])=O)[N+]([H])([H])[H]                                                                                                            </td><td>InChI=1S/C4H8N2O3/c5-2(4(8)9)1-3(6)7/h2H,1,5H2,(H2,6,7)(H,8,9)/t2-/m0/s1                                                                                                                                            </td></tr>\n",
       "\t<tr><th scope=row>L-Threonine</th><td>thr_L[c] </td><td>-7.00000</td><td>L-Threonine                                                            </td><td>  6288</td><td>HMDB00167</td><td>[H]O[C@]([H])(C([H])([H])[H])[C@@]([H])(C([O-])=O)[N+]([H])([H])[H]                                                                                                        </td><td>InChI=1S/C4H9NO3/c1-2(6)3(5)4(7)8/h2-3,6H,5H2,1H3,(H,7,8)/t2-,3+/m1/s1                                                                                                                                              </td></tr>\n",
       "\t<tr><th scope=row>L-Lysine</th><td>lys_L[c] </td><td>-7.00000</td><td>L-Lysine                                                               </td><td>  5962</td><td>HMDB00182</td><td>[H][N+]([H])([H])C([H])([H])C([H])([H])C([H])([H])C([H])([H])[C@@]([H])(C([O-])=O)[N+]([H])([H])[H]                                                                        </td><td>InChI=1/C6H14N2O2/c7-4-2-1-3-5(8)6(9)10/h5H,1-4,7-8H2,(H,9,10)/p+1/t5-/s2                                                                                                                                           </td></tr>\n",
       "\t<tr><th scope=row>L-Methionine</th><td>met_L[c] </td><td>-7.00000</td><td>L-Methionine                                                           </td><td>  6137</td><td>HMDB00696</td><td>[H]C([H])([H])SC([H])([H])C([H])([H])[C@@]([H])(C([O-])=O)[N+]([H])([H])[H]                                                                                                </td><td>InChI=1S/C5H11NO2S/c1-9-3-2-4(6)5(7)8/h4H,2-3,6H2,1H3,(H,7,8)/t4-/m0/s1                                                                                                                                             </td></tr>\n",
       "\t<tr><th scope=row>L-Cysteine</th><td>cys_L[c] </td><td>-8.00000</td><td>L-Cysteine                                                             </td><td>  5862</td><td>HMDB00574</td><td>[H]SC([H])([H])[C@@]([H])(C([O-])=O)[N+]([H])([H])[H]                                                                                                                      </td><td>InChI=1S/C3H7NO2S/c4-2(1-7)3(5)6/h2,7H,1,4H2,(H,5,6)/t2-/m0/s1                                                                                                                                                      </td></tr>\n",
       "</tbody>\n",
       "</table>\n"
      ],
      "text/latex": [
       "A data.frame: 20 × 7\n",
       "\\begin{tabular}{r|lllllll}\n",
       "  & metid & Effect\\_afterKO & metname & pubchemID & HMDBID & smiles & InchiString\\\\\n",
       "  & <chr> & <dbl> & <chr> & <int> & <chr> & <chr> & <chr>\\\\\n",
       "\\hline\n",
       "\t2-Oxoglutarate & akg{[}c{]}    &  2.18592 & 2-Oxoglutarate                                                          &     51 & HMDB00208 & {[}H{]}C({[}H{]})(C({[}O-{]})=O)C({[}H{]})({[}H{]})C(=O)C({[}O-{]})=O                                                                                                                               & InChI=1S/C5H6O5/c6-3(5(9)10)1-2-4(7)8/h1-2H2,(H,7,8)(H,9,10)/p-2                                                                                                                                                    \\\\\n",
       "\t5,10-Methylenetetrahydrofolate & mlthf{[}c{]}  &  0.00000 & 5,10-Methylenetetrahydrofolate                                          & 439175 &           & {[}H{]}OC1=NC(=NC2=C1N1C({[}H{]})({[}H{]})N(C3=C({[}H{]})C({[}H{]})=C(C({[}H{]})=C3{[}H{]})C(=O)N({[}H{]})C({[}H{]})(C({[}O-{]})=O)C({[}H{]})({[}H{]})C({[}H{]})({[}H{]})C({[}O-{]})=O)C({[}H{]})({[}H{]}){[}C@@{]}1({[}H{]})C({[}H{]})({[}H{]})N2{[}H{]})N({[}H{]}){[}H{]} & InChI=1/C20H23N7O6/c21-20-24-16-15(18(31)25-20)27-9-26(8-12(27)7-22-16)11-3-1-10(2-4-11)17(30)23-13(19(32)33)5-6-14(28)29/h1-4,12-13H,5-9H2,(H,23,30)(H,28,29)(H,32,33)(H4,21,22,24,25,31)/p-2/t12-,13?/s2          \\\\\n",
       "\tL-Phenylalanine & phe\\_L{[}c{]}  & -3.85863 & L-Phenylalanine                                                         &   6140 & HMDB00159 & {[}H{]}C1=C({[}H{]})C({[}H{]})=C(C({[}H{]})=C1{[}H{]})C({[}H{]})({[}H{]}){[}C@@{]}({[}H{]})(C({[}O-{]})=O){[}N+{]}({[}H{]})({[}H{]}){[}H{]}                                                                                         & InChI=1S/C9H11NO2/c10-8(9(11)12)6-7-4-2-1-3-5-7/h1-5,8H,6,10H2,(H,11,12)/t8-/m0/s1                                                                                                                                  \\\\\n",
       "\t(S)-2-{[}5-Amino-1-(5-Phospho-D-Ribosyl)Imidazole-4-Carboxamido{]}Succinate & 25aics{[}c{]} & -4.99108 & (S)-2-{[}5-Amino-1-(5-Phospho-D-Ribosyl)Imidazole-4-Carboxamido{]}Succinate & 160666 &           & {[}H{]}O{[}C@@{]}1({[}H{]}){[}C@@{]}({[}H{]})(O{[}C@{]}({[}H{]})(C({[}H{]})({[}H{]})OP({[}O-{]})({[}O-{]})=O){[}C@@{]}1({[}H{]})O{[}H{]})N1C({[}H{]})=NC(C(=O)N({[}H{]})C({[}H{]})(C({[}O-{]})=O)C({[}H{]})({[}H{]})C({[}O-{]})=O)=C1N({[}H{]}){[}H{]}                  & InChI=1/C13H19N4O12P/c14-10-7(11(22)16-4(13(23)24)1-6(18)19)15-3-17(10)12-9(21)8(20)5(29-12)2-28-30(25,26)27/h3-5,8-9,12,20-21H,1-2,14H2,(H,16,22)(H,18,19)(H,23,24)(H2,25,26,27)/p-4/t4?,5-,8-,9-,12-/s2           \\\\\n",
       "\t5-Amino-1-(5-Phospho-D-Ribosyl)Imidazole & air{[}c{]}    & -4.99108 & 5-Amino-1-(5-Phospho-D-Ribosyl)Imidazole                                & 161500 &           & {[}H{]}O{[}C@@{]}1({[}H{]})C({[}H{]})(O{[}C@{]}({[}H{]})(C({[}H{]})({[}H{]})OP({[}O-{]})({[}O-{]})=O){[}C@@{]}1({[}H{]})O{[}H{]})N1C({[}H{]})=NC({[}H{]})=C1N({[}H{]}){[}H{]}                                                                   & InChI=1/C8H14N3O7P/c9-5-1-10-3-11(5)8-7(13)6(12)4(18-8)2-17-19(14,15)16/h1,3-4,6-8,12-13H,2,9H2,(H2,14,15,16)/p-2/t4-,6-,7-,8?/s2                                                                                   \\\\\n",
       "\t5-Amino-1-(5-Phospho-D-Ribosyl)Imidazole-4-Carboxylate & 5aizc{[}c{]}  & -4.99108 & 5-Amino-1-(5-Phospho-D-Ribosyl)Imidazole-4-Carboxylate                  & 165388 &           & {[}H{]}O{[}C@@{]}1({[}H{]}){[}C@@{]}({[}H{]})(O{[}C@{]}({[}H{]})(C({[}H{]})({[}H{]})OP({[}O-{]})({[}O-{]})=O){[}C@@{]}1({[}H{]})O{[}H{]})N1C({[}H{]})=NC(C({[}O-{]})=O)=C1N({[}H{]}){[}H{]}                                                         & InChI=1S/C9H14N3O9P/c10-7-4(9(15)16)11-2-12(7)8-6(14)5(13)3(21-8)1-20-22(17,18)19/h2-3,5-6,8,13-14H,1,10H2,(H,15,16)(H2,17,18,19)/p-3/t3-,5-,6-,8-/m1/s1                                                            \\\\\n",
       "\tN1-(5-Phospho-D-Ribosyl)Glycinamide & gar{[}c{]}    & -4.99108 & N1-(5-Phospho-D-Ribosyl)Glycinamide                                     & 160913 &           & {[}H{]}O{[}C@@{]}1({[}H{]})C({[}H{]})(O{[}C@{]}({[}H{]})(C({[}H{]})({[}H{]})OP({[}O-{]})({[}O-{]})=O){[}C@@{]}1({[}H{]})O{[}H{]})N({[}H{]})C(=O)C({[}H{]})({[}H{]}){[}N+{]}({[}H{]})({[}H{]}){[}H{]}                                                        & InChI=1/C7H15N2O8P/c8-1-4(10)9-7-6(12)5(11)3(17-7)2-16-18(13,14)15/h3,5-7,11-12H,1-2,8H2,(H,9,10)(H2,13,14,15)/p-1/t3-,5-,6-,7?/s2                                                                                  \\\\\n",
       "\tN2-Formyl-N1-(5-Phospho-D-Ribosyl)Glycinamide & fgam{[}c{]}   & -4.99108 & N2-Formyl-N1-(5-Phospho-D-Ribosyl)Glycinamide                           & 130805 &           & {[}H{]}O{[}C@@{]}1({[}H{]})C({[}H{]})(O{[}C@{]}({[}H{]})(C({[}H{]})({[}H{]})OP({[}O-{]})({[}O-{]})=O){[}C@@{]}1({[}H{]})O{[}H{]})N({[}H{]})C(=O)C({[}H{]})({[}H{]})N({[}H{]})C({[}H{]})=O                                                           & InChI=1/C8H15N2O9P/c11-3-9-1-5(12)10-8-7(14)6(13)4(19-8)2-18-20(15,16)17/h3-4,6-8,13-14H,1-2H2,(H,9,11)(H,10,12)(H2,15,16,17)/p-2/t4-,6-,7-,8?/s2                                                                   \\\\\n",
       "\t5-Phospho-Beta-D-Ribosylamine & pram{[}c{]}   & -4.99108 & 5-Phospho-Beta-D-Ribosylamine                                           & 439905 &           & {[}H{]}O{[}C@@{]}1({[}H{]}){[}C@@{]}({[}H{]})(O{[}C@{]}({[}H{]})(C({[}H{]})({[}H{]})OP({[}O-{]})({[}O-{]})=O){[}C@@{]}1({[}H{]})O{[}H{]}){[}N+{]}({[}H{]})({[}H{]}){[}H{]}                                                                          & InChI=1/C5H12NO7P/c6-5-4(8)3(7)2(13-5)1-12-14(9,10)11/h2-5,7-8H,1,6H2,(H2,9,10,11)/p-1/t2-,3-,4-,5-/s2                                                                                                              \\\\\n",
       "\t2-(Formamido)-N1-(5-Phospho-D-Ribosyl)Acetamidine & fpram{[}c{]}  & -4.99108 & 2-(Formamido)-N1-(5-Phospho-D-Ribosyl)Acetamidine                       &     NA &           & {[}H{]}O{[}C@@{]}1({[}H{]})C({[}H{]})(O{[}C@{]}({[}H{]})(C({[}H{]})({[}H{]})OP({[}O-{]})({[}O-{]})=O){[}C@@{]}1({[}H{]})O{[}H{]})N({[}H{]})C(={[}N+{]}({[}H{]}){[}H{]})C({[}H{]})({[}H{]})N({[}H{]})C({[}H{]})=O                                                & InChI=1/C8H16N3O8P/c9-5(1-10-3-12)11-8-7(14)6(13)4(19-8)2-18-20(15,16)17/h3-4,6-8,13-14H,1-2H2,(H2,9,11)(H,10,12)(H2,15,16,17)/p-1/t4-,6-,7-,8?/s2                                                                  \\\\\n",
       "\tL-Arginine & arg\\_L{[}c{]}  & -5.07227 & L-Arginine                                                              &   6322 & HMDB00517 & {[}H{]}N({[}H{]})C(N({[}H{]})C({[}H{]})({[}H{]})C({[}H{]})({[}H{]})C({[}H{]})({[}H{]}){[}C@@{]}({[}H{]})(C({[}O-{]})=O){[}N+{]}({[}H{]})({[}H{]}){[}H{]})={[}N+{]}({[}H{]}){[}H{]}                                                                      & InChI=1S/C6H14N4O2/c7-4(5(11)12)2-1-3-10-6(8)9/h4H,1-3,7H2,(H,11,12)(H4,8,9,10)/p+1/t4-/m0/s1                                                                                                                       \\\\\n",
       "\tGuanosine-5'-Triphosphate & gtp{[}c{]}    & -5.81617 & Guanosine-5'-Triphosphate                                               &   6830 & HMDB01273 & {[}H{]}O{[}C@@{]}1({[}H{]}){[}C@@{]}({[}H{]})(O{[}C@{]}({[}H{]})(C({[}H{]})({[}H{]})OP({[}O-{]})(=O)OP({[}O-{]})(=O)OP({[}O-{]})({[}O-{]})=O){[}C@@{]}1({[}H{]})O{[}H{]})N1C({[}H{]})=NC2=C1N=C(N({[}H{]}){[}H{]})N({[}H{]})C2=O                            & InChI=1S/C10H16N5O14P3/c11-10-13-7-4(8(18)14-10)12-2-15(7)9-6(17)5(16)3(27-9)1-26-31(22,23)29-32(24,25)28-30(19,20)21/h2-3,5-6,9,16-17H,1H2,(H,22,23)(H,24,25)(H2,19,20,21)(H3,11,13,14,18)/p-4/t3-,5-,6-,9-/m1/s1  \\\\\n",
       "\tN6-(1,2-Dicarboxyethyl)-Adenosine Monophosphate & dcamp{[}c{]}  & -6.81617 & N6-(1,2-Dicarboxyethyl)-Adenosine Monophosphate                         & 447145 &           & {[}H{]}O{[}C@@{]}1({[}H{]}){[}C@@{]}({[}H{]})(O{[}C@{]}({[}H{]})(C({[}H{]})({[}H{]})OP({[}O-{]})({[}O-{]})=O){[}C@@{]}1({[}H{]})O{[}H{]})N1C({[}H{]})=NC2=C(N=C({[}H{]})N=C12)N({[}H{]})C({[}H{]})(C({[}O-{]})=O)C({[}H{]})({[}H{]})C({[}O-{]})=O                   & InChI=1S/C14H18N5O11P/c20-7(21)1-5(14(24)25)18-11-8-12(16-3-15-11)19(4-17-8)13-10(23)9(22)6(30-13)2-29-31(26,27)28/h3-6,9-10,13,22-23H,1-2H2,(H,20,21)(H,24,25)(H,15,16,18)(H2,26,27,28)/p-4/t5?,6-,9-,10-,13-/m1/s1\\\\\n",
       "\tInosine-5'-Monophosphate & imp{[}c{]}    & -6.81617 & Inosine-5'-Monophosphate                                                &   8582 & HMDB00175 & {[}H{]}O{[}C@@{]}1({[}H{]}){[}C@@{]}({[}H{]})(O{[}C@{]}({[}H{]})(C({[}H{]})({[}H{]})OP({[}O-{]})({[}O-{]})=O){[}C@@{]}1({[}H{]})O{[}H{]})N1C({[}H{]})=NC2=C1N=C({[}H{]})N({[}H{]})C2=O                                                          & InChI=1S/C10H13N4O8P/c15-6-4(1-21-23(18,19)20)22-10(7(6)16)14-3-13-5-8(14)11-2-12-9(5)17/h2-4,6-7,10,15-16H,1H2,(H,11,12,17)(H2,18,19,20)/p-2/t4-,6-,7-,10-/m1/s1                                                   \\\\\n",
       "\tGlycine & gly{[}c{]}    & -6.93982 & Glycine                                                                 &    750 & HMDB00123 & {[}H{]}{[}N+{]}({[}H{]})({[}H{]})C({[}H{]})({[}H{]})C({[}O-{]})=O                                                                                                                                       & InChI=1S/C2H5NO2/c3-1-2(4)5/h1,3H2,(H,4,5)                                                                                                                                                                          \\\\\n",
       "\tL-Asparagine & asn\\_L{[}c{]}  & -7.00000 & L-Asparagine                                                            &   6267 & HMDB00168 & {[}H{]}N({[}H{]})C(=O)C({[}H{]})({[}H{]}){[}C@@{]}({[}H{]})(C({[}O-{]})=O){[}N+{]}({[}H{]})({[}H{]}){[}H{]}                                                                                                             & InChI=1S/C4H8N2O3/c5-2(4(8)9)1-3(6)7/h2H,1,5H2,(H2,6,7)(H,8,9)/t2-/m0/s1                                                                                                                                            \\\\\n",
       "\tL-Threonine & thr\\_L{[}c{]}  & -7.00000 & L-Threonine                                                             &   6288 & HMDB00167 & {[}H{]}O{[}C@{]}({[}H{]})(C({[}H{]})({[}H{]}){[}H{]}){[}C@@{]}({[}H{]})(C({[}O-{]})=O){[}N+{]}({[}H{]})({[}H{]}){[}H{]}                                                                                                         & InChI=1S/C4H9NO3/c1-2(6)3(5)4(7)8/h2-3,6H,5H2,1H3,(H,7,8)/t2-,3+/m1/s1                                                                                                                                              \\\\\n",
       "\tL-Lysine & lys\\_L{[}c{]}  & -7.00000 & L-Lysine                                                                &   5962 & HMDB00182 & {[}H{]}{[}N+{]}({[}H{]})({[}H{]})C({[}H{]})({[}H{]})C({[}H{]})({[}H{]})C({[}H{]})({[}H{]})C({[}H{]})({[}H{]}){[}C@@{]}({[}H{]})(C({[}O-{]})=O){[}N+{]}({[}H{]})({[}H{]}){[}H{]}                                                                         & InChI=1/C6H14N2O2/c7-4-2-1-3-5(8)6(9)10/h5H,1-4,7-8H2,(H,9,10)/p+1/t5-/s2                                                                                                                                           \\\\\n",
       "\tL-Methionine & met\\_L{[}c{]}  & -7.00000 & L-Methionine                                                            &   6137 & HMDB00696 & {[}H{]}C({[}H{]})({[}H{]})SC({[}H{]})({[}H{]})C({[}H{]})({[}H{]}){[}C@@{]}({[}H{]})(C({[}O-{]})=O){[}N+{]}({[}H{]})({[}H{]}){[}H{]}                                                                                                 & InChI=1S/C5H11NO2S/c1-9-3-2-4(6)5(7)8/h4H,2-3,6H2,1H3,(H,7,8)/t4-/m0/s1                                                                                                                                             \\\\\n",
       "\tL-Cysteine & cys\\_L{[}c{]}  & -8.00000 & L-Cysteine                                                              &   5862 & HMDB00574 & {[}H{]}SC({[}H{]})({[}H{]}){[}C@@{]}({[}H{]})(C({[}O-{]})=O){[}N+{]}({[}H{]})({[}H{]}){[}H{]}                                                                                                                       & InChI=1S/C3H7NO2S/c4-2(1-7)3(5)6/h2,7H,1,4H2,(H,5,6)/t2-/m0/s1                                                                                                                                                      \\\\\n",
       "\\end{tabular}\n"
      ],
      "text/markdown": [
       "\n",
       "A data.frame: 20 × 7\n",
       "\n",
       "| <!--/--> | metid &lt;chr&gt; | Effect_afterKO &lt;dbl&gt; | metname &lt;chr&gt; | pubchemID &lt;int&gt; | HMDBID &lt;chr&gt; | smiles &lt;chr&gt; | InchiString &lt;chr&gt; |\n",
       "|---|---|---|---|---|---|---|---|\n",
       "| 2-Oxoglutarate | akg[c]    |  2.18592 | 2-Oxoglutarate                                                          |     51 | HMDB00208 | [H]C([H])(C([O-])=O)C([H])([H])C(=O)C([O-])=O                                                                                                                               | InChI=1S/C5H6O5/c6-3(5(9)10)1-2-4(7)8/h1-2H2,(H,7,8)(H,9,10)/p-2                                                                                                                                                     |\n",
       "| 5,10-Methylenetetrahydrofolate | mlthf[c]  |  0.00000 | 5,10-Methylenetetrahydrofolate                                          | 439175 | <!----> | [H]OC1=NC(=NC2=C1N1C([H])([H])N(C3=C([H])C([H])=C(C([H])=C3[H])C(=O)N([H])C([H])(C([O-])=O)C([H])([H])C([H])([H])C([O-])=O)C([H])([H])[C@@]1([H])C([H])([H])N2[H])N([H])[H] | InChI=1/C20H23N7O6/c21-20-24-16-15(18(31)25-20)27-9-26(8-12(27)7-22-16)11-3-1-10(2-4-11)17(30)23-13(19(32)33)5-6-14(28)29/h1-4,12-13H,5-9H2,(H,23,30)(H,28,29)(H,32,33)(H4,21,22,24,25,31)/p-2/t12-,13?/s2           |\n",
       "| L-Phenylalanine | phe_L[c]  | -3.85863 | L-Phenylalanine                                                         |   6140 | HMDB00159 | [H]C1=C([H])C([H])=C(C([H])=C1[H])C([H])([H])[C@@]([H])(C([O-])=O)[N+]([H])([H])[H]                                                                                         | InChI=1S/C9H11NO2/c10-8(9(11)12)6-7-4-2-1-3-5-7/h1-5,8H,6,10H2,(H,11,12)/t8-/m0/s1                                                                                                                                   |\n",
       "| (S)-2-[5-Amino-1-(5-Phospho-D-Ribosyl)Imidazole-4-Carboxamido]Succinate | 25aics[c] | -4.99108 | (S)-2-[5-Amino-1-(5-Phospho-D-Ribosyl)Imidazole-4-Carboxamido]Succinate | 160666 | <!----> | [H]O[C@@]1([H])[C@@]([H])(O[C@]([H])(C([H])([H])OP([O-])([O-])=O)[C@@]1([H])O[H])N1C([H])=NC(C(=O)N([H])C([H])(C([O-])=O)C([H])([H])C([O-])=O)=C1N([H])[H]                  | InChI=1/C13H19N4O12P/c14-10-7(11(22)16-4(13(23)24)1-6(18)19)15-3-17(10)12-9(21)8(20)5(29-12)2-28-30(25,26)27/h3-5,8-9,12,20-21H,1-2,14H2,(H,16,22)(H,18,19)(H,23,24)(H2,25,26,27)/p-4/t4?,5-,8-,9-,12-/s2            |\n",
       "| 5-Amino-1-(5-Phospho-D-Ribosyl)Imidazole | air[c]    | -4.99108 | 5-Amino-1-(5-Phospho-D-Ribosyl)Imidazole                                | 161500 | <!----> | [H]O[C@@]1([H])C([H])(O[C@]([H])(C([H])([H])OP([O-])([O-])=O)[C@@]1([H])O[H])N1C([H])=NC([H])=C1N([H])[H]                                                                   | InChI=1/C8H14N3O7P/c9-5-1-10-3-11(5)8-7(13)6(12)4(18-8)2-17-19(14,15)16/h1,3-4,6-8,12-13H,2,9H2,(H2,14,15,16)/p-2/t4-,6-,7-,8?/s2                                                                                    |\n",
       "| 5-Amino-1-(5-Phospho-D-Ribosyl)Imidazole-4-Carboxylate | 5aizc[c]  | -4.99108 | 5-Amino-1-(5-Phospho-D-Ribosyl)Imidazole-4-Carboxylate                  | 165388 | <!----> | [H]O[C@@]1([H])[C@@]([H])(O[C@]([H])(C([H])([H])OP([O-])([O-])=O)[C@@]1([H])O[H])N1C([H])=NC(C([O-])=O)=C1N([H])[H]                                                         | InChI=1S/C9H14N3O9P/c10-7-4(9(15)16)11-2-12(7)8-6(14)5(13)3(21-8)1-20-22(17,18)19/h2-3,5-6,8,13-14H,1,10H2,(H,15,16)(H2,17,18,19)/p-3/t3-,5-,6-,8-/m1/s1                                                             |\n",
       "| N1-(5-Phospho-D-Ribosyl)Glycinamide | gar[c]    | -4.99108 | N1-(5-Phospho-D-Ribosyl)Glycinamide                                     | 160913 | <!----> | [H]O[C@@]1([H])C([H])(O[C@]([H])(C([H])([H])OP([O-])([O-])=O)[C@@]1([H])O[H])N([H])C(=O)C([H])([H])[N+]([H])([H])[H]                                                        | InChI=1/C7H15N2O8P/c8-1-4(10)9-7-6(12)5(11)3(17-7)2-16-18(13,14)15/h3,5-7,11-12H,1-2,8H2,(H,9,10)(H2,13,14,15)/p-1/t3-,5-,6-,7?/s2                                                                                   |\n",
       "| N2-Formyl-N1-(5-Phospho-D-Ribosyl)Glycinamide | fgam[c]   | -4.99108 | N2-Formyl-N1-(5-Phospho-D-Ribosyl)Glycinamide                           | 130805 | <!----> | [H]O[C@@]1([H])C([H])(O[C@]([H])(C([H])([H])OP([O-])([O-])=O)[C@@]1([H])O[H])N([H])C(=O)C([H])([H])N([H])C([H])=O                                                           | InChI=1/C8H15N2O9P/c11-3-9-1-5(12)10-8-7(14)6(13)4(19-8)2-18-20(15,16)17/h3-4,6-8,13-14H,1-2H2,(H,9,11)(H,10,12)(H2,15,16,17)/p-2/t4-,6-,7-,8?/s2                                                                    |\n",
       "| 5-Phospho-Beta-D-Ribosylamine | pram[c]   | -4.99108 | 5-Phospho-Beta-D-Ribosylamine                                           | 439905 | <!----> | [H]O[C@@]1([H])[C@@]([H])(O[C@]([H])(C([H])([H])OP([O-])([O-])=O)[C@@]1([H])O[H])[N+]([H])([H])[H]                                                                          | InChI=1/C5H12NO7P/c6-5-4(8)3(7)2(13-5)1-12-14(9,10)11/h2-5,7-8H,1,6H2,(H2,9,10,11)/p-1/t2-,3-,4-,5-/s2                                                                                                               |\n",
       "| 2-(Formamido)-N1-(5-Phospho-D-Ribosyl)Acetamidine | fpram[c]  | -4.99108 | 2-(Formamido)-N1-(5-Phospho-D-Ribosyl)Acetamidine                       |     NA | <!----> | [H]O[C@@]1([H])C([H])(O[C@]([H])(C([H])([H])OP([O-])([O-])=O)[C@@]1([H])O[H])N([H])C(=[N+]([H])[H])C([H])([H])N([H])C([H])=O                                                | InChI=1/C8H16N3O8P/c9-5(1-10-3-12)11-8-7(14)6(13)4(19-8)2-18-20(15,16)17/h3-4,6-8,13-14H,1-2H2,(H2,9,11)(H,10,12)(H2,15,16,17)/p-1/t4-,6-,7-,8?/s2                                                                   |\n",
       "| L-Arginine | arg_L[c]  | -5.07227 | L-Arginine                                                              |   6322 | HMDB00517 | [H]N([H])C(N([H])C([H])([H])C([H])([H])C([H])([H])[C@@]([H])(C([O-])=O)[N+]([H])([H])[H])=[N+]([H])[H]                                                                      | InChI=1S/C6H14N4O2/c7-4(5(11)12)2-1-3-10-6(8)9/h4H,1-3,7H2,(H,11,12)(H4,8,9,10)/p+1/t4-/m0/s1                                                                                                                        |\n",
       "| Guanosine-5'-Triphosphate | gtp[c]    | -5.81617 | Guanosine-5'-Triphosphate                                               |   6830 | HMDB01273 | [H]O[C@@]1([H])[C@@]([H])(O[C@]([H])(C([H])([H])OP([O-])(=O)OP([O-])(=O)OP([O-])([O-])=O)[C@@]1([H])O[H])N1C([H])=NC2=C1N=C(N([H])[H])N([H])C2=O                            | InChI=1S/C10H16N5O14P3/c11-10-13-7-4(8(18)14-10)12-2-15(7)9-6(17)5(16)3(27-9)1-26-31(22,23)29-32(24,25)28-30(19,20)21/h2-3,5-6,9,16-17H,1H2,(H,22,23)(H,24,25)(H2,19,20,21)(H3,11,13,14,18)/p-4/t3-,5-,6-,9-/m1/s1   |\n",
       "| N6-(1,2-Dicarboxyethyl)-Adenosine Monophosphate | dcamp[c]  | -6.81617 | N6-(1,2-Dicarboxyethyl)-Adenosine Monophosphate                         | 447145 | <!----> | [H]O[C@@]1([H])[C@@]([H])(O[C@]([H])(C([H])([H])OP([O-])([O-])=O)[C@@]1([H])O[H])N1C([H])=NC2=C(N=C([H])N=C12)N([H])C([H])(C([O-])=O)C([H])([H])C([O-])=O                   | InChI=1S/C14H18N5O11P/c20-7(21)1-5(14(24)25)18-11-8-12(16-3-15-11)19(4-17-8)13-10(23)9(22)6(30-13)2-29-31(26,27)28/h3-6,9-10,13,22-23H,1-2H2,(H,20,21)(H,24,25)(H,15,16,18)(H2,26,27,28)/p-4/t5?,6-,9-,10-,13-/m1/s1 |\n",
       "| Inosine-5'-Monophosphate | imp[c]    | -6.81617 | Inosine-5'-Monophosphate                                                |   8582 | HMDB00175 | [H]O[C@@]1([H])[C@@]([H])(O[C@]([H])(C([H])([H])OP([O-])([O-])=O)[C@@]1([H])O[H])N1C([H])=NC2=C1N=C([H])N([H])C2=O                                                          | InChI=1S/C10H13N4O8P/c15-6-4(1-21-23(18,19)20)22-10(7(6)16)14-3-13-5-8(14)11-2-12-9(5)17/h2-4,6-7,10,15-16H,1H2,(H,11,12,17)(H2,18,19,20)/p-2/t4-,6-,7-,10-/m1/s1                                                    |\n",
       "| Glycine | gly[c]    | -6.93982 | Glycine                                                                 |    750 | HMDB00123 | [H][N+]([H])([H])C([H])([H])C([O-])=O                                                                                                                                       | InChI=1S/C2H5NO2/c3-1-2(4)5/h1,3H2,(H,4,5)                                                                                                                                                                           |\n",
       "| L-Asparagine | asn_L[c]  | -7.00000 | L-Asparagine                                                            |   6267 | HMDB00168 | [H]N([H])C(=O)C([H])([H])[C@@]([H])(C([O-])=O)[N+]([H])([H])[H]                                                                                                             | InChI=1S/C4H8N2O3/c5-2(4(8)9)1-3(6)7/h2H,1,5H2,(H2,6,7)(H,8,9)/t2-/m0/s1                                                                                                                                             |\n",
       "| L-Threonine | thr_L[c]  | -7.00000 | L-Threonine                                                             |   6288 | HMDB00167 | [H]O[C@]([H])(C([H])([H])[H])[C@@]([H])(C([O-])=O)[N+]([H])([H])[H]                                                                                                         | InChI=1S/C4H9NO3/c1-2(6)3(5)4(7)8/h2-3,6H,5H2,1H3,(H,7,8)/t2-,3+/m1/s1                                                                                                                                               |\n",
       "| L-Lysine | lys_L[c]  | -7.00000 | L-Lysine                                                                |   5962 | HMDB00182 | [H][N+]([H])([H])C([H])([H])C([H])([H])C([H])([H])C([H])([H])[C@@]([H])(C([O-])=O)[N+]([H])([H])[H]                                                                         | InChI=1/C6H14N2O2/c7-4-2-1-3-5(8)6(9)10/h5H,1-4,7-8H2,(H,9,10)/p+1/t5-/s2                                                                                                                                            |\n",
       "| L-Methionine | met_L[c]  | -7.00000 | L-Methionine                                                            |   6137 | HMDB00696 | [H]C([H])([H])SC([H])([H])C([H])([H])[C@@]([H])(C([O-])=O)[N+]([H])([H])[H]                                                                                                 | InChI=1S/C5H11NO2S/c1-9-3-2-4(6)5(7)8/h4H,2-3,6H2,1H3,(H,7,8)/t4-/m0/s1                                                                                                                                              |\n",
       "| L-Cysteine | cys_L[c]  | -8.00000 | L-Cysteine                                                              |   5862 | HMDB00574 | [H]SC([H])([H])[C@@]([H])(C([O-])=O)[N+]([H])([H])[H]                                                                                                                       | InChI=1S/C3H7NO2S/c4-2(1-7)3(5)6/h2,7H,1,4H2,(H,5,6)/t2-/m0/s1                                                                                                                                                       |\n",
       "\n"
      ],
      "text/plain": [
       "                                                                        metid    \n",
       "2-Oxoglutarate                                                          akg[c]   \n",
       "5,10-Methylenetetrahydrofolate                                          mlthf[c] \n",
       "L-Phenylalanine                                                         phe_L[c] \n",
       "(S)-2-[5-Amino-1-(5-Phospho-D-Ribosyl)Imidazole-4-Carboxamido]Succinate 25aics[c]\n",
       "5-Amino-1-(5-Phospho-D-Ribosyl)Imidazole                                air[c]   \n",
       "5-Amino-1-(5-Phospho-D-Ribosyl)Imidazole-4-Carboxylate                  5aizc[c] \n",
       "N1-(5-Phospho-D-Ribosyl)Glycinamide                                     gar[c]   \n",
       "N2-Formyl-N1-(5-Phospho-D-Ribosyl)Glycinamide                           fgam[c]  \n",
       "5-Phospho-Beta-D-Ribosylamine                                           pram[c]  \n",
       "2-(Formamido)-N1-(5-Phospho-D-Ribosyl)Acetamidine                       fpram[c] \n",
       "L-Arginine                                                              arg_L[c] \n",
       "Guanosine-5'-Triphosphate                                               gtp[c]   \n",
       "N6-(1,2-Dicarboxyethyl)-Adenosine Monophosphate                         dcamp[c] \n",
       "Inosine-5'-Monophosphate                                                imp[c]   \n",
       "Glycine                                                                 gly[c]   \n",
       "L-Asparagine                                                            asn_L[c] \n",
       "L-Threonine                                                             thr_L[c] \n",
       "L-Lysine                                                                lys_L[c] \n",
       "L-Methionine                                                            met_L[c] \n",
       "L-Cysteine                                                              cys_L[c] \n",
       "                                                                        Effect_afterKO\n",
       "2-Oxoglutarate                                                           2.18592      \n",
       "5,10-Methylenetetrahydrofolate                                           0.00000      \n",
       "L-Phenylalanine                                                         -3.85863      \n",
       "(S)-2-[5-Amino-1-(5-Phospho-D-Ribosyl)Imidazole-4-Carboxamido]Succinate -4.99108      \n",
       "5-Amino-1-(5-Phospho-D-Ribosyl)Imidazole                                -4.99108      \n",
       "5-Amino-1-(5-Phospho-D-Ribosyl)Imidazole-4-Carboxylate                  -4.99108      \n",
       "N1-(5-Phospho-D-Ribosyl)Glycinamide                                     -4.99108      \n",
       "N2-Formyl-N1-(5-Phospho-D-Ribosyl)Glycinamide                           -4.99108      \n",
       "5-Phospho-Beta-D-Ribosylamine                                           -4.99108      \n",
       "2-(Formamido)-N1-(5-Phospho-D-Ribosyl)Acetamidine                       -4.99108      \n",
       "L-Arginine                                                              -5.07227      \n",
       "Guanosine-5'-Triphosphate                                               -5.81617      \n",
       "N6-(1,2-Dicarboxyethyl)-Adenosine Monophosphate                         -6.81617      \n",
       "Inosine-5'-Monophosphate                                                -6.81617      \n",
       "Glycine                                                                 -6.93982      \n",
       "L-Asparagine                                                            -7.00000      \n",
       "L-Threonine                                                             -7.00000      \n",
       "L-Lysine                                                                -7.00000      \n",
       "L-Methionine                                                            -7.00000      \n",
       "L-Cysteine                                                              -8.00000      \n",
       "                                                                        metname                                                                \n",
       "2-Oxoglutarate                                                          2-Oxoglutarate                                                         \n",
       "5,10-Methylenetetrahydrofolate                                          5,10-Methylenetetrahydrofolate                                         \n",
       "L-Phenylalanine                                                         L-Phenylalanine                                                        \n",
       "(S)-2-[5-Amino-1-(5-Phospho-D-Ribosyl)Imidazole-4-Carboxamido]Succinate (S)-2-[5-Amino-1-(5-Phospho-D-Ribosyl)Imidazole-4-Carboxamido]Succinate\n",
       "5-Amino-1-(5-Phospho-D-Ribosyl)Imidazole                                5-Amino-1-(5-Phospho-D-Ribosyl)Imidazole                               \n",
       "5-Amino-1-(5-Phospho-D-Ribosyl)Imidazole-4-Carboxylate                  5-Amino-1-(5-Phospho-D-Ribosyl)Imidazole-4-Carboxylate                 \n",
       "N1-(5-Phospho-D-Ribosyl)Glycinamide                                     N1-(5-Phospho-D-Ribosyl)Glycinamide                                    \n",
       "N2-Formyl-N1-(5-Phospho-D-Ribosyl)Glycinamide                           N2-Formyl-N1-(5-Phospho-D-Ribosyl)Glycinamide                          \n",
       "5-Phospho-Beta-D-Ribosylamine                                           5-Phospho-Beta-D-Ribosylamine                                          \n",
       "2-(Formamido)-N1-(5-Phospho-D-Ribosyl)Acetamidine                       2-(Formamido)-N1-(5-Phospho-D-Ribosyl)Acetamidine                      \n",
       "L-Arginine                                                              L-Arginine                                                             \n",
       "Guanosine-5'-Triphosphate                                               Guanosine-5'-Triphosphate                                              \n",
       "N6-(1,2-Dicarboxyethyl)-Adenosine Monophosphate                         N6-(1,2-Dicarboxyethyl)-Adenosine Monophosphate                        \n",
       "Inosine-5'-Monophosphate                                                Inosine-5'-Monophosphate                                               \n",
       "Glycine                                                                 Glycine                                                                \n",
       "L-Asparagine                                                            L-Asparagine                                                           \n",
       "L-Threonine                                                             L-Threonine                                                            \n",
       "L-Lysine                                                                L-Lysine                                                               \n",
       "L-Methionine                                                            L-Methionine                                                           \n",
       "L-Cysteine                                                              L-Cysteine                                                             \n",
       "                                                                        pubchemID\n",
       "2-Oxoglutarate                                                              51   \n",
       "5,10-Methylenetetrahydrofolate                                          439175   \n",
       "L-Phenylalanine                                                           6140   \n",
       "(S)-2-[5-Amino-1-(5-Phospho-D-Ribosyl)Imidazole-4-Carboxamido]Succinate 160666   \n",
       "5-Amino-1-(5-Phospho-D-Ribosyl)Imidazole                                161500   \n",
       "5-Amino-1-(5-Phospho-D-Ribosyl)Imidazole-4-Carboxylate                  165388   \n",
       "N1-(5-Phospho-D-Ribosyl)Glycinamide                                     160913   \n",
       "N2-Formyl-N1-(5-Phospho-D-Ribosyl)Glycinamide                           130805   \n",
       "5-Phospho-Beta-D-Ribosylamine                                           439905   \n",
       "2-(Formamido)-N1-(5-Phospho-D-Ribosyl)Acetamidine                           NA   \n",
       "L-Arginine                                                                6322   \n",
       "Guanosine-5'-Triphosphate                                                 6830   \n",
       "N6-(1,2-Dicarboxyethyl)-Adenosine Monophosphate                         447145   \n",
       "Inosine-5'-Monophosphate                                                  8582   \n",
       "Glycine                                                                    750   \n",
       "L-Asparagine                                                              6267   \n",
       "L-Threonine                                                               6288   \n",
       "L-Lysine                                                                  5962   \n",
       "L-Methionine                                                              6137   \n",
       "L-Cysteine                                                                5862   \n",
       "                                                                        HMDBID   \n",
       "2-Oxoglutarate                                                          HMDB00208\n",
       "5,10-Methylenetetrahydrofolate                                                   \n",
       "L-Phenylalanine                                                         HMDB00159\n",
       "(S)-2-[5-Amino-1-(5-Phospho-D-Ribosyl)Imidazole-4-Carboxamido]Succinate          \n",
       "5-Amino-1-(5-Phospho-D-Ribosyl)Imidazole                                         \n",
       "5-Amino-1-(5-Phospho-D-Ribosyl)Imidazole-4-Carboxylate                           \n",
       "N1-(5-Phospho-D-Ribosyl)Glycinamide                                              \n",
       "N2-Formyl-N1-(5-Phospho-D-Ribosyl)Glycinamide                                    \n",
       "5-Phospho-Beta-D-Ribosylamine                                                    \n",
       "2-(Formamido)-N1-(5-Phospho-D-Ribosyl)Acetamidine                                \n",
       "L-Arginine                                                              HMDB00517\n",
       "Guanosine-5'-Triphosphate                                               HMDB01273\n",
       "N6-(1,2-Dicarboxyethyl)-Adenosine Monophosphate                                  \n",
       "Inosine-5'-Monophosphate                                                HMDB00175\n",
       "Glycine                                                                 HMDB00123\n",
       "L-Asparagine                                                            HMDB00168\n",
       "L-Threonine                                                             HMDB00167\n",
       "L-Lysine                                                                HMDB00182\n",
       "L-Methionine                                                            HMDB00696\n",
       "L-Cysteine                                                              HMDB00574\n",
       "                                                                        smiles                                                                                                                                                                     \n",
       "2-Oxoglutarate                                                          [H]C([H])(C([O-])=O)C([H])([H])C(=O)C([O-])=O                                                                                                                              \n",
       "5,10-Methylenetetrahydrofolate                                          [H]OC1=NC(=NC2=C1N1C([H])([H])N(C3=C([H])C([H])=C(C([H])=C3[H])C(=O)N([H])C([H])(C([O-])=O)C([H])([H])C([H])([H])C([O-])=O)C([H])([H])[C@@]1([H])C([H])([H])N2[H])N([H])[H]\n",
       "L-Phenylalanine                                                         [H]C1=C([H])C([H])=C(C([H])=C1[H])C([H])([H])[C@@]([H])(C([O-])=O)[N+]([H])([H])[H]                                                                                        \n",
       "(S)-2-[5-Amino-1-(5-Phospho-D-Ribosyl)Imidazole-4-Carboxamido]Succinate [H]O[C@@]1([H])[C@@]([H])(O[C@]([H])(C([H])([H])OP([O-])([O-])=O)[C@@]1([H])O[H])N1C([H])=NC(C(=O)N([H])C([H])(C([O-])=O)C([H])([H])C([O-])=O)=C1N([H])[H]                 \n",
       "5-Amino-1-(5-Phospho-D-Ribosyl)Imidazole                                [H]O[C@@]1([H])C([H])(O[C@]([H])(C([H])([H])OP([O-])([O-])=O)[C@@]1([H])O[H])N1C([H])=NC([H])=C1N([H])[H]                                                                  \n",
       "5-Amino-1-(5-Phospho-D-Ribosyl)Imidazole-4-Carboxylate                  [H]O[C@@]1([H])[C@@]([H])(O[C@]([H])(C([H])([H])OP([O-])([O-])=O)[C@@]1([H])O[H])N1C([H])=NC(C([O-])=O)=C1N([H])[H]                                                        \n",
       "N1-(5-Phospho-D-Ribosyl)Glycinamide                                     [H]O[C@@]1([H])C([H])(O[C@]([H])(C([H])([H])OP([O-])([O-])=O)[C@@]1([H])O[H])N([H])C(=O)C([H])([H])[N+]([H])([H])[H]                                                       \n",
       "N2-Formyl-N1-(5-Phospho-D-Ribosyl)Glycinamide                           [H]O[C@@]1([H])C([H])(O[C@]([H])(C([H])([H])OP([O-])([O-])=O)[C@@]1([H])O[H])N([H])C(=O)C([H])([H])N([H])C([H])=O                                                          \n",
       "5-Phospho-Beta-D-Ribosylamine                                           [H]O[C@@]1([H])[C@@]([H])(O[C@]([H])(C([H])([H])OP([O-])([O-])=O)[C@@]1([H])O[H])[N+]([H])([H])[H]                                                                         \n",
       "2-(Formamido)-N1-(5-Phospho-D-Ribosyl)Acetamidine                       [H]O[C@@]1([H])C([H])(O[C@]([H])(C([H])([H])OP([O-])([O-])=O)[C@@]1([H])O[H])N([H])C(=[N+]([H])[H])C([H])([H])N([H])C([H])=O                                               \n",
       "L-Arginine                                                              [H]N([H])C(N([H])C([H])([H])C([H])([H])C([H])([H])[C@@]([H])(C([O-])=O)[N+]([H])([H])[H])=[N+]([H])[H]                                                                     \n",
       "Guanosine-5'-Triphosphate                                               [H]O[C@@]1([H])[C@@]([H])(O[C@]([H])(C([H])([H])OP([O-])(=O)OP([O-])(=O)OP([O-])([O-])=O)[C@@]1([H])O[H])N1C([H])=NC2=C1N=C(N([H])[H])N([H])C2=O                           \n",
       "N6-(1,2-Dicarboxyethyl)-Adenosine Monophosphate                         [H]O[C@@]1([H])[C@@]([H])(O[C@]([H])(C([H])([H])OP([O-])([O-])=O)[C@@]1([H])O[H])N1C([H])=NC2=C(N=C([H])N=C12)N([H])C([H])(C([O-])=O)C([H])([H])C([O-])=O                  \n",
       "Inosine-5'-Monophosphate                                                [H]O[C@@]1([H])[C@@]([H])(O[C@]([H])(C([H])([H])OP([O-])([O-])=O)[C@@]1([H])O[H])N1C([H])=NC2=C1N=C([H])N([H])C2=O                                                         \n",
       "Glycine                                                                 [H][N+]([H])([H])C([H])([H])C([O-])=O                                                                                                                                      \n",
       "L-Asparagine                                                            [H]N([H])C(=O)C([H])([H])[C@@]([H])(C([O-])=O)[N+]([H])([H])[H]                                                                                                            \n",
       "L-Threonine                                                             [H]O[C@]([H])(C([H])([H])[H])[C@@]([H])(C([O-])=O)[N+]([H])([H])[H]                                                                                                        \n",
       "L-Lysine                                                                [H][N+]([H])([H])C([H])([H])C([H])([H])C([H])([H])C([H])([H])[C@@]([H])(C([O-])=O)[N+]([H])([H])[H]                                                                        \n",
       "L-Methionine                                                            [H]C([H])([H])SC([H])([H])C([H])([H])[C@@]([H])(C([O-])=O)[N+]([H])([H])[H]                                                                                                \n",
       "L-Cysteine                                                              [H]SC([H])([H])[C@@]([H])(C([O-])=O)[N+]([H])([H])[H]                                                                                                                      \n",
       "                                                                        InchiString                                                                                                                                                                                                         \n",
       "2-Oxoglutarate                                                          InChI=1S/C5H6O5/c6-3(5(9)10)1-2-4(7)8/h1-2H2,(H,7,8)(H,9,10)/p-2                                                                                                                                                    \n",
       "5,10-Methylenetetrahydrofolate                                          InChI=1/C20H23N7O6/c21-20-24-16-15(18(31)25-20)27-9-26(8-12(27)7-22-16)11-3-1-10(2-4-11)17(30)23-13(19(32)33)5-6-14(28)29/h1-4,12-13H,5-9H2,(H,23,30)(H,28,29)(H,32,33)(H4,21,22,24,25,31)/p-2/t12-,13?/s2          \n",
       "L-Phenylalanine                                                         InChI=1S/C9H11NO2/c10-8(9(11)12)6-7-4-2-1-3-5-7/h1-5,8H,6,10H2,(H,11,12)/t8-/m0/s1                                                                                                                                  \n",
       "(S)-2-[5-Amino-1-(5-Phospho-D-Ribosyl)Imidazole-4-Carboxamido]Succinate InChI=1/C13H19N4O12P/c14-10-7(11(22)16-4(13(23)24)1-6(18)19)15-3-17(10)12-9(21)8(20)5(29-12)2-28-30(25,26)27/h3-5,8-9,12,20-21H,1-2,14H2,(H,16,22)(H,18,19)(H,23,24)(H2,25,26,27)/p-4/t4?,5-,8-,9-,12-/s2           \n",
       "5-Amino-1-(5-Phospho-D-Ribosyl)Imidazole                                InChI=1/C8H14N3O7P/c9-5-1-10-3-11(5)8-7(13)6(12)4(18-8)2-17-19(14,15)16/h1,3-4,6-8,12-13H,2,9H2,(H2,14,15,16)/p-2/t4-,6-,7-,8?/s2                                                                                   \n",
       "5-Amino-1-(5-Phospho-D-Ribosyl)Imidazole-4-Carboxylate                  InChI=1S/C9H14N3O9P/c10-7-4(9(15)16)11-2-12(7)8-6(14)5(13)3(21-8)1-20-22(17,18)19/h2-3,5-6,8,13-14H,1,10H2,(H,15,16)(H2,17,18,19)/p-3/t3-,5-,6-,8-/m1/s1                                                            \n",
       "N1-(5-Phospho-D-Ribosyl)Glycinamide                                     InChI=1/C7H15N2O8P/c8-1-4(10)9-7-6(12)5(11)3(17-7)2-16-18(13,14)15/h3,5-7,11-12H,1-2,8H2,(H,9,10)(H2,13,14,15)/p-1/t3-,5-,6-,7?/s2                                                                                  \n",
       "N2-Formyl-N1-(5-Phospho-D-Ribosyl)Glycinamide                           InChI=1/C8H15N2O9P/c11-3-9-1-5(12)10-8-7(14)6(13)4(19-8)2-18-20(15,16)17/h3-4,6-8,13-14H,1-2H2,(H,9,11)(H,10,12)(H2,15,16,17)/p-2/t4-,6-,7-,8?/s2                                                                   \n",
       "5-Phospho-Beta-D-Ribosylamine                                           InChI=1/C5H12NO7P/c6-5-4(8)3(7)2(13-5)1-12-14(9,10)11/h2-5,7-8H,1,6H2,(H2,9,10,11)/p-1/t2-,3-,4-,5-/s2                                                                                                              \n",
       "2-(Formamido)-N1-(5-Phospho-D-Ribosyl)Acetamidine                       InChI=1/C8H16N3O8P/c9-5(1-10-3-12)11-8-7(14)6(13)4(19-8)2-18-20(15,16)17/h3-4,6-8,13-14H,1-2H2,(H2,9,11)(H,10,12)(H2,15,16,17)/p-1/t4-,6-,7-,8?/s2                                                                  \n",
       "L-Arginine                                                              InChI=1S/C6H14N4O2/c7-4(5(11)12)2-1-3-10-6(8)9/h4H,1-3,7H2,(H,11,12)(H4,8,9,10)/p+1/t4-/m0/s1                                                                                                                       \n",
       "Guanosine-5'-Triphosphate                                               InChI=1S/C10H16N5O14P3/c11-10-13-7-4(8(18)14-10)12-2-15(7)9-6(17)5(16)3(27-9)1-26-31(22,23)29-32(24,25)28-30(19,20)21/h2-3,5-6,9,16-17H,1H2,(H,22,23)(H,24,25)(H2,19,20,21)(H3,11,13,14,18)/p-4/t3-,5-,6-,9-/m1/s1  \n",
       "N6-(1,2-Dicarboxyethyl)-Adenosine Monophosphate                         InChI=1S/C14H18N5O11P/c20-7(21)1-5(14(24)25)18-11-8-12(16-3-15-11)19(4-17-8)13-10(23)9(22)6(30-13)2-29-31(26,27)28/h3-6,9-10,13,22-23H,1-2H2,(H,20,21)(H,24,25)(H,15,16,18)(H2,26,27,28)/p-4/t5?,6-,9-,10-,13-/m1/s1\n",
       "Inosine-5'-Monophosphate                                                InChI=1S/C10H13N4O8P/c15-6-4(1-21-23(18,19)20)22-10(7(6)16)14-3-13-5-8(14)11-2-12-9(5)17/h2-4,6-7,10,15-16H,1H2,(H,11,12,17)(H2,18,19,20)/p-2/t4-,6-,7-,10-/m1/s1                                                   \n",
       "Glycine                                                                 InChI=1S/C2H5NO2/c3-1-2(4)5/h1,3H2,(H,4,5)                                                                                                                                                                          \n",
       "L-Asparagine                                                            InChI=1S/C4H8N2O3/c5-2(4(8)9)1-3(6)7/h2H,1,5H2,(H2,6,7)(H,8,9)/t2-/m0/s1                                                                                                                                            \n",
       "L-Threonine                                                             InChI=1S/C4H9NO3/c1-2(6)3(5)4(7)8/h2-3,6H,5H2,1H3,(H,7,8)/t2-,3+/m1/s1                                                                                                                                              \n",
       "L-Lysine                                                                InChI=1/C6H14N2O2/c7-4-2-1-3-5(8)6(9)10/h5H,1-4,7-8H2,(H,9,10)/p+1/t5-/s2                                                                                                                                           \n",
       "L-Methionine                                                            InChI=1S/C5H11NO2S/c1-9-3-2-4(6)5(7)8/h4H,2-3,6H2,1H3,(H,7,8)/t4-/m0/s1                                                                                                                                             \n",
       "L-Cysteine                                                              InChI=1S/C3H7NO2S/c4-2(1-7)3(5)6/h2,7H,1,4H2,(H,5,6)/t2-/m0/s1                                                                                                                                                      "
      ]
     },
     "metadata": {},
     "output_type": "display_data"
    }
   ],
   "source": [
    "# metabolites\n",
    "get_subterm_met1 <- function(df, mets){\n",
    "    out = df[is.element(df$metname,mets),]\n",
    "    cc = sort.int(abs(out$Effect_afterKO),decreasing = T,index.return = T)$ix\n",
    "    out = out[cc,]\n",
    "    idx = !duplicated(out$metname)\n",
    "    out = out[idx,]\n",
    "    #out = out[abs(out$Effect_afterKO) >= 3,]\n",
    "    rownames(out) = out$metname\n",
    "    cc = sort.int(out$Effect_afterKO,decreasing = T,index.return = T)$ix\n",
    "    out = out[cc,]\n",
    "    return(out)\n",
    "}\n",
    "Metabolites  = Overlaped_metabolites_3celllines$metname\n",
    "Metabolites_Omicron = file2frame('./modeling/v20230118_omicron/results/UK8/KOmet_covid19_omicron_KO_effect_mets.txt')\n",
    "Metabolites_Omicron = get_subterm_met1(Metabolites_Omicron,Metabolites)\n",
    "Metabolites_Omicron"
   ]
  },
  {
   "cell_type": "markdown",
   "metadata": {},
   "source": [
    "### Figure 3C and 3D genes and mets in mutation"
   ]
  },
  {
   "cell_type": "code",
   "execution_count": 55,
   "metadata": {},
   "outputs": [
    {
     "data": {
      "text/html": [
       "<strong>png:</strong> 2"
      ],
      "text/latex": [
       "\\textbf{png:} 2"
      ],
      "text/markdown": [
       "**png:** 2"
      ],
      "text/plain": [
       "png \n",
       "  2 "
      ]
     },
     "metadata": {},
     "output_type": "display_data"
    }
   ],
   "source": [
    "# Figure 3C targets\n",
    "tgenes = Overlaped_target_3celllines$Target\n",
    "genedataAll = data.frame(genes = factor(rep(tgenes,times = 4),\n",
    "                                     levels = tgenes),\n",
    "                      GES = c(Overlaped_target_3celllines$effect_GeneKO_Calu3,\n",
    "                             Target_VIC[tgenes,]$effect_GeneKO,\n",
    "                             Target_Deta[tgenes,]$effect_GeneKO,\n",
    "                             Target_Omicron[tgenes,]$effect_GeneKO),\n",
    "                     Isolate = factor(rep(c('IC19','Alpha','Deta','Omicron'), each = length(tgenes)),\n",
    "                                       levels = c('IC19','Alpha','Deta','Omicron')),\n",
    "                     ActionType = c(rep(Overlaped_target_3celllines$Action,times = 4))\n",
    "                      )\n",
    "pdf('./modeling/v20230118_omicron/figures/Figure 3C_target_genes_all_isolate_v20230209.pdf',width = 5.3, height = 3)\n",
    "ggplot(genedataAll,aes(x = genes,weight = GES, fill = Isolate))+ geom_bar(position = 'dodge')+ \n",
    "          lghplot.addtheme(hjust = 1,size = 14,legend.position = 'top')+scale_fill_npg(alpha = 0.6)+\n",
    "          theme(legend.text = element_text(size=10,face = 'bold'))+ xlab('')+\n",
    "          ylab('Gene Effective Score(GES)')#+ggtitle('Overlapped targets from 3 cell lines')\n",
    "dev.off()"
   ]
  },
  {
   "cell_type": "code",
   "execution_count": 71,
   "metadata": {},
   "outputs": [],
   "source": [
    "nutrition = Overlaped_metabolites_3celllines\n",
    "nutrition$Metabolites = gsub('\\\\[\\\\w\\\\]','',nutrition$Metabolites)\n",
    "rownames(nutrition) = nutrition$Metabolites\n",
    "nutrition.v = nutrition[nutrition$Metabolites != 'o2' & nutrition$Metabolites != 'co2',]"
   ]
  },
  {
   "cell_type": "code",
   "execution_count": 56,
   "metadata": {},
   "outputs": [
    {
     "data": {
      "text/html": [
       "<strong>png:</strong> 2"
      ],
      "text/latex": [
       "\\textbf{png:} 2"
      ],
      "text/markdown": [
       "**png:** 2"
      ],
      "text/plain": [
       "png \n",
       "  2 "
      ]
     },
     "metadata": {},
     "output_type": "display_data"
    }
   ],
   "source": [
    "#prepare data\n",
    "#IC19\n",
    "nutrition = Overlaped_metabolites_3celllines\n",
    "nutrition$Metabolites = gsub('\\\\[\\\\w\\\\]','',nutrition$Metabolites)\n",
    "rownames(nutrition) = nutrition$Metabolites\n",
    "nutrition.v = nutrition[nutrition$Metabolites != 'o2' & nutrition$Metabolites != 'co2',]\n",
    "\n",
    "# alpha\n",
    "nutrition_VIC = Metabolites_VIC\n",
    "nutrition_VIC$Metabolites = gsub('\\\\[\\\\w\\\\]','',nutrition_VIC$metid)\n",
    "rownames(nutrition_VIC) = nutrition_VIC$Metabolites\n",
    "nutrition_VIC.v = nutrition_VIC[nutrition_VIC$Metabolites != 'o2' & nutrition_VIC$Metabolites != 'co2',]\n",
    "\n",
    "# deta\n",
    "nutrition_Deta = Metabolites_Deta\n",
    "nutrition_Deta$Metabolites = gsub('\\\\[\\\\w\\\\]','',nutrition_Deta$metid)\n",
    "rownames(nutrition_Deta) = nutrition_Deta$Metabolites\n",
    "nutrition_Deta.v = nutrition_Deta[nutrition_Deta$Metabolites != 'o2' & nutrition_Deta$Metabolites != 'co2',]\n",
    "\n",
    "# omicron\n",
    "nutrition_Omicron = Metabolites_Omicron\n",
    "nutrition_Omicron$Metabolites = gsub('\\\\[\\\\w\\\\]','',nutrition_Omicron$metid)\n",
    "rownames(nutrition_Omicron) = nutrition_Omicron$Metabolites\n",
    "nutrition_Omicron.v = nutrition_Omicron[nutrition_Omicron$Metabolites != 'o2' & nutrition_Omicron$Metabolites != 'co2',]\n",
    "\n",
    "\n",
    "tmets = nutrition.v$Metabolites\n",
    "\n",
    "metdataALL = data.frame(genes = factor(rep(nutrition.v$Metabolites,times = 4),\n",
    "                                     levels = nutrition.v$Metabolites),\n",
    "                      MES = c(nutrition.v[tmets,]$effect_MetKO_Calu3,\n",
    "                              nutrition_VIC.v[tmets,]$Effect_afterKO,\n",
    "                              nutrition_Deta.v[tmets,]$Effect_afterKO,\n",
    "                              nutrition_Omicron.v[tmets,]$Effect_afterKO),\n",
    "                     Isolate = factor(rep(c('IC19','Alpha','Deta','Omicron'), each = nrow(nutrition.v)),\n",
    "                                       levels = c('IC19','Alpha','Deta','Omicron')),\n",
    "                     ActionType = c(rep(nutrition.v$Action,times = 4))\n",
    "                      )\n",
    "pdf('./modeling/v20230118_omicron/figures/Figure 3D_overlapped_metabolites__all_isolate_v20230209.pdf',width = 9.5, height = 3.2)\n",
    "ggplot(metdataALL,aes(x = genes,weight = MES, fill = Isolate))+ geom_bar(position = 'dodge')+ \n",
    "          lghplot.addtheme(hjust = 1,size = 14,legend.position = 'top')+scale_fill_npg(alpha = 0.6)+\n",
    "          theme(legend.text = element_text(size=10,face = 'bold'))+ xlab('')+\n",
    "           ylab('Metabolite Effective Score(MES)')#+ggtitle('Overlapped metabolites from 3 cell lines')\n",
    "dev.off()"
   ]
  }
 ],
 "metadata": {
  "kernelspec": {
   "display_name": "R",
   "language": "R",
   "name": "ir"
  },
  "language_info": {
   "codemirror_mode": "r",
   "file_extension": ".r",
   "mimetype": "text/x-r-source",
   "name": "R",
   "pygments_lexer": "r",
   "version": "4.2.2"
  },
  "toc": {
   "base_numbering": 1,
   "nav_menu": {},
   "number_sections": true,
   "sideBar": true,
   "skip_h1_title": false,
   "title_cell": "Table of Contents",
   "title_sidebar": "Contents",
   "toc_cell": false,
   "toc_position": {
    "height": "calc(100% - 180px)",
    "left": "10px",
    "top": "150px",
    "width": "256.467px"
   },
   "toc_section_display": true,
   "toc_window_display": true
  }
 },
 "nbformat": 4,
 "nbformat_minor": 2
}
